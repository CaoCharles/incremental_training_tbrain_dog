{
 "cells": [
  {
   "cell_type": "markdown",
   "id": "58e738ee",
   "metadata": {},
   "source": [
    "### Add Policies to the Execution Role \n",
    "* In this sample code, we are going to use several AWS services. Therefore we have to add policies to the notebook execution role. \n",
    "* Regarding to role and policy, please refer to documents [1](https://docs.aws.amazon.com/IAM/latest/UserGuide/id_roles.html) and [2](https://docs.aws.amazon.com/IAM/latest/UserGuide/access.html)\n",
    "\n"
   ]
  },
  {
   "cell_type": "code",
   "execution_count": 1,
   "id": "bb547a9f",
   "metadata": {},
   "outputs": [
    {
     "name": "stdout",
     "output_type": "stream",
     "text": [
      "AmazonSageMaker-ExecutionRole-20210702T211675\n"
     ]
    }
   ],
   "source": [
    "import boto3\n",
    "from sagemaker import get_execution_role\n",
    "\n",
    "role_name = get_execution_role().split('/')[-1]\n",
    "\n",
    "iam = boto3.client(\"iam\")\n",
    "\n",
    "print(role_name)\n",
    "policy_arns = [\"arn:aws:iam::aws:policy/AmazonSQSFullAccess\", \n",
    "               \"arn:aws:iam::aws:policy/AmazonEC2ContainerRegistryFullAccess\",\n",
    "               \"arn:aws:iam::aws:policy/AmazonAPIGatewayAdministrator\",\n",
    "               \"arn:aws:iam::aws:policy/AmazonSNSFullAccess\",\n",
    "               \"arn:aws:iam::aws:policy/AmazonEventBridgeFullAccess\",\n",
    "               \"arn:aws:iam::aws:policy/AWSLambda_FullAccess\"]\n",
    "\n",
    "for p in policy_arns: \n",
    "    iam.attach_role_policy(\n",
    "        RoleName = role_name,\n",
    "        PolicyArn = p\n",
    "    )\n",
    "\n"
   ]
  },
  {
   "cell_type": "markdown",
   "id": "da237964",
   "metadata": {},
   "source": [
    "### Alternate Docker Storage Location "
   ]
  },
  {
   "cell_type": "markdown",
   "id": "fd58e132",
   "metadata": {},
   "source": [
    "* docker overlay directory usually will occupy large amount of disk space, change the location to EBS volume "
   ]
  },
  {
   "cell_type": "code",
   "execution_count": 5,
   "id": "541fb08e",
   "metadata": {},
   "outputs": [
    {
     "name": "stdout",
     "output_type": "stream",
     "text": [
      "rm: descend into write-protected directory ‘/home/ec2-user/SageMaker/docker_disk/docker’? ^C\n"
     ]
    }
   ],
   "source": [
    "!rm -r /home/ec2-user/SageMaker/docker_disk/docker"
   ]
  },
  {
   "cell_type": "code",
   "execution_count": 14,
   "id": "d61f315b",
   "metadata": {},
   "outputs": [
    {
     "name": "stdout",
     "output_type": "stream",
     "text": [
      "rm: descend into write-protected directory ‘/home/ec2-user/SageMaker/docker_disk/docker’? ^C\n"
     ]
    }
   ],
   "source": [
    "!sudo rm -r /home/ec2-user/SageMaker/docker_disk/"
   ]
  },
  {
   "cell_type": "code",
   "execution_count": 10,
   "id": "ee14d186",
   "metadata": {},
   "outputs": [
    {
     "name": "stdout",
     "output_type": "stream",
     "text": [
      "CONTAINER ID        IMAGE               COMMAND             CREATED             STATUS              PORTS               NAMES\r\n"
     ]
    }
   ],
   "source": [
    "!docker ps -a"
   ]
  },
  {
   "cell_type": "code",
   "execution_count": 12,
   "id": "9b7f3d94",
   "metadata": {},
   "outputs": [
    {
     "name": "stdout",
     "output_type": "stream",
     "text": [
      "Stopping docker: [  OK  ]\r\n",
      "Starting docker:\t.[  OK  ]\r\n"
     ]
    }
   ],
   "source": [
    "%%bash \n",
    "sudo service docker stop\n",
    "mkdir ~/SageMaker/docker_disk\n",
    "sudo mv /var/lib/docker ~/SageMaker/docker_disk/\n",
    "sudo ln -s  ~/SageMaker/docker_disk/docker/ /var/lib/\n",
    "sudo service docker start"
   ]
  },
  {
   "cell_type": "code",
   "execution_count": 3,
   "id": "7056f4d3",
   "metadata": {
    "collapsed": true
   },
   "outputs": [
    {
     "name": "stdout",
     "output_type": "stream",
     "text": [
      "Deleted Networks:\n",
      "sagemaker-local\n",
      "\n",
      "Deleted Images:\n",
      "untagged: 763104351884.dkr.ecr.us-west-2.amazonaws.com/pytorch-training:1.6.0-gpu-py36-cu110-ubuntu18.04\n",
      "untagged: 763104351884.dkr.ecr.us-west-2.amazonaws.com/pytorch-training@sha256:33bd2f7485f1e486c016a470a5e3e5c9894d2b69734425259fc58fec8054f853\n",
      "deleted: sha256:7de1db919d5896b81e6ecf3bdc92a7c4049554d06f1bea7c17fd597cb95e7cba\n",
      "deleted: sha256:fa698ecf8ccade288dbaa8193a56826ea456680be7a417b664150ed9830567af\n",
      "deleted: sha256:6fffaa06aaee0976590032eabf8e5be578adfbf54a3cdf4c0e4d96ebf4d3e7ec\n",
      "deleted: sha256:32a9008987dd4e092e79bc0b4c0baae3a2c326f69d97b54611d9bdfc5383a793\n",
      "deleted: sha256:4fd36020741316d6afc83fbf7fd0ee0df0426396ecd9f0d6981df7e3a25efbcb\n",
      "deleted: sha256:838a14765633ea2ec2244e101ff5487704c78489f78092d64f2f6fd9455debe6\n",
      "deleted: sha256:877cb0e75bc371b0d0b321c794ba0306eaee5aa40e0cac46ce0b8d726cf6b461\n",
      "deleted: sha256:f6a18554dd5bc7477fa8beb79a5c4e85198691253f63a31c78aed2d26b140021\n",
      "deleted: sha256:bb5377a91e2d47f9a81eac89bf4a28a8cc3bf81fed9f4729b1c1be322eb94bf8\n",
      "deleted: sha256:74ecc823c9e2ff8df4b46522543a0eb8205a01705f1713b71253556b384fc0b7\n",
      "deleted: sha256:cc93a44962861c05470410dbfd59d1760ff58a350faa82f8d83dc75d196a11bc\n",
      "deleted: sha256:6e502312225cfc998a7728a5530b6d29e7f94cda6f21e514d77aa3464e6364a8\n",
      "deleted: sha256:0c9eb116cf3b7c1257bb923fa9c5cf7fa96ce02654ec409954fcf52059e2e34d\n",
      "deleted: sha256:a6bf40c3dffde60424fd9910bc11c73860b49dd626e5cfd187b8949617653c69\n",
      "deleted: sha256:03bf2f1830b8419931c339b955b0ab04ffbf626399f2ed2f410e58f4655a7ee0\n",
      "deleted: sha256:15f64dbe9664f281109ca3575bf7bba05d17c0b6856be0f6cb32f650536c4f3a\n",
      "deleted: sha256:e508270445eeb13a75b489ca95b6345e5b3fc7e679292817d5a6ea0aa5a41c1a\n",
      "deleted: sha256:2ab1ade5aacea5d599a1239a83c1d10aaf2ac7b625ee0143f7740665f739b35c\n",
      "deleted: sha256:abb3e4c33f0c995a6d4a1cc009fdf91889edbfa9bfd1fcb43a4dca7ca23eb70b\n",
      "deleted: sha256:e45375043356b1836e4d7236e2f43c9fc9cc60d16ca7d60320788793683345aa\n",
      "deleted: sha256:0359b6e72fea8fe4a614ff756425857e2ed56270b65a3b667f618090d73d8092\n",
      "deleted: sha256:0622e71febbc11e4ae4a7f6c3de6753bd7f98a4a25a93bba57b0a83bb5f7c7fb\n",
      "deleted: sha256:62fa27423d9d524d2e90a1ca2a213444eec18775682eaa6091affb28473a779b\n",
      "deleted: sha256:f57bb3c912b357adcb46653597695d02b0d4896bb6ef4504d002b9bb29e42f70\n",
      "deleted: sha256:dae8a7ea43840f65647da2f7de8defbc3c80108931ad30c23e945e2b64d67087\n",
      "deleted: sha256:2151b88be5d99cb82857dda56eee7e5a8df6d32bed5aa743320ae16754c77d83\n",
      "deleted: sha256:01549bf5121b4d77efb1bfd467043d708999af767a093fd26c02ca3c3e4a59e8\n",
      "deleted: sha256:5fbf9f11089e726927f69e7baffb5279ca1d1295bec8c767a02959333e919f57\n",
      "deleted: sha256:8f04e4b268f301dce9415daa484fc23440502156d7f7a171866a76e288cd44ad\n",
      "deleted: sha256:4147fee5217ad7ee020f2f67db420aa016eaee19ac94ce14ad34e21a3d433e5b\n",
      "deleted: sha256:423662870fb3d051ccbc52495a1ff83e3b0c136d88614618dd18ea5b5a4fda15\n",
      "deleted: sha256:dd44b56f7a8f4d7c34f8fe346f507e46defea98f198bccd13ef227a80a512f18\n",
      "deleted: sha256:80580270666742c625aecc56607a806ba343a66a8f5a7fd708e6c4e4c07a3e9b\n",
      "\n",
      "Total reclaimed space: 13.05GB\n"
     ]
    }
   ],
   "source": [
    "!sudo docker system prune -a -f"
   ]
  },
  {
   "cell_type": "code",
   "execution_count": 9,
   "id": "6790d980",
   "metadata": {},
   "outputs": [
    {
     "name": "stdout",
     "output_type": "stream",
     "text": [
      "Filesystem     1K-blocks     Used Available Use% Mounted on\r\n",
      "devtmpfs        31426652       72  31426580   1% /dev\r\n",
      "tmpfs           31437352       88  31437264   1% /dev/shm\r\n",
      "/dev/xvda1     108305356 89587124  18617984  83% /\r\n",
      "/dev/xvdf      515535104 60288308 433189760  13% /home/ec2-user/SageMaker\r\n"
     ]
    }
   ],
   "source": [
    "!df"
   ]
  },
  {
   "cell_type": "code",
   "execution_count": 13,
   "id": "3295388f",
   "metadata": {},
   "outputs": [
    {
     "name": "stdout",
     "output_type": "stream",
     "text": [
      "Filesystem     1K-blocks     Used Available Use% Mounted on\r\n",
      "devtmpfs        31426652       72  31426580   1% /dev\r\n",
      "tmpfs           31437352       88  31437264   1% /dev/shm\r\n",
      "/dev/xvda1     108305356 89586528  18618580  83% /\r\n",
      "/dev/xvdf      515535104 36394092 457083976   8% /home/ec2-user/SageMaker\r\n"
     ]
    }
   ],
   "source": [
    "!df"
   ]
  },
  {
   "cell_type": "code",
   "execution_count": 17,
   "id": "71ec930c",
   "metadata": {},
   "outputs": [
    {
     "name": "stdout",
     "output_type": "stream",
     "text": [
      "Filesystem     1K-blocks     Used Available Use% Mounted on\r\n",
      "devtmpfs        31426652       72  31426580   1% /dev\r\n",
      "tmpfs           31437352       88  31437264   1% /dev/shm\r\n",
      "/dev/xvda1     108305356 89586540  18618568  83% /\r\n",
      "/dev/xvdf      515535104 38562876 454915192   8% /home/ec2-user/SageMaker\r\n"
     ]
    }
   ],
   "source": [
    "!df"
   ]
  },
  {
   "cell_type": "code",
   "execution_count": null,
   "id": "7a805c7a",
   "metadata": {},
   "outputs": [],
   "source": [
    "base_img='763104351884.dkr.ecr.'$region'.amazonaws.com/pytorch-training:1.6.0-gpu-py36-cu110-ubuntu18.04'\n",
    "echo 'base_img:'$base_img\n",
    "docker pull $base_img\n",
    "# Build the docker image locally with the image name and then push it to ECR\n",
    "# with the full name.\n",
    "docker build  -t ${algorithm_name} -f Dockerfile  --build-arg BASE_IMG=\"${base_img}\" .  --no-cache\n",
    "docker tag ${algorithm_name} ${fullname}\n",
    "docker push ${fullname}\n"
   ]
  },
  {
   "cell_type": "code",
   "execution_count": 20,
   "id": "8fe72069",
   "metadata": {},
   "outputs": [
    {
     "name": "stdout",
     "output_type": "stream",
     "text": [
      "Warning: Couldn't read data from file \n",
      "Warning: \"./Final_Training_Dataset/train/train_00001.wav\", this makes an empty \n",
      "Warning: POST.\n",
      "{\"errorMessage\": \"An error occurred (ValidationError) when calling the InvokeEndpoint operation: 1 validation error detected: Value at 'body' failed to satisfy constraint: Member must not be null\", \"errorType\": \"ValidationError\", \"stackTrace\": [\"  File \\\"/var/task/lambda_function.py\\\", line 26, in lambda_handler\\n    Body=payload)\\n\", \"  File \\\"/var/runtime/botocore/client.py\\\", line 357, in _api_call\\n    return self._make_api_call(operation_name, kwargs)\\n\", \"  File \\\"/var/runtime/botocore/client.py\\\", line 676, in _make_api_call\\n    raise error_class(parsed_response, operation_name)\\n\"]}"
     ]
    }
   ],
   "source": [
    "!curl -X POST -H 'content-type: application/octet-stream' \\\n",
    "-H 'x-api-key: 0B22878B03FE197EF8D6' \\\n",
    "--data-binary @./Final_Training_Dataset/train/train_00001.wav \\\n",
    "'https:///rbrdok3cva.execute-api.us-west-2.amazonaws.com/dev/classify'"
   ]
  },
  {
   "cell_type": "code",
   "execution_count": 19,
   "id": "bef3beea",
   "metadata": {},
   "outputs": [
    {
     "name": "stdout",
     "output_type": "stream",
     "text": [
      "2021-07-16 15:39:49.462996+08:00\n",
      "Warning: Couldn't read data from file \n",
      "Warning: \"./Final_Training_Dataset/train/train_00001.wav\", this makes an empty \n",
      "Warning: POST.\n",
      "{\"errorMessage\": \"An error occurred (ValidationError) when calling the InvokeEndpoint operation: 1 validation error detected: Value at 'body' failed to satisfy constraint: Member must not be null\", \"errorType\": \"ValidationError\", \"stackTrace\": [\"  File \\\"/var/task/lambda_function.py\\\", line 26, in lambda_handler\\n    Body=payload)\\n\", \"  File \\\"/var/runtime/botocore/client.py\\\", line 357, in _api_call\\n    return self._make_api_call(operation_name, kwargs)\\n\", \"  File \\\"/var/runtime/botocore/client.py\\\", line 676, in _make_api_call\\n    raise error_class(parsed_response, operation_name)\\n\"]}2021-07-16 15:39:50.839498+08:00\n"
     ]
    }
   ],
   "source": [
    "from datetime import datetime, timedelta, timezone\n",
    "print(datetime.now(timezone(timedelta(hours=8))))\n",
    "!curl -X POST -H 'content-type: application/octet-stream' \\\n",
    "-H 'x-api-key: 0B22878B03FE197EF8D6' \\\n",
    "--data-binary @./Final_Training_Dataset/train/train_00001.wav \\\n",
    "'https:///rbrdok3cva.execute-api.us-west-2.amazonaws.com/dev/classify'\n",
    "print(datetime.now(timezone(timedelta(hours=8))))"
   ]
  }
 ],
 "metadata": {
  "kernelspec": {
   "display_name": "conda_python3",
   "language": "python",
   "name": "conda_python3"
  },
  "language_info": {
   "codemirror_mode": {
    "name": "ipython",
    "version": 3
   },
   "file_extension": ".py",
   "mimetype": "text/x-python",
   "name": "python",
   "nbconvert_exporter": "python",
   "pygments_lexer": "ipython3",
   "version": "3.6.13"
  }
 },
 "nbformat": 4,
 "nbformat_minor": 5
}
