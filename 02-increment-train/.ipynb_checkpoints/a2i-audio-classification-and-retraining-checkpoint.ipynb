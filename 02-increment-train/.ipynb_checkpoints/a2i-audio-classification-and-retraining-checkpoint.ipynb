{
 "cells": [
  {
   "cell_type": "markdown",
   "metadata": {},
   "source": [
    "## Amazon Augmented AI (Amazon A2I) integration with Amazon SageMaker Hosted Endpoint for Audio Classification and Model Retraining"
   ]
  },
  {
   "cell_type": "markdown",
   "metadata": {},
   "source": [
    "### Architecture \n",
    "\n",
    "<img src=\"./images/part2.png\" alt=\"architecture\" width=\"800\"/>\n"
   ]
  },
  {
   "cell_type": "markdown",
   "metadata": {},
   "source": [
    "### 5. A2I Setup \n",
    "\n",
    "a. [Introduction](#Introduction)\n",
    "\n",
    "b. [Setup](#Setup)\n",
    "\n",
    "c. [Create Control Plane Resources](#Create-Control-Plane-Resources)\n",
    "\n",
    "    \n",
    "### 6. Setup workforce and Labeling Manually    \n",
    "a. [Starting Human Loops](#Starting-Human-Loops)\n",
    "\n",
    "b. [Configure a2i status change to SQS](#sqs_a2i)\n",
    "\n",
    "c. [Wait For Workers to Complete Task](#Wait-For-Workers-to-Complete-Task)\n",
    "\n",
    "d. [Check Status of Human Loop](#Check-Status-of-Human-Loop)\n",
    "\n",
    "e. [View Task Results](#View-Task-Results)\n",
    "   \n",
    "### 7. Retrain and Redeploy    \n",
    "[Incremental training with SageMaker](#Incremental-training-with-SageMaker)\n",
    "\n",
    "### 8. Configure Lambda and Api gateway\n",
    "[Create Lambda Function triggering a2i process](#lambda)\n"
   ]
  },
  {
   "cell_type": "markdown",
   "metadata": {},
   "source": [
    "## Introduction\n",
    "\n",
    "Amazon Augmented AI (Amazon A2I) makes it easy to build the workflows required for human review of ML predictions. Amazon A2I brings human review to all developers, removing the undifferentiated heavy lifting associated with building human review systems or managing large numbers of human reviewers. \n",
    "\n",
    "You can create your own workflows for ML models built on Amazon SageMaker or any other tools. Using Amazon A2I, you can allow human reviewers to step in when a model is unable to make a high confidence prediction or to audit its predictions on an on-going basis. \n",
    "\n",
    "Learn more here: https://aws.amazon.com/augmented-ai/\n",
    "\n",
    "In this tutorial, we will show how you can use **Amazon A2I with an Amazon SageMaker Hosted Endpoint.** We will be using an exisiting audio classification model in this notebook. We will also demonstrate how to manipulate the A2I output to perform incremental training to improve the model accuracy with the newly labeled data using A2I.\n",
    "\n",
    "For more in depth instructions, visit https://docs.aws.amazon.com/sagemaker/latest/dg/a2i-getting-started.html"
   ]
  },
  {
   "cell_type": "markdown",
   "metadata": {},
   "source": [
    "To incorporate Amazon A2I into your human review workflows, you need three resources:\n",
    "\n",
    "* A **worker task template** to create a worker UI. The worker UI displays your input data, such as documents or images, and instructions to workers. It also provides interactive tools that the worker uses to complete your tasks. For more information, see https://docs.aws.amazon.com/sagemaker/latest/dg/a2i-instructions-overview.html\n",
    "\n",
    "* A **human review workflow**, also referred to as a flow definition. You use the flow definition to configure your human workforce and provide information about how to accomplish the human review task. You can create a flow definition in the Amazon Augmented AI console or with Amazon A2I APIs. To learn more about both of these options, see https://docs.aws.amazon.com/sagemaker/latest/dg/a2i-create-flow-definition.html\n",
    "\n",
    "* A **human loop** to start your human review workflow. When you use one of the built-in task types, the corresponding AWS service creates and starts a human loop on your behalf when the conditions specified in your flow definition are met or for each object if no conditions were specified. When a human loop is triggered, human review tasks are sent to the workers as specified in the flow definition.\n",
    "\n",
    "When using a custom task type, as this tutorial will show, you start a human loop using the Amazon Augmented AI Runtime API. When you call `start_human_loop()` in your custom application, a task is sent to human reviewers."
   ]
  },
  {
   "cell_type": "markdown",
   "metadata": {},
   "source": [
    "## Setup\n",
    "This notebook is developed and tested in a SageMaker Notebook Instance with a `ml.t2.medium` instance with SageMaker Python SDK v2. It is recommended to execute the notebook in the same environment for best experience.\n",
    "### Install Latest SDK"
   ]
  },
  {
   "cell_type": "code",
   "execution_count": 1,
   "metadata": {},
   "outputs": [
    {
     "name": "stdout",
     "output_type": "stream",
     "text": [
      "Collecting sagemaker==2.23.1\n",
      "  Downloading sagemaker-2.23.1.tar.gz (400 kB)\n",
      "\u001b[K     |████████████████████████████████| 400 kB 8.7 MB/s eta 0:00:01\n",
      "\u001b[?25hRequirement already satisfied: attrs in /home/ec2-user/anaconda3/envs/python3/lib/python3.6/site-packages (from sagemaker==2.23.1) (20.3.0)\n",
      "Requirement already satisfied: boto3>=1.16.32 in /home/ec2-user/anaconda3/envs/python3/lib/python3.6/site-packages (from sagemaker==2.23.1) (1.17.99)\n",
      "Requirement already satisfied: google-pasta in /home/ec2-user/anaconda3/envs/python3/lib/python3.6/site-packages (from sagemaker==2.23.1) (0.2.0)\n",
      "Requirement already satisfied: numpy>=1.9.0 in /home/ec2-user/anaconda3/envs/python3/lib/python3.6/site-packages (from sagemaker==2.23.1) (1.19.5)\n",
      "Requirement already satisfied: protobuf>=3.1 in /home/ec2-user/anaconda3/envs/python3/lib/python3.6/site-packages (from sagemaker==2.23.1) (3.15.2)\n",
      "Requirement already satisfied: protobuf3-to-dict>=0.1.5 in /home/ec2-user/anaconda3/envs/python3/lib/python3.6/site-packages (from sagemaker==2.23.1) (0.1.5)\n",
      "Requirement already satisfied: smdebug_rulesconfig==1.0.1 in /home/ec2-user/anaconda3/envs/python3/lib/python3.6/site-packages (from sagemaker==2.23.1) (1.0.1)\n",
      "Requirement already satisfied: importlib-metadata>=1.4.0 in /home/ec2-user/anaconda3/envs/python3/lib/python3.6/site-packages (from sagemaker==2.23.1) (3.7.0)\n",
      "Requirement already satisfied: packaging>=20.0 in /home/ec2-user/anaconda3/envs/python3/lib/python3.6/site-packages (from sagemaker==2.23.1) (20.9)\n",
      "Requirement already satisfied: botocore<1.21.0,>=1.20.99 in /home/ec2-user/anaconda3/envs/python3/lib/python3.6/site-packages (from boto3>=1.16.32->sagemaker==2.23.1) (1.20.99)\n",
      "Requirement already satisfied: s3transfer<0.5.0,>=0.4.0 in /home/ec2-user/anaconda3/envs/python3/lib/python3.6/site-packages (from boto3>=1.16.32->sagemaker==2.23.1) (0.4.2)\n",
      "Requirement already satisfied: jmespath<1.0.0,>=0.7.1 in /home/ec2-user/anaconda3/envs/python3/lib/python3.6/site-packages (from boto3>=1.16.32->sagemaker==2.23.1) (0.10.0)\n",
      "Requirement already satisfied: python-dateutil<3.0.0,>=2.1 in /home/ec2-user/anaconda3/envs/python3/lib/python3.6/site-packages (from botocore<1.21.0,>=1.20.99->boto3>=1.16.32->sagemaker==2.23.1) (2.8.1)\n",
      "Requirement already satisfied: urllib3<1.27,>=1.25.4 in /home/ec2-user/anaconda3/envs/python3/lib/python3.6/site-packages (from botocore<1.21.0,>=1.20.99->boto3>=1.16.32->sagemaker==2.23.1) (1.26.5)\n",
      "Requirement already satisfied: typing-extensions>=3.6.4 in /home/ec2-user/anaconda3/envs/python3/lib/python3.6/site-packages (from importlib-metadata>=1.4.0->sagemaker==2.23.1) (3.7.4.3)\n",
      "Requirement already satisfied: zipp>=0.5 in /home/ec2-user/anaconda3/envs/python3/lib/python3.6/site-packages (from importlib-metadata>=1.4.0->sagemaker==2.23.1) (3.4.0)\n",
      "Requirement already satisfied: pyparsing>=2.0.2 in /home/ec2-user/anaconda3/envs/python3/lib/python3.6/site-packages (from packaging>=20.0->sagemaker==2.23.1) (2.4.7)\n",
      "Requirement already satisfied: six>=1.9 in /home/ec2-user/anaconda3/envs/python3/lib/python3.6/site-packages (from protobuf>=3.1->sagemaker==2.23.1) (1.15.0)\n",
      "Building wheels for collected packages: sagemaker\n",
      "  Building wheel for sagemaker (setup.py) ... \u001b[?25ldone\n",
      "\u001b[?25h  Created wheel for sagemaker: filename=sagemaker-2.23.1-py2.py3-none-any.whl size=559547 sha256=b769a316736b9f83d730ba3a9da532805a76c557e2d05a98f37fa958f5dade43\n",
      "  Stored in directory: /home/ec2-user/.cache/pip/wheels/f6/ea/42/c6241b7aef8d2f4cbe4af5672ecb3889f95fc3df8c599239a4\n",
      "Successfully built sagemaker\n",
      "Installing collected packages: sagemaker\n",
      "  Attempting uninstall: sagemaker\n",
      "    Found existing installation: sagemaker 2.45.0\n",
      "    Uninstalling sagemaker-2.45.0:\n",
      "      Successfully uninstalled sagemaker-2.45.0\n",
      "Successfully installed sagemaker-2.23.1\n",
      "\u001b[33mWARNING: You are using pip version 21.1.2; however, version 21.1.3 is available.\n",
      "You should consider upgrading via the '/home/ec2-user/anaconda3/envs/python3/bin/python -m pip install --upgrade pip' command.\u001b[0m\n"
     ]
    }
   ],
   "source": [
    "!pip install -U sagemaker==2.23.1"
   ]
  },
  {
   "cell_type": "code",
   "execution_count": 40,
   "metadata": {},
   "outputs": [
    {
     "name": "stdout",
     "output_type": "stream",
     "text": [
      "SageMaker python SDK version: 2.23.1\n"
     ]
    }
   ],
   "source": [
    "import sagemaker\n",
    "from pkg_resources import parse_version\n",
    "\n",
    "assert parse_version(sagemaker.__version__) >= parse_version('2'), \\\n",
    "    '''This notebook is only compatible with sagemaker python SDK >= 2. \n",
    "Current version is %s. Please make sure you upgrade the library.''' % sagemaker.__version__\n",
    "\n",
    "print('SageMaker python SDK version: %s' % sagemaker.__version__)"
   ]
  },
  {
   "cell_type": "markdown",
   "metadata": {},
   "source": [
    "We need to set up the following data:\n",
    "* `region` - Region to call A2I.\n",
    "* `BUCKET` - A S3 bucket accessible by the given role\n",
    "    * Used to store the sample images & output results\n",
    "    * Must be within the same region A2I is called from\n",
    "* `role` - The IAM role used as part of StartHumanLoop. By default, this notebook will use the execution role\n",
    "* `workteam` - Group of people to send the work to"
   ]
  },
  {
   "cell_type": "code",
   "execution_count": 6,
   "metadata": {},
   "outputs": [],
   "source": [
    "\n",
    "import boto3 \n",
    "\n",
    "my_session = boto3.session.Session()\n",
    "region = my_session.region_name"
   ]
  },
  {
   "cell_type": "code",
   "execution_count": 7,
   "metadata": {},
   "outputs": [],
   "source": [
    "%store -r endpoint_name "
   ]
  },
  {
   "cell_type": "code",
   "execution_count": 8,
   "metadata": {},
   "outputs": [
    {
     "data": {
      "text/plain": [
       "'audio-20210716'"
      ]
     },
     "execution_count": 8,
     "metadata": {},
     "output_type": "execute_result"
    }
   ],
   "source": [
    "endpoint_name"
   ]
  },
  {
   "cell_type": "markdown",
   "metadata": {},
   "source": [
    "### Role and Permissions\n",
    "\n",
    "The AWS IAM Role used to execute the notebook needs to have the following permissions:\n",
    "\n",
    "* SagemakerFullAccess\n",
    "* AmazonSageMakerMechanicalTurkAccess (if using MechanicalTurk as your Workforce)"
   ]
  },
  {
   "cell_type": "code",
   "execution_count": 9,
   "metadata": {},
   "outputs": [
    {
     "data": {
      "text/plain": [
       "'arn:aws:iam::355444812467:role/service-role/AmazonSageMaker-ExecutionRole-20210702T211675'"
      ]
     },
     "metadata": {},
     "output_type": "display_data"
    }
   ],
   "source": [
    "from sagemaker import get_execution_role\n",
    "import sagemaker\n",
    "\n",
    "# Setting Role to the default SageMaker Execution Role\n",
    "role = get_execution_role()\n",
    "display(role)"
   ]
  },
  {
   "cell_type": "code",
   "execution_count": 10,
   "metadata": {},
   "outputs": [],
   "source": [
    "import os\n",
    "import boto3\n",
    "import botocore\n",
    "\n",
    "sess = sagemaker.Session()\n",
    "BUCKET = sess.default_bucket()\n",
    "TRAIN_PATH = f's3://{BUCKET}/tomofun'\n",
    "OUTPUT_PATH = f's3://{BUCKET}/a2i-results'\n"
   ]
  },
  {
   "cell_type": "markdown",
   "metadata": {},
   "source": [
    "#### Setup Bucket and Paths\n",
    "\n",
    "**Important**: The bucket you specify for `BUCKET` must have CORS enabled. You can enable CORS by adding a policy similar to the following to your Amazon S3 bucket. To learn how to add CORS to an S3 bucket, see [CORS Permission Requirement](https://docs.aws.amazon.com/sagemaker/latest/dg/a2i-permissions-security.html#a2i-cors-update) in the Amazon A2I documentation. \n",
    "\n",
    "\n",
    "```\n",
    "[{\n",
    "   \"AllowedHeaders\": [],\n",
    "   \"AllowedMethods\": [\"GET\"],\n",
    "   \"AllowedOrigins\": [\"*\"],\n",
    "   \"ExposeHeaders\": []\n",
    "}]\n",
    "```\n",
    "\n",
    "If you do not add a CORS configuration to the S3 buckets that contains your image input data, human review tasks for those input data objects will fail. \n"
   ]
  },
  {
   "cell_type": "code",
   "execution_count": 11,
   "metadata": {},
   "outputs": [
    {
     "data": {
      "text/plain": [
       "{'ResponseMetadata': {'RequestId': 'B52KSHW0A0AVTJBT',\n",
       "  'HostId': 'MGoNyrXSUw9IbfT6zr56qUxqkKPA6p9ECblLThcY+zcdY65s/qt+0rgTiUUr4EC6yb9ZD2HNraM=',\n",
       "  'HTTPStatusCode': 200,\n",
       "  'HTTPHeaders': {'x-amz-id-2': 'MGoNyrXSUw9IbfT6zr56qUxqkKPA6p9ECblLThcY+zcdY65s/qt+0rgTiUUr4EC6yb9ZD2HNraM=',\n",
       "   'x-amz-request-id': 'B52KSHW0A0AVTJBT',\n",
       "   'date': 'Sat, 17 Jul 2021 03:30:18 GMT',\n",
       "   'server': 'AmazonS3',\n",
       "   'content-length': '0'},\n",
       "  'RetryAttempts': 0}}"
      ]
     },
     "execution_count": 11,
     "metadata": {},
     "output_type": "execute_result"
    }
   ],
   "source": [
    "cors_configuration = {\n",
    "    'CORSRules': [{\n",
    "       \"AllowedHeaders\": [],\n",
    "       \"AllowedMethods\": [\"GET\"],\n",
    "       \"AllowedOrigins\": [\"*\"],\n",
    "       \"ExposeHeaders\": []\n",
    "    }]\n",
    "}\n",
    "\n",
    "# Set the CORS configuration\n",
    "s3 = boto3.client('s3')\n",
    "s3.put_bucket_cors(Bucket=BUCKET,\n",
    "                   CORSConfiguration=cors_configuration)"
   ]
  },
  {
   "cell_type": "markdown",
   "metadata": {},
   "source": [
    "### Audio Classification with Amazon SageMaker\n",
    "\n",
    "To demonstrate A2I with Amazon SageMaker hosted endpoint, we will take a trained audio classification model from a S3 bucket and host it on the SageMaker endpoint for real-time prediction. "
   ]
  },
  {
   "cell_type": "markdown",
   "metadata": {},
   "source": [
    "#### Load the model and create an endpoint\n",
    "The next cell will setup an endpoint from a trained model. It will take about 3 minutes."
   ]
  },
  {
   "cell_type": "code",
   "execution_count": 12,
   "metadata": {},
   "outputs": [],
   "source": [
    "import boto3 \n",
    "\n",
    "my_session = boto3.session.Session()\n",
    "client = boto3.client(\"sts\")\n",
    "account_id = client.get_caller_identity()[\"Account\"]\n",
    "# algorithm_name = \"vgg16-audio\"\n",
    "algorithm_name = \"vgg-audio\"\n",
    "image_uri=f\"{account_id}.dkr.ecr.{region}.amazonaws.com/{algorithm_name}\""
   ]
  },
  {
   "cell_type": "code",
   "execution_count": 13,
   "metadata": {},
   "outputs": [
    {
     "data": {
      "text/plain": [
       "'355444812467.dkr.ecr.us-west-2.amazonaws.com/vgg-audio'"
      ]
     },
     "execution_count": 13,
     "metadata": {},
     "output_type": "execute_result"
    }
   ],
   "source": [
    "image_uri"
   ]
  },
  {
   "cell_type": "markdown",
   "metadata": {},
   "source": [
    "#### Helper functions"
   ]
  },
  {
   "cell_type": "code",
   "execution_count": 14,
   "metadata": {},
   "outputs": [],
   "source": [
    "import matplotlib.pyplot as plt\n",
    "import matplotlib.patches as patches    \n",
    "import matplotlib.image as mpimg\n",
    "import random\n",
    "import numpy as np\n",
    "import json\n",
    "\n",
    "runtime_client = boto3.client('runtime.sagemaker')\n",
    "\n",
    "\n",
    "    \n",
    "def load_and_predict(file_name):\n",
    "    \"\"\"\n",
    "    load an audio file, make audio classification to an predictor\n",
    "    Parameters:\n",
    "    ----------\n",
    "    file_name : str\n",
    "        image file location, in str format\n",
    "    predictor : sagemaker.predictor.RealTimePredictor\n",
    "        a predictor loaded from hosted endpoint\n",
    "    threshold : float\n",
    "        score threshold for bounding box display\n",
    "    \"\"\"\n",
    "    with open(file_name, 'rb') as image:\n",
    "        f = image.read()\n",
    "        b = bytearray(f)\n",
    "    response = runtime_client.invoke_endpoint(EndpointName=endpoint_name, \n",
    "                                   ContentType='application/octet-stream', \n",
    "                                   Body=b)\n",
    "    results = response['Body'].read().decode('utf-8')\n",
    "\n",
    "    print(results)\n",
    "\n",
    "    detections = json.loads(results)\n",
    "    return results, detections"
   ]
  },
  {
   "cell_type": "code",
   "execution_count": 15,
   "metadata": {},
   "outputs": [],
   "source": [
    "# object_categories = [\"Barking\", \"Howling\", \"Crying\", \"COSmoke\",\"GlassBreaking\",\"Other\"]\n",
    "object_categories = [\"Barking\", \"Howling\", \"Crying\", \"COSmoke\",\"GlassBreaking\",\"Other\", \n",
    "                     \"Doorbell\", 'Bird', 'Music_Instrument', 'Laugh_Shout_Scream']"
   ]
  },
  {
   "cell_type": "markdown",
   "metadata": {},
   "source": [
    "#### Sample Data\n",
    "Let's take a look how the audio classification model looks like using some audio clips on our hands. The predicted class and the prediction probability is presented."
   ]
  },
  {
   "cell_type": "code",
   "execution_count": 16,
   "metadata": {},
   "outputs": [],
   "source": [
    "# !mkdir audios \n",
    "!cp ../01-byoc/train_data/train_00001.wav audios \n",
    "!cp ../01-byoc/train_data/train_00010.wav audios \n",
    "!cp ../01-byoc/train_data/train_00021.wav audios "
   ]
  },
  {
   "cell_type": "code",
   "execution_count": 17,
   "metadata": {},
   "outputs": [],
   "source": [
    "test_audios = ['audios/train_00001.wav', # motorcycle\n",
    "               'audios/train_00010.wav', # bicycle\n",
    "               'audios/train_00021.wav'] # sofa"
   ]
  },
  {
   "cell_type": "code",
   "execution_count": 18,
   "metadata": {},
   "outputs": [
    {
     "data": {
      "text/html": [
       "\n",
       "                <audio  controls=\"controls\" autoplay=\"autoplay\">\n",
       "                    <source src=\"data:audio/x-wav;base64,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\" type=\"audio/x-wav\" />\n",
       "                    Your browser does not support the audio element.\n",
       "                </audio>\n",
       "              "
      ],
      "text/plain": [
       "<IPython.lib.display.Audio object>"
      ]
     },
     "execution_count": 18,
     "metadata": {},
     "output_type": "execute_result"
    }
   ],
   "source": [
    "import IPython.display as ipd\n",
    "ipd.Audio(test_audios[0], autoplay=True)"
   ]
  },
  {
   "cell_type": "code",
   "execution_count": 19,
   "metadata": {
    "scrolled": false
   },
   "outputs": [
    {
     "name": "stdout",
     "output_type": "stream",
     "text": [
      "{\"label\": 0, \"probability\": [0.9903320670127869, 0.0001989333686651662, 0.0007428666576743126, 0.00016775673429947346, 3.222770828870125e-05, 3.8894515455467626e-05, 0.0003140326589345932, 0.0003089535457547754, 3.332734195282683e-05, 0.007830953225493431]}\n",
      "{'label': 0, 'probability': [0.9903320670127869, 0.0001989333686651662, 0.0007428666576743126, 0.00016775673429947346, 3.222770828870125e-05, 3.8894515455467626e-05, 0.0003140326589345932, 0.0003089535457547754, 3.332734195282683e-05, 0.007830953225493431]}\n",
      "{\"label\": 0, \"probability\": [0.8528938293457031, 0.0019418800948187709, 0.0011375222820788622, 0.0007829791866242886, 0.013402803801000118, 0.0073211463168263435, 0.03736455738544464, 0.00028037233278155327, 0.0017033849144354463, 0.083171546459198]}\n",
      "{'label': 0, 'probability': [0.8528938293457031, 0.0019418800948187709, 0.0011375222820788622, 0.0007829791866242886, 0.013402803801000118, 0.0073211463168263435, 0.03736455738544464, 0.00028037233278155327, 0.0017033849144354463, 0.083171546459198]}\n",
      "{\"label\": 0, \"probability\": [0.999336838722229, 1.1203339454368688e-05, 4.069593342137523e-05, 1.0619601198413875e-05, 0.000325192348100245, 8.879670531314332e-06, 1.770690687408205e-05, 2.0911184037686326e-05, 4.967172117176233e-06, 0.0002231001853942871]}\n",
      "{'label': 0, 'probability': [0.999336838722229, 1.1203339454368688e-05, 4.069593342137523e-05, 1.0619601198413875e-05, 0.000325192348100245, 8.879670531314332e-06, 1.770690687408205e-05, 2.0911184037686326e-05, 4.967172117176233e-06, 0.0002231001853942871]}\n"
     ]
    }
   ],
   "source": [
    "for audio in test_audios: \n",
    "    results, detections = load_and_predict(audio)\n",
    "    print(detections) "
   ]
  },
  {
   "cell_type": "markdown",
   "metadata": {},
   "source": [
    "Probability of 0.465 is considered quite low in modern computer vision and there is a mislabeling. This is due to the fact that the SSD model was under-trained for demonstration purposes in the [training notebook](https://github.com/awslabs/amazon-sagemaker-examples/blob/master/introduction_to_amazon_algorithms/object_detection_pascalvoc_coco/object_detection_recordio_format.ipynb). However this under-trained model serves as a perfect example of brining human reviewers when a model is unable to make a high confidence prediction."
   ]
  },
  {
   "cell_type": "markdown",
   "metadata": {},
   "source": [
    "### Creating human review Workteam or Workforce"
   ]
  },
  {
   "cell_type": "markdown",
   "metadata": {},
   "source": [
    "A workforce is the group of workers that you have selected to label your dataset. You can choose either the Amazon Mechanical Turk workforce, a vendor-managed workforce, or you can create your own private workforce for human reviews. Whichever workforce type you choose, Amazon Augmented AI takes care of sending tasks to workers. \n",
    "\n",
    "When you use a private workforce, you also create work teams, a group of workers from your workforce that are assigned to Amazon Augmented AI human review tasks. You can have multiple work teams and can assign one or more work teams to each job."
   ]
  },
  {
   "cell_type": "markdown",
   "metadata": {},
   "source": [
    "To create your Workteam, visit the instructions here: https://docs.aws.amazon.com/sagemaker/latest/dg/sms-workforce-management.html\n",
    "\n",
    "After you have created your workteam, replace YOUR_WORKTEAM_ARN below"
   ]
  },
  {
   "cell_type": "code",
   "execution_count": 41,
   "metadata": {},
   "outputs": [
    {
     "data": {
      "text/plain": [
       "'arn:aws:sagemaker:us-west-2:355444812467:workteam/private-crowd/fish-squad'"
      ]
     },
     "execution_count": 41,
     "metadata": {},
     "output_type": "execute_result"
    }
   ],
   "source": [
    "my_session = boto3.session.Session()\n",
    "my_region = my_session.region_name\n",
    "client = boto3.client(\"sts\")\n",
    "account_id = client.get_caller_identity()[\"Account\"]\n",
    "\n",
    "# WORKTEAM_ARN = \"arn:aws:sagemaker:{}:{}:workteam/private-crowd/seal-squad\".format(my_region, account_id)\n",
    "WORKTEAM_ARN = \"arn:aws:sagemaker:{}:{}:workteam/private-crowd/fish-squad\".format(my_region, account_id)\n",
    "\n",
    "WORKTEAM_ARN"
   ]
  },
  {
   "cell_type": "markdown",
   "metadata": {},
   "source": [
    "Visit: https://docs.aws.amazon.com/sagemaker/latest/dg/a2i-permissions-security.html to add the necessary permissions to your role"
   ]
  },
  {
   "cell_type": "markdown",
   "metadata": {},
   "source": [
    "## Client Setup"
   ]
  },
  {
   "cell_type": "markdown",
   "metadata": {},
   "source": [
    "Here we are going to setup the rest of our clients. "
   ]
  },
  {
   "cell_type": "code",
   "execution_count": 42,
   "metadata": {},
   "outputs": [],
   "source": [
    "import io\n",
    "import uuid\n",
    "import time \n",
    "\n",
    "timestamp = time.strftime(\"%Y-%m-%d-%H-%M-%S\", time.gmtime())\n",
    "# Amazon SageMaker client\n",
    "sagemaker_client = boto3.client('sagemaker', region)\n",
    "s3_client = boto3.client('s3')\n",
    "\n",
    "# Amazon Augment AI (A2I) client\n",
    "a2i = boto3.client('sagemaker-a2i-runtime')\n",
    "\n",
    "# Amazon S3 client \n",
    "s3 = boto3.client('s3', region)\n",
    "\n",
    "# Flow definition name - this value is unique per account and region. You can also provide your own value here.\n",
    "flowDefinitionName = 'fd-sagemaker-audio-classification-demo-' + timestamp\n",
    "\n",
    "# Task UI name - this value is unique per account and region. You can also provide your own value here.\n",
    "taskUIName = 'ui-sagemaker-audio-classification-demo-' + timestamp"
   ]
  },
  {
   "cell_type": "markdown",
   "metadata": {},
   "source": [
    "## Create Control Plane Resources"
   ]
  },
  {
   "cell_type": "markdown",
   "metadata": {},
   "source": [
    "### Create Human Task UI\n",
    "\n",
    "Create a human task UI resource, giving a UI template in liquid html. This template will be rendered to the human workers whenever human loop is required.\n",
    "\n",
    "For over 70 pre built UIs, check: https://github.com/aws-samples/amazon-a2i-sample-task-uis.\n",
    "\n",
    "We will be taking an [audio classification UI](https://github.com/aws-samples/amazon-sagemaker-ground-truth-task-uis/blob/master/audio/audio-classification.liquid.html) and filling in the object categories in the `labels` variable in the template."
   ]
  },
  {
   "cell_type": "code",
   "execution_count": 22,
   "metadata": {},
   "outputs": [],
   "source": [
    "# task.input.taskObject\n",
    "\n",
    "template = r\"\"\"\n",
    "<script src=\"https://assets.crowd.aws/crowd-html-elements.js\"></script>\n",
    "\n",
    "<crowd-form>\n",
    "    <crowd-classifier\n",
    "      name=\"sentiment\"\n",
    "      categories=\"['Barking', 'Howling', 'Crying', 'COSmoke','GlassBreaking','Other','Doorbell', 'Bird', 'Music_Instrument', 'Laugh_Shout_Scream']\"\n",
    "      header=\"What class does this audio represent?\"\n",
    "    >\n",
    "      <classification-target>\n",
    "          <audio controls>\n",
    "              <source src=\"{{ task.input.taskObject | grant_read_access }}\" type=\"audio/wav\">\n",
    "              Your browser does not support the audio element.\n",
    "          </audio>\n",
    "      </classification-target>\n",
    "      \n",
    "      <full-instructions header=\"Audio Classification Analysis Instructions\">\n",
    "        <p><strong>Barking</strong>Barking </p>\n",
    "        <p><strong>Howling</strong>Howling</p>\n",
    "        <p><strong>Crying</strong>Crying</p>\n",
    "        <p><strong>COSmoke</strong>COSmoke</p>\n",
    "        <p><strong>GlassBreaking</strong>GlassBreaking</p>\n",
    "        <p><strong>Other</strong>Other</p>\n",
    "        <p><strong>Other</strong>Doorbell</p>\n",
    "        <p><strong>Other</strong>Bird</p>\n",
    "        <p><strong>Other</strong>Music_Instrument</p>\n",
    "        <p><strong>Other</strong>Laugh_Shout_Scream</p>\n",
    "      </full-instructions>\n",
    "\n",
    "      <short-instructions>\n",
    "        <p>Choose the primary sentiment that is expressed by the audio.</p>\n",
    "      </short-instructions>\n",
    "    </crowd-classifier>\n",
    "</crowd-form>\n",
    "\"\"\"\n",
    "\n",
    "def create_task_ui():\n",
    "    '''\n",
    "    Creates a Human Task UI resource.\n",
    "\n",
    "    Returns:\n",
    "    struct: HumanTaskUiArn\n",
    "    '''\n",
    "    response = sagemaker_client.create_human_task_ui(\n",
    "        HumanTaskUiName=taskUIName,\n",
    "        UiTemplate={'Content': template})\n",
    "    return response"
   ]
  },
  {
   "cell_type": "code",
   "execution_count": 43,
   "metadata": {},
   "outputs": [
    {
     "name": "stdout",
     "output_type": "stream",
     "text": [
      "arn:aws:sagemaker:us-west-2:355444812467:human-task-ui/ui-sagemaker-audio-classification-demo-2021-07-17-03-32-38\n"
     ]
    }
   ],
   "source": [
    "# Create task UI\n",
    "humanTaskUiResponse = create_task_ui()\n",
    "humanTaskUiArn = humanTaskUiResponse['HumanTaskUiArn']\n",
    "print(humanTaskUiArn)"
   ]
  },
  {
   "cell_type": "markdown",
   "metadata": {},
   "source": [
    "### Create the Flow Definition"
   ]
  },
  {
   "cell_type": "markdown",
   "metadata": {},
   "source": [
    "In this section, we're going to create a flow definition definition. Flow Definitions allow us to specify:\n",
    "\n",
    "* The workforce that your tasks will be sent to.\n",
    "* The instructions that your workforce will receive. This is called a worker task template.\n",
    "* The configuration of your worker tasks, including the number of workers that receive a task and time limits to complete tasks.\n",
    "* Where your output data will be stored.\n",
    "\n",
    "This demo is going to use the API, but you can optionally create this workflow definition in the console as well. \n",
    "\n",
    "For more details and instructions, see: https://docs.aws.amazon.com/sagemaker/latest/dg/a2i-create-flow-definition.html."
   ]
  },
  {
   "cell_type": "code",
   "execution_count": 44,
   "metadata": {},
   "outputs": [],
   "source": [
    "create_workflow_definition_response = sagemaker_client.create_flow_definition(\n",
    "        FlowDefinitionName= flowDefinitionName,\n",
    "        RoleArn= role,\n",
    "        HumanLoopConfig= {\n",
    "            \"WorkteamArn\": WORKTEAM_ARN,\n",
    "            \"HumanTaskUiArn\": humanTaskUiArn,\n",
    "            \"TaskCount\": 1,\n",
    "            \"TaskDescription\": \"Classify the audio category.\",\n",
    "            \"TaskTitle\": \"Audio Classification\"\n",
    "        },\n",
    "        OutputConfig={\n",
    "            \"S3OutputPath\" : OUTPUT_PATH\n",
    "        }\n",
    "    )\n",
    "flowDefinitionArn = create_workflow_definition_response['FlowDefinitionArn'] # let's save this ARN for future use"
   ]
  },
  {
   "cell_type": "code",
   "execution_count": 45,
   "metadata": {},
   "outputs": [
    {
     "name": "stdout",
     "output_type": "stream",
     "text": [
      "Initializing\n",
      "Active\n",
      "Flow Definition is active\n"
     ]
    }
   ],
   "source": [
    "# Describe flow definition - status should be active\n",
    "for x in range(60):\n",
    "    describeFlowDefinitionResponse = sagemaker_client.describe_flow_definition(FlowDefinitionName=flowDefinitionName)\n",
    "    print(describeFlowDefinitionResponse['FlowDefinitionStatus'])\n",
    "    if (describeFlowDefinitionResponse['FlowDefinitionStatus'] == 'Active'):\n",
    "        print(\"Flow Definition is active\")\n",
    "        break\n",
    "    time.sleep(2)"
   ]
  },
  {
   "cell_type": "markdown",
   "metadata": {},
   "source": [
    "### Create SQS queue and pass a2i task status change event to the queue\n",
    "<a id=\"sqs_a2i\"></a>"
   ]
  },
  {
   "cell_type": "code",
   "execution_count": 28,
   "metadata": {},
   "outputs": [
    {
     "name": "stdout",
     "output_type": "stream",
     "text": [
      "https://us-west-2.queue.amazonaws.com/355444812467/a2itasks\n"
     ]
    }
   ],
   "source": [
    "sqs = boto3.resource('sqs')\n",
    "queue_name = 'a2itasks'\n",
    "queue_arn = \"arn:aws:sqs:{}:{}:{}\".format(region, account_id, queue_name)\n",
    "\n",
    "policy = '''{\n",
    "            \"Version\": \"2012-10-17\",\n",
    "            \"Id\": \"MyQueuePolicy\",\n",
    "            \"Statement\": [{                     \n",
    "                    \"Effect\": \"Allow\",\n",
    "                    \"Principal\": {\n",
    "                            \"Service\": [\"events.amazonaws.com\",\n",
    "                            \"sqs.amazonaws.com\"]\n",
    "                    },\n",
    "                    \"Action\": \"sqs:SendMessage\"\n",
    "            }]}'''\n",
    "policy_obj = json.loads(policy)\n",
    "policy_obj['Statement'][0]['Resource'] = queue_arn\n",
    "policy = json.dumps(policy_obj)\n",
    "\n",
    "# queue = sqs.create_queue(QueueName=queue_name, Attributes={'DelaySeconds': '0',\n",
    "#                                                                 'Policy': policy})\n",
    "queue = sqs.get_queue_by_name(QueueName=queue_name)\n",
    "print(queue.url)\n"
   ]
  },
  {
   "cell_type": "code",
   "execution_count": 29,
   "metadata": {},
   "outputs": [
    {
     "data": {
      "text/plain": [
       "{'ResponseMetadata': {'RequestId': '415f78a2-2d9d-5e85-8bf7-21ce7ca9d0ad',\n",
       "  'HTTPStatusCode': 200,\n",
       "  'HTTPHeaders': {'x-amzn-requestid': '415f78a2-2d9d-5e85-8bf7-21ce7ca9d0ad',\n",
       "   'date': 'Sat, 17 Jul 2021 03:31:00 GMT',\n",
       "   'content-type': 'text/xml',\n",
       "   'content-length': '215'},\n",
       "  'RetryAttempts': 0}}"
      ]
     },
     "execution_count": 29,
     "metadata": {},
     "output_type": "execute_result"
    }
   ],
   "source": [
    "sqs_client = boto3.client('sqs')\n",
    "\n",
    "sqs_client.add_permission(\n",
    "    QueueUrl=queue.url,\n",
    "    Label=\"a2i\",\n",
    "    AWSAccountIds=[\n",
    "        account_id,\n",
    "    ],\n",
    "    Actions=[\n",
    "        'SendMessage',\n",
    "    ]\n",
    ")"
   ]
  },
  {
   "cell_type": "code",
   "execution_count": 31,
   "metadata": {},
   "outputs": [
    {
     "name": "stdout",
     "output_type": "stream",
     "text": [
      "arn:aws:iam::355444812467:role/AmazonSageMaker-SageMakerExecutionRole\n"
     ]
    }
   ],
   "source": [
    "iam = boto3.client(\"iam\")\n",
    "\n",
    "role_name = \"AmazonSageMaker-SageMakerExecutionRole\"\n",
    "assume_role_policy_document = {\n",
    "    \"Version\": \"2012-10-17\",\n",
    "    \"Statement\": [\n",
    "        {\n",
    "          \"Effect\": \"Allow\",\n",
    "          \"Principal\": {\n",
    "            \"Service\": [\"sagemaker.amazonaws.com\", \"events.amazonaws.com\"]\n",
    "          },\n",
    "          \"Action\": \"sts:AssumeRole\"\n",
    "        }\n",
    "    ]\n",
    "}\n",
    "\n",
    "# create_role_response = iam.create_role(\n",
    "#     RoleName = role_name,\n",
    "#     AssumeRolePolicyDocument = json.dumps(assume_role_policy_document)\n",
    "# )\n",
    "\n",
    "\n",
    "# Now add S3 support\n",
    "iam.attach_role_policy(\n",
    "    PolicyArn='arn:aws:iam::aws:policy/AmazonS3FullAccess',\n",
    "    RoleName=role_name\n",
    ")\n",
    "time.sleep(60) # wait for a minute to allow IAM role policy attachment to propagate\n",
    "\n",
    "# sm_role_arn = create_role_response[\"Role\"][\"Arn\"]\n",
    "\n",
    "sm_role_arn = 'arn:aws:iam::355444812467:role/AmazonSageMaker-SageMakerExecutionRole'\n",
    "print(sm_role_arn)"
   ]
  },
  {
   "cell_type": "code",
   "execution_count": 33,
   "metadata": {},
   "outputs": [
    {
     "name": "stdout",
     "output_type": "stream",
     "text": [
      "{\n",
      "    \"RuleArn\": \"arn:aws:events:us-west-2:355444812467:rule/A2IHumanLoopStatusChanges\"\n",
      "}\n"
     ]
    }
   ],
   "source": [
    "%%bash  -s \"$sm_role_arn\" \"$my_region\" \n",
    "aws events put-rule --name \"A2IHumanLoopStatusChanges\" \\\n",
    "    --event-pattern \"{\\\"source\\\":[\\\"aws.sagemaker\\\"],\\\"detail-type\\\":[\\\"SageMaker A2I HumanLoop Status Change\\\"]}\" \\\n",
    "    --role-arn \"$1\" \\\n",
    "    --region $2 "
   ]
  },
  {
   "cell_type": "code",
   "execution_count": 35,
   "metadata": {},
   "outputs": [],
   "source": [
    "!sed \"s/<account_id>/$account_id/g\" targets-template.json > targets-tmp.json \n",
    "!sed \"s/<region>/$my_region/g\" targets-tmp.json  > targets.json "
   ]
  },
  {
   "cell_type": "code",
   "execution_count": 37,
   "metadata": {},
   "outputs": [
    {
     "name": "stdout",
     "output_type": "stream",
     "text": [
      "{\r\n",
      "    \"FailedEntryCount\": 0,\r\n",
      "    \"FailedEntries\": []\r\n",
      "}\r\n"
     ]
    }
   ],
   "source": [
    "!aws events put-targets --rule A2IHumanLoopStatusChanges \\\n",
    "--targets file://$PWD/targets.json"
   ]
  },
  {
   "cell_type": "markdown",
   "metadata": {},
   "source": [
    "#### Have newly created SQS queue as a target of the rule we just defined "
   ]
  },
  {
   "cell_type": "markdown",
   "metadata": {},
   "source": [
    "## Starting Human Loops"
   ]
  },
  {
   "cell_type": "markdown",
   "metadata": {},
   "source": [
    "Now that we have setup our Flow Definition, we are ready to call our object detection endpoint on SageMaker and start our human loops. In this tutorial, we are interested in starting a HumanLoop only if the highest prediction probability score returned by our model for objects detected is less than 50%. \n",
    "\n",
    "So, with a bit of logic, we can check the response for each call to the SageMaker endpoint using `load_and_predict` helper function, and if the highest score is less than 50%, we will kick off a HumanLoop to engage our workforce for a human review. "
   ]
  },
  {
   "cell_type": "code",
   "execution_count": 46,
   "metadata": {},
   "outputs": [
    {
     "name": "stdout",
     "output_type": "stream",
     "text": [
      "upload: audios/train_00010.wav to s3://sagemaker-us-west-2-355444812467/audios/train_00010.wav\n",
      "upload: audios/train_00021.wav to s3://sagemaker-us-west-2-355444812467/audios/train_00021.wav\n",
      "upload: audios/train_00001.wav to s3://sagemaker-us-west-2-355444812467/audios/train_00001.wav\n",
      "{\"label\": 0, \"probability\": [0.999336838722229, 1.1203339454368688e-05, 4.069593342137523e-05, 1.0619601198413875e-05, 0.000325192348100245, 8.879670531314332e-06, 1.770690687408205e-05, 2.0911184037686326e-05, 4.967172117176233e-06, 0.0002231001853942871]}\n",
      "s3://sagemaker-us-west-2-355444812467/audios/train_00001.wav\n",
      "{'ResponseMetadata': {'RequestId': 'fdb945a1-0244-49cc-9067-08bcf03e15b6', 'HTTPStatusCode': 201, 'HTTPHeaders': {'date': 'Sat, 17 Jul 2021 03:33:01 GMT', 'content-type': 'application/json; charset=UTF-8', 'content-length': '248', 'connection': 'keep-alive', 'x-amzn-requestid': 'fdb945a1-0244-49cc-9067-08bcf03e15b6', 'access-control-allow-origin': '*', 'x-amz-apigw-id': 'CmFZEF1rvHcFyvQ=', 'x-amzn-trace-id': 'Root=1-60f24f6d-293e666113ddf5c1419f150c'}, 'RetryAttempts': 0}, 'HumanLoopArn': 'arn:aws:sagemaker:us-west-2:355444812467:human-loop/761d3373-e905-4143-ab74-32d6761652e2'}\n",
      "Object detection Confidence Score of 0.999336838722229 is less than the threshold of 1.00\n",
      "Starting human loop with name: 761d3373-e905-4143-ab74-32d6761652e2  \n",
      "\n",
      "{\"label\": 0, \"probability\": [0.999336838722229, 1.1203339454368688e-05, 4.069593342137523e-05, 1.0619601198413875e-05, 0.000325192348100245, 8.879670531314332e-06, 1.770690687408205e-05, 2.0911184037686326e-05, 4.967172117176233e-06, 0.0002231001853942871]}\n",
      "s3://sagemaker-us-west-2-355444812467/audios/train_00010.wav\n",
      "{'ResponseMetadata': {'RequestId': '2b7a1b2c-58bc-45c2-908b-d9862ab908ee', 'HTTPStatusCode': 201, 'HTTPHeaders': {'date': 'Sat, 17 Jul 2021 03:33:02 GMT', 'content-type': 'application/json; charset=UTF-8', 'content-length': '248', 'connection': 'keep-alive', 'x-amzn-requestid': '2b7a1b2c-58bc-45c2-908b-d9862ab908ee', 'access-control-allow-origin': '*', 'x-amz-apigw-id': 'CmFZLGPDPHcF-OA=', 'x-amzn-trace-id': 'Root=1-60f24f6d-03f1583d15c98c326a350b2d'}, 'RetryAttempts': 0}, 'HumanLoopArn': 'arn:aws:sagemaker:us-west-2:355444812467:human-loop/1f5b7a5d-285d-4d31-b8e8-18d8325e515b'}\n",
      "Object detection Confidence Score of 0.999336838722229 is less than the threshold of 1.00\n",
      "Starting human loop with name: 1f5b7a5d-285d-4d31-b8e8-18d8325e515b  \n",
      "\n",
      "{\"label\": 0, \"probability\": [0.999336838722229, 1.1203339454368688e-05, 4.069593342137523e-05, 1.0619601198413875e-05, 0.000325192348100245, 8.879670531314332e-06, 1.770690687408205e-05, 2.0911184037686326e-05, 4.967172117176233e-06, 0.0002231001853942871]}\n",
      "s3://sagemaker-us-west-2-355444812467/audios/train_00021.wav\n",
      "{'ResponseMetadata': {'RequestId': 'd11bb117-2042-4202-b0e9-259954c26f0c', 'HTTPStatusCode': 201, 'HTTPHeaders': {'date': 'Sat, 17 Jul 2021 03:33:03 GMT', 'content-type': 'application/json; charset=UTF-8', 'content-length': '248', 'connection': 'keep-alive', 'x-amzn-requestid': 'd11bb117-2042-4202-b0e9-259954c26f0c', 'access-control-allow-origin': '*', 'x-amz-apigw-id': 'CmFZXEKpvHcF4TA=', 'x-amzn-trace-id': 'Root=1-60f24f6e-1b9d7e8900d603c67ebca73a'}, 'RetryAttempts': 0}, 'HumanLoopArn': 'arn:aws:sagemaker:us-west-2:355444812467:human-loop/ee105c8e-6bfb-4abf-a08e-82b8c8ea435e'}\n",
      "Object detection Confidence Score of 0.999336838722229 is less than the threshold of 1.00\n",
      "Starting human loop with name: ee105c8e-6bfb-4abf-a08e-82b8c8ea435e  \n",
      "\n"
     ]
    }
   ],
   "source": [
    "# Get the sample images to s3 bucket for a2i UI to display\n",
    "!aws s3 sync ./audios/ s3://{BUCKET}/audios/\n",
    "    \n",
    "human_loops_started = []\n",
    "SCORE_THRESHOLD = 1.0\n",
    "import json\n",
    "for fname in test_audios:\n",
    "    # Call SageMaker endpoint and not display any object detected with probability lower than 0.4.\n",
    "\n",
    "    # Sort by prediction score so that the first item has the highest probability\n",
    "    result, detections = load_and_predict(audio)\n",
    "    max_p = max(detections['probability']) \n",
    "\n",
    "    # Our condition for triggering a human review\n",
    "    if max_p < SCORE_THRESHOLD:\n",
    "        s3_fname='s3://%s/%s' % (BUCKET, fname)\n",
    "        print(s3_fname)\n",
    "        humanLoopName = str(uuid.uuid4())\n",
    "        inputContent = {\n",
    "            \"initialValue\": max_p,\n",
    "            \"taskObject\": s3_fname # the s3 object will be passed to the worker task UI to render\n",
    "        }\n",
    "        # start an a2i human review loop with an input\n",
    "        start_loop_response = a2i.start_human_loop(\n",
    "            HumanLoopName=humanLoopName,\n",
    "            FlowDefinitionArn=flowDefinitionArn,\n",
    "            HumanLoopInput={\n",
    "                \"InputContent\": json.dumps(inputContent)\n",
    "            }\n",
    "        )\n",
    "        print(start_loop_response)\n",
    "        human_loops_started.append(humanLoopName)\n",
    "        print(f'Object detection Confidence Score of %s is less than the threshold of %.2f' % (max_p, SCORE_THRESHOLD))\n",
    "        print(f'Starting human loop with name: {humanLoopName}  \\n')\n",
    "    else:\n",
    "        print(f'Object detection Confidence Score of %s is above than the threshold of %.2f' % (max_p, SCORE_THRESHOLD))\n",
    "        print('No human loop created. \\n')"
   ]
  },
  {
   "cell_type": "markdown",
   "metadata": {},
   "source": [
    "### Check Status of Human Loop"
   ]
  },
  {
   "cell_type": "code",
   "execution_count": 47,
   "metadata": {},
   "outputs": [
    {
     "name": "stdout",
     "output_type": "stream",
     "text": [
      "{'ResponseMetadata': {'RequestId': 'd85816aa-f812-4321-ab1b-5d28ca2746ca', 'HTTPStatusCode': 200, 'HTTPHeaders': {'date': 'Sat, 17 Jul 2021 03:33:34 GMT', 'content-type': 'application/json; charset=UTF-8', 'content-length': '819', 'connection': 'keep-alive', 'x-amzn-requestid': 'd85816aa-f812-4321-ab1b-5d28ca2746ca', 'access-control-allow-origin': '*', 'x-amz-apigw-id': 'CmFePETzPHcF-9A=', 'x-amzn-trace-id': 'Root=1-60f24f8e-24b06e004d2681ce493ef411'}, 'RetryAttempts': 0}, 'CreationTime': datetime.datetime(2021, 7, 17, 3, 33, 1, 185000, tzinfo=tzlocal()), 'HumanLoopStatus': 'Completed', 'HumanLoopName': '761d3373-e905-4143-ab74-32d6761652e2', 'HumanLoopArn': 'arn:aws:sagemaker:us-west-2:355444812467:human-loop/761d3373-e905-4143-ab74-32d6761652e2', 'FlowDefinitionArn': 'arn:aws:sagemaker:us-west-2:355444812467:flow-definition/fd-sagemaker-audio-classification-demo-2021-07-17-03-32-38', 'HumanLoopOutput': {'OutputS3Uri': 's3://sagemaker-us-west-2-355444812467/a2i-results/fd-sagemaker-audio-classification-demo-2021-07-17-03-32-38/2021/07/17/03/33/01/761d3373-e905-4143-ab74-32d6761652e2/output.json'}}\n",
      "HumanLoop Name: 761d3373-e905-4143-ab74-32d6761652e2\n",
      "HumanLoop Status: Completed\n",
      "HumanLoop Output Destination: {'OutputS3Uri': 's3://sagemaker-us-west-2-355444812467/a2i-results/fd-sagemaker-audio-classification-demo-2021-07-17-03-32-38/2021/07/17/03/33/01/761d3373-e905-4143-ab74-32d6761652e2/output.json'}\n",
      "\n",
      "\n",
      "{'ResponseMetadata': {'RequestId': '62a797e6-6dae-4354-9b42-f95370505f9a', 'HTTPStatusCode': 200, 'HTTPHeaders': {'date': 'Sat, 17 Jul 2021 03:33:34 GMT', 'content-type': 'application/json; charset=UTF-8', 'content-length': '819', 'connection': 'keep-alive', 'x-amzn-requestid': '62a797e6-6dae-4354-9b42-f95370505f9a', 'access-control-allow-origin': '*', 'x-amz-apigw-id': 'CmFeQE4oPHcFxPg=', 'x-amzn-trace-id': 'Root=1-60f24f8e-21346926011cbc2201587409'}, 'RetryAttempts': 0}, 'CreationTime': datetime.datetime(2021, 7, 17, 3, 33, 2, 244000, tzinfo=tzlocal()), 'HumanLoopStatus': 'Completed', 'HumanLoopName': '1f5b7a5d-285d-4d31-b8e8-18d8325e515b', 'HumanLoopArn': 'arn:aws:sagemaker:us-west-2:355444812467:human-loop/1f5b7a5d-285d-4d31-b8e8-18d8325e515b', 'FlowDefinitionArn': 'arn:aws:sagemaker:us-west-2:355444812467:flow-definition/fd-sagemaker-audio-classification-demo-2021-07-17-03-32-38', 'HumanLoopOutput': {'OutputS3Uri': 's3://sagemaker-us-west-2-355444812467/a2i-results/fd-sagemaker-audio-classification-demo-2021-07-17-03-32-38/2021/07/17/03/33/02/1f5b7a5d-285d-4d31-b8e8-18d8325e515b/output.json'}}\n",
      "HumanLoop Name: 1f5b7a5d-285d-4d31-b8e8-18d8325e515b\n",
      "HumanLoop Status: Completed\n",
      "HumanLoop Output Destination: {'OutputS3Uri': 's3://sagemaker-us-west-2-355444812467/a2i-results/fd-sagemaker-audio-classification-demo-2021-07-17-03-32-38/2021/07/17/03/33/02/1f5b7a5d-285d-4d31-b8e8-18d8325e515b/output.json'}\n",
      "\n",
      "\n",
      "{'ResponseMetadata': {'RequestId': '899b0b35-e683-4257-85d9-84e6053e4b2b', 'HTTPStatusCode': 200, 'HTTPHeaders': {'date': 'Sat, 17 Jul 2021 03:33:34 GMT', 'content-type': 'application/json; charset=UTF-8', 'content-length': '819', 'connection': 'keep-alive', 'x-amzn-requestid': '899b0b35-e683-4257-85d9-84e6053e4b2b', 'access-control-allow-origin': '*', 'x-amz-apigw-id': 'CmFeRGArvHcF_MQ=', 'x-amzn-trace-id': 'Root=1-60f24f8e-00c34a2c37c0539111f127f0'}, 'RetryAttempts': 0}, 'CreationTime': datetime.datetime(2021, 7, 17, 3, 33, 3, 110000, tzinfo=tzlocal()), 'HumanLoopStatus': 'Completed', 'HumanLoopName': 'ee105c8e-6bfb-4abf-a08e-82b8c8ea435e', 'HumanLoopArn': 'arn:aws:sagemaker:us-west-2:355444812467:human-loop/ee105c8e-6bfb-4abf-a08e-82b8c8ea435e', 'FlowDefinitionArn': 'arn:aws:sagemaker:us-west-2:355444812467:flow-definition/fd-sagemaker-audio-classification-demo-2021-07-17-03-32-38', 'HumanLoopOutput': {'OutputS3Uri': 's3://sagemaker-us-west-2-355444812467/a2i-results/fd-sagemaker-audio-classification-demo-2021-07-17-03-32-38/2021/07/17/03/33/03/ee105c8e-6bfb-4abf-a08e-82b8c8ea435e/output.json'}}\n",
      "HumanLoop Name: ee105c8e-6bfb-4abf-a08e-82b8c8ea435e\n",
      "HumanLoop Status: Completed\n",
      "HumanLoop Output Destination: {'OutputS3Uri': 's3://sagemaker-us-west-2-355444812467/a2i-results/fd-sagemaker-audio-classification-demo-2021-07-17-03-32-38/2021/07/17/03/33/03/ee105c8e-6bfb-4abf-a08e-82b8c8ea435e/output.json'}\n",
      "\n",
      "\n"
     ]
    }
   ],
   "source": [
    "completed_human_loops = []\n",
    "for human_loop_name in human_loops_started:\n",
    "    resp = a2i.describe_human_loop(HumanLoopName=human_loop_name)\n",
    "    print(resp) \n",
    "    print(f'HumanLoop Name: {human_loop_name}')\n",
    "    print(f'HumanLoop Status: {resp[\"HumanLoopStatus\"]}')\n",
    "    print(f'HumanLoop Output Destination: {resp[\"HumanLoopOutput\"]}')\n",
    "    print('\\n')\n",
    "    \n",
    "    if resp[\"HumanLoopStatus\"] == \"Completed\":\n",
    "        completed_human_loops.append(resp)"
   ]
  },
  {
   "cell_type": "markdown",
   "metadata": {},
   "source": [
    "### Wait For Workers to Complete Task\n",
    "Since we are using private workteam, we should go to the labling UI to perform the inspection ourselves."
   ]
  },
  {
   "cell_type": "code",
   "execution_count": 48,
   "metadata": {},
   "outputs": [
    {
     "name": "stdout",
     "output_type": "stream",
     "text": [
      "Navigate to the private worker portal and do the tasks. Make sure you've invited yourself to your workteam!\n",
      "https://80w77ljpao.labeling.us-west-2.sagemaker.aws\n"
     ]
    }
   ],
   "source": [
    "workteamName = WORKTEAM_ARN[WORKTEAM_ARN.rfind('/') + 1:]\n",
    "print(\"Navigate to the private worker portal and do the tasks. Make sure you've invited yourself to your workteam!\")\n",
    "print('https://' + sagemaker_client.describe_workteam(WorkteamName=workteamName)['Workteam']['SubDomain'])"
   ]
  },
  {
   "cell_type": "code",
   "execution_count": 49,
   "metadata": {},
   "outputs": [
    {
     "name": "stdout",
     "output_type": "stream",
     "text": [
      "{'ResponseMetadata': {'RequestId': 'b9d62bd2-d2d3-419b-ad02-2ff96c7448d1', 'HTTPStatusCode': 200, 'HTTPHeaders': {'date': 'Sat, 17 Jul 2021 03:33:38 GMT', 'content-type': 'application/json; charset=UTF-8', 'content-length': '819', 'connection': 'keep-alive', 'x-amzn-requestid': 'b9d62bd2-d2d3-419b-ad02-2ff96c7448d1', 'access-control-allow-origin': '*', 'x-amz-apigw-id': 'CmFe8ElJvHcF1rA=', 'x-amzn-trace-id': 'Root=1-60f24f92-3254402831e06a5432b71405'}, 'RetryAttempts': 0}, 'CreationTime': datetime.datetime(2021, 7, 17, 3, 33, 1, 185000, tzinfo=tzlocal()), 'HumanLoopStatus': 'Completed', 'HumanLoopName': '761d3373-e905-4143-ab74-32d6761652e2', 'HumanLoopArn': 'arn:aws:sagemaker:us-west-2:355444812467:human-loop/761d3373-e905-4143-ab74-32d6761652e2', 'FlowDefinitionArn': 'arn:aws:sagemaker:us-west-2:355444812467:flow-definition/fd-sagemaker-audio-classification-demo-2021-07-17-03-32-38', 'HumanLoopOutput': {'OutputS3Uri': 's3://sagemaker-us-west-2-355444812467/a2i-results/fd-sagemaker-audio-classification-demo-2021-07-17-03-32-38/2021/07/17/03/33/01/761d3373-e905-4143-ab74-32d6761652e2/output.json'}}\n",
      "HumanLoop Name: 761d3373-e905-4143-ab74-32d6761652e2\n",
      "HumanLoop Status: Completed\n",
      "HumanLoop Output Destination: {'OutputS3Uri': 's3://sagemaker-us-west-2-355444812467/a2i-results/fd-sagemaker-audio-classification-demo-2021-07-17-03-32-38/2021/07/17/03/33/01/761d3373-e905-4143-ab74-32d6761652e2/output.json'}\n",
      "\n",
      "\n",
      "{'ResponseMetadata': {'RequestId': '4b00de9d-be5b-4305-8acd-e2e3867858bd', 'HTTPStatusCode': 200, 'HTTPHeaders': {'date': 'Sat, 17 Jul 2021 03:33:38 GMT', 'content-type': 'application/json; charset=UTF-8', 'content-length': '819', 'connection': 'keep-alive', 'x-amzn-requestid': '4b00de9d-be5b-4305-8acd-e2e3867858bd', 'access-control-allow-origin': '*', 'x-amz-apigw-id': 'CmFe-FZMPHcF2ag=', 'x-amzn-trace-id': 'Root=1-60f24f92-45c50197760764483047a632'}, 'RetryAttempts': 0}, 'CreationTime': datetime.datetime(2021, 7, 17, 3, 33, 2, 244000, tzinfo=tzlocal()), 'HumanLoopStatus': 'Completed', 'HumanLoopName': '1f5b7a5d-285d-4d31-b8e8-18d8325e515b', 'HumanLoopArn': 'arn:aws:sagemaker:us-west-2:355444812467:human-loop/1f5b7a5d-285d-4d31-b8e8-18d8325e515b', 'FlowDefinitionArn': 'arn:aws:sagemaker:us-west-2:355444812467:flow-definition/fd-sagemaker-audio-classification-demo-2021-07-17-03-32-38', 'HumanLoopOutput': {'OutputS3Uri': 's3://sagemaker-us-west-2-355444812467/a2i-results/fd-sagemaker-audio-classification-demo-2021-07-17-03-32-38/2021/07/17/03/33/02/1f5b7a5d-285d-4d31-b8e8-18d8325e515b/output.json'}}\n",
      "HumanLoop Name: 1f5b7a5d-285d-4d31-b8e8-18d8325e515b\n",
      "HumanLoop Status: Completed\n",
      "HumanLoop Output Destination: {'OutputS3Uri': 's3://sagemaker-us-west-2-355444812467/a2i-results/fd-sagemaker-audio-classification-demo-2021-07-17-03-32-38/2021/07/17/03/33/02/1f5b7a5d-285d-4d31-b8e8-18d8325e515b/output.json'}\n",
      "\n",
      "\n",
      "{'ResponseMetadata': {'RequestId': 'cc1b0a5a-c32a-4635-8205-f96ca07ad13e', 'HTTPStatusCode': 200, 'HTTPHeaders': {'date': 'Sat, 17 Jul 2021 03:33:39 GMT', 'content-type': 'application/json; charset=UTF-8', 'content-length': '819', 'connection': 'keep-alive', 'x-amzn-requestid': 'cc1b0a5a-c32a-4635-8205-f96ca07ad13e', 'access-control-allow-origin': '*', 'x-amz-apigw-id': 'CmFe_FWNPHcFzMg=', 'x-amzn-trace-id': 'Root=1-60f24f92-2e90d20a08adc94c671c6e17'}, 'RetryAttempts': 0}, 'CreationTime': datetime.datetime(2021, 7, 17, 3, 33, 3, 110000, tzinfo=tzlocal()), 'HumanLoopStatus': 'Completed', 'HumanLoopName': 'ee105c8e-6bfb-4abf-a08e-82b8c8ea435e', 'HumanLoopArn': 'arn:aws:sagemaker:us-west-2:355444812467:human-loop/ee105c8e-6bfb-4abf-a08e-82b8c8ea435e', 'FlowDefinitionArn': 'arn:aws:sagemaker:us-west-2:355444812467:flow-definition/fd-sagemaker-audio-classification-demo-2021-07-17-03-32-38', 'HumanLoopOutput': {'OutputS3Uri': 's3://sagemaker-us-west-2-355444812467/a2i-results/fd-sagemaker-audio-classification-demo-2021-07-17-03-32-38/2021/07/17/03/33/03/ee105c8e-6bfb-4abf-a08e-82b8c8ea435e/output.json'}}\n",
      "HumanLoop Name: ee105c8e-6bfb-4abf-a08e-82b8c8ea435e\n",
      "HumanLoop Status: Completed\n",
      "HumanLoop Output Destination: {'OutputS3Uri': 's3://sagemaker-us-west-2-355444812467/a2i-results/fd-sagemaker-audio-classification-demo-2021-07-17-03-32-38/2021/07/17/03/33/03/ee105c8e-6bfb-4abf-a08e-82b8c8ea435e/output.json'}\n",
      "\n",
      "\n"
     ]
    }
   ],
   "source": [
    "completed_human_loops = []\n",
    "for human_loop_name in human_loops_started:\n",
    "    resp = a2i.describe_human_loop(HumanLoopName=human_loop_name)\n",
    "    print(resp) \n",
    "    print(f'HumanLoop Name: {human_loop_name}')\n",
    "    print(f'HumanLoop Status: {resp[\"HumanLoopStatus\"]}')\n",
    "    print(f'HumanLoop Output Destination: {resp[\"HumanLoopOutput\"]}')\n",
    "    print('\\n')\n",
    "    \n",
    "    if resp[\"HumanLoopStatus\"] == \"Completed\":\n",
    "        completed_human_loops.append(resp)"
   ]
  },
  {
   "cell_type": "markdown",
   "metadata": {},
   "source": [
    "### Collect data from a2i to build the training data for the next round "
   ]
  },
  {
   "cell_type": "code",
   "execution_count": 50,
   "metadata": {},
   "outputs": [
    {
     "data": {
      "text/plain": [
       "'https://us-west-2.queue.amazonaws.com/355444812467/a2itasks'"
      ]
     },
     "execution_count": 50,
     "metadata": {},
     "output_type": "execute_result"
    }
   ],
   "source": [
    "queue.url"
   ]
  },
  {
   "cell_type": "code",
   "execution_count": 106,
   "metadata": {},
   "outputs": [
    {
     "name": "stdout",
     "output_type": "stream",
     "text": [
      "[('bb4f0a36-20d7-4003-b1af-a00239af85a4', 's3://sagemaker-us-west-2-355444812467/a2i-results/fd-sagemaker-audio-classification-demo-2021-07-17-02-03-03/2021/07/17/03/40/37/bb4f0a36-20d7-4003-b1af-a00239af85a4/output.json'), ('086bef32-0281-4e1f-bca7-54ae3e0ceb8e', 's3://sagemaker-us-west-2-355444812467/a2i-results/fd-sagemaker-audio-classification-demo-2021-07-17-02-03-03/2021/07/17/03/18/41/086bef32-0281-4e1f-bca7-54ae3e0ceb8e/output.json'), ('6c656b22-b15f-4bce-8bcf-766087042042', 's3://sagemaker-us-west-2-355444812467/a2i-results/fd-sagemaker-audio-classification-demo-2021-07-17-02-03-03/2021/07/17/03/47/13/6c656b22-b15f-4bce-8bcf-766087042042/output.json'), ('88697bd6-cf8e-4584-9cc8-b0c81473232c', 's3://sagemaker-us-west-2-355444812467/a2i-results/fd-sagemaker-audio-classification-demo-2021-07-17-02-03-03/2021/07/17/03/00/32/88697bd6-cf8e-4584-9cc8-b0c81473232c/output.json'), ('ed608df8-9f26-4e42-ae69-c9eddcad84c3', 's3://sagemaker-us-west-2-355444812467/a2i-results/fd-sagemaker-audio-classification-demo-2021-07-17-02-03-03/2021/07/17/02/42/11/ed608df8-9f26-4e42-ae69-c9eddcad84c3/output.json'), ('92f1b24c-8b3f-417c-b9b4-a865d44fc0d3', 's3://sagemaker-us-west-2-355444812467/a2i-results/fd-sagemaker-audio-classification-demo-2021-07-17-02-03-03/2021/07/17/03/42/55/92f1b24c-8b3f-417c-b9b4-a865d44fc0d3/output.json'), ('6796bd83-908c-46e1-b7b3-b14b82e13014', 's3://sagemaker-us-west-2-355444812467/a2i-results/fd-sagemaker-audio-classification-demo-2021-07-17-02-03-03/2021/07/17/02/54/12/6796bd83-908c-46e1-b7b3-b14b82e13014/output.json'), ('e843396e-f7d2-4d2b-8967-9765e26c421d', 's3://sagemaker-us-west-2-355444812467/a2i-results/fd-sagemaker-audio-classification-demo-2021-07-17-02-03-03/2021/07/17/03/46/09/e843396e-f7d2-4d2b-8967-9765e26c421d/output.json'), ('54e1c8b7-0166-4c71-9c7f-81d937168ca5', 's3://sagemaker-us-west-2-355444812467/a2i-results/fd-sagemaker-audio-classification-demo-2021-07-17-02-03-03/2021/07/17/03/13/35/54e1c8b7-0166-4c71-9c7f-81d937168ca5/output.json'), ('dbfa0a1a-7311-4646-aef3-9bd11215780f', 's3://sagemaker-us-west-2-355444812467/a2i-results/fd-sagemaker-audio-classification-demo-2021-07-17-02-03-03/2021/07/17/03/36/45/dbfa0a1a-7311-4646-aef3-9bd11215780f/output.json'), ('902ff03a-65a1-4f73-8094-c0e4dff13bb1', 's3://sagemaker-us-west-2-355444812467/a2i-results/fd-sagemaker-audio-classification-demo-2021-07-17-02-03-03/2021/07/17/02/49/40/902ff03a-65a1-4f73-8094-c0e4dff13bb1/output.json'), ('b61704b7-2d18-4fe9-90a1-6ed6480b0d15', 's3://sagemaker-us-west-2-355444812467/a2i-results/fd-sagemaker-audio-classification-demo-2021-07-17-02-03-03/2021/07/17/02/48/08/b61704b7-2d18-4fe9-90a1-6ed6480b0d15/output.json'), ('51b07128-0c80-4ed1-9210-ad2ed7edf5b3', 's3://sagemaker-us-west-2-355444812467/a2i-results/fd-sagemaker-audio-classification-demo-2021-07-17-02-03-03/2021/07/17/03/35/31/51b07128-0c80-4ed1-9210-ad2ed7edf5b3/output.json'), ('ceb20ef1-f03b-4033-a3d9-b4a113f83dc7', 's3://sagemaker-us-west-2-355444812467/a2i-results/fd-sagemaker-audio-classification-demo-2021-07-17-02-03-03/2021/07/17/03/44/11/ceb20ef1-f03b-4033-a3d9-b4a113f83dc7/output.json'), ('12c51f7c-244c-406d-b61f-7ae89fdaec21', 's3://sagemaker-us-west-2-355444812467/a2i-results/fd-sagemaker-audio-classification-demo-2021-07-17-02-03-03/2021/07/17/02/34/25/12c51f7c-244c-406d-b61f-7ae89fdaec21/output.json'), ('ca225ed6-1fe6-421c-b7a1-9eeaa3b243bc', 's3://sagemaker-us-west-2-355444812467/a2i-results/fd-sagemaker-audio-classification-demo-2021-07-17-02-03-03/2021/07/17/02/56/50/ca225ed6-1fe6-421c-b7a1-9eeaa3b243bc/output.json'), ('6fbb7391-0444-4400-abc5-cb396ba5d70a', 's3://sagemaker-us-west-2-355444812467/a2i-results/fd-sagemaker-audio-classification-demo-2021-07-17-02-03-03/2021/07/17/02/50/28/6fbb7391-0444-4400-abc5-cb396ba5d70a/output.json'), ('1a39a8a1-354a-4bf5-a018-e27e7b10e17c', 's3://sagemaker-us-west-2-355444812467/a2i-results/fd-sagemaker-audio-classification-demo-2021-07-17-02-03-03/2021/07/17/03/32/14/1a39a8a1-354a-4bf5-a018-e27e7b10e17c/output.json'), ('4a90438d-ae32-42ae-ab1a-9c0142d80a56', 's3://sagemaker-us-west-2-355444812467/a2i-results/fd-sagemaker-audio-classification-demo-2021-07-17-02-03-03/2021/07/17/03/25/24/4a90438d-ae32-42ae-ab1a-9c0142d80a56/output.json'), ('3a71ffbc-01b1-43c1-a9e2-771e6fab8f16', 's3://sagemaker-us-west-2-355444812467/a2i-results/fd-sagemaker-audio-classification-demo-2021-07-17-02-03-03/2021/07/17/03/01/43/3a71ffbc-01b1-43c1-a9e2-771e6fab8f16/output.json'), ('dd8b011a-fa8f-409a-b5f6-a0c1c445e65a', 's3://sagemaker-us-west-2-355444812467/a2i-results/fd-sagemaker-audio-classification-demo-2021-07-17-02-03-03/2021/07/17/03/37/11/dd8b011a-fa8f-409a-b5f6-a0c1c445e65a/output.json'), ('eb80bb16-2190-4423-857c-27e0df7c9042', 's3://sagemaker-us-west-2-355444812467/a2i-results/fd-sagemaker-audio-classification-demo-2021-07-17-02-03-03/2021/07/17/03/36/25/eb80bb16-2190-4423-857c-27e0df7c9042/output.json'), ('426b7113-8d9b-45e4-b91f-03474e62db59', 's3://sagemaker-us-west-2-355444812467/a2i-results/fd-sagemaker-audio-classification-demo-2021-07-17-02-03-03/2021/07/17/03/39/15/426b7113-8d9b-45e4-b91f-03474e62db59/output.json'), ('ffcfe7e5-5e19-452f-9d96-58bd36f8616d', 's3://sagemaker-us-west-2-355444812467/a2i-results/fd-sagemaker-audio-classification-demo-2021-07-17-02-03-03/2021/07/17/03/35/21/ffcfe7e5-5e19-452f-9d96-58bd36f8616d/output.json'), ('587f37f3-3bc2-4d28-aec9-4652c3ae5e39', 's3://sagemaker-us-west-2-355444812467/a2i-results/fd-sagemaker-audio-classification-demo-2021-07-17-02-03-03/2021/07/17/03/01/38/587f37f3-3bc2-4d28-aec9-4652c3ae5e39/output.json'), ('747dc8f4-89cb-445f-b234-20d8e8d2461e', 's3://sagemaker-us-west-2-355444812467/a2i-results/fd-sagemaker-audio-classification-demo-2021-07-17-02-03-03/2021/07/17/03/39/01/747dc8f4-89cb-445f-b234-20d8e8d2461e/output.json'), ('f5a4d6e2-b4ac-42b2-86e3-2d602631263a', 's3://sagemaker-us-west-2-355444812467/a2i-results/fd-sagemaker-audio-classification-demo-2021-07-17-02-03-03/2021/07/17/03/37/13/f5a4d6e2-b4ac-42b2-86e3-2d602631263a/output.json'), ('0994fae4-41e4-4665-9e78-6684a2af7d3c', 's3://sagemaker-us-west-2-355444812467/a2i-results/fd-sagemaker-audio-classification-demo-2021-07-17-02-03-03/2021/07/17/03/34/31/0994fae4-41e4-4665-9e78-6684a2af7d3c/output.json'), ('c17704e7-25ef-4c2c-a264-adff19beebfb', 's3://sagemaker-us-west-2-355444812467/a2i-results/fd-sagemaker-audio-classification-demo-2021-07-17-02-03-03/2021/07/17/02/37/15/c17704e7-25ef-4c2c-a264-adff19beebfb/output.json'), ('e55247e6-72c1-42ce-8a5c-77afc51bfeb6', 's3://sagemaker-us-west-2-355444812467/a2i-results/fd-sagemaker-audio-classification-demo-2021-07-17-02-03-03/2021/07/17/03/13/23/e55247e6-72c1-42ce-8a5c-77afc51bfeb6/output.json'), ('f80f61e3-f87f-4181-b8d6-7640cfa35d0f', 's3://sagemaker-us-west-2-355444812467/a2i-results/fd-sagemaker-audio-classification-demo-2021-07-17-02-03-03/2021/07/17/03/05/55/f80f61e3-f87f-4181-b8d6-7640cfa35d0f/output.json'), ('e905fe12-60fb-46c6-bb30-037bf6ac59d1', 's3://sagemaker-us-west-2-355444812467/a2i-results/fd-sagemaker-audio-classification-demo-2021-07-17-02-03-03/2021/07/17/03/10/23/e905fe12-60fb-46c6-bb30-037bf6ac59d1/output.json'), ('789ceae7-cfb0-49f4-9477-6c1b405372e0', 's3://sagemaker-us-west-2-355444812467/a2i-results/fd-sagemaker-audio-classification-demo-2021-07-17-02-03-03/2021/07/17/03/38/45/789ceae7-cfb0-49f4-9477-6c1b405372e0/output.json'), ('15eb082d-14d8-4a36-afab-9d5a9ead2062', 's3://sagemaker-us-west-2-355444812467/a2i-results/fd-sagemaker-audio-classification-demo-2021-07-17-02-03-03/2021/07/17/03/49/33/15eb082d-14d8-4a36-afab-9d5a9ead2062/output.json'), ('19381b8c-7948-4cdc-87fb-d02371839062', 's3://sagemaker-us-west-2-355444812467/a2i-results/fd-sagemaker-audio-classification-demo-2021-07-17-02-03-03/2021/07/17/03/52/44/19381b8c-7948-4cdc-87fb-d02371839062/output.json'), ('a208c264-b400-4b9f-a80d-1e2f51b96433', 's3://sagemaker-us-west-2-355444812467/a2i-results/fd-sagemaker-audio-classification-demo-2021-07-17-02-03-03/2021/07/17/03/36/47/a208c264-b400-4b9f-a80d-1e2f51b96433/output.json'), ('b67d3200-e12d-487f-b891-5b4594763f14', 's3://sagemaker-us-west-2-355444812467/a2i-results/fd-sagemaker-audio-classification-demo-2021-07-17-02-03-03/2021/07/17/03/43/33/b67d3200-e12d-487f-b891-5b4594763f14/output.json'), ('3de381f5-1720-4c1a-96df-246f4f34f937', 's3://sagemaker-us-west-2-355444812467/a2i-results/fd-sagemaker-audio-classification-demo-2021-07-17-02-03-03/2021/07/17/03/38/55/3de381f5-1720-4c1a-96df-246f4f34f937/output.json')]\n"
     ]
    }
   ],
   "source": [
    "sqs = boto3.client('sqs')\n",
    "completed_human_loops = []\n",
    "while True: \n",
    "    response = sqs.receive_message(\n",
    "        QueueUrl=queue.url,\n",
    "\n",
    "        MaxNumberOfMessages=10,\n",
    "        MessageAttributeNames=[\n",
    "            'All'\n",
    "        ],\n",
    "        VisibilityTimeout=10,\n",
    "        WaitTimeSeconds=0\n",
    "    )\n",
    "    if 'Messages' not in response: \n",
    "        break \n",
    "    messages = response['Messages']\n",
    "\n",
    "    for m in messages: \n",
    "        task = json.loads(m['Body'])['detail']\n",
    "        name = task['humanLoopName']\n",
    "        output_s3 = task['humanLoopOutput']['outputS3Uri']\n",
    "        completed_human_loops.append((name, output_s3))\n",
    "        receipt_handle = m['ReceiptHandle']\n",
    "\n",
    "        # Delete received message from queue\n",
    "        sqs.delete_message(\n",
    "            QueueUrl=queue.url,\n",
    "            ReceiptHandle=receipt_handle\n",
    "        )\n",
    "    \n",
    "print(completed_human_loops)"
   ]
  },
  {
   "cell_type": "markdown",
   "metadata": {},
   "source": [
    "### View Task Results  "
   ]
  },
  {
   "cell_type": "markdown",
   "metadata": {},
   "source": [
    "Once work is completed, Amazon A2I stores results in your S3 bucket and sends a Cloudwatch event. Your results should be available in the S3 OUTPUT_PATH when all work is completed. Note that the human answer, the label and the bounding box, is returned and saved in the json file."
   ]
  },
  {
   "cell_type": "code",
   "execution_count": 107,
   "metadata": {},
   "outputs": [
    {
     "name": "stdout",
     "output_type": "stream",
     "text": [
      "{   'flowDefinitionArn': 'arn:aws:sagemaker:us-west-2:355444812467:flow-definition/fd-sagemaker-audio-classification-demo-2021-07-17-02-03-03',\n",
      "    'humanAnswers': [   {   'acceptanceTime': '2021-07-17T03:47:58.469Z',\n",
      "                            'answerContent': {'sentiment': {'label': 'Other'}},\n",
      "                            'submissionTime': '2021-07-17T03:48:04.426Z',\n",
      "                            'timeSpentInSeconds': 5.957,\n",
      "                            'workerId': 'ec24e95d77c7c040',\n",
      "                            'workerMetadata': {   'identityData': {   'identityProviderType': 'Cognito',\n",
      "                                                                      'issuer': 'https://cognito-idp.us-west-2.amazonaws.com/us-west-2_9iI2T8Z22',\n",
      "                                                                      'sub': 'c138e2f0-d140-4ed8-8c98-16ed048e51ed'}}}],\n",
      "    'humanLoopName': 'bb4f0a36-20d7-4003-b1af-a00239af85a4',\n",
      "    'inputContent': {   'initialValue': 0.9991849064826965,\n",
      "                        'taskObject': 's3://sagemaker-us-west-2-355444812467/a2i-demo/bb4f0a36-20d7-4003-b1af-a00239af85a4.wav'}}\n",
      "\n",
      "\n",
      "{   'flowDefinitionArn': 'arn:aws:sagemaker:us-west-2:355444812467:flow-definition/fd-sagemaker-audio-classification-demo-2021-07-17-02-03-03',\n",
      "    'humanAnswers': [   {   'acceptanceTime': '2021-07-17T03:50:11.780Z',\n",
      "                            'answerContent': {   'sentiment': {   'label': 'Barking'}},\n",
      "                            'submissionTime': '2021-07-17T03:50:18.387Z',\n",
      "                            'timeSpentInSeconds': 6.607,\n",
      "                            'workerId': 'ec24e95d77c7c040',\n",
      "                            'workerMetadata': {   'identityData': {   'identityProviderType': 'Cognito',\n",
      "                                                                      'issuer': 'https://cognito-idp.us-west-2.amazonaws.com/us-west-2_9iI2T8Z22',\n",
      "                                                                      'sub': 'c138e2f0-d140-4ed8-8c98-16ed048e51ed'}}}],\n",
      "    'humanLoopName': '086bef32-0281-4e1f-bca7-54ae3e0ceb8e',\n",
      "    'inputContent': {   'initialValue': 0.5979048013687134,\n",
      "                        'taskObject': 's3://sagemaker-us-west-2-355444812467/a2i-demo/086bef32-0281-4e1f-bca7-54ae3e0ceb8e.wav'}}\n",
      "\n",
      "\n",
      "{   'flowDefinitionArn': 'arn:aws:sagemaker:us-west-2:355444812467:flow-definition/fd-sagemaker-audio-classification-demo-2021-07-17-02-03-03',\n",
      "    'humanAnswers': [   {   'acceptanceTime': '2021-07-17T03:55:47.397Z',\n",
      "                            'answerContent': {   'sentiment': {   'label': 'Barking'}},\n",
      "                            'submissionTime': '2021-07-17T03:56:01.283Z',\n",
      "                            'timeSpentInSeconds': 13.886,\n",
      "                            'workerId': 'ec24e95d77c7c040',\n",
      "                            'workerMetadata': {   'identityData': {   'identityProviderType': 'Cognito',\n",
      "                                                                      'issuer': 'https://cognito-idp.us-west-2.amazonaws.com/us-west-2_9iI2T8Z22',\n",
      "                                                                      'sub': 'c138e2f0-d140-4ed8-8c98-16ed048e51ed'}}}],\n",
      "    'humanLoopName': '6c656b22-b15f-4bce-8bcf-766087042042',\n",
      "    'inputContent': {   'initialValue': 0.6901246905326843,\n",
      "                        'taskObject': 's3://sagemaker-us-west-2-355444812467/a2i-demo/6c656b22-b15f-4bce-8bcf-766087042042.wav'}}\n",
      "\n",
      "\n",
      "{   'flowDefinitionArn': 'arn:aws:sagemaker:us-west-2:355444812467:flow-definition/fd-sagemaker-audio-classification-demo-2021-07-17-02-03-03',\n",
      "    'humanAnswers': [   {   'acceptanceTime': '2021-07-17T03:56:54.054Z',\n",
      "                            'answerContent': {   'sentiment': {   'label': 'Doorbell'}},\n",
      "                            'submissionTime': '2021-07-17T03:57:01.636Z',\n",
      "                            'timeSpentInSeconds': 7.582,\n",
      "                            'workerId': 'ec24e95d77c7c040',\n",
      "                            'workerMetadata': {   'identityData': {   'identityProviderType': 'Cognito',\n",
      "                                                                      'issuer': 'https://cognito-idp.us-west-2.amazonaws.com/us-west-2_9iI2T8Z22',\n",
      "                                                                      'sub': 'c138e2f0-d140-4ed8-8c98-16ed048e51ed'}}}],\n",
      "    'humanLoopName': '88697bd6-cf8e-4584-9cc8-b0c81473232c',\n",
      "    'inputContent': {   'initialValue': 0.4360564649105072,\n",
      "                        'taskObject': 's3://sagemaker-us-west-2-355444812467/a2i-demo/88697bd6-cf8e-4584-9cc8-b0c81473232c.wav'}}\n",
      "\n",
      "\n",
      "{   'flowDefinitionArn': 'arn:aws:sagemaker:us-west-2:355444812467:flow-definition/fd-sagemaker-audio-classification-demo-2021-07-17-02-03-03',\n",
      "    'humanAnswers': [   {   'acceptanceTime': '2021-07-17T03:57:01.736Z',\n",
      "                            'answerContent': {   'sentiment': {   'label': 'Laugh_Shout_Scream'}},\n",
      "                            'submissionTime': '2021-07-17T03:57:08.401Z',\n",
      "                            'timeSpentInSeconds': 6.665,\n",
      "                            'workerId': 'ec24e95d77c7c040',\n",
      "                            'workerMetadata': {   'identityData': {   'identityProviderType': 'Cognito',\n",
      "                                                                      'issuer': 'https://cognito-idp.us-west-2.amazonaws.com/us-west-2_9iI2T8Z22',\n",
      "                                                                      'sub': 'c138e2f0-d140-4ed8-8c98-16ed048e51ed'}}}],\n",
      "    'humanLoopName': 'ed608df8-9f26-4e42-ae69-c9eddcad84c3',\n",
      "    'inputContent': {   'initialValue': 0.9295575022697449,\n",
      "                        'taskObject': 's3://sagemaker-us-west-2-355444812467/a2i-demo/ed608df8-9f26-4e42-ae69-c9eddcad84c3.wav'}}\n",
      "\n",
      "\n",
      "{   'flowDefinitionArn': 'arn:aws:sagemaker:us-west-2:355444812467:flow-definition/fd-sagemaker-audio-classification-demo-2021-07-17-02-03-03',\n",
      "    'humanAnswers': [   {   'acceptanceTime': '2021-07-17T03:57:15.481Z',\n",
      "                            'answerContent': {   'sentiment': {   'label': 'Music_Instrument'}},\n",
      "                            'submissionTime': '2021-07-17T03:57:21.754Z',\n",
      "                            'timeSpentInSeconds': 6.273,\n",
      "                            'workerId': 'ec24e95d77c7c040',\n",
      "                            'workerMetadata': {   'identityData': {   'identityProviderType': 'Cognito',\n",
      "                                                                      'issuer': 'https://cognito-idp.us-west-2.amazonaws.com/us-west-2_9iI2T8Z22',\n",
      "                                                                      'sub': 'c138e2f0-d140-4ed8-8c98-16ed048e51ed'}}}],\n",
      "    'humanLoopName': '92f1b24c-8b3f-417c-b9b4-a865d44fc0d3',\n",
      "    'inputContent': {   'initialValue': 0.9729162454605103,\n",
      "                        'taskObject': 's3://sagemaker-us-west-2-355444812467/a2i-demo/92f1b24c-8b3f-417c-b9b4-a865d44fc0d3.wav'}}\n",
      "\n",
      "\n",
      "{   'flowDefinitionArn': 'arn:aws:sagemaker:us-west-2:355444812467:flow-definition/fd-sagemaker-audio-classification-demo-2021-07-17-02-03-03',\n",
      "    'humanAnswers': [   {   'acceptanceTime': '2021-07-17T03:55:29.420Z',\n",
      "                            'answerContent': {'sentiment': {'label': 'Other'}},\n",
      "                            'submissionTime': '2021-07-17T03:55:47.310Z',\n",
      "                            'timeSpentInSeconds': 17.89,\n",
      "                            'workerId': 'ec24e95d77c7c040',\n",
      "                            'workerMetadata': {   'identityData': {   'identityProviderType': 'Cognito',\n",
      "                                                                      'issuer': 'https://cognito-idp.us-west-2.amazonaws.com/us-west-2_9iI2T8Z22',\n",
      "                                                                      'sub': 'c138e2f0-d140-4ed8-8c98-16ed048e51ed'}}}],\n",
      "    'humanLoopName': '6796bd83-908c-46e1-b7b3-b14b82e13014',\n",
      "    'inputContent': {   'initialValue': 0.44284340739250183,\n",
      "                        'taskObject': 's3://sagemaker-us-west-2-355444812467/a2i-demo/6796bd83-908c-46e1-b7b3-b14b82e13014.wav'}}\n",
      "\n",
      "\n",
      "{   'flowDefinitionArn': 'arn:aws:sagemaker:us-west-2:355444812467:flow-definition/fd-sagemaker-audio-classification-demo-2021-07-17-02-03-03',\n",
      "    'humanAnswers': [   {   'acceptanceTime': '2021-07-17T03:48:04.507Z',\n",
      "                            'answerContent': {   'sentiment': {   'label': 'Barking'}},\n",
      "                            'submissionTime': '2021-07-17T03:48:13.213Z',\n",
      "                            'timeSpentInSeconds': 8.706,\n",
      "                            'workerId': 'ec24e95d77c7c040',\n",
      "                            'workerMetadata': {   'identityData': {   'identityProviderType': 'Cognito',\n",
      "                                                                      'issuer': 'https://cognito-idp.us-west-2.amazonaws.com/us-west-2_9iI2T8Z22',\n",
      "                                                                      'sub': 'c138e2f0-d140-4ed8-8c98-16ed048e51ed'}}}],\n",
      "    'humanLoopName': 'e843396e-f7d2-4d2b-8967-9765e26c421d',\n",
      "    'inputContent': {   'initialValue': 0.672085702419281,\n",
      "                        'taskObject': 's3://sagemaker-us-west-2-355444812467/a2i-demo/e843396e-f7d2-4d2b-8967-9765e26c421d.wav'}}\n",
      "\n",
      "\n",
      "{   'flowDefinitionArn': 'arn:aws:sagemaker:us-west-2:355444812467:flow-definition/fd-sagemaker-audio-classification-demo-2021-07-17-02-03-03',\n",
      "    'humanAnswers': [   {   'acceptanceTime': '2021-07-17T03:49:32.082Z',\n",
      "                            'answerContent': {   'sentiment': {   'label': 'Barking'}},\n",
      "                            'submissionTime': '2021-07-17T03:49:37.308Z',\n",
      "                            'timeSpentInSeconds': 5.226,\n",
      "                            'workerId': 'ec24e95d77c7c040',\n",
      "                            'workerMetadata': {   'identityData': {   'identityProviderType': 'Cognito',\n",
      "                                                                      'issuer': 'https://cognito-idp.us-west-2.amazonaws.com/us-west-2_9iI2T8Z22',\n",
      "                                                                      'sub': 'c138e2f0-d140-4ed8-8c98-16ed048e51ed'}}}],\n",
      "    'humanLoopName': '54e1c8b7-0166-4c71-9c7f-81d937168ca5',\n",
      "    'inputContent': {   'initialValue': 0.7164191007614136,\n",
      "                        'taskObject': 's3://sagemaker-us-west-2-355444812467/a2i-demo/54e1c8b7-0166-4c71-9c7f-81d937168ca5.wav'}}\n",
      "\n",
      "\n",
      "{   'flowDefinitionArn': 'arn:aws:sagemaker:us-west-2:355444812467:flow-definition/fd-sagemaker-audio-classification-demo-2021-07-17-02-03-03',\n",
      "    'humanAnswers': [   {   'acceptanceTime': '2021-07-17T03:49:48.878Z',\n",
      "                            'answerContent': {   'sentiment': {   'label': 'COSmoke'}},\n",
      "                            'submissionTime': '2021-07-17T03:49:56.261Z',\n",
      "                            'timeSpentInSeconds': 7.383,\n",
      "                            'workerId': 'ec24e95d77c7c040',\n",
      "                            'workerMetadata': {   'identityData': {   'identityProviderType': 'Cognito',\n",
      "                                                                      'issuer': 'https://cognito-idp.us-west-2.amazonaws.com/us-west-2_9iI2T8Z22',\n",
      "                                                                      'sub': 'c138e2f0-d140-4ed8-8c98-16ed048e51ed'}}}],\n",
      "    'humanLoopName': 'dbfa0a1a-7311-4646-aef3-9bd11215780f',\n",
      "    'inputContent': {   'initialValue': 0.9349328875541687,\n",
      "                        'taskObject': 's3://sagemaker-us-west-2-355444812467/a2i-demo/dbfa0a1a-7311-4646-aef3-9bd11215780f.wav'}}\n",
      "\n",
      "\n"
     ]
    },
    {
     "name": "stdout",
     "output_type": "stream",
     "text": [
      "{   'flowDefinitionArn': 'arn:aws:sagemaker:us-west-2:355444812467:flow-definition/fd-sagemaker-audio-classification-demo-2021-07-17-02-03-03',\n",
      "    'humanAnswers': [   {   'acceptanceTime': '2021-07-17T03:50:18.478Z',\n",
      "                            'answerContent': {'sentiment': {'label': 'Crying'}},\n",
      "                            'submissionTime': '2021-07-17T03:50:23.573Z',\n",
      "                            'timeSpentInSeconds': 5.095,\n",
      "                            'workerId': 'ec24e95d77c7c040',\n",
      "                            'workerMetadata': {   'identityData': {   'identityProviderType': 'Cognito',\n",
      "                                                                      'issuer': 'https://cognito-idp.us-west-2.amazonaws.com/us-west-2_9iI2T8Z22',\n",
      "                                                                      'sub': 'c138e2f0-d140-4ed8-8c98-16ed048e51ed'}}}],\n",
      "    'humanLoopName': '902ff03a-65a1-4f73-8094-c0e4dff13bb1',\n",
      "    'inputContent': {   'initialValue': 0.9900847673416138,\n",
      "                        'taskObject': 's3://sagemaker-us-west-2-355444812467/a2i-demo/902ff03a-65a1-4f73-8094-c0e4dff13bb1.wav'}}\n",
      "\n",
      "\n",
      "{   'flowDefinitionArn': 'arn:aws:sagemaker:us-west-2:355444812467:flow-definition/fd-sagemaker-audio-classification-demo-2021-07-17-02-03-03',\n",
      "    'humanAnswers': [   {   'acceptanceTime': '2021-07-17T03:50:23.666Z',\n",
      "                            'answerContent': {'sentiment': {'label': 'Crying'}},\n",
      "                            'submissionTime': '2021-07-17T03:54:06.023Z',\n",
      "                            'timeSpentInSeconds': 222.357,\n",
      "                            'workerId': 'ec24e95d77c7c040',\n",
      "                            'workerMetadata': {   'identityData': {   'identityProviderType': 'Cognito',\n",
      "                                                                      'issuer': 'https://cognito-idp.us-west-2.amazonaws.com/us-west-2_9iI2T8Z22',\n",
      "                                                                      'sub': 'c138e2f0-d140-4ed8-8c98-16ed048e51ed'}}}],\n",
      "    'humanLoopName': 'b61704b7-2d18-4fe9-90a1-6ed6480b0d15',\n",
      "    'inputContent': {   'initialValue': 0.9721630215644836,\n",
      "                        'taskObject': 's3://sagemaker-us-west-2-355444812467/a2i-demo/b61704b7-2d18-4fe9-90a1-6ed6480b0d15.wav'}}\n",
      "\n",
      "\n",
      "{   'flowDefinitionArn': 'arn:aws:sagemaker:us-west-2:355444812467:flow-definition/fd-sagemaker-audio-classification-demo-2021-07-17-02-03-03',\n",
      "    'humanAnswers': [   {   'acceptanceTime': '2021-07-17T03:54:21.877Z',\n",
      "                            'answerContent': {'sentiment': {'label': 'Other'}},\n",
      "                            'submissionTime': '2021-07-17T03:54:28.113Z',\n",
      "                            'timeSpentInSeconds': 6.236,\n",
      "                            'workerId': 'ec24e95d77c7c040',\n",
      "                            'workerMetadata': {   'identityData': {   'identityProviderType': 'Cognito',\n",
      "                                                                      'issuer': 'https://cognito-idp.us-west-2.amazonaws.com/us-west-2_9iI2T8Z22',\n",
      "                                                                      'sub': 'c138e2f0-d140-4ed8-8c98-16ed048e51ed'}}}],\n",
      "    'humanLoopName': '51b07128-0c80-4ed1-9210-ad2ed7edf5b3',\n",
      "    'inputContent': {   'initialValue': 0.9306761622428894,\n",
      "                        'taskObject': 's3://sagemaker-us-west-2-355444812467/a2i-demo/51b07128-0c80-4ed1-9210-ad2ed7edf5b3.wav'}}\n",
      "\n",
      "\n",
      "{   'flowDefinitionArn': 'arn:aws:sagemaker:us-west-2:355444812467:flow-definition/fd-sagemaker-audio-classification-demo-2021-07-17-02-03-03',\n",
      "    'humanAnswers': [   {   'acceptanceTime': '2021-07-17T03:55:10.382Z',\n",
      "                            'answerContent': {   'sentiment': {   'label': 'GlassBreaking'}},\n",
      "                            'submissionTime': '2021-07-17T03:55:17.450Z',\n",
      "                            'timeSpentInSeconds': 7.068,\n",
      "                            'workerId': 'ec24e95d77c7c040',\n",
      "                            'workerMetadata': {   'identityData': {   'identityProviderType': 'Cognito',\n",
      "                                                                      'issuer': 'https://cognito-idp.us-west-2.amazonaws.com/us-west-2_9iI2T8Z22',\n",
      "                                                                      'sub': 'c138e2f0-d140-4ed8-8c98-16ed048e51ed'}}}],\n",
      "    'humanLoopName': 'ceb20ef1-f03b-4033-a3d9-b4a113f83dc7',\n",
      "    'inputContent': {   'initialValue': 0.9999874234199524,\n",
      "                        'taskObject': 's3://sagemaker-us-west-2-355444812467/a2i-demo/ceb20ef1-f03b-4033-a3d9-b4a113f83dc7.wav'}}\n",
      "\n",
      "\n",
      "{   'flowDefinitionArn': 'arn:aws:sagemaker:us-west-2:355444812467:flow-definition/fd-sagemaker-audio-classification-demo-2021-07-17-02-03-03',\n",
      "    'humanAnswers': [   {   'acceptanceTime': '2021-07-17T03:56:27.663Z',\n",
      "                            'answerContent': {   'sentiment': {   'label': 'Laugh_Shout_Scream'}},\n",
      "                            'submissionTime': '2021-07-17T03:56:32.770Z',\n",
      "                            'timeSpentInSeconds': 5.107,\n",
      "                            'workerId': 'ec24e95d77c7c040',\n",
      "                            'workerMetadata': {   'identityData': {   'identityProviderType': 'Cognito',\n",
      "                                                                      'issuer': 'https://cognito-idp.us-west-2.amazonaws.com/us-west-2_9iI2T8Z22',\n",
      "                                                                      'sub': 'c138e2f0-d140-4ed8-8c98-16ed048e51ed'}}}],\n",
      "    'humanLoopName': '12c51f7c-244c-406d-b61f-7ae89fdaec21',\n",
      "    'inputContent': {   'initialValue': 0.7139933109283447,\n",
      "                        'taskObject': 's3://sagemaker-us-west-2-355444812467/a2i-demo/12c51f7c-244c-406d-b61f-7ae89fdaec21.wav'}}\n",
      "\n",
      "\n",
      "{   'flowDefinitionArn': 'arn:aws:sagemaker:us-west-2:355444812467:flow-definition/fd-sagemaker-audio-classification-demo-2021-07-17-02-03-03',\n",
      "    'humanAnswers': [   {   'acceptanceTime': '2021-07-17T03:56:32.847Z',\n",
      "                            'answerContent': {   'sentiment': {   'label': 'COSmoke'}},\n",
      "                            'submissionTime': '2021-07-17T03:56:40.157Z',\n",
      "                            'timeSpentInSeconds': 7.31,\n",
      "                            'workerId': 'ec24e95d77c7c040',\n",
      "                            'workerMetadata': {   'identityData': {   'identityProviderType': 'Cognito',\n",
      "                                                                      'issuer': 'https://cognito-idp.us-west-2.amazonaws.com/us-west-2_9iI2T8Z22',\n",
      "                                                                      'sub': 'c138e2f0-d140-4ed8-8c98-16ed048e51ed'}}}],\n",
      "    'humanLoopName': 'ca225ed6-1fe6-421c-b7a1-9eeaa3b243bc',\n",
      "    'inputContent': {   'initialValue': 0.9903430938720703,\n",
      "                        'taskObject': 's3://sagemaker-us-west-2-355444812467/a2i-demo/ca225ed6-1fe6-421c-b7a1-9eeaa3b243bc.wav'}}\n",
      "\n",
      "\n",
      "{   'flowDefinitionArn': 'arn:aws:sagemaker:us-west-2:355444812467:flow-definition/fd-sagemaker-audio-classification-demo-2021-07-17-02-03-03',\n",
      "    'humanAnswers': [   {   'acceptanceTime': '2021-07-17T03:56:49.311Z',\n",
      "                            'answerContent': {   'sentiment': {   'label': 'COSmoke'}},\n",
      "                            'submissionTime': '2021-07-17T03:56:53.974Z',\n",
      "                            'timeSpentInSeconds': 4.663,\n",
      "                            'workerId': 'ec24e95d77c7c040',\n",
      "                            'workerMetadata': {   'identityData': {   'identityProviderType': 'Cognito',\n",
      "                                                                      'issuer': 'https://cognito-idp.us-west-2.amazonaws.com/us-west-2_9iI2T8Z22',\n",
      "                                                                      'sub': 'c138e2f0-d140-4ed8-8c98-16ed048e51ed'}}}],\n",
      "    'humanLoopName': '6fbb7391-0444-4400-abc5-cb396ba5d70a',\n",
      "    'inputContent': {   'initialValue': 0.9999775290489197,\n",
      "                        'taskObject': 's3://sagemaker-us-west-2-355444812467/a2i-demo/6fbb7391-0444-4400-abc5-cb396ba5d70a.wav'}}\n",
      "\n",
      "\n",
      "{   'flowDefinitionArn': 'arn:aws:sagemaker:us-west-2:355444812467:flow-definition/fd-sagemaker-audio-classification-demo-2021-07-17-02-03-03',\n",
      "    'humanAnswers': [   {   'acceptanceTime': '2021-07-17T03:49:14.783Z',\n",
      "                            'answerContent': {'sentiment': {'label': 'Other'}},\n",
      "                            'submissionTime': '2021-07-17T03:49:25.791Z',\n",
      "                            'timeSpentInSeconds': 11.008,\n",
      "                            'workerId': 'ec24e95d77c7c040',\n",
      "                            'workerMetadata': {   'identityData': {   'identityProviderType': 'Cognito',\n",
      "                                                                      'issuer': 'https://cognito-idp.us-west-2.amazonaws.com/us-west-2_9iI2T8Z22',\n",
      "                                                                      'sub': 'c138e2f0-d140-4ed8-8c98-16ed048e51ed'}}}],\n",
      "    'humanLoopName': '1a39a8a1-354a-4bf5-a018-e27e7b10e17c',\n",
      "    'inputContent': {   'initialValue': 0.8247464299201965,\n",
      "                        'taskObject': 's3://sagemaker-us-west-2-355444812467/a2i-demo/1a39a8a1-354a-4bf5-a018-e27e7b10e17c.wav'}}\n",
      "\n",
      "\n",
      "{   'flowDefinitionArn': 'arn:aws:sagemaker:us-west-2:355444812467:flow-definition/fd-sagemaker-audio-classification-demo-2021-07-17-02-03-03',\n",
      "    'humanAnswers': [   {   'acceptanceTime': '2021-07-17T03:49:25.884Z',\n",
      "                            'answerContent': {'sentiment': {'label': 'Other'}},\n",
      "                            'submissionTime': '2021-07-17T03:49:32.009Z',\n",
      "                            'timeSpentInSeconds': 6.125,\n",
      "                            'workerId': 'ec24e95d77c7c040',\n",
      "                            'workerMetadata': {   'identityData': {   'identityProviderType': 'Cognito',\n",
      "                                                                      'issuer': 'https://cognito-idp.us-west-2.amazonaws.com/us-west-2_9iI2T8Z22',\n",
      "                                                                      'sub': 'c138e2f0-d140-4ed8-8c98-16ed048e51ed'}}}],\n",
      "    'humanLoopName': '4a90438d-ae32-42ae-ab1a-9c0142d80a56',\n",
      "    'inputContent': {   'initialValue': 0.9964854121208191,\n",
      "                        'taskObject': 's3://sagemaker-us-west-2-355444812467/a2i-demo/4a90438d-ae32-42ae-ab1a-9c0142d80a56.wav'}}\n",
      "\n",
      "\n",
      "{   'flowDefinitionArn': 'arn:aws:sagemaker:us-west-2:355444812467:flow-definition/fd-sagemaker-audio-classification-demo-2021-07-17-02-03-03',\n",
      "    'humanAnswers': [   {   'acceptanceTime': '2021-07-17T03:54:40.799Z',\n",
      "                            'answerContent': {'sentiment': {'label': 'Other'}},\n",
      "                            'submissionTime': '2021-07-17T03:54:49.896Z',\n",
      "                            'timeSpentInSeconds': 9.097,\n",
      "                            'workerId': 'ec24e95d77c7c040',\n",
      "                            'workerMetadata': {   'identityData': {   'identityProviderType': 'Cognito',\n",
      "                                                                      'issuer': 'https://cognito-idp.us-west-2.amazonaws.com/us-west-2_9iI2T8Z22',\n",
      "                                                                      'sub': 'c138e2f0-d140-4ed8-8c98-16ed048e51ed'}}}],\n",
      "    'humanLoopName': '3a71ffbc-01b1-43c1-a9e2-771e6fab8f16',\n",
      "    'inputContent': {   'initialValue': 0.9998570680618286,\n",
      "                        'taskObject': 's3://sagemaker-us-west-2-355444812467/a2i-demo/3a71ffbc-01b1-43c1-a9e2-771e6fab8f16.wav'}}\n",
      "\n",
      "\n",
      "{   'flowDefinitionArn': 'arn:aws:sagemaker:us-west-2:355444812467:flow-definition/fd-sagemaker-audio-classification-demo-2021-07-17-02-03-03',\n",
      "    'humanAnswers': [   {   'acceptanceTime': '2021-07-17T03:54:49.981Z',\n",
      "                            'answerContent': {'sentiment': {'label': 'Other'}},\n",
      "                            'submissionTime': '2021-07-17T03:55:01.530Z',\n",
      "                            'timeSpentInSeconds': 11.549,\n",
      "                            'workerId': 'ec24e95d77c7c040',\n",
      "                            'workerMetadata': {   'identityData': {   'identityProviderType': 'Cognito',\n",
      "                                                                      'issuer': 'https://cognito-idp.us-west-2.amazonaws.com/us-west-2_9iI2T8Z22',\n",
      "                                                                      'sub': 'c138e2f0-d140-4ed8-8c98-16ed048e51ed'}}}],\n",
      "    'humanLoopName': 'dd8b011a-fa8f-409a-b5f6-a0c1c445e65a',\n",
      "    'inputContent': {   'initialValue': 0.6924087405204773,\n",
      "                        'taskObject': 's3://sagemaker-us-west-2-355444812467/a2i-demo/dd8b011a-fa8f-409a-b5f6-a0c1c445e65a.wav'}}\n",
      "\n",
      "\n",
      "{   'flowDefinitionArn': 'arn:aws:sagemaker:us-west-2:355444812467:flow-definition/fd-sagemaker-audio-classification-demo-2021-07-17-02-03-03',\n",
      "    'humanAnswers': [   {   'acceptanceTime': '2021-07-17T03:56:18.379Z',\n",
      "                            'answerContent': {   'sentiment': {   'label': 'Barking'}},\n",
      "                            'submissionTime': '2021-07-17T03:56:27.566Z',\n",
      "                            'timeSpentInSeconds': 9.187,\n",
      "                            'workerId': 'ec24e95d77c7c040',\n",
      "                            'workerMetadata': {   'identityData': {   'identityProviderType': 'Cognito',\n",
      "                                                                      'issuer': 'https://cognito-idp.us-west-2.amazonaws.com/us-west-2_9iI2T8Z22',\n",
      "                                                                      'sub': 'c138e2f0-d140-4ed8-8c98-16ed048e51ed'}}}],\n",
      "    'humanLoopName': 'eb80bb16-2190-4423-857c-27e0df7c9042',\n",
      "    'inputContent': {   'initialValue': 0.45010051131248474,\n",
      "                        'taskObject': 's3://sagemaker-us-west-2-355444812467/a2i-demo/eb80bb16-2190-4423-857c-27e0df7c9042.wav'}}\n",
      "\n",
      "\n"
     ]
    },
    {
     "name": "stdout",
     "output_type": "stream",
     "text": [
      "{   'flowDefinitionArn': 'arn:aws:sagemaker:us-west-2:355444812467:flow-definition/fd-sagemaker-audio-classification-demo-2021-07-17-02-03-03',\n",
      "    'humanAnswers': [   {   'acceptanceTime': '2021-07-17T03:49:56.362Z',\n",
      "                            'answerContent': {   'sentiment': {   'label': 'Barking'}},\n",
      "                            'submissionTime': '2021-07-17T03:50:01.746Z',\n",
      "                            'timeSpentInSeconds': 5.384,\n",
      "                            'workerId': 'ec24e95d77c7c040',\n",
      "                            'workerMetadata': {   'identityData': {   'identityProviderType': 'Cognito',\n",
      "                                                                      'issuer': 'https://cognito-idp.us-west-2.amazonaws.com/us-west-2_9iI2T8Z22',\n",
      "                                                                      'sub': 'c138e2f0-d140-4ed8-8c98-16ed048e51ed'}}}],\n",
      "    'humanLoopName': '426b7113-8d9b-45e4-b91f-03474e62db59',\n",
      "    'inputContent': {   'initialValue': 0.7294201254844666,\n",
      "                        'taskObject': 's3://sagemaker-us-west-2-355444812467/a2i-demo/426b7113-8d9b-45e4-b91f-03474e62db59.wav'}}\n",
      "\n",
      "\n",
      "{   'flowDefinitionArn': 'arn:aws:sagemaker:us-west-2:355444812467:flow-definition/fd-sagemaker-audio-classification-demo-2021-07-17-02-03-03',\n",
      "    'humanAnswers': [   {   'acceptanceTime': '2021-07-17T03:50:01.928Z',\n",
      "                            'answerContent': {'sentiment': {'label': 'Crying'}},\n",
      "                            'submissionTime': '2021-07-17T03:50:06.505Z',\n",
      "                            'timeSpentInSeconds': 4.577,\n",
      "                            'workerId': 'ec24e95d77c7c040',\n",
      "                            'workerMetadata': {   'identityData': {   'identityProviderType': 'Cognito',\n",
      "                                                                      'issuer': 'https://cognito-idp.us-west-2.amazonaws.com/us-west-2_9iI2T8Z22',\n",
      "                                                                      'sub': 'c138e2f0-d140-4ed8-8c98-16ed048e51ed'}}}],\n",
      "    'humanLoopName': 'ffcfe7e5-5e19-452f-9d96-58bd36f8616d',\n",
      "    'inputContent': {   'initialValue': 0.6077364683151245,\n",
      "                        'taskObject': 's3://sagemaker-us-west-2-355444812467/a2i-demo/ffcfe7e5-5e19-452f-9d96-58bd36f8616d.wav'}}\n",
      "\n",
      "\n",
      "{   'flowDefinitionArn': 'arn:aws:sagemaker:us-west-2:355444812467:flow-definition/fd-sagemaker-audio-classification-demo-2021-07-17-02-03-03',\n",
      "    'humanAnswers': [   {   'acceptanceTime': '2021-07-17T03:50:06.597Z',\n",
      "                            'answerContent': {   'sentiment': {   'label': 'Barking'}},\n",
      "                            'submissionTime': '2021-07-17T03:50:11.704Z',\n",
      "                            'timeSpentInSeconds': 5.107,\n",
      "                            'workerId': 'ec24e95d77c7c040',\n",
      "                            'workerMetadata': {   'identityData': {   'identityProviderType': 'Cognito',\n",
      "                                                                      'issuer': 'https://cognito-idp.us-west-2.amazonaws.com/us-west-2_9iI2T8Z22',\n",
      "                                                                      'sub': 'c138e2f0-d140-4ed8-8c98-16ed048e51ed'}}}],\n",
      "    'humanLoopName': '587f37f3-3bc2-4d28-aec9-4652c3ae5e39',\n",
      "    'inputContent': {   'initialValue': 0.8443351984024048,\n",
      "                        'taskObject': 's3://sagemaker-us-west-2-355444812467/a2i-demo/587f37f3-3bc2-4d28-aec9-4652c3ae5e39.wav'}}\n",
      "\n",
      "\n",
      "{   'flowDefinitionArn': 'arn:aws:sagemaker:us-west-2:355444812467:flow-definition/fd-sagemaker-audio-classification-demo-2021-07-17-02-03-03',\n",
      "    'humanAnswers': [   {   'acceptanceTime': '2021-07-17T03:54:06.107Z',\n",
      "                            'answerContent': {'sentiment': {'label': 'Crying'}},\n",
      "                            'submissionTime': '2021-07-17T03:54:21.782Z',\n",
      "                            'timeSpentInSeconds': 15.675,\n",
      "                            'workerId': 'ec24e95d77c7c040',\n",
      "                            'workerMetadata': {   'identityData': {   'identityProviderType': 'Cognito',\n",
      "                                                                      'issuer': 'https://cognito-idp.us-west-2.amazonaws.com/us-west-2_9iI2T8Z22',\n",
      "                                                                      'sub': 'c138e2f0-d140-4ed8-8c98-16ed048e51ed'}}}],\n",
      "    'humanLoopName': '747dc8f4-89cb-445f-b234-20d8e8d2461e',\n",
      "    'inputContent': {   'initialValue': 0.9999464154243469,\n",
      "                        'taskObject': 's3://sagemaker-us-west-2-355444812467/a2i-demo/747dc8f4-89cb-445f-b234-20d8e8d2461e.wav'}}\n",
      "\n",
      "\n",
      "{   'flowDefinitionArn': 'arn:aws:sagemaker:us-west-2:355444812467:flow-definition/fd-sagemaker-audio-classification-demo-2021-07-17-02-03-03',\n",
      "    'humanAnswers': [   {   'acceptanceTime': '2021-07-17T03:54:35.492Z',\n",
      "                            'answerContent': {   'sentiment': {   'label': 'Barking'}},\n",
      "                            'submissionTime': '2021-07-17T03:54:40.716Z',\n",
      "                            'timeSpentInSeconds': 5.224,\n",
      "                            'workerId': 'ec24e95d77c7c040',\n",
      "                            'workerMetadata': {   'identityData': {   'identityProviderType': 'Cognito',\n",
      "                                                                      'issuer': 'https://cognito-idp.us-west-2.amazonaws.com/us-west-2_9iI2T8Z22',\n",
      "                                                                      'sub': 'c138e2f0-d140-4ed8-8c98-16ed048e51ed'}}}],\n",
      "    'humanLoopName': 'f5a4d6e2-b4ac-42b2-86e3-2d602631263a',\n",
      "    'inputContent': {   'initialValue': 0.8466998338699341,\n",
      "                        'taskObject': 's3://sagemaker-us-west-2-355444812467/a2i-demo/f5a4d6e2-b4ac-42b2-86e3-2d602631263a.wav'}}\n",
      "\n",
      "\n",
      "{   'flowDefinitionArn': 'arn:aws:sagemaker:us-west-2:355444812467:flow-definition/fd-sagemaker-audio-classification-demo-2021-07-17-02-03-03',\n",
      "    'humanAnswers': [   {   'acceptanceTime': '2021-07-17T03:55:01.634Z',\n",
      "                            'answerContent': {   'sentiment': {   'label': 'Laugh_Shout_Scream'}},\n",
      "                            'submissionTime': '2021-07-17T03:55:10.297Z',\n",
      "                            'timeSpentInSeconds': 8.663,\n",
      "                            'workerId': 'ec24e95d77c7c040',\n",
      "                            'workerMetadata': {   'identityData': {   'identityProviderType': 'Cognito',\n",
      "                                                                      'issuer': 'https://cognito-idp.us-west-2.amazonaws.com/us-west-2_9iI2T8Z22',\n",
      "                                                                      'sub': 'c138e2f0-d140-4ed8-8c98-16ed048e51ed'}}}],\n",
      "    'humanLoopName': '0994fae4-41e4-4665-9e78-6684a2af7d3c',\n",
      "    'inputContent': {   'initialValue': 0.4677722454071045,\n",
      "                        'taskObject': 's3://sagemaker-us-west-2-355444812467/a2i-demo/0994fae4-41e4-4665-9e78-6684a2af7d3c.wav'}}\n",
      "\n",
      "\n",
      "{   'flowDefinitionArn': 'arn:aws:sagemaker:us-west-2:355444812467:flow-definition/fd-sagemaker-audio-classification-demo-2021-07-17-02-03-03',\n",
      "    'humanAnswers': [   {   'acceptanceTime': '2021-07-17T03:56:01.401Z',\n",
      "                            'answerContent': {'sentiment': {'label': 'Other'}},\n",
      "                            'submissionTime': '2021-07-17T03:56:18.299Z',\n",
      "                            'timeSpentInSeconds': 16.898,\n",
      "                            'workerId': 'ec24e95d77c7c040',\n",
      "                            'workerMetadata': {   'identityData': {   'identityProviderType': 'Cognito',\n",
      "                                                                      'issuer': 'https://cognito-idp.us-west-2.amazonaws.com/us-west-2_9iI2T8Z22',\n",
      "                                                                      'sub': 'c138e2f0-d140-4ed8-8c98-16ed048e51ed'}}}],\n",
      "    'humanLoopName': 'c17704e7-25ef-4c2c-a264-adff19beebfb',\n",
      "    'inputContent': {   'initialValue': 0.9124922156333923,\n",
      "                        'taskObject': 's3://sagemaker-us-west-2-355444812467/a2i-demo/c17704e7-25ef-4c2c-a264-adff19beebfb.wav'}}\n",
      "\n",
      "\n",
      "{   'flowDefinitionArn': 'arn:aws:sagemaker:us-west-2:355444812467:flow-definition/fd-sagemaker-audio-classification-demo-2021-07-17-02-03-03',\n",
      "    'humanAnswers': [   {   'acceptanceTime': '2021-07-17T03:57:21.832Z',\n",
      "                            'answerContent': {   'sentiment': {   'label': 'Howling'}},\n",
      "                            'submissionTime': '2021-07-17T03:57:27.683Z',\n",
      "                            'timeSpentInSeconds': 5.851,\n",
      "                            'workerId': 'ec24e95d77c7c040',\n",
      "                            'workerMetadata': {   'identityData': {   'identityProviderType': 'Cognito',\n",
      "                                                                      'issuer': 'https://cognito-idp.us-west-2.amazonaws.com/us-west-2_9iI2T8Z22',\n",
      "                                                                      'sub': 'c138e2f0-d140-4ed8-8c98-16ed048e51ed'}}}],\n",
      "    'humanLoopName': 'e55247e6-72c1-42ce-8a5c-77afc51bfeb6',\n",
      "    'inputContent': {   'initialValue': 0.9991292953491211,\n",
      "                        'taskObject': 's3://sagemaker-us-west-2-355444812467/a2i-demo/e55247e6-72c1-42ce-8a5c-77afc51bfeb6.wav'}}\n",
      "\n",
      "\n",
      "{   'flowDefinitionArn': 'arn:aws:sagemaker:us-west-2:355444812467:flow-definition/fd-sagemaker-audio-classification-demo-2021-07-17-02-03-03',\n",
      "    'humanAnswers': [   {   'acceptanceTime': '2021-07-17T03:57:27.768Z',\n",
      "                            'answerContent': {   'sentiment': {   'label': 'GlassBreaking'}},\n",
      "                            'submissionTime': '2021-07-17T03:57:46.322Z',\n",
      "                            'timeSpentInSeconds': 18.554,\n",
      "                            'workerId': 'ec24e95d77c7c040',\n",
      "                            'workerMetadata': {   'identityData': {   'identityProviderType': 'Cognito',\n",
      "                                                                      'issuer': 'https://cognito-idp.us-west-2.amazonaws.com/us-west-2_9iI2T8Z22',\n",
      "                                                                      'sub': 'c138e2f0-d140-4ed8-8c98-16ed048e51ed'}}}],\n",
      "    'humanLoopName': 'f80f61e3-f87f-4181-b8d6-7640cfa35d0f',\n",
      "    'inputContent': {   'initialValue': 0.9983523488044739,\n",
      "                        'taskObject': 's3://sagemaker-us-west-2-355444812467/a2i-demo/f80f61e3-f87f-4181-b8d6-7640cfa35d0f.wav'}}\n",
      "\n",
      "\n",
      "{   'flowDefinitionArn': 'arn:aws:sagemaker:us-west-2:355444812467:flow-definition/fd-sagemaker-audio-classification-demo-2021-07-17-02-03-03',\n",
      "    'humanAnswers': [   {   'acceptanceTime': '2021-07-17T03:45:16.732Z',\n",
      "                            'answerContent': {   'sentiment': {   'label': 'Barking'}},\n",
      "                            'submissionTime': '2021-07-17T03:47:58.379Z',\n",
      "                            'timeSpentInSeconds': 161.647,\n",
      "                            'workerId': 'ec24e95d77c7c040',\n",
      "                            'workerMetadata': {   'identityData': {   'identityProviderType': 'Cognito',\n",
      "                                                                      'issuer': 'https://cognito-idp.us-west-2.amazonaws.com/us-west-2_9iI2T8Z22',\n",
      "                                                                      'sub': 'c138e2f0-d140-4ed8-8c98-16ed048e51ed'}}}],\n",
      "    'humanLoopName': 'e905fe12-60fb-46c6-bb30-037bf6ac59d1',\n",
      "    'inputContent': {   'initialValue': 0.5870192646980286,\n",
      "                        'taskObject': 's3://sagemaker-us-west-2-355444812467/a2i-demo/e905fe12-60fb-46c6-bb30-037bf6ac59d1.wav'}}\n",
      "\n",
      "\n",
      "{   'flowDefinitionArn': 'arn:aws:sagemaker:us-west-2:355444812467:flow-definition/fd-sagemaker-audio-classification-demo-2021-07-17-02-03-03',\n",
      "    'humanAnswers': [   {   'acceptanceTime': '2021-07-17T03:48:13.289Z',\n",
      "                            'answerContent': {'sentiment': {'label': 'Other'}},\n",
      "                            'submissionTime': '2021-07-17T03:49:14.707Z',\n",
      "                            'timeSpentInSeconds': 61.418,\n",
      "                            'workerId': 'ec24e95d77c7c040',\n",
      "                            'workerMetadata': {   'identityData': {   'identityProviderType': 'Cognito',\n",
      "                                                                      'issuer': 'https://cognito-idp.us-west-2.amazonaws.com/us-west-2_9iI2T8Z22',\n",
      "                                                                      'sub': 'c138e2f0-d140-4ed8-8c98-16ed048e51ed'}}}],\n",
      "    'humanLoopName': '789ceae7-cfb0-49f4-9477-6c1b405372e0',\n",
      "    'inputContent': {   'initialValue': 0.7000011205673218,\n",
      "                        'taskObject': 's3://sagemaker-us-west-2-355444812467/a2i-demo/789ceae7-cfb0-49f4-9477-6c1b405372e0.wav'}}\n",
      "\n",
      "\n"
     ]
    },
    {
     "name": "stdout",
     "output_type": "stream",
     "text": [
      "{   'flowDefinitionArn': 'arn:aws:sagemaker:us-west-2:355444812467:flow-definition/fd-sagemaker-audio-classification-demo-2021-07-17-02-03-03',\n",
      "    'humanAnswers': [   {   'acceptanceTime': '2021-07-17T03:49:37.396Z',\n",
      "                            'answerContent': {'sentiment': {'label': 'Other'}},\n",
      "                            'submissionTime': '2021-07-17T03:49:48.804Z',\n",
      "                            'timeSpentInSeconds': 11.408,\n",
      "                            'workerId': 'ec24e95d77c7c040',\n",
      "                            'workerMetadata': {   'identityData': {   'identityProviderType': 'Cognito',\n",
      "                                                                      'issuer': 'https://cognito-idp.us-west-2.amazonaws.com/us-west-2_9iI2T8Z22',\n",
      "                                                                      'sub': 'c138e2f0-d140-4ed8-8c98-16ed048e51ed'}}}],\n",
      "    'humanLoopName': '15eb082d-14d8-4a36-afab-9d5a9ead2062',\n",
      "    'inputContent': {   'initialValue': 0.3480794131755829,\n",
      "                        'taskObject': 's3://sagemaker-us-west-2-355444812467/a2i-demo/15eb082d-14d8-4a36-afab-9d5a9ead2062.wav'}}\n",
      "\n",
      "\n",
      "{   'flowDefinitionArn': 'arn:aws:sagemaker:us-west-2:355444812467:flow-definition/fd-sagemaker-audio-classification-demo-2021-07-17-02-03-03',\n",
      "    'humanAnswers': [   {   'acceptanceTime': '2021-07-17T03:54:28.204Z',\n",
      "                            'answerContent': {   'sentiment': {   'label': 'Barking'}},\n",
      "                            'submissionTime': '2021-07-17T03:54:35.413Z',\n",
      "                            'timeSpentInSeconds': 7.209,\n",
      "                            'workerId': 'ec24e95d77c7c040',\n",
      "                            'workerMetadata': {   'identityData': {   'identityProviderType': 'Cognito',\n",
      "                                                                      'issuer': 'https://cognito-idp.us-west-2.amazonaws.com/us-west-2_9iI2T8Z22',\n",
      "                                                                      'sub': 'c138e2f0-d140-4ed8-8c98-16ed048e51ed'}}}],\n",
      "    'humanLoopName': '19381b8c-7948-4cdc-87fb-d02371839062',\n",
      "    'inputContent': {   'initialValue': 0.556947648525238,\n",
      "                        'taskObject': 's3://sagemaker-us-west-2-355444812467/a2i-demo/19381b8c-7948-4cdc-87fb-d02371839062.wav'}}\n",
      "\n",
      "\n",
      "{   'flowDefinitionArn': 'arn:aws:sagemaker:us-west-2:355444812467:flow-definition/fd-sagemaker-audio-classification-demo-2021-07-17-02-03-03',\n",
      "    'humanAnswers': [   {   'acceptanceTime': '2021-07-17T03:55:17.527Z',\n",
      "                            'answerContent': {   'sentiment': {   'label': 'Barking'}},\n",
      "                            'submissionTime': '2021-07-17T03:55:29.342Z',\n",
      "                            'timeSpentInSeconds': 11.815,\n",
      "                            'workerId': 'ec24e95d77c7c040',\n",
      "                            'workerMetadata': {   'identityData': {   'identityProviderType': 'Cognito',\n",
      "                                                                      'issuer': 'https://cognito-idp.us-west-2.amazonaws.com/us-west-2_9iI2T8Z22',\n",
      "                                                                      'sub': 'c138e2f0-d140-4ed8-8c98-16ed048e51ed'}}}],\n",
      "    'humanLoopName': 'a208c264-b400-4b9f-a80d-1e2f51b96433',\n",
      "    'inputContent': {   'initialValue': 0.4483768045902252,\n",
      "                        'taskObject': 's3://sagemaker-us-west-2-355444812467/a2i-demo/a208c264-b400-4b9f-a80d-1e2f51b96433.wav'}}\n",
      "\n",
      "\n",
      "{   'flowDefinitionArn': 'arn:aws:sagemaker:us-west-2:355444812467:flow-definition/fd-sagemaker-audio-classification-demo-2021-07-17-02-03-03',\n",
      "    'humanAnswers': [   {   'acceptanceTime': '2021-07-17T03:56:40.245Z',\n",
      "                            'answerContent': {   'sentiment': {   'label': 'Barking'}},\n",
      "                            'submissionTime': '2021-07-17T03:56:49.225Z',\n",
      "                            'timeSpentInSeconds': 8.98,\n",
      "                            'workerId': 'ec24e95d77c7c040',\n",
      "                            'workerMetadata': {   'identityData': {   'identityProviderType': 'Cognito',\n",
      "                                                                      'issuer': 'https://cognito-idp.us-west-2.amazonaws.com/us-west-2_9iI2T8Z22',\n",
      "                                                                      'sub': 'c138e2f0-d140-4ed8-8c98-16ed048e51ed'}}}],\n",
      "    'humanLoopName': 'b67d3200-e12d-487f-b891-5b4594763f14',\n",
      "    'inputContent': {   'initialValue': 0.3430112898349762,\n",
      "                        'taskObject': 's3://sagemaker-us-west-2-355444812467/a2i-demo/b67d3200-e12d-487f-b891-5b4594763f14.wav'}}\n",
      "\n",
      "\n",
      "{   'flowDefinitionArn': 'arn:aws:sagemaker:us-west-2:355444812467:flow-definition/fd-sagemaker-audio-classification-demo-2021-07-17-02-03-03',\n",
      "    'humanAnswers': [   {   'acceptanceTime': '2021-07-17T03:57:08.478Z',\n",
      "                            'answerContent': {   'sentiment': {   'label': 'COSmoke'}},\n",
      "                            'submissionTime': '2021-07-17T03:57:15.407Z',\n",
      "                            'timeSpentInSeconds': 6.929,\n",
      "                            'workerId': 'ec24e95d77c7c040',\n",
      "                            'workerMetadata': {   'identityData': {   'identityProviderType': 'Cognito',\n",
      "                                                                      'issuer': 'https://cognito-idp.us-west-2.amazonaws.com/us-west-2_9iI2T8Z22',\n",
      "                                                                      'sub': 'c138e2f0-d140-4ed8-8c98-16ed048e51ed'}}}],\n",
      "    'humanLoopName': '3de381f5-1720-4c1a-96df-246f4f34f937',\n",
      "    'inputContent': {   'initialValue': 0.9998335242271423,\n",
      "                        'taskObject': 's3://sagemaker-us-west-2-355444812467/a2i-demo/3de381f5-1720-4c1a-96df-246f4f34f937.wav'}}\n",
      "\n",
      "\n"
     ]
    }
   ],
   "source": [
    "import re\n",
    "import pprint\n",
    "\n",
    "pp = pprint.PrettyPrinter(indent=4)\n",
    "\n",
    "for name, s3_output_path in completed_human_loops:\n",
    "    splitted_string = re.split('s3://' +  BUCKET + '/',s3_output_path)\n",
    "    output_bucket_key = splitted_string[1]\n",
    "\n",
    "    response = s3.get_object(Bucket=BUCKET, Key=output_bucket_key)\n",
    "    content = response[\"Body\"].read()\n",
    "    json_output = json.loads(content)\n",
    "    pp.pprint(json_output)\n",
    "    print('\\n')"
   ]
  },
  {
   "cell_type": "markdown",
   "metadata": {},
   "source": [
    "## Incremental training with SageMaker\n",
    "Now that we have used the model to generate prediction on some random out-of-sample images and got unsatisfactory prediction (low probability). We also demonstrated how to use Amazon Augmented AI to review and label the image based on custom criteria. Next step in a typical machine learning life cycle is to include these cases with which the model has trouble in the next batch of training data for retraining purposes so that the model can now learn from a set of new training data to improve the model. In machine learning we call it [incremental training](https://docs.aws.amazon.com/sagemaker/latest/dg/incremental-training.html).\n",
    "\n",
    "Now we can obtain the result of a2i tasks and formulated the information into the format of our training data - \n",
    "* the meta data in csv file format\n",
    "```\n",
    "Filename,Label,Remark\n",
    "train_00021,1,Howling\n",
    "```\n",
    "* and associating audio files on s3 "
   ]
  },
  {
   "cell_type": "code",
   "execution_count": 108,
   "metadata": {},
   "outputs": [],
   "source": [
    "object_categories_dict = {j: i for i, j in enumerate(object_categories)}\n",
    "\n",
    "def convert_a2i_to_augmented_manifest(a2i_output):\n",
    "    label = a2i_output['humanAnswers'][0]['answerContent']['sentiment']['label']\n",
    "    s3_path = a2i_output['inputContent']['taskObject']\n",
    "    filename = s3_path.split('/')[-1][:-4]\n",
    "    label_id = str(object_categories_dict[label]) \n",
    "    return '{},{},{}'.format(filename, label_id, label), s3_path\n",
    "\n"
   ]
  },
  {
   "cell_type": "code",
   "execution_count": 109,
   "metadata": {},
   "outputs": [
    {
     "data": {
      "text/plain": [
       "{'Barking': 0,\n",
       " 'Howling': 1,\n",
       " 'Crying': 2,\n",
       " 'COSmoke': 3,\n",
       " 'GlassBreaking': 4,\n",
       " 'Other': 5,\n",
       " 'Doorbell': 6,\n",
       " 'Bird': 7,\n",
       " 'Music_Instrument': 8,\n",
       " 'Laugh_Shout_Scream': 9}"
      ]
     },
     "execution_count": 109,
     "metadata": {},
     "output_type": "execute_result"
    }
   ],
   "source": [
    "object_categories_dict"
   ]
  },
  {
   "cell_type": "markdown",
   "metadata": {},
   "source": [
    "This function will take an A2I output json and result in a json object that is compatible to how Amazon SageMaker Ground Truth outputs the result and how SageMaker built-in object detection algorithm expects from the input. In order to create a cohort of training images from all the images re-labeled by human reviewers in A2I console. You can loop through all the A2I output, convert the json file, and concatenate them into a JSON Lines file, with each line represents results of one image. "
   ]
  },
  {
   "cell_type": "code",
   "execution_count": 110,
   "metadata": {
    "scrolled": true
   },
   "outputs": [
    {
     "name": "stdout",
     "output_type": "stream",
     "text": [
      "{'flowDefinitionArn': 'arn:aws:sagemaker:us-west-2:355444812467:flow-definition/fd-sagemaker-audio-classification-demo-2021-07-17-02-03-03', 'humanAnswers': [{'acceptanceTime': '2021-07-17T03:47:58.469Z', 'answerContent': {'sentiment': {'label': 'Other'}}, 'submissionTime': '2021-07-17T03:48:04.426Z', 'timeSpentInSeconds': 5.957, 'workerId': 'ec24e95d77c7c040', 'workerMetadata': {'identityData': {'identityProviderType': 'Cognito', 'issuer': 'https://cognito-idp.us-west-2.amazonaws.com/us-west-2_9iI2T8Z22', 'sub': 'c138e2f0-d140-4ed8-8c98-16ed048e51ed'}}}], 'humanLoopName': 'bb4f0a36-20d7-4003-b1af-a00239af85a4', 'inputContent': {'initialValue': 0.9991849064826965, 'taskObject': 's3://sagemaker-us-west-2-355444812467/a2i-demo/bb4f0a36-20d7-4003-b1af-a00239af85a4.wav'}}\n",
      "{'flowDefinitionArn': 'arn:aws:sagemaker:us-west-2:355444812467:flow-definition/fd-sagemaker-audio-classification-demo-2021-07-17-02-03-03', 'humanAnswers': [{'acceptanceTime': '2021-07-17T03:50:11.780Z', 'answerContent': {'sentiment': {'label': 'Barking'}}, 'submissionTime': '2021-07-17T03:50:18.387Z', 'timeSpentInSeconds': 6.607, 'workerId': 'ec24e95d77c7c040', 'workerMetadata': {'identityData': {'identityProviderType': 'Cognito', 'issuer': 'https://cognito-idp.us-west-2.amazonaws.com/us-west-2_9iI2T8Z22', 'sub': 'c138e2f0-d140-4ed8-8c98-16ed048e51ed'}}}], 'humanLoopName': '086bef32-0281-4e1f-bca7-54ae3e0ceb8e', 'inputContent': {'initialValue': 0.5979048013687134, 'taskObject': 's3://sagemaker-us-west-2-355444812467/a2i-demo/086bef32-0281-4e1f-bca7-54ae3e0ceb8e.wav'}}\n",
      "{'flowDefinitionArn': 'arn:aws:sagemaker:us-west-2:355444812467:flow-definition/fd-sagemaker-audio-classification-demo-2021-07-17-02-03-03', 'humanAnswers': [{'acceptanceTime': '2021-07-17T03:55:47.397Z', 'answerContent': {'sentiment': {'label': 'Barking'}}, 'submissionTime': '2021-07-17T03:56:01.283Z', 'timeSpentInSeconds': 13.886, 'workerId': 'ec24e95d77c7c040', 'workerMetadata': {'identityData': {'identityProviderType': 'Cognito', 'issuer': 'https://cognito-idp.us-west-2.amazonaws.com/us-west-2_9iI2T8Z22', 'sub': 'c138e2f0-d140-4ed8-8c98-16ed048e51ed'}}}], 'humanLoopName': '6c656b22-b15f-4bce-8bcf-766087042042', 'inputContent': {'initialValue': 0.6901246905326843, 'taskObject': 's3://sagemaker-us-west-2-355444812467/a2i-demo/6c656b22-b15f-4bce-8bcf-766087042042.wav'}}\n",
      "{'flowDefinitionArn': 'arn:aws:sagemaker:us-west-2:355444812467:flow-definition/fd-sagemaker-audio-classification-demo-2021-07-17-02-03-03', 'humanAnswers': [{'acceptanceTime': '2021-07-17T03:56:54.054Z', 'answerContent': {'sentiment': {'label': 'Doorbell'}}, 'submissionTime': '2021-07-17T03:57:01.636Z', 'timeSpentInSeconds': 7.582, 'workerId': 'ec24e95d77c7c040', 'workerMetadata': {'identityData': {'identityProviderType': 'Cognito', 'issuer': 'https://cognito-idp.us-west-2.amazonaws.com/us-west-2_9iI2T8Z22', 'sub': 'c138e2f0-d140-4ed8-8c98-16ed048e51ed'}}}], 'humanLoopName': '88697bd6-cf8e-4584-9cc8-b0c81473232c', 'inputContent': {'initialValue': 0.4360564649105072, 'taskObject': 's3://sagemaker-us-west-2-355444812467/a2i-demo/88697bd6-cf8e-4584-9cc8-b0c81473232c.wav'}}\n",
      "{'flowDefinitionArn': 'arn:aws:sagemaker:us-west-2:355444812467:flow-definition/fd-sagemaker-audio-classification-demo-2021-07-17-02-03-03', 'humanAnswers': [{'acceptanceTime': '2021-07-17T03:57:01.736Z', 'answerContent': {'sentiment': {'label': 'Laugh_Shout_Scream'}}, 'submissionTime': '2021-07-17T03:57:08.401Z', 'timeSpentInSeconds': 6.665, 'workerId': 'ec24e95d77c7c040', 'workerMetadata': {'identityData': {'identityProviderType': 'Cognito', 'issuer': 'https://cognito-idp.us-west-2.amazonaws.com/us-west-2_9iI2T8Z22', 'sub': 'c138e2f0-d140-4ed8-8c98-16ed048e51ed'}}}], 'humanLoopName': 'ed608df8-9f26-4e42-ae69-c9eddcad84c3', 'inputContent': {'initialValue': 0.9295575022697449, 'taskObject': 's3://sagemaker-us-west-2-355444812467/a2i-demo/ed608df8-9f26-4e42-ae69-c9eddcad84c3.wav'}}\n",
      "{'flowDefinitionArn': 'arn:aws:sagemaker:us-west-2:355444812467:flow-definition/fd-sagemaker-audio-classification-demo-2021-07-17-02-03-03', 'humanAnswers': [{'acceptanceTime': '2021-07-17T03:57:15.481Z', 'answerContent': {'sentiment': {'label': 'Music_Instrument'}}, 'submissionTime': '2021-07-17T03:57:21.754Z', 'timeSpentInSeconds': 6.273, 'workerId': 'ec24e95d77c7c040', 'workerMetadata': {'identityData': {'identityProviderType': 'Cognito', 'issuer': 'https://cognito-idp.us-west-2.amazonaws.com/us-west-2_9iI2T8Z22', 'sub': 'c138e2f0-d140-4ed8-8c98-16ed048e51ed'}}}], 'humanLoopName': '92f1b24c-8b3f-417c-b9b4-a865d44fc0d3', 'inputContent': {'initialValue': 0.9729162454605103, 'taskObject': 's3://sagemaker-us-west-2-355444812467/a2i-demo/92f1b24c-8b3f-417c-b9b4-a865d44fc0d3.wav'}}\n",
      "{'flowDefinitionArn': 'arn:aws:sagemaker:us-west-2:355444812467:flow-definition/fd-sagemaker-audio-classification-demo-2021-07-17-02-03-03', 'humanAnswers': [{'acceptanceTime': '2021-07-17T03:55:29.420Z', 'answerContent': {'sentiment': {'label': 'Other'}}, 'submissionTime': '2021-07-17T03:55:47.310Z', 'timeSpentInSeconds': 17.89, 'workerId': 'ec24e95d77c7c040', 'workerMetadata': {'identityData': {'identityProviderType': 'Cognito', 'issuer': 'https://cognito-idp.us-west-2.amazonaws.com/us-west-2_9iI2T8Z22', 'sub': 'c138e2f0-d140-4ed8-8c98-16ed048e51ed'}}}], 'humanLoopName': '6796bd83-908c-46e1-b7b3-b14b82e13014', 'inputContent': {'initialValue': 0.44284340739250183, 'taskObject': 's3://sagemaker-us-west-2-355444812467/a2i-demo/6796bd83-908c-46e1-b7b3-b14b82e13014.wav'}}\n",
      "{'flowDefinitionArn': 'arn:aws:sagemaker:us-west-2:355444812467:flow-definition/fd-sagemaker-audio-classification-demo-2021-07-17-02-03-03', 'humanAnswers': [{'acceptanceTime': '2021-07-17T03:48:04.507Z', 'answerContent': {'sentiment': {'label': 'Barking'}}, 'submissionTime': '2021-07-17T03:48:13.213Z', 'timeSpentInSeconds': 8.706, 'workerId': 'ec24e95d77c7c040', 'workerMetadata': {'identityData': {'identityProviderType': 'Cognito', 'issuer': 'https://cognito-idp.us-west-2.amazonaws.com/us-west-2_9iI2T8Z22', 'sub': 'c138e2f0-d140-4ed8-8c98-16ed048e51ed'}}}], 'humanLoopName': 'e843396e-f7d2-4d2b-8967-9765e26c421d', 'inputContent': {'initialValue': 0.672085702419281, 'taskObject': 's3://sagemaker-us-west-2-355444812467/a2i-demo/e843396e-f7d2-4d2b-8967-9765e26c421d.wav'}}\n",
      "{'flowDefinitionArn': 'arn:aws:sagemaker:us-west-2:355444812467:flow-definition/fd-sagemaker-audio-classification-demo-2021-07-17-02-03-03', 'humanAnswers': [{'acceptanceTime': '2021-07-17T03:49:32.082Z', 'answerContent': {'sentiment': {'label': 'Barking'}}, 'submissionTime': '2021-07-17T03:49:37.308Z', 'timeSpentInSeconds': 5.226, 'workerId': 'ec24e95d77c7c040', 'workerMetadata': {'identityData': {'identityProviderType': 'Cognito', 'issuer': 'https://cognito-idp.us-west-2.amazonaws.com/us-west-2_9iI2T8Z22', 'sub': 'c138e2f0-d140-4ed8-8c98-16ed048e51ed'}}}], 'humanLoopName': '54e1c8b7-0166-4c71-9c7f-81d937168ca5', 'inputContent': {'initialValue': 0.7164191007614136, 'taskObject': 's3://sagemaker-us-west-2-355444812467/a2i-demo/54e1c8b7-0166-4c71-9c7f-81d937168ca5.wav'}}\n",
      "{'flowDefinitionArn': 'arn:aws:sagemaker:us-west-2:355444812467:flow-definition/fd-sagemaker-audio-classification-demo-2021-07-17-02-03-03', 'humanAnswers': [{'acceptanceTime': '2021-07-17T03:49:48.878Z', 'answerContent': {'sentiment': {'label': 'COSmoke'}}, 'submissionTime': '2021-07-17T03:49:56.261Z', 'timeSpentInSeconds': 7.383, 'workerId': 'ec24e95d77c7c040', 'workerMetadata': {'identityData': {'identityProviderType': 'Cognito', 'issuer': 'https://cognito-idp.us-west-2.amazonaws.com/us-west-2_9iI2T8Z22', 'sub': 'c138e2f0-d140-4ed8-8c98-16ed048e51ed'}}}], 'humanLoopName': 'dbfa0a1a-7311-4646-aef3-9bd11215780f', 'inputContent': {'initialValue': 0.9349328875541687, 'taskObject': 's3://sagemaker-us-west-2-355444812467/a2i-demo/dbfa0a1a-7311-4646-aef3-9bd11215780f.wav'}}\n",
      "{'flowDefinitionArn': 'arn:aws:sagemaker:us-west-2:355444812467:flow-definition/fd-sagemaker-audio-classification-demo-2021-07-17-02-03-03', 'humanAnswers': [{'acceptanceTime': '2021-07-17T03:50:18.478Z', 'answerContent': {'sentiment': {'label': 'Crying'}}, 'submissionTime': '2021-07-17T03:50:23.573Z', 'timeSpentInSeconds': 5.095, 'workerId': 'ec24e95d77c7c040', 'workerMetadata': {'identityData': {'identityProviderType': 'Cognito', 'issuer': 'https://cognito-idp.us-west-2.amazonaws.com/us-west-2_9iI2T8Z22', 'sub': 'c138e2f0-d140-4ed8-8c98-16ed048e51ed'}}}], 'humanLoopName': '902ff03a-65a1-4f73-8094-c0e4dff13bb1', 'inputContent': {'initialValue': 0.9900847673416138, 'taskObject': 's3://sagemaker-us-west-2-355444812467/a2i-demo/902ff03a-65a1-4f73-8094-c0e4dff13bb1.wav'}}\n",
      "{'flowDefinitionArn': 'arn:aws:sagemaker:us-west-2:355444812467:flow-definition/fd-sagemaker-audio-classification-demo-2021-07-17-02-03-03', 'humanAnswers': [{'acceptanceTime': '2021-07-17T03:50:23.666Z', 'answerContent': {'sentiment': {'label': 'Crying'}}, 'submissionTime': '2021-07-17T03:54:06.023Z', 'timeSpentInSeconds': 222.357, 'workerId': 'ec24e95d77c7c040', 'workerMetadata': {'identityData': {'identityProviderType': 'Cognito', 'issuer': 'https://cognito-idp.us-west-2.amazonaws.com/us-west-2_9iI2T8Z22', 'sub': 'c138e2f0-d140-4ed8-8c98-16ed048e51ed'}}}], 'humanLoopName': 'b61704b7-2d18-4fe9-90a1-6ed6480b0d15', 'inputContent': {'initialValue': 0.9721630215644836, 'taskObject': 's3://sagemaker-us-west-2-355444812467/a2i-demo/b61704b7-2d18-4fe9-90a1-6ed6480b0d15.wav'}}\n",
      "{'flowDefinitionArn': 'arn:aws:sagemaker:us-west-2:355444812467:flow-definition/fd-sagemaker-audio-classification-demo-2021-07-17-02-03-03', 'humanAnswers': [{'acceptanceTime': '2021-07-17T03:54:21.877Z', 'answerContent': {'sentiment': {'label': 'Other'}}, 'submissionTime': '2021-07-17T03:54:28.113Z', 'timeSpentInSeconds': 6.236, 'workerId': 'ec24e95d77c7c040', 'workerMetadata': {'identityData': {'identityProviderType': 'Cognito', 'issuer': 'https://cognito-idp.us-west-2.amazonaws.com/us-west-2_9iI2T8Z22', 'sub': 'c138e2f0-d140-4ed8-8c98-16ed048e51ed'}}}], 'humanLoopName': '51b07128-0c80-4ed1-9210-ad2ed7edf5b3', 'inputContent': {'initialValue': 0.9306761622428894, 'taskObject': 's3://sagemaker-us-west-2-355444812467/a2i-demo/51b07128-0c80-4ed1-9210-ad2ed7edf5b3.wav'}}\n",
      "{'flowDefinitionArn': 'arn:aws:sagemaker:us-west-2:355444812467:flow-definition/fd-sagemaker-audio-classification-demo-2021-07-17-02-03-03', 'humanAnswers': [{'acceptanceTime': '2021-07-17T03:55:10.382Z', 'answerContent': {'sentiment': {'label': 'GlassBreaking'}}, 'submissionTime': '2021-07-17T03:55:17.450Z', 'timeSpentInSeconds': 7.068, 'workerId': 'ec24e95d77c7c040', 'workerMetadata': {'identityData': {'identityProviderType': 'Cognito', 'issuer': 'https://cognito-idp.us-west-2.amazonaws.com/us-west-2_9iI2T8Z22', 'sub': 'c138e2f0-d140-4ed8-8c98-16ed048e51ed'}}}], 'humanLoopName': 'ceb20ef1-f03b-4033-a3d9-b4a113f83dc7', 'inputContent': {'initialValue': 0.9999874234199524, 'taskObject': 's3://sagemaker-us-west-2-355444812467/a2i-demo/ceb20ef1-f03b-4033-a3d9-b4a113f83dc7.wav'}}\n",
      "{'flowDefinitionArn': 'arn:aws:sagemaker:us-west-2:355444812467:flow-definition/fd-sagemaker-audio-classification-demo-2021-07-17-02-03-03', 'humanAnswers': [{'acceptanceTime': '2021-07-17T03:56:27.663Z', 'answerContent': {'sentiment': {'label': 'Laugh_Shout_Scream'}}, 'submissionTime': '2021-07-17T03:56:32.770Z', 'timeSpentInSeconds': 5.107, 'workerId': 'ec24e95d77c7c040', 'workerMetadata': {'identityData': {'identityProviderType': 'Cognito', 'issuer': 'https://cognito-idp.us-west-2.amazonaws.com/us-west-2_9iI2T8Z22', 'sub': 'c138e2f0-d140-4ed8-8c98-16ed048e51ed'}}}], 'humanLoopName': '12c51f7c-244c-406d-b61f-7ae89fdaec21', 'inputContent': {'initialValue': 0.7139933109283447, 'taskObject': 's3://sagemaker-us-west-2-355444812467/a2i-demo/12c51f7c-244c-406d-b61f-7ae89fdaec21.wav'}}\n"
     ]
    },
    {
     "name": "stdout",
     "output_type": "stream",
     "text": [
      "{'flowDefinitionArn': 'arn:aws:sagemaker:us-west-2:355444812467:flow-definition/fd-sagemaker-audio-classification-demo-2021-07-17-02-03-03', 'humanAnswers': [{'acceptanceTime': '2021-07-17T03:56:32.847Z', 'answerContent': {'sentiment': {'label': 'COSmoke'}}, 'submissionTime': '2021-07-17T03:56:40.157Z', 'timeSpentInSeconds': 7.31, 'workerId': 'ec24e95d77c7c040', 'workerMetadata': {'identityData': {'identityProviderType': 'Cognito', 'issuer': 'https://cognito-idp.us-west-2.amazonaws.com/us-west-2_9iI2T8Z22', 'sub': 'c138e2f0-d140-4ed8-8c98-16ed048e51ed'}}}], 'humanLoopName': 'ca225ed6-1fe6-421c-b7a1-9eeaa3b243bc', 'inputContent': {'initialValue': 0.9903430938720703, 'taskObject': 's3://sagemaker-us-west-2-355444812467/a2i-demo/ca225ed6-1fe6-421c-b7a1-9eeaa3b243bc.wav'}}\n",
      "{'flowDefinitionArn': 'arn:aws:sagemaker:us-west-2:355444812467:flow-definition/fd-sagemaker-audio-classification-demo-2021-07-17-02-03-03', 'humanAnswers': [{'acceptanceTime': '2021-07-17T03:56:49.311Z', 'answerContent': {'sentiment': {'label': 'COSmoke'}}, 'submissionTime': '2021-07-17T03:56:53.974Z', 'timeSpentInSeconds': 4.663, 'workerId': 'ec24e95d77c7c040', 'workerMetadata': {'identityData': {'identityProviderType': 'Cognito', 'issuer': 'https://cognito-idp.us-west-2.amazonaws.com/us-west-2_9iI2T8Z22', 'sub': 'c138e2f0-d140-4ed8-8c98-16ed048e51ed'}}}], 'humanLoopName': '6fbb7391-0444-4400-abc5-cb396ba5d70a', 'inputContent': {'initialValue': 0.9999775290489197, 'taskObject': 's3://sagemaker-us-west-2-355444812467/a2i-demo/6fbb7391-0444-4400-abc5-cb396ba5d70a.wav'}}\n",
      "{'flowDefinitionArn': 'arn:aws:sagemaker:us-west-2:355444812467:flow-definition/fd-sagemaker-audio-classification-demo-2021-07-17-02-03-03', 'humanAnswers': [{'acceptanceTime': '2021-07-17T03:49:14.783Z', 'answerContent': {'sentiment': {'label': 'Other'}}, 'submissionTime': '2021-07-17T03:49:25.791Z', 'timeSpentInSeconds': 11.008, 'workerId': 'ec24e95d77c7c040', 'workerMetadata': {'identityData': {'identityProviderType': 'Cognito', 'issuer': 'https://cognito-idp.us-west-2.amazonaws.com/us-west-2_9iI2T8Z22', 'sub': 'c138e2f0-d140-4ed8-8c98-16ed048e51ed'}}}], 'humanLoopName': '1a39a8a1-354a-4bf5-a018-e27e7b10e17c', 'inputContent': {'initialValue': 0.8247464299201965, 'taskObject': 's3://sagemaker-us-west-2-355444812467/a2i-demo/1a39a8a1-354a-4bf5-a018-e27e7b10e17c.wav'}}\n",
      "{'flowDefinitionArn': 'arn:aws:sagemaker:us-west-2:355444812467:flow-definition/fd-sagemaker-audio-classification-demo-2021-07-17-02-03-03', 'humanAnswers': [{'acceptanceTime': '2021-07-17T03:49:25.884Z', 'answerContent': {'sentiment': {'label': 'Other'}}, 'submissionTime': '2021-07-17T03:49:32.009Z', 'timeSpentInSeconds': 6.125, 'workerId': 'ec24e95d77c7c040', 'workerMetadata': {'identityData': {'identityProviderType': 'Cognito', 'issuer': 'https://cognito-idp.us-west-2.amazonaws.com/us-west-2_9iI2T8Z22', 'sub': 'c138e2f0-d140-4ed8-8c98-16ed048e51ed'}}}], 'humanLoopName': '4a90438d-ae32-42ae-ab1a-9c0142d80a56', 'inputContent': {'initialValue': 0.9964854121208191, 'taskObject': 's3://sagemaker-us-west-2-355444812467/a2i-demo/4a90438d-ae32-42ae-ab1a-9c0142d80a56.wav'}}\n",
      "{'flowDefinitionArn': 'arn:aws:sagemaker:us-west-2:355444812467:flow-definition/fd-sagemaker-audio-classification-demo-2021-07-17-02-03-03', 'humanAnswers': [{'acceptanceTime': '2021-07-17T03:54:40.799Z', 'answerContent': {'sentiment': {'label': 'Other'}}, 'submissionTime': '2021-07-17T03:54:49.896Z', 'timeSpentInSeconds': 9.097, 'workerId': 'ec24e95d77c7c040', 'workerMetadata': {'identityData': {'identityProviderType': 'Cognito', 'issuer': 'https://cognito-idp.us-west-2.amazonaws.com/us-west-2_9iI2T8Z22', 'sub': 'c138e2f0-d140-4ed8-8c98-16ed048e51ed'}}}], 'humanLoopName': '3a71ffbc-01b1-43c1-a9e2-771e6fab8f16', 'inputContent': {'initialValue': 0.9998570680618286, 'taskObject': 's3://sagemaker-us-west-2-355444812467/a2i-demo/3a71ffbc-01b1-43c1-a9e2-771e6fab8f16.wav'}}\n",
      "{'flowDefinitionArn': 'arn:aws:sagemaker:us-west-2:355444812467:flow-definition/fd-sagemaker-audio-classification-demo-2021-07-17-02-03-03', 'humanAnswers': [{'acceptanceTime': '2021-07-17T03:54:49.981Z', 'answerContent': {'sentiment': {'label': 'Other'}}, 'submissionTime': '2021-07-17T03:55:01.530Z', 'timeSpentInSeconds': 11.549, 'workerId': 'ec24e95d77c7c040', 'workerMetadata': {'identityData': {'identityProviderType': 'Cognito', 'issuer': 'https://cognito-idp.us-west-2.amazonaws.com/us-west-2_9iI2T8Z22', 'sub': 'c138e2f0-d140-4ed8-8c98-16ed048e51ed'}}}], 'humanLoopName': 'dd8b011a-fa8f-409a-b5f6-a0c1c445e65a', 'inputContent': {'initialValue': 0.6924087405204773, 'taskObject': 's3://sagemaker-us-west-2-355444812467/a2i-demo/dd8b011a-fa8f-409a-b5f6-a0c1c445e65a.wav'}}\n",
      "{'flowDefinitionArn': 'arn:aws:sagemaker:us-west-2:355444812467:flow-definition/fd-sagemaker-audio-classification-demo-2021-07-17-02-03-03', 'humanAnswers': [{'acceptanceTime': '2021-07-17T03:56:18.379Z', 'answerContent': {'sentiment': {'label': 'Barking'}}, 'submissionTime': '2021-07-17T03:56:27.566Z', 'timeSpentInSeconds': 9.187, 'workerId': 'ec24e95d77c7c040', 'workerMetadata': {'identityData': {'identityProviderType': 'Cognito', 'issuer': 'https://cognito-idp.us-west-2.amazonaws.com/us-west-2_9iI2T8Z22', 'sub': 'c138e2f0-d140-4ed8-8c98-16ed048e51ed'}}}], 'humanLoopName': 'eb80bb16-2190-4423-857c-27e0df7c9042', 'inputContent': {'initialValue': 0.45010051131248474, 'taskObject': 's3://sagemaker-us-west-2-355444812467/a2i-demo/eb80bb16-2190-4423-857c-27e0df7c9042.wav'}}\n",
      "{'flowDefinitionArn': 'arn:aws:sagemaker:us-west-2:355444812467:flow-definition/fd-sagemaker-audio-classification-demo-2021-07-17-02-03-03', 'humanAnswers': [{'acceptanceTime': '2021-07-17T03:49:56.362Z', 'answerContent': {'sentiment': {'label': 'Barking'}}, 'submissionTime': '2021-07-17T03:50:01.746Z', 'timeSpentInSeconds': 5.384, 'workerId': 'ec24e95d77c7c040', 'workerMetadata': {'identityData': {'identityProviderType': 'Cognito', 'issuer': 'https://cognito-idp.us-west-2.amazonaws.com/us-west-2_9iI2T8Z22', 'sub': 'c138e2f0-d140-4ed8-8c98-16ed048e51ed'}}}], 'humanLoopName': '426b7113-8d9b-45e4-b91f-03474e62db59', 'inputContent': {'initialValue': 0.7294201254844666, 'taskObject': 's3://sagemaker-us-west-2-355444812467/a2i-demo/426b7113-8d9b-45e4-b91f-03474e62db59.wav'}}\n",
      "{'flowDefinitionArn': 'arn:aws:sagemaker:us-west-2:355444812467:flow-definition/fd-sagemaker-audio-classification-demo-2021-07-17-02-03-03', 'humanAnswers': [{'acceptanceTime': '2021-07-17T03:50:01.928Z', 'answerContent': {'sentiment': {'label': 'Crying'}}, 'submissionTime': '2021-07-17T03:50:06.505Z', 'timeSpentInSeconds': 4.577, 'workerId': 'ec24e95d77c7c040', 'workerMetadata': {'identityData': {'identityProviderType': 'Cognito', 'issuer': 'https://cognito-idp.us-west-2.amazonaws.com/us-west-2_9iI2T8Z22', 'sub': 'c138e2f0-d140-4ed8-8c98-16ed048e51ed'}}}], 'humanLoopName': 'ffcfe7e5-5e19-452f-9d96-58bd36f8616d', 'inputContent': {'initialValue': 0.6077364683151245, 'taskObject': 's3://sagemaker-us-west-2-355444812467/a2i-demo/ffcfe7e5-5e19-452f-9d96-58bd36f8616d.wav'}}\n",
      "{'flowDefinitionArn': 'arn:aws:sagemaker:us-west-2:355444812467:flow-definition/fd-sagemaker-audio-classification-demo-2021-07-17-02-03-03', 'humanAnswers': [{'acceptanceTime': '2021-07-17T03:50:06.597Z', 'answerContent': {'sentiment': {'label': 'Barking'}}, 'submissionTime': '2021-07-17T03:50:11.704Z', 'timeSpentInSeconds': 5.107, 'workerId': 'ec24e95d77c7c040', 'workerMetadata': {'identityData': {'identityProviderType': 'Cognito', 'issuer': 'https://cognito-idp.us-west-2.amazonaws.com/us-west-2_9iI2T8Z22', 'sub': 'c138e2f0-d140-4ed8-8c98-16ed048e51ed'}}}], 'humanLoopName': '587f37f3-3bc2-4d28-aec9-4652c3ae5e39', 'inputContent': {'initialValue': 0.8443351984024048, 'taskObject': 's3://sagemaker-us-west-2-355444812467/a2i-demo/587f37f3-3bc2-4d28-aec9-4652c3ae5e39.wav'}}\n",
      "{'flowDefinitionArn': 'arn:aws:sagemaker:us-west-2:355444812467:flow-definition/fd-sagemaker-audio-classification-demo-2021-07-17-02-03-03', 'humanAnswers': [{'acceptanceTime': '2021-07-17T03:54:06.107Z', 'answerContent': {'sentiment': {'label': 'Crying'}}, 'submissionTime': '2021-07-17T03:54:21.782Z', 'timeSpentInSeconds': 15.675, 'workerId': 'ec24e95d77c7c040', 'workerMetadata': {'identityData': {'identityProviderType': 'Cognito', 'issuer': 'https://cognito-idp.us-west-2.amazonaws.com/us-west-2_9iI2T8Z22', 'sub': 'c138e2f0-d140-4ed8-8c98-16ed048e51ed'}}}], 'humanLoopName': '747dc8f4-89cb-445f-b234-20d8e8d2461e', 'inputContent': {'initialValue': 0.9999464154243469, 'taskObject': 's3://sagemaker-us-west-2-355444812467/a2i-demo/747dc8f4-89cb-445f-b234-20d8e8d2461e.wav'}}\n",
      "{'flowDefinitionArn': 'arn:aws:sagemaker:us-west-2:355444812467:flow-definition/fd-sagemaker-audio-classification-demo-2021-07-17-02-03-03', 'humanAnswers': [{'acceptanceTime': '2021-07-17T03:54:35.492Z', 'answerContent': {'sentiment': {'label': 'Barking'}}, 'submissionTime': '2021-07-17T03:54:40.716Z', 'timeSpentInSeconds': 5.224, 'workerId': 'ec24e95d77c7c040', 'workerMetadata': {'identityData': {'identityProviderType': 'Cognito', 'issuer': 'https://cognito-idp.us-west-2.amazonaws.com/us-west-2_9iI2T8Z22', 'sub': 'c138e2f0-d140-4ed8-8c98-16ed048e51ed'}}}], 'humanLoopName': 'f5a4d6e2-b4ac-42b2-86e3-2d602631263a', 'inputContent': {'initialValue': 0.8466998338699341, 'taskObject': 's3://sagemaker-us-west-2-355444812467/a2i-demo/f5a4d6e2-b4ac-42b2-86e3-2d602631263a.wav'}}\n",
      "{'flowDefinitionArn': 'arn:aws:sagemaker:us-west-2:355444812467:flow-definition/fd-sagemaker-audio-classification-demo-2021-07-17-02-03-03', 'humanAnswers': [{'acceptanceTime': '2021-07-17T03:55:01.634Z', 'answerContent': {'sentiment': {'label': 'Laugh_Shout_Scream'}}, 'submissionTime': '2021-07-17T03:55:10.297Z', 'timeSpentInSeconds': 8.663, 'workerId': 'ec24e95d77c7c040', 'workerMetadata': {'identityData': {'identityProviderType': 'Cognito', 'issuer': 'https://cognito-idp.us-west-2.amazonaws.com/us-west-2_9iI2T8Z22', 'sub': 'c138e2f0-d140-4ed8-8c98-16ed048e51ed'}}}], 'humanLoopName': '0994fae4-41e4-4665-9e78-6684a2af7d3c', 'inputContent': {'initialValue': 0.4677722454071045, 'taskObject': 's3://sagemaker-us-west-2-355444812467/a2i-demo/0994fae4-41e4-4665-9e78-6684a2af7d3c.wav'}}\n",
      "{'flowDefinitionArn': 'arn:aws:sagemaker:us-west-2:355444812467:flow-definition/fd-sagemaker-audio-classification-demo-2021-07-17-02-03-03', 'humanAnswers': [{'acceptanceTime': '2021-07-17T03:56:01.401Z', 'answerContent': {'sentiment': {'label': 'Other'}}, 'submissionTime': '2021-07-17T03:56:18.299Z', 'timeSpentInSeconds': 16.898, 'workerId': 'ec24e95d77c7c040', 'workerMetadata': {'identityData': {'identityProviderType': 'Cognito', 'issuer': 'https://cognito-idp.us-west-2.amazonaws.com/us-west-2_9iI2T8Z22', 'sub': 'c138e2f0-d140-4ed8-8c98-16ed048e51ed'}}}], 'humanLoopName': 'c17704e7-25ef-4c2c-a264-adff19beebfb', 'inputContent': {'initialValue': 0.9124922156333923, 'taskObject': 's3://sagemaker-us-west-2-355444812467/a2i-demo/c17704e7-25ef-4c2c-a264-adff19beebfb.wav'}}\n",
      "{'flowDefinitionArn': 'arn:aws:sagemaker:us-west-2:355444812467:flow-definition/fd-sagemaker-audio-classification-demo-2021-07-17-02-03-03', 'humanAnswers': [{'acceptanceTime': '2021-07-17T03:57:21.832Z', 'answerContent': {'sentiment': {'label': 'Howling'}}, 'submissionTime': '2021-07-17T03:57:27.683Z', 'timeSpentInSeconds': 5.851, 'workerId': 'ec24e95d77c7c040', 'workerMetadata': {'identityData': {'identityProviderType': 'Cognito', 'issuer': 'https://cognito-idp.us-west-2.amazonaws.com/us-west-2_9iI2T8Z22', 'sub': 'c138e2f0-d140-4ed8-8c98-16ed048e51ed'}}}], 'humanLoopName': 'e55247e6-72c1-42ce-8a5c-77afc51bfeb6', 'inputContent': {'initialValue': 0.9991292953491211, 'taskObject': 's3://sagemaker-us-west-2-355444812467/a2i-demo/e55247e6-72c1-42ce-8a5c-77afc51bfeb6.wav'}}\n",
      "{'flowDefinitionArn': 'arn:aws:sagemaker:us-west-2:355444812467:flow-definition/fd-sagemaker-audio-classification-demo-2021-07-17-02-03-03', 'humanAnswers': [{'acceptanceTime': '2021-07-17T03:57:27.768Z', 'answerContent': {'sentiment': {'label': 'GlassBreaking'}}, 'submissionTime': '2021-07-17T03:57:46.322Z', 'timeSpentInSeconds': 18.554, 'workerId': 'ec24e95d77c7c040', 'workerMetadata': {'identityData': {'identityProviderType': 'Cognito', 'issuer': 'https://cognito-idp.us-west-2.amazonaws.com/us-west-2_9iI2T8Z22', 'sub': 'c138e2f0-d140-4ed8-8c98-16ed048e51ed'}}}], 'humanLoopName': 'f80f61e3-f87f-4181-b8d6-7640cfa35d0f', 'inputContent': {'initialValue': 0.9983523488044739, 'taskObject': 's3://sagemaker-us-west-2-355444812467/a2i-demo/f80f61e3-f87f-4181-b8d6-7640cfa35d0f.wav'}}\n"
     ]
    },
    {
     "name": "stdout",
     "output_type": "stream",
     "text": [
      "{'flowDefinitionArn': 'arn:aws:sagemaker:us-west-2:355444812467:flow-definition/fd-sagemaker-audio-classification-demo-2021-07-17-02-03-03', 'humanAnswers': [{'acceptanceTime': '2021-07-17T03:45:16.732Z', 'answerContent': {'sentiment': {'label': 'Barking'}}, 'submissionTime': '2021-07-17T03:47:58.379Z', 'timeSpentInSeconds': 161.647, 'workerId': 'ec24e95d77c7c040', 'workerMetadata': {'identityData': {'identityProviderType': 'Cognito', 'issuer': 'https://cognito-idp.us-west-2.amazonaws.com/us-west-2_9iI2T8Z22', 'sub': 'c138e2f0-d140-4ed8-8c98-16ed048e51ed'}}}], 'humanLoopName': 'e905fe12-60fb-46c6-bb30-037bf6ac59d1', 'inputContent': {'initialValue': 0.5870192646980286, 'taskObject': 's3://sagemaker-us-west-2-355444812467/a2i-demo/e905fe12-60fb-46c6-bb30-037bf6ac59d1.wav'}}\n",
      "{'flowDefinitionArn': 'arn:aws:sagemaker:us-west-2:355444812467:flow-definition/fd-sagemaker-audio-classification-demo-2021-07-17-02-03-03', 'humanAnswers': [{'acceptanceTime': '2021-07-17T03:48:13.289Z', 'answerContent': {'sentiment': {'label': 'Other'}}, 'submissionTime': '2021-07-17T03:49:14.707Z', 'timeSpentInSeconds': 61.418, 'workerId': 'ec24e95d77c7c040', 'workerMetadata': {'identityData': {'identityProviderType': 'Cognito', 'issuer': 'https://cognito-idp.us-west-2.amazonaws.com/us-west-2_9iI2T8Z22', 'sub': 'c138e2f0-d140-4ed8-8c98-16ed048e51ed'}}}], 'humanLoopName': '789ceae7-cfb0-49f4-9477-6c1b405372e0', 'inputContent': {'initialValue': 0.7000011205673218, 'taskObject': 's3://sagemaker-us-west-2-355444812467/a2i-demo/789ceae7-cfb0-49f4-9477-6c1b405372e0.wav'}}\n",
      "{'flowDefinitionArn': 'arn:aws:sagemaker:us-west-2:355444812467:flow-definition/fd-sagemaker-audio-classification-demo-2021-07-17-02-03-03', 'humanAnswers': [{'acceptanceTime': '2021-07-17T03:49:37.396Z', 'answerContent': {'sentiment': {'label': 'Other'}}, 'submissionTime': '2021-07-17T03:49:48.804Z', 'timeSpentInSeconds': 11.408, 'workerId': 'ec24e95d77c7c040', 'workerMetadata': {'identityData': {'identityProviderType': 'Cognito', 'issuer': 'https://cognito-idp.us-west-2.amazonaws.com/us-west-2_9iI2T8Z22', 'sub': 'c138e2f0-d140-4ed8-8c98-16ed048e51ed'}}}], 'humanLoopName': '15eb082d-14d8-4a36-afab-9d5a9ead2062', 'inputContent': {'initialValue': 0.3480794131755829, 'taskObject': 's3://sagemaker-us-west-2-355444812467/a2i-demo/15eb082d-14d8-4a36-afab-9d5a9ead2062.wav'}}\n",
      "{'flowDefinitionArn': 'arn:aws:sagemaker:us-west-2:355444812467:flow-definition/fd-sagemaker-audio-classification-demo-2021-07-17-02-03-03', 'humanAnswers': [{'acceptanceTime': '2021-07-17T03:54:28.204Z', 'answerContent': {'sentiment': {'label': 'Barking'}}, 'submissionTime': '2021-07-17T03:54:35.413Z', 'timeSpentInSeconds': 7.209, 'workerId': 'ec24e95d77c7c040', 'workerMetadata': {'identityData': {'identityProviderType': 'Cognito', 'issuer': 'https://cognito-idp.us-west-2.amazonaws.com/us-west-2_9iI2T8Z22', 'sub': 'c138e2f0-d140-4ed8-8c98-16ed048e51ed'}}}], 'humanLoopName': '19381b8c-7948-4cdc-87fb-d02371839062', 'inputContent': {'initialValue': 0.556947648525238, 'taskObject': 's3://sagemaker-us-west-2-355444812467/a2i-demo/19381b8c-7948-4cdc-87fb-d02371839062.wav'}}\n",
      "{'flowDefinitionArn': 'arn:aws:sagemaker:us-west-2:355444812467:flow-definition/fd-sagemaker-audio-classification-demo-2021-07-17-02-03-03', 'humanAnswers': [{'acceptanceTime': '2021-07-17T03:55:17.527Z', 'answerContent': {'sentiment': {'label': 'Barking'}}, 'submissionTime': '2021-07-17T03:55:29.342Z', 'timeSpentInSeconds': 11.815, 'workerId': 'ec24e95d77c7c040', 'workerMetadata': {'identityData': {'identityProviderType': 'Cognito', 'issuer': 'https://cognito-idp.us-west-2.amazonaws.com/us-west-2_9iI2T8Z22', 'sub': 'c138e2f0-d140-4ed8-8c98-16ed048e51ed'}}}], 'humanLoopName': 'a208c264-b400-4b9f-a80d-1e2f51b96433', 'inputContent': {'initialValue': 0.4483768045902252, 'taskObject': 's3://sagemaker-us-west-2-355444812467/a2i-demo/a208c264-b400-4b9f-a80d-1e2f51b96433.wav'}}\n",
      "{'flowDefinitionArn': 'arn:aws:sagemaker:us-west-2:355444812467:flow-definition/fd-sagemaker-audio-classification-demo-2021-07-17-02-03-03', 'humanAnswers': [{'acceptanceTime': '2021-07-17T03:56:40.245Z', 'answerContent': {'sentiment': {'label': 'Barking'}}, 'submissionTime': '2021-07-17T03:56:49.225Z', 'timeSpentInSeconds': 8.98, 'workerId': 'ec24e95d77c7c040', 'workerMetadata': {'identityData': {'identityProviderType': 'Cognito', 'issuer': 'https://cognito-idp.us-west-2.amazonaws.com/us-west-2_9iI2T8Z22', 'sub': 'c138e2f0-d140-4ed8-8c98-16ed048e51ed'}}}], 'humanLoopName': 'b67d3200-e12d-487f-b891-5b4594763f14', 'inputContent': {'initialValue': 0.3430112898349762, 'taskObject': 's3://sagemaker-us-west-2-355444812467/a2i-demo/b67d3200-e12d-487f-b891-5b4594763f14.wav'}}\n",
      "{'flowDefinitionArn': 'arn:aws:sagemaker:us-west-2:355444812467:flow-definition/fd-sagemaker-audio-classification-demo-2021-07-17-02-03-03', 'humanAnswers': [{'acceptanceTime': '2021-07-17T03:57:08.478Z', 'answerContent': {'sentiment': {'label': 'COSmoke'}}, 'submissionTime': '2021-07-17T03:57:15.407Z', 'timeSpentInSeconds': 6.929, 'workerId': 'ec24e95d77c7c040', 'workerMetadata': {'identityData': {'identityProviderType': 'Cognito', 'issuer': 'https://cognito-idp.us-west-2.amazonaws.com/us-west-2_9iI2T8Z22', 'sub': 'c138e2f0-d140-4ed8-8c98-16ed048e51ed'}}}], 'humanLoopName': '3de381f5-1720-4c1a-96df-246f4f34f937', 'inputContent': {'initialValue': 0.9998335242271423, 'taskObject': 's3://sagemaker-us-west-2-355444812467/a2i-demo/3de381f5-1720-4c1a-96df-246f4f34f937.wav'}}\n"
     ]
    }
   ],
   "source": [
    "s3_paths=[]\n",
    "with open('augmented.manifest', 'w') as outfile:\n",
    "    outfile.write(\"Filename,Label,Remark\\n\")\n",
    "    # convert the a2i json to augmented manifest for each human loop output\n",
    "    for name, s3_output_path in completed_human_loops:\n",
    "        splitted_string = re.split('s3://' +  BUCKET + '/', s3_output_path)\n",
    "        output_bucket_key = splitted_string[1]\n",
    "\n",
    "        response = s3.get_object(Bucket=BUCKET, Key=output_bucket_key)\n",
    "        content = response[\"Body\"].read()\n",
    "        json_output = json.loads(content)\n",
    "        print(json_output)\n",
    "        # convert using the function\n",
    "        augmented_manifest, s3_path = convert_a2i_to_augmented_manifest(json_output)\n",
    "        s3_paths.append(s3_path)\n",
    "        outfile.write(augmented_manifest)\n",
    "        outfile.write('\\n')\n"
   ]
  },
  {
   "cell_type": "code",
   "execution_count": 111,
   "metadata": {},
   "outputs": [
    {
     "name": "stdout",
     "output_type": "stream",
     "text": [
      "Filename,Label,Remark\r\n",
      "bb4f0a36-20d7-4003-b1af-a00239af85a4,5,Other\r\n",
      "086bef32-0281-4e1f-bca7-54ae3e0ceb8e,0,Barking\r\n",
      "6c656b22-b15f-4bce-8bcf-766087042042,0,Barking\r\n",
      "88697bd6-cf8e-4584-9cc8-b0c81473232c,6,Doorbell\r\n",
      "ed608df8-9f26-4e42-ae69-c9eddcad84c3,9,Laugh_Shout_Scream\r\n",
      "92f1b24c-8b3f-417c-b9b4-a865d44fc0d3,8,Music_Instrument\r\n",
      "6796bd83-908c-46e1-b7b3-b14b82e13014,5,Other\r\n",
      "e843396e-f7d2-4d2b-8967-9765e26c421d,0,Barking\r\n",
      "54e1c8b7-0166-4c71-9c7f-81d937168ca5,0,Barking\r\n",
      "dbfa0a1a-7311-4646-aef3-9bd11215780f,3,COSmoke\r\n",
      "902ff03a-65a1-4f73-8094-c0e4dff13bb1,2,Crying\r\n",
      "b61704b7-2d18-4fe9-90a1-6ed6480b0d15,2,Crying\r\n",
      "51b07128-0c80-4ed1-9210-ad2ed7edf5b3,5,Other\r\n",
      "ceb20ef1-f03b-4033-a3d9-b4a113f83dc7,4,GlassBreaking\r\n",
      "12c51f7c-244c-406d-b61f-7ae89fdaec21,9,Laugh_Shout_Scream\r\n",
      "ca225ed6-1fe6-421c-b7a1-9eeaa3b243bc,3,COSmoke\r\n",
      "6fbb7391-0444-4400-abc5-cb396ba5d70a,3,COSmoke\r\n",
      "1a39a8a1-354a-4bf5-a018-e27e7b10e17c,5,Other\r\n",
      "4a90438d-ae32-42ae-ab1a-9c0142d80a56,5,Other\r\n",
      "3a71ffbc-01b1-43c1-a9e2-771e6fab8f16,5,Other\r\n",
      "dd8b011a-fa8f-409a-b5f6-a0c1c445e65a,5,Other\r\n",
      "eb80bb16-2190-4423-857c-27e0df7c9042,0,Barking\r\n",
      "426b7113-8d9b-45e4-b91f-03474e62db59,0,Barking\r\n",
      "ffcfe7e5-5e19-452f-9d96-58bd36f8616d,2,Crying\r\n",
      "587f37f3-3bc2-4d28-aec9-4652c3ae5e39,0,Barking\r\n",
      "747dc8f4-89cb-445f-b234-20d8e8d2461e,2,Crying\r\n",
      "f5a4d6e2-b4ac-42b2-86e3-2d602631263a,0,Barking\r\n",
      "0994fae4-41e4-4665-9e78-6684a2af7d3c,9,Laugh_Shout_Scream\r\n",
      "c17704e7-25ef-4c2c-a264-adff19beebfb,5,Other\r\n",
      "e55247e6-72c1-42ce-8a5c-77afc51bfeb6,1,Howling\r\n",
      "f80f61e3-f87f-4181-b8d6-7640cfa35d0f,4,GlassBreaking\r\n",
      "e905fe12-60fb-46c6-bb30-037bf6ac59d1,0,Barking\r\n",
      "789ceae7-cfb0-49f4-9477-6c1b405372e0,5,Other\r\n",
      "15eb082d-14d8-4a36-afab-9d5a9ead2062,5,Other\r\n",
      "19381b8c-7948-4cdc-87fb-d02371839062,0,Barking\r\n",
      "a208c264-b400-4b9f-a80d-1e2f51b96433,0,Barking\r\n",
      "b67d3200-e12d-487f-b891-5b4594763f14,0,Barking\r\n",
      "3de381f5-1720-4c1a-96df-246f4f34f937,3,COSmoke\r\n"
     ]
    }
   ],
   "source": [
    "# take a look at how Json Lines looks like\n",
    "!head -n100 augmented.manifest"
   ]
  },
  {
   "cell_type": "code",
   "execution_count": 112,
   "metadata": {},
   "outputs": [],
   "source": [
    "# upload the manifest file to S3\n",
    "import time;\n",
    "ts = time.time()\n",
    "\n",
    "\n",
    "train_path = f\"{TRAIN_PATH}/{ts}/competition\""
   ]
  },
  {
   "cell_type": "code",
   "execution_count": 113,
   "metadata": {},
   "outputs": [
    {
     "data": {
      "text/plain": [
       "'s3://sagemaker-us-west-2-355444812467/tomofun/1626494294.0506582/competition'"
      ]
     },
     "execution_count": 113,
     "metadata": {},
     "output_type": "execute_result"
    }
   ],
   "source": [
    "train_path"
   ]
  },
  {
   "cell_type": "code",
   "execution_count": 114,
   "metadata": {},
   "outputs": [
    {
     "data": {
      "text/plain": [
       "'s3://sagemaker-us-west-2-355444812467/tomofun/1626494294.0506582/competition'"
      ]
     },
     "execution_count": 114,
     "metadata": {},
     "output_type": "execute_result"
    }
   ],
   "source": [
    "train_path"
   ]
  },
  {
   "cell_type": "code",
   "execution_count": 115,
   "metadata": {
    "scrolled": true
   },
   "outputs": [
    {
     "data": {
      "text/plain": [
       "['s3://sagemaker-us-west-2-355444812467/a2i-demo/bb4f0a36-20d7-4003-b1af-a00239af85a4.wav',\n",
       " 's3://sagemaker-us-west-2-355444812467/a2i-demo/086bef32-0281-4e1f-bca7-54ae3e0ceb8e.wav',\n",
       " 's3://sagemaker-us-west-2-355444812467/a2i-demo/6c656b22-b15f-4bce-8bcf-766087042042.wav',\n",
       " 's3://sagemaker-us-west-2-355444812467/a2i-demo/88697bd6-cf8e-4584-9cc8-b0c81473232c.wav',\n",
       " 's3://sagemaker-us-west-2-355444812467/a2i-demo/ed608df8-9f26-4e42-ae69-c9eddcad84c3.wav',\n",
       " 's3://sagemaker-us-west-2-355444812467/a2i-demo/92f1b24c-8b3f-417c-b9b4-a865d44fc0d3.wav',\n",
       " 's3://sagemaker-us-west-2-355444812467/a2i-demo/6796bd83-908c-46e1-b7b3-b14b82e13014.wav',\n",
       " 's3://sagemaker-us-west-2-355444812467/a2i-demo/e843396e-f7d2-4d2b-8967-9765e26c421d.wav',\n",
       " 's3://sagemaker-us-west-2-355444812467/a2i-demo/54e1c8b7-0166-4c71-9c7f-81d937168ca5.wav',\n",
       " 's3://sagemaker-us-west-2-355444812467/a2i-demo/dbfa0a1a-7311-4646-aef3-9bd11215780f.wav',\n",
       " 's3://sagemaker-us-west-2-355444812467/a2i-demo/902ff03a-65a1-4f73-8094-c0e4dff13bb1.wav',\n",
       " 's3://sagemaker-us-west-2-355444812467/a2i-demo/b61704b7-2d18-4fe9-90a1-6ed6480b0d15.wav',\n",
       " 's3://sagemaker-us-west-2-355444812467/a2i-demo/51b07128-0c80-4ed1-9210-ad2ed7edf5b3.wav',\n",
       " 's3://sagemaker-us-west-2-355444812467/a2i-demo/ceb20ef1-f03b-4033-a3d9-b4a113f83dc7.wav',\n",
       " 's3://sagemaker-us-west-2-355444812467/a2i-demo/12c51f7c-244c-406d-b61f-7ae89fdaec21.wav',\n",
       " 's3://sagemaker-us-west-2-355444812467/a2i-demo/ca225ed6-1fe6-421c-b7a1-9eeaa3b243bc.wav',\n",
       " 's3://sagemaker-us-west-2-355444812467/a2i-demo/6fbb7391-0444-4400-abc5-cb396ba5d70a.wav',\n",
       " 's3://sagemaker-us-west-2-355444812467/a2i-demo/1a39a8a1-354a-4bf5-a018-e27e7b10e17c.wav',\n",
       " 's3://sagemaker-us-west-2-355444812467/a2i-demo/4a90438d-ae32-42ae-ab1a-9c0142d80a56.wav',\n",
       " 's3://sagemaker-us-west-2-355444812467/a2i-demo/3a71ffbc-01b1-43c1-a9e2-771e6fab8f16.wav',\n",
       " 's3://sagemaker-us-west-2-355444812467/a2i-demo/dd8b011a-fa8f-409a-b5f6-a0c1c445e65a.wav',\n",
       " 's3://sagemaker-us-west-2-355444812467/a2i-demo/eb80bb16-2190-4423-857c-27e0df7c9042.wav',\n",
       " 's3://sagemaker-us-west-2-355444812467/a2i-demo/426b7113-8d9b-45e4-b91f-03474e62db59.wav',\n",
       " 's3://sagemaker-us-west-2-355444812467/a2i-demo/ffcfe7e5-5e19-452f-9d96-58bd36f8616d.wav',\n",
       " 's3://sagemaker-us-west-2-355444812467/a2i-demo/587f37f3-3bc2-4d28-aec9-4652c3ae5e39.wav',\n",
       " 's3://sagemaker-us-west-2-355444812467/a2i-demo/747dc8f4-89cb-445f-b234-20d8e8d2461e.wav',\n",
       " 's3://sagemaker-us-west-2-355444812467/a2i-demo/f5a4d6e2-b4ac-42b2-86e3-2d602631263a.wav',\n",
       " 's3://sagemaker-us-west-2-355444812467/a2i-demo/0994fae4-41e4-4665-9e78-6684a2af7d3c.wav',\n",
       " 's3://sagemaker-us-west-2-355444812467/a2i-demo/c17704e7-25ef-4c2c-a264-adff19beebfb.wav',\n",
       " 's3://sagemaker-us-west-2-355444812467/a2i-demo/e55247e6-72c1-42ce-8a5c-77afc51bfeb6.wav',\n",
       " 's3://sagemaker-us-west-2-355444812467/a2i-demo/f80f61e3-f87f-4181-b8d6-7640cfa35d0f.wav',\n",
       " 's3://sagemaker-us-west-2-355444812467/a2i-demo/e905fe12-60fb-46c6-bb30-037bf6ac59d1.wav',\n",
       " 's3://sagemaker-us-west-2-355444812467/a2i-demo/789ceae7-cfb0-49f4-9477-6c1b405372e0.wav',\n",
       " 's3://sagemaker-us-west-2-355444812467/a2i-demo/15eb082d-14d8-4a36-afab-9d5a9ead2062.wav',\n",
       " 's3://sagemaker-us-west-2-355444812467/a2i-demo/19381b8c-7948-4cdc-87fb-d02371839062.wav',\n",
       " 's3://sagemaker-us-west-2-355444812467/a2i-demo/a208c264-b400-4b9f-a80d-1e2f51b96433.wav',\n",
       " 's3://sagemaker-us-west-2-355444812467/a2i-demo/b67d3200-e12d-487f-b891-5b4594763f14.wav',\n",
       " 's3://sagemaker-us-west-2-355444812467/a2i-demo/3de381f5-1720-4c1a-96df-246f4f34f937.wav']"
      ]
     },
     "execution_count": 115,
     "metadata": {},
     "output_type": "execute_result"
    }
   ],
   "source": [
    "s3_paths"
   ]
  },
  {
   "cell_type": "code",
   "execution_count": 116,
   "metadata": {
    "scrolled": true
   },
   "outputs": [
    {
     "name": "stdout",
     "output_type": "stream",
     "text": [
      "upload: ./augmented.manifest to s3://sagemaker-us-west-2-355444812467/tomofun/1626494294.0506582/competition/meta_train.csv\n",
      "copy: s3://sagemaker-us-west-2-355444812467/a2i-demo/bb4f0a36-20d7-4003-b1af-a00239af85a4.wav to s3://sagemaker-us-west-2-355444812467/tomofun/1626494294.0506582/competition/train/bb4f0a36-20d7-4003-b1af-a00239af85a4.wav\n",
      "copy: s3://sagemaker-us-west-2-355444812467/a2i-demo/086bef32-0281-4e1f-bca7-54ae3e0ceb8e.wav to s3://sagemaker-us-west-2-355444812467/tomofun/1626494294.0506582/competition/train/086bef32-0281-4e1f-bca7-54ae3e0ceb8e.wav\n",
      "copy: s3://sagemaker-us-west-2-355444812467/a2i-demo/6c656b22-b15f-4bce-8bcf-766087042042.wav to s3://sagemaker-us-west-2-355444812467/tomofun/1626494294.0506582/competition/train/6c656b22-b15f-4bce-8bcf-766087042042.wav\n",
      "copy: s3://sagemaker-us-west-2-355444812467/a2i-demo/88697bd6-cf8e-4584-9cc8-b0c81473232c.wav to s3://sagemaker-us-west-2-355444812467/tomofun/1626494294.0506582/competition/train/88697bd6-cf8e-4584-9cc8-b0c81473232c.wav\n",
      "copy: s3://sagemaker-us-west-2-355444812467/a2i-demo/ed608df8-9f26-4e42-ae69-c9eddcad84c3.wav to s3://sagemaker-us-west-2-355444812467/tomofun/1626494294.0506582/competition/train/ed608df8-9f26-4e42-ae69-c9eddcad84c3.wav\n",
      "copy: s3://sagemaker-us-west-2-355444812467/a2i-demo/92f1b24c-8b3f-417c-b9b4-a865d44fc0d3.wav to s3://sagemaker-us-west-2-355444812467/tomofun/1626494294.0506582/competition/train/92f1b24c-8b3f-417c-b9b4-a865d44fc0d3.wav\n",
      "copy: s3://sagemaker-us-west-2-355444812467/a2i-demo/6796bd83-908c-46e1-b7b3-b14b82e13014.wav to s3://sagemaker-us-west-2-355444812467/tomofun/1626494294.0506582/competition/train/6796bd83-908c-46e1-b7b3-b14b82e13014.wav\n",
      "copy: s3://sagemaker-us-west-2-355444812467/a2i-demo/e843396e-f7d2-4d2b-8967-9765e26c421d.wav to s3://sagemaker-us-west-2-355444812467/tomofun/1626494294.0506582/competition/train/e843396e-f7d2-4d2b-8967-9765e26c421d.wav\n",
      "copy: s3://sagemaker-us-west-2-355444812467/a2i-demo/54e1c8b7-0166-4c71-9c7f-81d937168ca5.wav to s3://sagemaker-us-west-2-355444812467/tomofun/1626494294.0506582/competition/train/54e1c8b7-0166-4c71-9c7f-81d937168ca5.wav\n",
      "copy: s3://sagemaker-us-west-2-355444812467/a2i-demo/dbfa0a1a-7311-4646-aef3-9bd11215780f.wav to s3://sagemaker-us-west-2-355444812467/tomofun/1626494294.0506582/competition/train/dbfa0a1a-7311-4646-aef3-9bd11215780f.wav\n",
      "copy: s3://sagemaker-us-west-2-355444812467/a2i-demo/902ff03a-65a1-4f73-8094-c0e4dff13bb1.wav to s3://sagemaker-us-west-2-355444812467/tomofun/1626494294.0506582/competition/train/902ff03a-65a1-4f73-8094-c0e4dff13bb1.wav\n",
      "copy: s3://sagemaker-us-west-2-355444812467/a2i-demo/b61704b7-2d18-4fe9-90a1-6ed6480b0d15.wav to s3://sagemaker-us-west-2-355444812467/tomofun/1626494294.0506582/competition/train/b61704b7-2d18-4fe9-90a1-6ed6480b0d15.wav\n",
      "copy: s3://sagemaker-us-west-2-355444812467/a2i-demo/51b07128-0c80-4ed1-9210-ad2ed7edf5b3.wav to s3://sagemaker-us-west-2-355444812467/tomofun/1626494294.0506582/competition/train/51b07128-0c80-4ed1-9210-ad2ed7edf5b3.wav\n",
      "copy: s3://sagemaker-us-west-2-355444812467/a2i-demo/ceb20ef1-f03b-4033-a3d9-b4a113f83dc7.wav to s3://sagemaker-us-west-2-355444812467/tomofun/1626494294.0506582/competition/train/ceb20ef1-f03b-4033-a3d9-b4a113f83dc7.wav\n",
      "copy: s3://sagemaker-us-west-2-355444812467/a2i-demo/12c51f7c-244c-406d-b61f-7ae89fdaec21.wav to s3://sagemaker-us-west-2-355444812467/tomofun/1626494294.0506582/competition/train/12c51f7c-244c-406d-b61f-7ae89fdaec21.wav\n",
      "copy: s3://sagemaker-us-west-2-355444812467/a2i-demo/ca225ed6-1fe6-421c-b7a1-9eeaa3b243bc.wav to s3://sagemaker-us-west-2-355444812467/tomofun/1626494294.0506582/competition/train/ca225ed6-1fe6-421c-b7a1-9eeaa3b243bc.wav\n",
      "copy: s3://sagemaker-us-west-2-355444812467/a2i-demo/6fbb7391-0444-4400-abc5-cb396ba5d70a.wav to s3://sagemaker-us-west-2-355444812467/tomofun/1626494294.0506582/competition/train/6fbb7391-0444-4400-abc5-cb396ba5d70a.wav\n",
      "copy: s3://sagemaker-us-west-2-355444812467/a2i-demo/1a39a8a1-354a-4bf5-a018-e27e7b10e17c.wav to s3://sagemaker-us-west-2-355444812467/tomofun/1626494294.0506582/competition/train/1a39a8a1-354a-4bf5-a018-e27e7b10e17c.wav\n",
      "copy: s3://sagemaker-us-west-2-355444812467/a2i-demo/4a90438d-ae32-42ae-ab1a-9c0142d80a56.wav to s3://sagemaker-us-west-2-355444812467/tomofun/1626494294.0506582/competition/train/4a90438d-ae32-42ae-ab1a-9c0142d80a56.wav\n",
      "copy: s3://sagemaker-us-west-2-355444812467/a2i-demo/3a71ffbc-01b1-43c1-a9e2-771e6fab8f16.wav to s3://sagemaker-us-west-2-355444812467/tomofun/1626494294.0506582/competition/train/3a71ffbc-01b1-43c1-a9e2-771e6fab8f16.wav\n",
      "copy: s3://sagemaker-us-west-2-355444812467/a2i-demo/dd8b011a-fa8f-409a-b5f6-a0c1c445e65a.wav to s3://sagemaker-us-west-2-355444812467/tomofun/1626494294.0506582/competition/train/dd8b011a-fa8f-409a-b5f6-a0c1c445e65a.wav\n",
      "copy: s3://sagemaker-us-west-2-355444812467/a2i-demo/eb80bb16-2190-4423-857c-27e0df7c9042.wav to s3://sagemaker-us-west-2-355444812467/tomofun/1626494294.0506582/competition/train/eb80bb16-2190-4423-857c-27e0df7c9042.wav\n",
      "copy: s3://sagemaker-us-west-2-355444812467/a2i-demo/426b7113-8d9b-45e4-b91f-03474e62db59.wav to s3://sagemaker-us-west-2-355444812467/tomofun/1626494294.0506582/competition/train/426b7113-8d9b-45e4-b91f-03474e62db59.wav\n",
      "copy: s3://sagemaker-us-west-2-355444812467/a2i-demo/ffcfe7e5-5e19-452f-9d96-58bd36f8616d.wav to s3://sagemaker-us-west-2-355444812467/tomofun/1626494294.0506582/competition/train/ffcfe7e5-5e19-452f-9d96-58bd36f8616d.wav\n",
      "copy: s3://sagemaker-us-west-2-355444812467/a2i-demo/587f37f3-3bc2-4d28-aec9-4652c3ae5e39.wav to s3://sagemaker-us-west-2-355444812467/tomofun/1626494294.0506582/competition/train/587f37f3-3bc2-4d28-aec9-4652c3ae5e39.wav\n",
      "copy: s3://sagemaker-us-west-2-355444812467/a2i-demo/747dc8f4-89cb-445f-b234-20d8e8d2461e.wav to s3://sagemaker-us-west-2-355444812467/tomofun/1626494294.0506582/competition/train/747dc8f4-89cb-445f-b234-20d8e8d2461e.wav\n",
      "copy: s3://sagemaker-us-west-2-355444812467/a2i-demo/f5a4d6e2-b4ac-42b2-86e3-2d602631263a.wav to s3://sagemaker-us-west-2-355444812467/tomofun/1626494294.0506582/competition/train/f5a4d6e2-b4ac-42b2-86e3-2d602631263a.wav\n",
      "copy: s3://sagemaker-us-west-2-355444812467/a2i-demo/0994fae4-41e4-4665-9e78-6684a2af7d3c.wav to s3://sagemaker-us-west-2-355444812467/tomofun/1626494294.0506582/competition/train/0994fae4-41e4-4665-9e78-6684a2af7d3c.wav\n",
      "copy: s3://sagemaker-us-west-2-355444812467/a2i-demo/c17704e7-25ef-4c2c-a264-adff19beebfb.wav to s3://sagemaker-us-west-2-355444812467/tomofun/1626494294.0506582/competition/train/c17704e7-25ef-4c2c-a264-adff19beebfb.wav\n",
      "copy: s3://sagemaker-us-west-2-355444812467/a2i-demo/e55247e6-72c1-42ce-8a5c-77afc51bfeb6.wav to s3://sagemaker-us-west-2-355444812467/tomofun/1626494294.0506582/competition/train/e55247e6-72c1-42ce-8a5c-77afc51bfeb6.wav\n",
      "copy: s3://sagemaker-us-west-2-355444812467/a2i-demo/f80f61e3-f87f-4181-b8d6-7640cfa35d0f.wav to s3://sagemaker-us-west-2-355444812467/tomofun/1626494294.0506582/competition/train/f80f61e3-f87f-4181-b8d6-7640cfa35d0f.wav\n",
      "copy: s3://sagemaker-us-west-2-355444812467/a2i-demo/e905fe12-60fb-46c6-bb30-037bf6ac59d1.wav to s3://sagemaker-us-west-2-355444812467/tomofun/1626494294.0506582/competition/train/e905fe12-60fb-46c6-bb30-037bf6ac59d1.wav\n",
      "copy: s3://sagemaker-us-west-2-355444812467/a2i-demo/789ceae7-cfb0-49f4-9477-6c1b405372e0.wav to s3://sagemaker-us-west-2-355444812467/tomofun/1626494294.0506582/competition/train/789ceae7-cfb0-49f4-9477-6c1b405372e0.wav\n",
      "copy: s3://sagemaker-us-west-2-355444812467/a2i-demo/15eb082d-14d8-4a36-afab-9d5a9ead2062.wav to s3://sagemaker-us-west-2-355444812467/tomofun/1626494294.0506582/competition/train/15eb082d-14d8-4a36-afab-9d5a9ead2062.wav\n",
      "copy: s3://sagemaker-us-west-2-355444812467/a2i-demo/19381b8c-7948-4cdc-87fb-d02371839062.wav to s3://sagemaker-us-west-2-355444812467/tomofun/1626494294.0506582/competition/train/19381b8c-7948-4cdc-87fb-d02371839062.wav\n",
      "copy: s3://sagemaker-us-west-2-355444812467/a2i-demo/a208c264-b400-4b9f-a80d-1e2f51b96433.wav to s3://sagemaker-us-west-2-355444812467/tomofun/1626494294.0506582/competition/train/a208c264-b400-4b9f-a80d-1e2f51b96433.wav\n",
      "copy: s3://sagemaker-us-west-2-355444812467/a2i-demo/b67d3200-e12d-487f-b891-5b4594763f14.wav to s3://sagemaker-us-west-2-355444812467/tomofun/1626494294.0506582/competition/train/b67d3200-e12d-487f-b891-5b4594763f14.wav\n"
     ]
    },
    {
     "name": "stdout",
     "output_type": "stream",
     "text": [
      "Completed 78.2 KiB/78.2 KiB (675.9 KiB/s) with 1 file(s) remaining\r",
      "copy: s3://sagemaker-us-west-2-355444812467/a2i-demo/3de381f5-1720-4c1a-96df-246f4f34f937.wav to s3://sagemaker-us-west-2-355444812467/tomofun/1626494294.0506582/competition/train/3de381f5-1720-4c1a-96df-246f4f34f937.wav\r\n"
     ]
    }
   ],
   "source": [
    "# !aws s3 cp augmented.manifest {train_path}/meta_train.csv\n",
    "for s3_path in s3_paths: \n",
    "    filename = s3_path.split('/')[-1]\n",
    "    !aws s3 cp {s3_path} {train_path}/train/{filename} \n",
    "!aws s3 cp augmented.manifest {train_path}/meta_train.csv\n",
    "for s3_path in s3_paths: \n",
    "    filename = s3_path.split('/')[-1]\n",
    "    !aws s3 cp {s3_path} {train_path}/train/{filename} "
   ]
  },
  {
   "cell_type": "markdown",
   "metadata": {},
   "source": [
    "## ---- 跑到這邊就好 -----"
   ]
  },
  {
   "cell_type": "markdown",
   "metadata": {},
   "source": [
    "Similar to training with Ground Truth output augmented manifest file outlined in this [blog](https://aws.amazon.com/blogs/machine-learning/easily-train-models-using-datasets-labeled-by-amazon-sagemaker-ground-truth/), once we have collected enough data points, we can construct a new `Estimator` for incremental training. \n",
    "\n",
    "For incremental training, the choice of hyperparameters becomes critical. Since we are continue the learning and optimization from the last model, an appropriate starting `learning_rate`, for example, would again need to be determined. But as a rule of thumb, even with the introduction of new, unseen data, we should start out the incremental training with a smaller `learning_rate` and different learning rate schedule (`lr_scheduler_factor` and `lr_scheduler_step`) than that of the previous training job as the optimization has previously reached to a more stable state with reduced learning rate. We should see a similar mAP performance on the original validation dataset in the first epoch in the incremental training. \n",
    "\n",
    "We here will be using the hyperparameters exactly the same as how the first model was trained in the [training notebook](https://github.com/awslabs/amazon-sagemaker-examples/blob/master/introduction_to_amazon_algorithms/object_detection_pascalvoc_coco/object_detection_recordio_format.ipynb), with the following exceptions\n",
    "\n",
    "- smaller learning rate (`learning_rate` was 0.001, now 0.0001)\n",
    "- using the weights from the trained model instead of pre-trained weights that comes with the algorithm (`use_pretrained_model=0`).\n",
    "\n",
    "Note that the following working code snippet is meant to demonstrate how to set up the A2I output for training in SageMaker with object detection algorithm. Incremental training with merely 1 or 2 new samples and untuned hyperparameters, would not yield a meaning model, if not experiencing [catastrophic forgetting](https://en.wikipedia.org/wiki/Catastrophic_interference).\n",
    "\n",
    "*The next cell would take about 5 minutes.*"
   ]
  },
  {
   "cell_type": "code",
   "execution_count": 154,
   "metadata": {},
   "outputs": [],
   "source": [
    "%store -r model_s3_path"
   ]
  },
  {
   "cell_type": "code",
   "execution_count": null,
   "metadata": {
    "scrolled": true
   },
   "outputs": [],
   "source": [
    "# path definition\n",
    "s3_train_data = train_path\n",
    "# Reusing the training data for validation here for demonstration purposes\n",
    "# but in practice you should provide a set of data that you want to validate the training against\n",
    "s3_validation_data = train_path \n",
    "s3_output_location = f'{OUTPUT_PATH}/incremental-training'\n",
    "\n",
    "# num_training_samples = len(output)\n",
    "num_training_samples = 3 \n",
    "\n",
    "# Create a model object set to using \"Pipe\" mode because we are inputing augmented manifest files.\n",
    "new_od_model = sagemaker.estimator.Estimator(image_uri, # same object detection image that we used for model hosting  \n",
    "                                             role, \n",
    "                                             instance_count=1, \n",
    "                                             instance_type='ml.p3.2xlarge', \n",
    "                                             volume_size = 50, \n",
    "                                             max_run = 360000, \n",
    "                                             input_mode = 'File',\n",
    "                                             output_path=s3_output_location, \n",
    "                                             sagemaker_session=sess) \n",
    "\n",
    "# same set of hyperparameters from the original training job\n",
    "new_od_model.set_hyperparameters(batch_size = 1)\n",
    "\n",
    "# setting the input data\n",
    "train_data = sagemaker.inputs.TrainingInput(s3_train_data)\n",
    "validation_data = sagemaker.inputs.TrainingInput(s3_validation_data)\n",
    "\n",
    "# Use the output model from the original training job.  \n",
    "model_data = sagemaker.inputs.TrainingInput(model_s3_path)\n",
    "\n",
    "data_channels = {'competition': train_data, \n",
    "                 'model': model_data}\n",
    "                 \n",
    "new_od_model.fit(inputs=data_channels, logs=True, wait=False)"
   ]
  },
  {
   "cell_type": "markdown",
   "metadata": {},
   "source": [
    "After training, you would get a new model in the `s3_output_location`, you can deploy it to a new endpoint or modify an endpoint without taking models that are already deployed into production out of service. For example, you can add new model variants, update the ML Compute instance configurations of existing model variants, or change the distribution of traffic among model variants. To modify an endpoint, you provide a new endpoint configuration. Amazon SageMaker implements the changes without any downtime. For more information, see [UpdateEndpoint](https://docs.aws.amazon.com/sagemaker/latest/APIReference/API_UpdateEndpoint.html) and [UpdateEndpointWeightsAndCapacities](https://docs.aws.amazon.com/sagemaker/latest/APIReference/API_UpdateEndpointWeightsAndCapacities.html). "
   ]
  },
  {
   "cell_type": "code",
   "execution_count": null,
   "metadata": {},
   "outputs": [],
   "source": [
    "new_od_model.model_data"
   ]
  },
  {
   "cell_type": "code",
   "execution_count": null,
   "metadata": {},
   "outputs": [],
   "source": [
    "\n",
    "incremented_model = sagemaker.model.Model(image_uri, \n",
    "                              model_data = new_od_model.model_data,\n",
    "                              role = role,\n",
    "                              predictor_cls = sagemaker.predictor.Predictor,\n",
    "                              sagemaker_session = sess)\n",
    "\n",
    "new_detector =  sagemaker.predictor.Predictor(endpoint_name = endpoint_name) \n",
    "new_detector.update_endpoint(model_name=incremented_model.name, initial_instance_count = 1,\n",
    "                               instance_type = 'ml.p2.xlarge', wait=False)"
   ]
  },
  {
   "cell_type": "markdown",
   "metadata": {},
   "source": [
    "### Create a Lambda function pass samples with low confidence to a2i \n",
    "<a id=\"lambda\"></a>"
   ]
  },
  {
   "cell_type": "code",
   "execution_count": 47,
   "metadata": {},
   "outputs": [
    {
     "name": "stdout",
     "output_type": "stream",
     "text": [
      "updating: lambda_function.py (deflated 58%)\n",
      "Completed 1.1 KiB/1.1 KiB (13.0 KiB/s) with 1 file(s) remaining\r",
      "upload: ./invoke_endpoint_a2i.zip to s3://sagemaker-us-west-2-355444812467/lambda/invoke_endpoint_a2i.zip\n"
     ]
    }
   ],
   "source": [
    "%%bash -s \"$BUCKET\" \n",
    "cd invoke_endpoint_a2i \n",
    "zip -r invoke_endpoint_a2i.zip  .\n",
    "aws s3 cp invoke_endpoint_a2i.zip s3://$1/lambda/"
   ]
  },
  {
   "cell_type": "code",
   "execution_count": 48,
   "metadata": {},
   "outputs": [],
   "source": [
    "%store -r lambda_role_arn"
   ]
  },
  {
   "cell_type": "code",
   "execution_count": 49,
   "metadata": {},
   "outputs": [
    {
     "data": {
      "text/plain": [
       "'arn:aws:iam::355444812467:role/AmazonSageMaker-LambdaExecutionRole'"
      ]
     },
     "execution_count": 49,
     "metadata": {},
     "output_type": "execute_result"
    }
   ],
   "source": [
    "lambda_role_arn"
   ]
  },
  {
   "cell_type": "code",
   "execution_count": 50,
   "metadata": {
    "scrolled": false
   },
   "outputs": [
    {
     "name": "stdout",
     "output_type": "stream",
     "text": [
      "\r\n",
      "An error occurred (ResourceConflictException) when calling the CreateFunction operation: Function already exist: invoke_endpoint_a2i\r\n"
     ]
    }
   ],
   "source": [
    "import os\n",
    "cwd = os.getcwd()\n",
    "!aws lambda create-function --function-name invoke_endpoint_a2i --zip-file fileb://$cwd/invoke_endpoint_a2i/invoke_endpoint_a2i.zip  --handler lambda_function.lambda_handler --runtime python3.7 --role $lambda_role_arn "
   ]
  },
  {
   "cell_type": "markdown",
   "metadata": {},
   "source": [
    "#### Configure lambda function - invoke_image_object_detection \n",
    "* you can also do it by command line - \n",
    "```\n",
    "aws lambda update-function-configuration --function-name invoke_image_object_detection \\\n",
    "    --environment \"Variables={BUCKET=my-bucket,KEY=file.txt}\"\n",
    "```    \n",
    "![configure environment variable](../03-lambda-api/content_image/setup_env_vars_for_lambda2.png)"
   ]
  },
  {
   "cell_type": "code",
   "execution_count": 1,
   "metadata": {},
   "outputs": [
    {
     "ename": "NameError",
     "evalue": "name 'flowDefinitionArn' is not defined",
     "output_type": "error",
     "traceback": [
      "\u001b[0;31m---------------------------------------------------------------------------\u001b[0m",
      "\u001b[0;31mNameError\u001b[0m                                 Traceback (most recent call last)",
      "\u001b[0;32m<ipython-input-1-bd6b78a45ad3>\u001b[0m in \u001b[0;36m<module>\u001b[0;34m\u001b[0m\n\u001b[1;32m      1\u001b[0m \u001b[0mbucket_key\u001b[0m \u001b[0;34m=\u001b[0m \u001b[0;34m\"a2i-demo\"\u001b[0m\u001b[0;34m\u001b[0m\u001b[0;34m\u001b[0m\u001b[0m\n\u001b[0;32m----> 2\u001b[0;31m \u001b[0mvariables\u001b[0m \u001b[0;34m=\u001b[0m \u001b[0;34mf\"A2IFLOW_DEF={flowDefinitionArn},BUCKET={BUCKET},ENDPOINT_NAME={endpoint_name},KEY={bucket_key}\"\u001b[0m\u001b[0;34m\u001b[0m\u001b[0;34m\u001b[0m\u001b[0m\n\u001b[0m\u001b[1;32m      3\u001b[0m \u001b[0menv\u001b[0m \u001b[0;34m=\u001b[0m \u001b[0;34m\"Variables={\"\u001b[0m\u001b[0;34m+\u001b[0m\u001b[0mvariables\u001b[0m\u001b[0;34m+\u001b[0m\u001b[0;34m\"}\"\u001b[0m\u001b[0;34m\u001b[0m\u001b[0;34m\u001b[0m\u001b[0m\n\u001b[1;32m      4\u001b[0m \u001b[0;34m\u001b[0m\u001b[0m\n\u001b[1;32m      5\u001b[0m \u001b[0mget_ipython\u001b[0m\u001b[0;34m(\u001b[0m\u001b[0;34m)\u001b[0m\u001b[0;34m.\u001b[0m\u001b[0msystem\u001b[0m\u001b[0;34m(\u001b[0m\u001b[0;34m'aws lambda update-function-configuration --function-name invoke_endpoint_a2i --environment \"$env\"'\u001b[0m\u001b[0;34m)\u001b[0m\u001b[0;34m\u001b[0m\u001b[0;34m\u001b[0m\u001b[0m\n",
      "\u001b[0;31mNameError\u001b[0m: name 'flowDefinitionArn' is not defined"
     ]
    }
   ],
   "source": [
    "bucket_key = \"a2i-demo\"\n",
    "variables = f\"A2IFLOW_DEF={flowDefinitionArn},BUCKET={BUCKET},ENDPOINT_NAME={endpoint_name},KEY={bucket_key}\"\n",
    "env = \"Variables={\"+variables+\"}\"\n",
    "\n",
    "!aws lambda update-function-configuration --function-name invoke_endpoint_a2i --environment \"$env\""
   ]
  },
  {
   "cell_type": "code",
   "execution_count": 267,
   "metadata": {},
   "outputs": [
    {
     "name": "stdout",
     "output_type": "stream",
     "text": [
      "{\r\n",
      "    \"Statement\": \"{\\\"Sid\\\":\\\"apigateway\\\",\\\"Effect\\\":\\\"Allow\\\",\\\"Principal\\\":{\\\"Service\\\":\\\"apigateway.amazonaws.com\\\"},\\\"Action\\\":\\\"lambda:InvokeFunction\\\",\\\"Resource\\\":\\\"arn:aws:lambda:us-west-2:355444812467:function:invoke_endpoint_a2i\\\"}\"\r\n",
      "}\r\n"
     ]
    }
   ],
   "source": [
    "!aws lambda add-permission \\\n",
    "    --function-name invoke_endpoint_a2i \\\n",
    "    --action lambda:InvokeFunction \\\n",
    "    --statement-id apigateway \\\n",
    "    --principal apigateway.amazonaws.com  "
   ]
  },
  {
   "cell_type": "markdown",
   "metadata": {},
   "source": [
    "### Integrate the Lambda with API Gateway \n",
    "* reference to the previous notebook "
   ]
  },
  {
   "cell_type": "markdown",
   "metadata": {},
   "source": [
    "### Advanced material - use sagemaker pipeline to manege the training / deployment process "
   ]
  },
  {
   "cell_type": "code",
   "execution_count": 46,
   "metadata": {},
   "outputs": [
    {
     "ename": "NameError",
     "evalue": "name 's3_train_data' is not defined",
     "output_type": "error",
     "traceback": [
      "\u001b[0;31m---------------------------------------------------------------------------\u001b[0m",
      "\u001b[0;31mNameError\u001b[0m                                 Traceback (most recent call last)",
      "\u001b[0;32m<ipython-input-46-9f7be16de010>\u001b[0m in \u001b[0;36m<module>\u001b[0;34m\u001b[0m\n\u001b[1;32m      7\u001b[0m train_data = ParameterString(\n\u001b[1;32m      8\u001b[0m     \u001b[0mname\u001b[0m\u001b[0;34m=\u001b[0m\u001b[0;34m\"TrainData\"\u001b[0m\u001b[0;34m,\u001b[0m\u001b[0;34m\u001b[0m\u001b[0;34m\u001b[0m\u001b[0m\n\u001b[0;32m----> 9\u001b[0;31m     \u001b[0mdefault_value\u001b[0m\u001b[0;34m=\u001b[0m\u001b[0ms3_train_data\u001b[0m\u001b[0;34m,\u001b[0m\u001b[0;34m\u001b[0m\u001b[0;34m\u001b[0m\u001b[0m\n\u001b[0m\u001b[1;32m     10\u001b[0m )\n\u001b[1;32m     11\u001b[0m validation_data = ParameterString(\n",
      "\u001b[0;31mNameError\u001b[0m: name 's3_train_data' is not defined"
     ]
    }
   ],
   "source": [
    "from sagemaker.workflow.parameters import (\n",
    "    ParameterInteger,\n",
    "    ParameterString,\n",
    ")\n",
    "\n",
    "\n",
    "train_data = ParameterString(\n",
    "    name=\"TrainData\",\n",
    "    default_value=s3_train_data,\n",
    ")\n",
    "validation_data = ParameterString(\n",
    "    name=\"ValidationData\",\n",
    "    default_value=s3_validation_data,\n",
    ")\n",
    "model_data = ParameterString(\n",
    "    name=\"ModelData\",\n",
    "    default_value=model_s3_path,\n",
    ")\n",
    "model_approval_status = ParameterString(\n",
    "    name=\"ModelApprovalStatus\",\n",
    "    default_value=\"Approved\"\n",
    ")\n"
   ]
  },
  {
   "cell_type": "code",
   "execution_count": null,
   "metadata": {},
   "outputs": [],
   "source": [
    "from sagemaker.workflow.steps import TrainingStep\n",
    "\n",
    "\n",
    "step_train = TrainingStep(\n",
    "    name=\"AudioClassificationTraining\",\n",
    "    estimator=new_od_model,\n",
    "    inputs={\n",
    "        \"competition\": sagemaker.inputs.TrainingInput(train_data, \n",
    "                                            distribution='FullyReplicated'), \n",
    "        \"validation\":sagemaker.inputs.TrainingInput(validation_data, \n",
    "                                                 distribution='FullyReplicated'), \n",
    "        \"model\":sagemaker.inputs.TrainingInput(model_data, \n",
    "                                            distribution='FullyReplicated')\n",
    "    },\n",
    ")"
   ]
  },
  {
   "cell_type": "code",
   "execution_count": null,
   "metadata": {},
   "outputs": [],
   "source": [
    "import time \n",
    "from sagemaker.workflow.step_collections import CreateModelStep\n",
    "model_name='audio-vgg16-'+str(int(time.time())) \n",
    "\n",
    "model = sagemaker.model.Model(\n",
    "    name=model_name,\n",
    "    image_uri=step_train.properties.AlgorithmSpecification.TrainingImage,\n",
    "    model_data=step_train.properties.ModelArtifacts.S3ModelArtifacts,\n",
    "    sagemaker_session=sess,\n",
    "    role=role\n",
    ")\n",
    "\n",
    "inputs = sagemaker.inputs.CreateModelInput(\n",
    "    instance_type=\"ml.m4.xlarge\"\n",
    ")\n",
    "\n",
    "create_model_step = CreateModelStep(\n",
    "    name=\"ModelPreDeployment\",\n",
    "    model=model,\n",
    "    inputs=inputs\n",
    ")\n"
   ]
  },
  {
   "cell_type": "code",
   "execution_count": null,
   "metadata": {},
   "outputs": [],
   "source": [
    "from sagemaker.workflow.step_collections import RegisterModel\n",
    "model_package_group_name = f\"AudioClassificationGroupModel\" \n",
    "step_register = RegisterModel(\n",
    "    name=\"AudioClassificationModel\",\n",
    "    estimator=new_od_model,\n",
    "    model_data=step_train.properties.ModelArtifacts.S3ModelArtifacts,\n",
    "    content_types=[\"application/octet-stream\"],\n",
    "    response_types=[\"application/json\"],\n",
    "    inference_instances=[\"ml.t2.medium\", \"ml.m5.xlarge\"],\n",
    "    transform_instances=[\"ml.m5.xlarge\"],\n",
    "    model_package_group_name=model_package_group_name,\n",
    "    approval_status=model_approval_status,\n",
    ")"
   ]
  },
  {
   "cell_type": "code",
   "execution_count": null,
   "metadata": {},
   "outputs": [],
   "source": [
    "from sagemaker.sklearn.processing import SKLearnProcessor\n",
    "from sagemaker.workflow.steps import ProcessingStep\n",
    "\n",
    "\n",
    "\n",
    "deploy_model_processor = SKLearnProcessor(\n",
    "    framework_version='0.23-1',\n",
    "    role=role,\n",
    "    instance_type=\"ml.m5.large\",\n",
    "    instance_count=1,\n",
    "    sagemaker_session=sess)\n",
    "\n",
    "deploy_step = ProcessingStep(\n",
    "    name='DeployModel',\n",
    "    processor=deploy_model_processor,\n",
    "    job_arguments=[\n",
    "        \"--model-name\", create_model_step.properties.ModelName,\n",
    "        \"--endpoint-name\", endpoint_name, \n",
    "        \"--region\", region],\n",
    "    code=\"./deploy_model.py\")"
   ]
  },
  {
   "cell_type": "code",
   "execution_count": null,
   "metadata": {},
   "outputs": [],
   "source": [
    "endpoint_name"
   ]
  },
  {
   "cell_type": "code",
   "execution_count": null,
   "metadata": {},
   "outputs": [],
   "source": [
    "pipeline_name=\"AudioClassification\"\n",
    "from sagemaker.workflow.pipeline import Pipeline\n",
    "pipeline = Pipeline(\n",
    "    name=pipeline_name,\n",
    "    parameters=[\n",
    "        train_data, validation_data, model_data, model_approval_status \n",
    "    ],\n",
    "    steps=[ step_train, step_register, create_model_step, deploy_step],\n",
    ")"
   ]
  },
  {
   "cell_type": "code",
   "execution_count": null,
   "metadata": {},
   "outputs": [],
   "source": [
    "json.loads(pipeline.definition())\n"
   ]
  },
  {
   "cell_type": "code",
   "execution_count": null,
   "metadata": {},
   "outputs": [],
   "source": [
    "pipeline.upsert(role_arn=role)"
   ]
  },
  {
   "cell_type": "code",
   "execution_count": null,
   "metadata": {},
   "outputs": [],
   "source": [
    "execution = pipeline.start()"
   ]
  },
  {
   "cell_type": "markdown",
   "metadata": {},
   "source": [
    "### More on incremental training\n",
    "It is recommended to perform a search over the hyperparameter space for your incremental training with [hyperparameter tuning](https://docs.aws.amazon.com/sagemaker/latest/dg/automatic-model-tuning.html) for an optimal set of hyperparameters, especially the ones related to learning rate: `learning_rate`, `lr_scheduler_factor` and `lr_scheduler_step` from the SageMaker object detection algorithm. We have an [example](https://github.com/aws/amazon-sagemaker-examples/blob/master/hyperparameter_tuning/image_classification_early_stopping/hpo_image_classification_early_stopping.ipynb) of running a hyperparameter tuning job using Amazon SageMaker Automatic Model Tuning feature. Please try it out!"
   ]
  },
  {
   "cell_type": "markdown",
   "metadata": {},
   "source": [
    "## The End, but....!\n",
    "This is the end of the example. Remember to execute the next cell to delete the endpoint otherwise it will continue to incur charges."
   ]
  },
  {
   "cell_type": "code",
   "execution_count": null,
   "metadata": {},
   "outputs": [],
   "source": [
    "%store flowDefinitionArn \n",
    "%store endpoint_name\n",
    "%store model_package_group_name \n",
    "%store pipeline_name\n",
    "%store role\n",
    "%store lambda_role_arn\n",
    "#object_detector.delete_endpoint()"
   ]
  },
  {
   "cell_type": "code",
   "execution_count": null,
   "metadata": {},
   "outputs": [],
   "source": []
  }
 ],
 "metadata": {
  "kernelspec": {
   "display_name": "conda_python3",
   "language": "python",
   "name": "conda_python3"
  },
  "language_info": {
   "codemirror_mode": {
    "name": "ipython",
    "version": 3
   },
   "file_extension": ".py",
   "mimetype": "text/x-python",
   "name": "python",
   "nbconvert_exporter": "python",
   "pygments_lexer": "ipython3",
   "version": "3.6.13"
  }
 },
 "nbformat": 4,
 "nbformat_minor": 4
}
