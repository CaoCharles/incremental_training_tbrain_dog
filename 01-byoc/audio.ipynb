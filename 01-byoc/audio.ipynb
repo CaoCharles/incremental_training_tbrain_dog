{
 "cells": [
  {
   "cell_type": "markdown",
   "id": "37de69e9",
   "metadata": {},
   "source": [
    "\n",
    "## Bring Your Own Algorithm to SageMaker\n",
    "### Architecture of this notebook \n",
    "\n",
    "\n",
    "<img src=\"./images/part1.png\" alt=\"architecture\" width=\"800\"/>\n",
    "\n",
    "\n",
    "### 1. Training\n",
    "a. [Bring Your Own Container](#byoc)\n",
    "\n",
    "b. [Training locally](#local_train)\n",
    "\n",
    "c. [Trigger remote training job](#remote_train)\n",
    "\n",
    "d. [Test locally](#local_test)\n",
    "\n",
    "### 2. Deploy EndPoint\n",
    "[Deploy model to SageMaker Endpoint](#deploy_endpoint)\n",
    "\n",
    "### 3. Build Lambda Function\n",
    "a. [Construct lambda function](#build_lambda_function)\n",
    "\n",
    "b. [Test lambda](#lambda_test)\n",
    "\n",
    "### 4. Configure API Gateway\n",
    "\n",
    "a. [Construct and setting api gateway](#api-gateway)\n",
    "\n",
    "b. [Configure for passing binary media to Lambda Function](#binary-content)\n",
    "\n",
    "c. [test api gateway](#test-api)\n"
   ]
  },
  {
   "cell_type": "markdown",
   "id": "820d809f",
   "metadata": {},
   "source": [
    "### BYOC (Bring Your Own Container) for Example Audio Classification Algorithm\n",
    "<a name=\"byoc\"></a>\n"
   ]
  },
  {
   "cell_type": "code",
   "execution_count": 49,
   "id": "68eb6eac",
   "metadata": {},
   "outputs": [],
   "source": [
    "s = datetime.now()"
   ]
  },
  {
   "cell_type": "code",
   "execution_count": 51,
   "id": "d47ef0c4",
   "metadata": {},
   "outputs": [
    {
     "data": {
      "text/plain": [
       "datetime.timedelta(0, 10, 928804)"
      ]
     },
     "execution_count": 51,
     "metadata": {},
     "output_type": "execute_result"
    }
   ],
   "source": [
    "datetime.now()-s"
   ]
  },
  {
   "cell_type": "code",
   "execution_count": 52,
   "id": "7b7fced4",
   "metadata": {
    "collapsed": true
   },
   "outputs": [
    {
     "name": "stdout",
     "output_type": "stream",
     "text": [
      "{\"label\": 0, \"probability\": [0.9998981356620789, 2.4996995762194274e-06, 4.887235627393238e-05, 1.990066266444046e-06, 3.2699779239919735e-07, 2.4871712867025053e-07, 1.0537002708588261e-05, 1.0949130228254944e-05, 1.7080250472645275e-05, 9.29264206206426e-06]}/n 0:00:01.251004\n",
      "{\"label\": 0, \"probability\": [0.9998981356620789, 2.4996995762194274e-06, 4.887235627393238e-05, 1.990066266444046e-06, 3.2699779239919735e-07, 2.4871712867025053e-07, 1.0537002708588261e-05, 1.0949130228254944e-05, 1.7080250472645275e-05, 9.29264206206426e-06]}/n 0:00:01.128642\n",
      "{\"label\": 0, \"probability\": [0.9998981356620789, 2.4996995762194274e-06, 4.887235627393238e-05, 1.990066266444046e-06, 3.2699779239919735e-07, 2.4871712867025053e-07, 1.0537002708588261e-05, 1.0949130228254944e-05, 1.7080250472645275e-05, 9.29264206206426e-06]}/n 0:00:01.180526\n",
      "{\"label\": 0, \"probability\": [0.9998981356620789, 2.4996995762194274e-06, 4.887235627393238e-05, 1.990066266444046e-06, 3.2699779239919735e-07, 2.4871712867025053e-07, 1.0537002708588261e-05, 1.0949130228254944e-05, 1.7080250472645275e-05, 9.29264206206426e-06]}/n 0:00:01.118868\n",
      "{\"label\": 0, \"probability\": [0.9998981356620789, 2.4996995762194274e-06, 4.887235627393238e-05, 1.990066266444046e-06, 3.2699779239919735e-07, 2.4871712867025053e-07, 1.0537002708588261e-05, 1.0949130228254944e-05, 1.7080250472645275e-05, 9.29264206206426e-06]}/n 0:00:01.162945\n",
      "{\"label\": 0, \"probability\": [0.9998981356620789, 2.4996995762194274e-06, 4.887235627393238e-05, 1.990066266444046e-06, 3.2699779239919735e-07, 2.4871712867025053e-07, 1.0537002708588261e-05, 1.0949130228254944e-05, 1.7080250472645275e-05, 9.29264206206426e-06]}/n 0:00:01.157552\n",
      "{\"label\": 0, \"probability\": [0.9998981356620789, 2.4996995762194274e-06, 4.887235627393238e-05, 1.990066266444046e-06, 3.2699779239919735e-07, 2.4871712867025053e-07, 1.0537002708588261e-05, 1.0949130228254944e-05, 1.7080250472645275e-05, 9.29264206206426e-06]}/n 0:00:01.117846\n",
      "{\"label\": 0, \"probability\": [0.9998981356620789, 2.4996995762194274e-06, 4.887235627393238e-05, 1.990066266444046e-06, 3.2699779239919735e-07, 2.4871712867025053e-07, 1.0537002708588261e-05, 1.0949130228254944e-05, 1.7080250472645275e-05, 9.29264206206426e-06]}/n 0:00:01.091785\n",
      "{\"label\": 0, \"probability\": [0.9998981356620789, 2.4996995762194274e-06, 4.887235627393238e-05, 1.990066266444046e-06, 3.2699779239919735e-07, 2.4871712867025053e-07, 1.0537002708588261e-05, 1.0949130228254944e-05, 1.7080250472645275e-05, 9.29264206206426e-06]}/n 0:00:01.240770\n",
      "^C\n",
      "/n 0:00:01.036972\n"
     ]
    }
   ],
   "source": [
    "for i in range(10):\n",
    "    s = datetime.now()\n",
    "    !curl -X POST -H 'content-type: application/octet-stream' \\\n",
    "    -H 'x-api-key: 0B22878B03FE197EF8D6' \\\n",
    "    --data-binary @./Final_Training_Dataset/train/train_00090.wav \\\n",
    "    'https:///ymx88q5q2j.execute-api.us-west-2.amazonaws.com/dev/classify'\n",
    "    print('/n',datetime.now()-s)"
   ]
  },
  {
   "cell_type": "code",
   "execution_count": 108,
   "id": "8a09ceee",
   "metadata": {},
   "outputs": [
    {
     "name": "stdout",
     "output_type": "stream",
     "text": [
      "{\"label\": 0, \"probability\": [0.9998981356620789, 2.4996995762194274e-06, 4.887235627393238e-05, 1.990066266444046e-06, 3.2699779239919735e-07, 2.4871712867025053e-07, 1.0537002708588261e-05, 1.0949130228254944e-05, 1.7080250472645275e-05, 9.29264206206426e-06]}"
     ]
    }
   ],
   "source": [
    "!curl -X POST -H 'content-type: application/octet-stream' \\\n",
    "-H 'x-api-key: 0B22878B03FE197EF8D6' \\\n",
    "--data-binary @./Final_Training_Dataset/train/train_00090.wav \\\n",
    "'https:///rbrdok3cva.execute-api.us-west-2.amazonaws.com/dev/classify'"
   ]
  },
  {
   "cell_type": "code",
   "execution_count": 104,
   "id": "159d1d0b",
   "metadata": {},
   "outputs": [
    {
     "name": "stdout",
     "output_type": "stream",
     "text": [
      "{\"label\": 0, \"probability\": [0.9998981356620789, 2.4996995762194274e-06, 4.887235627393238e-05, 1.990066266444046e-06, 3.2699779239919735e-07, 2.4871712867025053e-07, 1.0537002708588261e-05, 1.0949130228254944e-05, 1.7080250472645275e-05, 9.29264206206426e-06]}"
     ]
    }
   ],
   "source": [
    "!curl -X POST -H 'content-type: application/octet-stream' \\\n",
    "-H 'x-api-key: 0B22878B03FE197EF8D6' \\\n",
    "--data-binary @./Final_Training_Dataset/train/train_00090.wav \\\n",
    "'https:///rbrdok3cva.execute-api.us-west-2.amazonaws.com/dev/classify'"
   ]
  },
  {
   "cell_type": "code",
   "execution_count": 107,
   "id": "8a75cec6",
   "metadata": {},
   "outputs": [
    {
     "name": "stdout",
     "output_type": "stream",
     "text": [
      "{\"label\": 0, \"probability\": [0.9932255744934082, 0.00035065642441622913, 0.0028339913114905357, 0.00018224182713311166, 8.725706720724702e-05, 1.7505872165202163e-05, 0.0013639576500281692, 8.493796485709026e-05, 1.9346512999618426e-05, 0.001834492082707584]}"
     ]
    }
   ],
   "source": [
    "!curl -X POST -H 'content-type: application/octet-stream' \\\n",
    "-H 'x-api-key: 0B22878B03FE197EF8D6' \\\n",
    "--data-binary @./Final_Training_Dataset/train/train_00160.wav \\\n",
    "'https://pdtujuf6u4.execute-api.us-west-2.amazonaws.com/dev/classify'"
   ]
  },
  {
   "cell_type": "code",
   "execution_count": 103,
   "id": "bc19b180",
   "metadata": {},
   "outputs": [
    {
     "name": "stdout",
     "output_type": "stream",
     "text": [
      "Warning: Couldn't read data from file \n",
      "Warning: \"./Final_Training_Dataset/train/train_015000.wav\", this makes an \n",
      "Warning: empty POST.\n",
      "{\"errorMessage\": \"An error occurred (ValidationError) when calling the InvokeEndpoint operation: 1 validation error detected: Value at 'body' failed to satisfy constraint: Member must not be null\", \"errorType\": \"ValidationError\", \"stackTrace\": [\"  File \\\"/var/task/lambda_function.py\\\", line 34, in lambda_handler\\n    Body=payload)\\n\", \"  File \\\"/var/runtime/botocore/client.py\\\", line 357, in _api_call\\n    return self._make_api_call(operation_name, kwargs)\\n\", \"  File \\\"/var/runtime/botocore/client.py\\\", line 676, in _make_api_call\\n    raise error_class(parsed_response, operation_name)\\n\"]}"
     ]
    }
   ],
   "source": [
    "!curl -X POST -H 'content-type: application/octet-stream' \\\n",
    "-H 'x-api-key: 0B22878B03FE197EF8D6' \\\n",
    "--data-binary @./Final_Training_Dataset/train/train_015000.wav \\\n",
    "'https://pdtujuf6u4.execute-api.us-west-2.amazonaws.com/dev/classify'"
   ]
  },
  {
   "cell_type": "code",
   "execution_count": 74,
   "id": "1ce2aab0",
   "metadata": {},
   "outputs": [
    {
     "name": "stdout",
     "output_type": "stream",
     "text": [
      "{\"label\": 8, \"probability\": [1.8881017638250341e-07, 1.5562821999992593e-06, 8.968191878011567e-07, 1.3968398206998245e-06, 5.385842314353795e-07, 1.4810591892455705e-05, 0.0003806099412031472, 2.3813449843146373e-06, 0.9995965957641602, 1.0097678568854462e-06]}"
     ]
    }
   ],
   "source": [
    "!curl -X POST -H 'content-type: application/octet-stream' \\\n",
    "-H 'x-api-key: 0B22878B03FE197EF8D6' \\\n",
    "--data-binary @./Final_Training_Dataset/train/train_01500.wav \\\n",
    "'https://pdtujuf6u4.execute-api.us-west-2.amazonaws.com/dev/classify'"
   ]
  },
  {
   "cell_type": "code",
   "execution_count": 67,
   "id": "a2fb6ac8",
   "metadata": {},
   "outputs": [
    {
     "name": "stdout",
     "output_type": "stream",
     "text": [
      "{\"label\": 8, \"probability\": [0.09690596908330917, 0.09755869209766388, 0.09815648198127747, 0.10245930403470993, 0.08777644485235214, 0.10322786867618561, 0.10269538313150406, 0.09970822930335999, 0.12265384197235107, 0.08885782212018967]}"
     ]
    }
   ],
   "source": [
    "!curl -X POST -H 'content-type: application/octet-stream' \\\n",
    "-H 'x-api-key: 0B22878B03FE197EF8D6' \\\n",
    "--data-binary @./Final_Training_Dataset/train/train_01500.wav \\\n",
    "'https://pdtujuf6u4.execute-api.us-west-2.amazonaws.com/dev/classify'"
   ]
  },
  {
   "cell_type": "code",
   "execution_count": 63,
   "id": "2038c742",
   "metadata": {},
   "outputs": [
    {
     "name": "stdout",
     "output_type": "stream",
     "text": [
      "{\"label\": 8, \"probability\": [0.00028458680026233196, 0.00043047149665653706, 0.000357662356691435, 0.0014305937802419066, 0.0001806368090910837, 0.00442745303735137, 0.0071249413304030895, 0.0006459147552959621, 0.9846805930137634, 0.0004371949180494994]}"
     ]
    }
   ],
   "source": [
    "!curl -X POST -H 'content-type: application/octet-stream' \\\n",
    "-H 'x-api-key: 0B22878B03FE197EF8D6' \\\n",
    "--data-binary @./Final_Training_Dataset/train/train_01500.wav \\\n",
    "'https://pdtujuf6u4.execute-api.us-west-2.amazonaws.com/dev/classify'"
   ]
  },
  {
   "cell_type": "code",
   "execution_count": 39,
   "id": "feb4e18c",
   "metadata": {},
   "outputs": [
    {
     "name": "stdout",
     "output_type": "stream",
     "text": [
      "{\"label\": 8, \"probability\": [1.8881017638250341e-07, 1.5562821999992593e-06, 8.968191878011567e-07, 1.3968398206998245e-06, 5.385842314353795e-07, 1.4810591892455705e-05, 0.0003806099412031472, 2.3813449843146373e-06, 0.9995965957641602, 1.0097678568854462e-06]}"
     ]
    }
   ],
   "source": [
    "!curl -X POST -H 'content-type: application/octet-stream' \\\n",
    "-H 'x-api-key: 0B22878B03FE197EF8D6' \\\n",
    "--data-binary @./Final_Training_Dataset/train/train_01500.wav \\\n",
    "'https://pdtujuf6u4.execute-api.us-west-2.amazonaws.com/dev/classify'"
   ]
  },
  {
   "cell_type": "code",
   "execution_count": 28,
   "id": "797aa242",
   "metadata": {},
   "outputs": [
    {
     "name": "stdout",
     "output_type": "stream",
     "text": [
      "Filesystem     1K-blocks     Used Available Use% Mounted on\r\n",
      "devtmpfs        31426652       72  31426580   1% /dev\r\n",
      "tmpfs           31437352        8  31437344   1% /dev/shm\r\n",
      "/dev/xvda1     108305356 89591192  18613916  83% /\r\n",
      "/dev/xvdf      515535104 53854976 439623092  11% /home/ec2-user/SageMaker\r\n"
     ]
    }
   ],
   "source": [
    "!df"
   ]
  },
  {
   "cell_type": "code",
   "execution_count": 27,
   "id": "0dc3d1b7",
   "metadata": {},
   "outputs": [
    {
     "name": "stdout",
     "output_type": "stream",
     "text": [
      "{\"errorMessage\": \"An error occurred (ValidationError) when calling the InvokeEndpoint operation: Endpoint audio-1626202830 of account 355444812467 not found.\", \"errorType\": \"ValidationError\", \"stackTrace\": [\"  File \\\"/var/task/lambda_function.py\\\", line 34, in lambda_handler\\n    Body=payload)\\n\", \"  File \\\"/var/runtime/botocore/client.py\\\", line 357, in _api_call\\n    return self._make_api_call(operation_name, kwargs)\\n\", \"  File \\\"/var/runtime/botocore/client.py\\\", line 676, in _make_api_call\\n    raise error_class(parsed_response, operation_name)\\n\"]}"
     ]
    }
   ],
   "source": [
    "!curl -X POST -H 'content-type: application/octet-stream' \\\n",
    "-H 'x-api-key: 0B22878B03FE197EF8D6' \\\n",
    "--data-binary @./Final_Training_Dataset/train/train_00090.wav \\\n",
    "'https:///rbrdok3cva.execute-api.us-west-2.amazonaws.com/dev/classify'"
   ]
  },
  {
   "cell_type": "code",
   "execution_count": 26,
   "id": "a45aebd3",
   "metadata": {},
   "outputs": [
    {
     "name": "stdout",
     "output_type": "stream",
     "text": [
      "{\"label\": 0, \"probability\": [0.40182581543922424, 0.009868244640529156, 0.017798330634832382, 0.04903159663081169, 0.04364854469895363, 0.22415752708911896, 0.04367164894938469, 0.07696855813264847, 0.07845672219991684, 0.054572999477386475]}"
     ]
    }
   ],
   "source": [
    "!curl -X POST -H 'content-type: application/octet-stream' \\\n",
    "-H 'x-api-key: 0B22878B03FE197EF8D6' \\\n",
    "--data-binary @./Final_Training_Dataset/train/train_00090.wav \\\n",
    "'https:///rbrdok3cva.execute-api.us-west-2.amazonaws.com/dev/classify'"
   ]
  },
  {
   "cell_type": "code",
   "execution_count": 11,
   "id": "7ba8d6b7",
   "metadata": {},
   "outputs": [
    {
     "data": {
      "text/plain": [
       "1.0000000605359674"
      ]
     },
     "execution_count": 11,
     "metadata": {},
     "output_type": "execute_result"
    }
   ],
   "source": [
    "sum([0.5564981698989868, 0.010697323828935623, 0.02793862484395504, 0.10561378300189972, 0.030065853148698807, 0.03328080102801323, 0.0854283943772316, 0.061234813183546066, 0.015514555387198925, 0.07372774183750153])"
   ]
  },
  {
   "cell_type": "code",
   "execution_count": 3,
   "id": "1c0af0f5",
   "metadata": {},
   "outputs": [
    {
     "name": "stdout",
     "output_type": "stream",
     "text": [
      "{\"label\": 0, \"probability\": [0.5885475873947144, 0.00948523823171854, 0.022544508799910545, 0.100360207259655, 0.026060642674565315, 0.03238781914114952, 0.0835106149315834, 0.053491055965423584, 0.011966201476752758, 0.07164615392684937]}"
     ]
    }
   ],
   "source": [
    "\n",
    "print(datetime.now(timezone(timedelta(hours=8))))\n",
    "!curl -X POST -H 'content-type: application/octet-stream' \\\n",
    "-H 'x-api-key: 0B22878B03FE197EF8D6' \\\n",
    "--data-binary @./Final_Training_Dataset/train/train_00001.wav \\\n",
    "'https:///rbrdok3cva.execute-api.us-west-2.amazonaws.com/dev/classify'\n",
    "print(datetime.now(timezone(timedelta(hours=8))))"
   ]
  },
  {
   "cell_type": "code",
   "execution_count": 25,
   "id": "d0c2a52e",
   "metadata": {},
   "outputs": [
    {
     "name": "stdout",
     "output_type": "stream",
     "text": [
      "2021-07-16 21:00:04.444000+08:00\n",
      "{\"label\": 0, \"probability\": [0.5564981698989868, 0.010697323828935623, 0.02793862484395504, 0.10561378300189972, 0.030065853148698807, 0.03328080102801323, 0.0854283943772316, 0.061234813183546066, 0.015514555387198925, 0.07372774183750153]}2021-07-16 21:00:05.965292+08:00\n"
     ]
    }
   ],
   "source": [
    "from datetime import datetime, timedelta, timezone\n",
    "print(datetime.now(timezone(timedelta(hours=8))))\n",
    "!curl -X POST -H 'content-type: application/octet-stream' \\\n",
    "-H 'x-api-key: 0B22878B03FE197EF8D6' \\\n",
    "--data-binary @./Final_Training_Dataset/train/train_00001.wav \\\n",
    "'https:///rbrdok3cva.execute-api.us-west-2.amazonaws.com/dev/classify'\n",
    "print(datetime.now(timezone(timedelta(hours=8))))"
   ]
  },
  {
   "cell_type": "markdown",
   "id": "a535fb92",
   "metadata": {},
   "source": [
    "* prepare necessry variables\n",
    "using `boto3` to get region and account_id for later usage - ECR uri construction "
   ]
  },
  {
   "cell_type": "code",
   "execution_count": 1,
   "id": "92b6a072",
   "metadata": {},
   "outputs": [],
   "source": [
    "import boto3 \n",
    "\n",
    "session = boto3.session.Session()\n",
    "region = session.region_name\n",
    "client = boto3.client(\"sts\")\n",
    "account_id = client.get_caller_identity()[\"Account\"]\n",
    "algorithm_name = \"eff-audio\""
   ]
  },
  {
   "cell_type": "markdown",
   "id": "ddf007a5",
   "metadata": {},
   "source": [
    "#### 3 elements to build bring your own container \n",
    "* `build_and_push.sh` is the script communicating with ECR \n",
    "* `Dockerfile` defines the training and serving environment \n",
    "* `code/train` and `code/serve` defines entry point of our container "
   ]
  },
  {
   "cell_type": "code",
   "execution_count": 2,
   "id": "2366dc4f",
   "metadata": {},
   "outputs": [],
   "source": [
    "!chmod u+x *.sh"
   ]
  },
  {
   "cell_type": "code",
   "execution_count": 14,
   "id": "d24019e6",
   "metadata": {
    "scrolled": true
   },
   "outputs": [
    {
     "name": "stdout",
     "output_type": "stream",
     "text": [
      "355444812467\n",
      "us-west-2\n",
      "WARNING! Using --password via the CLI is insecure. Use --password-stdin.\n",
      "WARNING! Your password will be stored unencrypted in /home/ec2-user/.docker/config.json.\n",
      "Configure a credential helper to remove this warning. See\n",
      "https://docs.docker.com/engine/reference/commandline/login/#credentials-store\n",
      "\n",
      "Login Succeeded\n",
      "WARNING! Using --password via the CLI is insecure. Use --password-stdin.\n",
      "WARNING! Your password will be stored unencrypted in /home/ec2-user/.docker/config.json.\n",
      "Configure a credential helper to remove this warning. See\n",
      "https://docs.docker.com/engine/reference/commandline/login/#credentials-store\n",
      "\n",
      "Login Succeeded\n",
      "base_img:763104351884.dkr.ecr.us-west-2.amazonaws.com/pytorch-training:1.6.0-gpu-py36-cu110-ubuntu18.04\n",
      "1.6.0-gpu-py36-cu110-ubuntu18.04: Pulling from pytorch-training\n",
      "Digest: sha256:33bd2f7485f1e486c016a470a5e3e5c9894d2b69734425259fc58fec8054f853\n",
      "Status: Image is up to date for 763104351884.dkr.ecr.us-west-2.amazonaws.com/pytorch-training:1.6.0-gpu-py36-cu110-ubuntu18.04\n",
      "763104351884.dkr.ecr.us-west-2.amazonaws.com/pytorch-training:1.6.0-gpu-py36-cu110-ubuntu18.04\n",
      "Sending build context to Docker daemon  1.351GB\n",
      "Step 1/7 : ARG BASE_IMG=${BASE_IMG}\n",
      "Step 2/7 : FROM ${BASE_IMG}\n",
      " ---> 7de1db919d58\n",
      "Step 3/7 : COPY code/* /\n",
      "Error processing tar file(exit status 1): write /train_spec_0711.npy: no space left on device\n",
      "Error response from daemon: No such image: eff-audio:latest\n",
      "The push refers to repository [355444812467.dkr.ecr.us-west-2.amazonaws.com/eff-audio]\n",
      "An image does not exist locally with the tag: 355444812467.dkr.ecr.us-west-2.amazonaws.com/eff-audio\n"
     ]
    }
   ],
   "source": [
    "!./build_and_push.sh"
   ]
  },
  {
   "cell_type": "code",
   "execution_count": 4,
   "id": "fc7c4323",
   "metadata": {},
   "outputs": [
    {
     "name": "stdout",
     "output_type": "stream",
     "text": [
      "ARG BASE_IMG=${BASE_IMG}\r\n",
      "FROM ${BASE_IMG} \r\n",
      "COPY code/* /\r\n",
      "RUN pip install -r --user requirements.txt --no-cache-dir \r\n",
      "RUN apt-get update -y && apt-get install python3-soundfile -y  && rm -rf /var/lib/apt/lists/* && apt-get clean\r\n",
      "WORKDIR /\r\n",
      "ENV PATH=\"/:${PATH}\"\r\n",
      "\r\n",
      "\r\n",
      "\r\n"
     ]
    }
   ],
   "source": [
    "!cat Dockerfile"
   ]
  },
  {
   "cell_type": "code",
   "execution_count": 5,
   "id": "b5824beb",
   "metadata": {},
   "outputs": [
    {
     "name": "stdout",
     "output_type": "stream",
     "text": [
      "#!/bin/bash\r\n",
      "\r\n",
      "# The name of our algorithm\r\n",
      "algorithm_name=eff-audio\r\n",
      "\r\n",
      "#cd container\r\n",
      "# get information - account and region, required by ECR https://aws.amazon.com/ecr/\r\n",
      "account=$(aws sts get-caller-identity --query Account --output text)\r\n",
      "echo $account\r\n",
      "# Get the region defined in the current configuration (default to us-west-2 if none defined)\r\n",
      "region=$(aws configure get region)\r\n",
      "region=${region:-us-west-2}\r\n",
      "echo $region\r\n",
      "\r\n",
      "\r\n",
      "# derive fullname of docker image \r\n",
      "fullname=\"${account}.dkr.ecr.${region}.amazonaws.com/${algorithm_name}:latest\"\r\n",
      "\r\n",
      "# If the repository doesn't exist in ECR, create it.\r\n",
      "\r\n",
      "aws ecr describe-repositories --repository-names \"${algorithm_name}\" > /dev/null 2>&1\r\n",
      "if [ $? -ne 0 ]\r\n",
      "then\r\n",
      "    aws ecr create-repository --repository-name \"${algorithm_name}\" > /dev/null\r\n",
      "fi\r\n",
      "\r\n",
      "# Get the login command from ECR and execute it directly\r\n",
      "$(aws ecr get-login --region ${region} --no-include-email)\r\n",
      "\r\n",
      "# Get the login command from ECR in order to pull down the SageMaker TensorFlow image\r\n",
      "$(aws ecr get-login --registry-ids 763104351884 --region ${region} --no-include-email)\r\n",
      "\r\n",
      "# get the fullname of deep learning container image \r\n",
      "base_img='763104351884.dkr.ecr.'$region'.amazonaws.com/pytorch-training:1.6.0-gpu-py36-cu110-ubuntu18.04'\r\n",
      "echo 'base_img:'$base_img\r\n",
      "docker pull $base_img\r\n",
      "# Build the docker image locally with the image name and then push it to ECR\r\n",
      "# with the full name.\r\n",
      "docker build  -t ${algorithm_name} -f Dockerfile  --build-arg BASE_IMG=\"${base_img}\" .  --no-cache\r\n",
      "docker tag ${algorithm_name} ${fullname}\r\n",
      "docker push ${fullname}\r\n"
     ]
    }
   ],
   "source": [
    "!cat build_and_push.sh"
   ]
  },
  {
   "cell_type": "markdown",
   "id": "96e66b53",
   "metadata": {},
   "source": [
    "* construct image uri by account_id, region and algorithm_name"
   ]
  },
  {
   "cell_type": "code",
   "execution_count": 9,
   "id": "3e1678cb",
   "metadata": {},
   "outputs": [
    {
     "data": {
      "text/plain": [
       "'355444812467.dkr.ecr.us-west-2.amazonaws.com/eff-audio'"
      ]
     },
     "execution_count": 9,
     "metadata": {},
     "output_type": "execute_result"
    }
   ],
   "source": [
    "image_uri=f\"{account_id}.dkr.ecr.{region}.amazonaws.com/{algorithm_name}\"\n",
    "image_uri"
   ]
  },
  {
   "cell_type": "markdown",
   "id": "66432889",
   "metadata": {},
   "source": [
    "* prepare necessary variables/object for training "
   ]
  },
  {
   "cell_type": "code",
   "execution_count": 10,
   "id": "9e938ca3",
   "metadata": {},
   "outputs": [],
   "source": [
    "import sagemaker \n",
    "session = sagemaker.session.Session()\n",
    "bucket = session.default_bucket()"
   ]
  },
  {
   "cell_type": "code",
   "execution_count": 11,
   "id": "7b4781b4",
   "metadata": {},
   "outputs": [
    {
     "name": "stdout",
     "output_type": "stream",
     "text": [
      "arn:aws:iam::355444812467:role/service-role/AmazonSageMaker-ExecutionRole-20210702T211675\n"
     ]
    },
    {
     "data": {
      "text/plain": [
       "'s3://sagemaker-us-west-2-355444812467/data/competition'"
      ]
     },
     "execution_count": 11,
     "metadata": {},
     "output_type": "execute_result"
    }
   ],
   "source": [
    "from sagemaker import get_execution_role\n",
    "\n",
    "role = get_execution_role()\n",
    "print(role)\n",
    "\n",
    "s3_path = f\"s3://{bucket}/data/competition\"\n",
    "s3_path"
   ]
  },
  {
   "cell_type": "markdown",
   "id": "14f1b163",
   "metadata": {},
   "source": [
    "### Dataset Description - \n",
    "\n",
    "Dataset used in this workshop can be obtained from [Dog Bark Sound AI competition](https://tbrain.trendmicro.com.tw/Competitions/Details/15) hold by the world leading pet camera brand [Tomofun](https://en.wikipedia.org/wiki/Tomofun). The url below will be invalid after workshop. "
   ]
  },
  {
   "cell_type": "code",
   "execution_count": 12,
   "id": "8d1493d9",
   "metadata": {},
   "outputs": [],
   "source": [
    "# s3://tomofun-audio-classification-yianc\n",
    "# data/data.zip\n",
    "# !wget -O data.zip https://tinyurl.com/ydzvotsd\n",
    "# !unzip  train.zip     \n",
    "# !aws s3 cp --recursive ./input/data/competition/ $s3_path"
   ]
  },
  {
   "cell_type": "markdown",
   "id": "8084958b",
   "metadata": {},
   "source": [
    "### Train model in a docker container with terminal interface \n",
    "<a name=\"local_train\"></a>"
   ]
  },
  {
   "cell_type": "markdown",
   "id": "950a5a42",
   "metadata": {},
   "source": [
    "* start container in interactive mode\n",
    "```\n",
    "IMAGE_ID=$(sudo docker images --filter=reference=vgg16-audio --format \"{{.ID}}\")\n",
    "nvidia-docker run -it -v $PWD:/opt/ml --entrypoint '' $IMAGE_ID bash \n",
    "```\n",
    "* train model based on README.md\n",
    "```\n",
    "python train.py --csv_path=/opt/ml/input/data/competition/meta_train.csv --data_dir=/opt/ml/input/data/competition/train --epochs=50 --val_split 0.1\n",
    "```"
   ]
  },
  {
   "cell_type": "code",
   "execution_count": null,
   "id": "2325ebab",
   "metadata": {},
   "outputs": [],
   "source": [
    "from datetime import datetime\n",
    "now = datetime.now()\n",
    "timestamp = datetime.timestamp(now)\n",
    "job_name = \"audio-{}\".format(str(int(timestamp))) \n",
    "job_name"
   ]
  },
  {
   "cell_type": "markdown",
   "id": "619797e8",
   "metadata": {},
   "source": [
    "### Start SageMaker Training Job\n",
    "<a name=\"remote_train\"></a>\n",
    "* sagemaker training jobs can run either locally or remotely "
   ]
  },
  {
   "cell_type": "code",
   "execution_count": null,
   "id": "91a3e92b",
   "metadata": {},
   "outputs": [],
   "source": [
    "# mode = 'local'\n",
    "# if mode == 'local':\n",
    "#     csess = sagemaker.local.LocalSession()\n",
    "# else:    \n",
    "#     csess = session\n",
    "\n",
    "# print(csess)\n",
    "# estimator = sagemaker.estimator.Estimator( \n",
    "#                         role=role,\n",
    "#                         image_uri=image_uri,\n",
    "#                         instance_count=1,\n",
    "#                         instance_type='local_gpu',\n",
    "# #                         instance_type='ml.p3.8xlarge',\n",
    "#                         sagemaker_session=csess,\n",
    "#                         volume_size=100, \n",
    "#                         debugger_hook_config=False\n",
    "#                    )\n",
    "\n"
   ]
  },
  {
   "cell_type": "code",
   "execution_count": 18,
   "id": "65700d82",
   "metadata": {},
   "outputs": [
    {
     "data": {
      "text/plain": [
       "'s3://sagemaker-us-west-2-355444812467/model/model_test.tar.gz'"
      ]
     },
     "execution_count": 18,
     "metadata": {},
     "output_type": "execute_result"
    }
   ],
   "source": [
    "s3_path\n",
    "model_data_s3_uri = 's3://sagemaker-us-west-2-355444812467/model/model_test.tar.gz'\n",
    "model_data_s3_uri"
   ]
  },
  {
   "cell_type": "code",
   "execution_count": null,
   "id": "ec87011a",
   "metadata": {},
   "outputs": [],
   "source": [
    "image_uri"
   ]
  },
  {
   "cell_type": "code",
   "execution_count": null,
   "id": "730cdd2d",
   "metadata": {},
   "outputs": [],
   "source": [
    "!chmod u+x code/serve"
   ]
  },
  {
   "cell_type": "code",
   "execution_count": 23,
   "id": "f6d26095",
   "metadata": {
    "collapsed": true
   },
   "outputs": [
    {
     "name": "stdout",
     "output_type": "stream",
     "text": [
      "--------------------------------------------------------------------------------------------------------------------------------------------------------------------------------------------------------------------------------*"
     ]
    },
    {
     "ename": "UnexpectedStatusException",
     "evalue": "Error hosting endpoint audio-1626195929: Failed. Reason: Request to service failed. If failure persists after retry, contact customer support..",
     "output_type": "error",
     "traceback": [
      "\u001b[0;31m---------------------------------------------------------------------------\u001b[0m",
      "\u001b[0;31mUnexpectedStatusException\u001b[0m                 Traceback (most recent call last)",
      "\u001b[0;32m<ipython-input-23-0e8dab3cf658>\u001b[0m in \u001b[0;36m<module>\u001b[0;34m\u001b[0m\n\u001b[1;32m     23\u001b[0m \u001b[0;31m#                                instance_type = 'local_gpu',\u001b[0m\u001b[0;34m\u001b[0m\u001b[0;34m\u001b[0m\u001b[0;34m\u001b[0m\u001b[0m\n\u001b[1;32m     24\u001b[0m                                \u001b[0mendpoint_name\u001b[0m \u001b[0;34m=\u001b[0m \u001b[0mnew_endpoint_name\u001b[0m\u001b[0;34m,\u001b[0m\u001b[0;34m\u001b[0m\u001b[0;34m\u001b[0m\u001b[0m\n\u001b[0;32m---> 25\u001b[0;31m                                serializer = sagemaker.serializers.IdentitySerializer())\n\u001b[0m",
      "\u001b[0;32m~/anaconda3/envs/pytorch_latest_p36/lib/python3.6/site-packages/sagemaker/model.py\u001b[0m in \u001b[0;36mdeploy\u001b[0;34m(self, initial_instance_count, instance_type, serializer, deserializer, accelerator_type, endpoint_name, tags, kms_key, wait, data_capture_config, **kwargs)\u001b[0m\n\u001b[1;32m    783\u001b[0m             \u001b[0mkms_key\u001b[0m\u001b[0;34m=\u001b[0m\u001b[0mkms_key\u001b[0m\u001b[0;34m,\u001b[0m\u001b[0;34m\u001b[0m\u001b[0;34m\u001b[0m\u001b[0m\n\u001b[1;32m    784\u001b[0m             \u001b[0mwait\u001b[0m\u001b[0;34m=\u001b[0m\u001b[0mwait\u001b[0m\u001b[0;34m,\u001b[0m\u001b[0;34m\u001b[0m\u001b[0;34m\u001b[0m\u001b[0m\n\u001b[0;32m--> 785\u001b[0;31m             \u001b[0mdata_capture_config_dict\u001b[0m\u001b[0;34m=\u001b[0m\u001b[0mdata_capture_config_dict\u001b[0m\u001b[0;34m,\u001b[0m\u001b[0;34m\u001b[0m\u001b[0;34m\u001b[0m\u001b[0m\n\u001b[0m\u001b[1;32m    786\u001b[0m         )\n\u001b[1;32m    787\u001b[0m \u001b[0;34m\u001b[0m\u001b[0m\n",
      "\u001b[0;32m~/anaconda3/envs/pytorch_latest_p36/lib/python3.6/site-packages/sagemaker/session.py\u001b[0m in \u001b[0;36mendpoint_from_production_variants\u001b[0;34m(self, name, production_variants, tags, kms_key, wait, data_capture_config_dict)\u001b[0m\n\u001b[1;32m   3477\u001b[0m \u001b[0;34m\u001b[0m\u001b[0m\n\u001b[1;32m   3478\u001b[0m             \u001b[0mself\u001b[0m\u001b[0;34m.\u001b[0m\u001b[0msagemaker_client\u001b[0m\u001b[0;34m.\u001b[0m\u001b[0mcreate_endpoint_config\u001b[0m\u001b[0;34m(\u001b[0m\u001b[0;34m**\u001b[0m\u001b[0mconfig_options\u001b[0m\u001b[0;34m)\u001b[0m\u001b[0;34m\u001b[0m\u001b[0;34m\u001b[0m\u001b[0m\n\u001b[0;32m-> 3479\u001b[0;31m         \u001b[0;32mreturn\u001b[0m \u001b[0mself\u001b[0m\u001b[0;34m.\u001b[0m\u001b[0mcreate_endpoint\u001b[0m\u001b[0;34m(\u001b[0m\u001b[0mendpoint_name\u001b[0m\u001b[0;34m=\u001b[0m\u001b[0mname\u001b[0m\u001b[0;34m,\u001b[0m \u001b[0mconfig_name\u001b[0m\u001b[0;34m=\u001b[0m\u001b[0mname\u001b[0m\u001b[0;34m,\u001b[0m \u001b[0mtags\u001b[0m\u001b[0;34m=\u001b[0m\u001b[0mtags\u001b[0m\u001b[0;34m,\u001b[0m \u001b[0mwait\u001b[0m\u001b[0;34m=\u001b[0m\u001b[0mwait\u001b[0m\u001b[0;34m)\u001b[0m\u001b[0;34m\u001b[0m\u001b[0;34m\u001b[0m\u001b[0m\n\u001b[0m\u001b[1;32m   3480\u001b[0m \u001b[0;34m\u001b[0m\u001b[0m\n\u001b[1;32m   3481\u001b[0m     \u001b[0;32mdef\u001b[0m \u001b[0mexpand_role\u001b[0m\u001b[0;34m(\u001b[0m\u001b[0mself\u001b[0m\u001b[0;34m,\u001b[0m \u001b[0mrole\u001b[0m\u001b[0;34m)\u001b[0m\u001b[0;34m:\u001b[0m\u001b[0;34m\u001b[0m\u001b[0;34m\u001b[0m\u001b[0m\n",
      "\u001b[0;32m~/anaconda3/envs/pytorch_latest_p36/lib/python3.6/site-packages/sagemaker/session.py\u001b[0m in \u001b[0;36mcreate_endpoint\u001b[0;34m(self, endpoint_name, config_name, tags, wait)\u001b[0m\n\u001b[1;32m   2980\u001b[0m         )\n\u001b[1;32m   2981\u001b[0m         \u001b[0;32mif\u001b[0m \u001b[0mwait\u001b[0m\u001b[0;34m:\u001b[0m\u001b[0;34m\u001b[0m\u001b[0;34m\u001b[0m\u001b[0m\n\u001b[0;32m-> 2982\u001b[0;31m             \u001b[0mself\u001b[0m\u001b[0;34m.\u001b[0m\u001b[0mwait_for_endpoint\u001b[0m\u001b[0;34m(\u001b[0m\u001b[0mendpoint_name\u001b[0m\u001b[0;34m)\u001b[0m\u001b[0;34m\u001b[0m\u001b[0;34m\u001b[0m\u001b[0m\n\u001b[0m\u001b[1;32m   2983\u001b[0m         \u001b[0;32mreturn\u001b[0m \u001b[0mendpoint_name\u001b[0m\u001b[0;34m\u001b[0m\u001b[0;34m\u001b[0m\u001b[0m\n\u001b[1;32m   2984\u001b[0m \u001b[0;34m\u001b[0m\u001b[0m\n",
      "\u001b[0;32m~/anaconda3/envs/pytorch_latest_p36/lib/python3.6/site-packages/sagemaker/session.py\u001b[0m in \u001b[0;36mwait_for_endpoint\u001b[0;34m(self, endpoint, poll)\u001b[0m\n\u001b[1;32m   3266\u001b[0m                 ),\n\u001b[1;32m   3267\u001b[0m                 \u001b[0mallowed_statuses\u001b[0m\u001b[0;34m=\u001b[0m\u001b[0;34m[\u001b[0m\u001b[0;34m\"InService\"\u001b[0m\u001b[0;34m]\u001b[0m\u001b[0;34m,\u001b[0m\u001b[0;34m\u001b[0m\u001b[0;34m\u001b[0m\u001b[0m\n\u001b[0;32m-> 3268\u001b[0;31m                 \u001b[0mactual_status\u001b[0m\u001b[0;34m=\u001b[0m\u001b[0mstatus\u001b[0m\u001b[0;34m,\u001b[0m\u001b[0;34m\u001b[0m\u001b[0;34m\u001b[0m\u001b[0m\n\u001b[0m\u001b[1;32m   3269\u001b[0m             )\n\u001b[1;32m   3270\u001b[0m         \u001b[0;32mreturn\u001b[0m \u001b[0mdesc\u001b[0m\u001b[0;34m\u001b[0m\u001b[0;34m\u001b[0m\u001b[0m\n",
      "\u001b[0;31mUnexpectedStatusException\u001b[0m: Error hosting endpoint audio-1626195929: Failed. Reason: Request to service failed. If failure persists after retry, contact customer support.."
     ]
    }
   ],
   "source": [
    "import time \n",
    "import datetime\n",
    "\n",
    "mode = 'remote'\n",
    "\n",
    "if mode == 'local':\n",
    "    csess = sagemaker.local.LocalSession()\n",
    "else:\n",
    "    csess = session\n",
    "\n",
    "model = sagemaker.model.Model(image_uri, \n",
    "                              model_data = model_data_s3_uri,\n",
    "                              role = role,\n",
    "                              predictor_cls = sagemaker.predictor.Predictor,\n",
    "                              sagemaker_session = csess)\n",
    "\n",
    "now = datetime.datetime.now().now()\n",
    "timestamp = datetime.datetime.timestamp(now)\n",
    "new_endpoint_name = \"audio-{}\".format(str(int(timestamp))) \n",
    "\n",
    "object_detector = model.deploy(initial_instance_count = 1,\n",
    "                               instance_type = 'ml.p2.xlarge',\n",
    "#                                instance_type = 'local_gpu',\n",
    "                               endpoint_name = new_endpoint_name,\n",
    "                               serializer = sagemaker.serializers.IdentitySerializer())"
   ]
  },
  {
   "cell_type": "code",
   "execution_count": 15,
   "id": "04f365eb",
   "metadata": {},
   "outputs": [
    {
     "data": {
      "text/plain": [
       "'sagemaker-us-west-2-355444812467'"
      ]
     },
     "execution_count": 15,
     "metadata": {},
     "output_type": "execute_result"
    }
   ],
   "source": [
    "------------------------------------------------------------------------------------ 85 "
   ]
  },
  {
   "cell_type": "code",
   "execution_count": null,
   "id": "6957d4c0",
   "metadata": {},
   "outputs": [],
   "source": [
    "# from sagemaker.pytorch.model import PyTorchPredictor\n",
    "# from sagemaker.predictor import Predictor\n",
    "# from sagemaker.pytorch import PyTorchModel\n",
    "\n",
    "# model = PyTorchModel(model_data=s3_model_path,\n",
    "#                      role=role,\n",
    "#                      entry_point='model.py',\n",
    "#                      framework_version=_version='1.6.0',\n",
    "#                      py_version='py3',\n",
    "#                      predictor_cls=PyTorchPredictor                \n",
    "# )"
   ]
  },
  {
   "cell_type": "code",
   "execution_count": null,
   "id": "f7bb528b",
   "metadata": {},
   "outputs": [],
   "source": [
    "estimator.fit(inputs={\"competition\":s3_path}, job_name=job_name)"
   ]
  },
  {
   "cell_type": "code",
   "execution_count": null,
   "id": "00171c95",
   "metadata": {},
   "outputs": [],
   "source": [
    "estimator.model_data"
   ]
  },
  {
   "cell_type": "code",
   "execution_count": null,
   "id": "6f00f108",
   "metadata": {},
   "outputs": [],
   "source": [
    "model_s3_path = estimator.model_data\n",
    "\n",
    "!aws s3 cp $model_s3_path . \n",
    "!tar -xvf model.tar.gz\n",
    "!mkdir -p model \n",
    "!mv final_model.pkl model/"
   ]
  },
  {
   "cell_type": "markdown",
   "id": "5fefdd00",
   "metadata": {},
   "source": [
    "### Test Model Locally \n",
    "<a name=\"local_test\"></a>\n",
    "\n",
    "* start container in interactive mode\n",
    "```\n",
    "IMAGE_ID=$(sudo docker images --filter=reference=vgg16-audio --format \"{{.ID}}\")\n",
    "nvidia-docker run -it -v $PWD:/opt/ml --entrypoint '' $IMAGE_ID bash \n",
    "```\n",
    "* test model based on README.md\n",
    "```\n",
    "python test.py --test_csv /opt/ml/input/data/competition/meta_train.csv --data_dir /opt/ml/input/data/competition/train  --model_name VGGish --model_path /opt/ml/model --saved_root results/test --saved_name test_result\n",
    "```"
   ]
  },
  {
   "cell_type": "markdown",
   "id": "f42a9640",
   "metadata": {},
   "source": [
    "### Deploy SageMaker Endpoint  \n",
    "<a name=\"deploy_endpoint\"></a>\n"
   ]
  },
  {
   "cell_type": "code",
   "execution_count": null,
   "id": "dd0ffa63",
   "metadata": {},
   "outputs": [],
   "source": [
    "predictor = estimator.deploy(instance_type='ml.p2.xlarge', initial_instance_count=1, serializer=sagemaker.serializers.IdentitySerializer())\n",
    "# predictor = estimator.deploy(instance_type='local_gpu', initial_instance_count=1, serializer=sagemaker.serializers.IdentitySerializer())"
   ]
  },
  {
   "cell_type": "code",
   "execution_count": null,
   "id": "48077152",
   "metadata": {},
   "outputs": [],
   "source": [
    "endpoint_name = predictor.endpoint_name"
   ]
  },
  {
   "cell_type": "markdown",
   "id": "2274aa47",
   "metadata": {},
   "source": [
    "### You can deploy by using model file directly  \n",
    "\n",
    "The Source code is as below. we can use model locally trained to deploy a sagemaker endpoint "
   ]
  },
  {
   "cell_type": "markdown",
   "id": "733bd1d4",
   "metadata": {},
   "source": [
    "#### get example model file from s3 \n",
    "```\n",
    "source_model_data_url = 'https://tinyurl.com/yh7tw3hj'\n",
    "!wget -O model.tar.gz $source_model_data_url\n",
    "\n",
    "MODEL_PATH = f's3://{bucket}/model'\n",
    "model_data_s3_uri = f'{MODEL_PATH}/model.tar.gz'\n",
    "!aws s3 cp model.tar.gz $model_data_s3_uri\n",
    "```\n"
   ]
  },
  {
   "cell_type": "markdown",
   "id": "3bcb9ce6",
   "metadata": {},
   "source": [
    "#### build endpoint from the model file \n",
    "```\n",
    "import time \n",
    "\n",
    "mode = 'remote'\n",
    "\n",
    "if mode == 'local':\n",
    "    csess = sagemaker.local.LocalSession()\n",
    "else:\n",
    "    csess = session\n",
    "\n",
    "model = sagemaker.model.Model(image_uri, \n",
    "                              model_data = model_data_s3_uri,\n",
    "                              role = role,\n",
    "                              predictor_cls = sagemaker.predictor.Predictor,\n",
    "                              sagemaker_session = csess)\n",
    "\n",
    "now = datetime.now()\n",
    "timestamp = datetime.timestamp(now)\n",
    "new_endpoint_name = \"audio-{}\".format(str(int(timestamp))) \n",
    "object_detector = model.deploy(initial_instance_count = 1,\n",
    "                               instance_type = 'ml.p2.xlarge',\n",
    "#                                instance_type = 'local_gpu',\n",
    "                               endpoint_name = new_endpoint_name,\n",
    "                               serializer = sagemaker.serializers.IdentitySerializer())\n",
    "```"
   ]
  },
  {
   "cell_type": "markdown",
   "id": "0071f354",
   "metadata": {},
   "source": [
    "### You can also update endpoint based on following example code \n",
    "\n",
    "```\n",
    "new_detector =  sagemaker.predictor.Predictor(endpoint_name = endpoint_name) \n",
    "new_detector.update_endpoint(model_name=model.name, initial_instance_count = 1,\n",
    "                                instance_type = 'ml.m4.xlarge')\n",
    "```"
   ]
  },
  {
   "cell_type": "code",
   "execution_count": null,
   "id": "ae9983d8",
   "metadata": {},
   "outputs": [],
   "source": [
    "import json \n",
    "file_name = \"./input/data/competition/train/train_00002.wav\"\n",
    "with open(file_name, 'rb') as image:\n",
    "    f = image.read()\n",
    "    b = bytearray(f)\n",
    "results = predictor.predict(b)\n",
    "detections = json.loads(results)\n",
    "print(detections) "
   ]
  },
  {
   "cell_type": "markdown",
   "id": "dbb1fb74",
   "metadata": {},
   "source": [
    "### Create Lambda Function \n",
    "<a name=\"build_lambda_function\"></a>"
   ]
  },
  {
   "cell_type": "code",
   "execution_count": null,
   "id": "debdcb8b",
   "metadata": {},
   "outputs": [],
   "source": [
    "import time \n",
    "iam = boto3.client(\"iam\")\n",
    "\n",
    "role_name = \"AmazonSageMaker-LambdaExecutionRole\"\n",
    "assume_role_policy_document = {\n",
    "    \"Version\": \"2012-10-17\",\n",
    "    \"Statement\": [\n",
    "        {\n",
    "          \"Effect\": \"Allow\",\n",
    "          \"Principal\": {\n",
    "            \"Service\": [\"sagemaker.amazonaws.com\", \"lambda.amazonaws.com\"]\n",
    "          },\n",
    "          \"Action\": \"sts:AssumeRole\"\n",
    "        }\n",
    "    ]\n",
    "}\n",
    "\n",
    "create_role_response = iam.create_role(\n",
    "    RoleName = role_name,\n",
    "    AssumeRolePolicyDocument = json.dumps(assume_role_policy_document)\n",
    ")\n",
    "\n",
    "\n",
    "# Now add S3 support\n",
    "iam.attach_role_policy(\n",
    "    PolicyArn='arn:aws:iam::aws:policy/AmazonS3FullAccess',\n",
    "    RoleName=role_name\n",
    ")\n",
    "\n",
    "iam.attach_role_policy(\n",
    "    PolicyArn='arn:aws:iam::aws:policy/AmazonSQSFullAccess',\n",
    "    RoleName=role_name\n",
    ")\n",
    "\n",
    "iam.attach_role_policy(\n",
    "    PolicyArn='arn:aws:iam::aws:policy/AmazonSageMakerFullAccess',\n",
    "    RoleName=role_name\n",
    ")\n",
    "time.sleep(60) # wait for a minute to allow IAM role policy attachment to propagate\n",
    "\n",
    "lambda_role_arn = create_role_response[\"Role\"][\"Arn\"]\n",
    "print(lambda_role_arn)"
   ]
  },
  {
   "cell_type": "code",
   "execution_count": null,
   "id": "a88a1b13",
   "metadata": {},
   "outputs": [],
   "source": [
    "%%bash -s \"$bucket\" \n",
    "cd invoke_endpoint \n",
    "zip -r invoke_endpoint.zip  .\n",
    "aws s3 cp invoke_endpoint.zip s3://$1/lambda/"
   ]
  },
  {
   "cell_type": "code",
   "execution_count": null,
   "id": "bef0e5a9",
   "metadata": {},
   "outputs": [],
   "source": [
    "import os\n",
    "cwd = os.getcwd()\n",
    "!aws lambda create-function --function-name invoke_endpoint --zip-file fileb://$cwd/invoke_endpoint/invoke_endpoint.zip  --handler lambda_function.lambda_handler --runtime python3.7 --role $lambda_role_arn"
   ]
  },
  {
   "cell_type": "code",
   "execution_count": null,
   "id": "c04e8814",
   "metadata": {},
   "outputs": [],
   "source": [
    "endpoint_name = predictor.endpoint_name\n",
    "bucket_key = \"audio-demo\"\n",
    "variables = f\"ENDPOINT_NAME={endpoint_name}\"\n",
    "env = \"Variables={\"+variables+\"}\"\n",
    "\n",
    "!aws lambda update-function-configuration --function-name invoke_endpoint --environment \"$env\"\n"
   ]
  },
  {
   "cell_type": "markdown",
   "id": "810fe369",
   "metadata": {},
   "source": [
    "### Test Material \n",
    "<a name=\"lambda_test\"></a>\n",
    "```\n",
    "{\n",
    "  \"content\": \"/9j/4AAQSkZJRgABAQAAAQABAAD/2wCEAAoHCBYWFRgWFRUZGRgYGBgYGBoYGBoYGBgYGhgZGRgYGBgcIS4lHB4rIRgYJjgmKy8xNTU1GiQ7QDs0Py40NTEBDAwMEA8QHxISHjQrJCQ0NDQ0NDQ0NDQ0NDQ0NDQ0NDQ0NDQ0NDQ0NDQ0NDQ0NDQ0NDQ0NDQ0NDQ0NDQ0NDQ0NP/AABEIAMMBAgMBIgACEQEDEQH/xAAbAAABBQEBAAAAAAAAAAAAAAAEAAIDBQYBB//EADkQAAEDAgQEBAMGBgIDAAAAAAEAAhEDIQQSMUEFBlFhEyJxgTKhsUKRwdHh8BQVUmJygiPxB5Ky/8QAGQEAAwEBAQAAAAAAAAAAAAAAAAECAwQF/8QAJBEAAgICAwACAgMBAAAAAAAAAAECESExAxJBE1EiMgRhgXH/2gAMAwEAAhEDEQA/AABjTG6aKyAZWC67EhcDbDsWLn2QtWoVC3EAqUEKbYdgd9KdUFX4c0o6u6NEmGVomIqTw0dENW4SDstA4BDuTUmBS0uDiVLU4SNCrunAXKjgm5sADDcHaRGUKj4hwlzXWG61rKkBQYhwKcZtOxUYd+FcNk0UndFr3YVpSfgGwtPlY8mNLT0SAK1zeHN6JzeGN6I+VBZksvUKMha+rwodFEzgwnRC5UKyhZmy2BQtQkm62/8ALQGqlxXB5d5QlHkVgmZ9JXL+COCHfwp4WqnFjtFckjv5a9NdgHBO0FoDSUpw7ui4aThsU7QyNJSCiei4WEbItAMBSKSUIASSRCSAEkkkgDXGuVzxVASmBy5EhBza6kOKIQTXJr3lNxFQd/FSnnGQFVhyeRZLqJhYxqe3EKtIU9JKgDhXSa8ygy6EvGRQFk+quEygGVC4wFe4HglR0F8U2/3fEfRv5otIqKlJ0kQ4PDh13TlHTUnoFd/wdF7LMLSdHAkkHvJgqQiixuUbD7h17pYbiDG7SD1tH5LGUm3g7YcUVGmsgNPgDyfLUZHW/wAwmYzg1anfLnb/AFMkx6iJC0+EOe9o7z+KPZiabCJqNHUG6PkfoPgi9HnLnwuU6q9QxWDoV2Fr8pkGHNABaToQUPgeWMMwAtYXnWXmflp8k1NUYvgdmCbRe4SGOI6wYXKZG4Xrjn5GEaNANsrdIVZR5awrpc5mYuuczjN+gBgeyblHwn4JHmtVzUK9jVveJcq4UuysL6ZO4OZs9CHfmlheWcOxozAVXaOLiW/+rZshTig+CVmDZRaVFWwjdoXoLKGHpkinTDHdYLj9529E19U7NbHVoAjuRCPmXhov4rrLPPsNwd9Qwxhd6Cw9ToEY/k6pEuLG9nOP1AIWsdiHTrPr+Sc7ENcMpspfO/DSP8WK2zB47l+pREvZDTo5pDmH/YWB7FVVTBjovTWPyTo5hEOY64c3cELMce4c2k/yXY8B7JuQD9knqD+C0hy9jDm4emVoyD+HjonNwQ6K2cJ2SFNbdznKl3D5GiFOAutHkEIOsxNTHZWfwASRmUrqfYLDGUJTH0YKJpPSqGVnYwRzEwMRLmKNzYRYEMQkSpMspgYiwIi1PYYTnNUYclQrHuN04XSaJTiIQInw9QsJe0eYAlvr+cSh8XzBVcfjOnX8FzOg8XQnzN9x36hHVXk24pUqHjiT+pU9HiD5EEkuP00CqQYN0XhjLgRtum4pG/Z/ZccR5kfTbkYb6SCbnc+nRZ3+ZVnuBL3EylisI74j6W2RXC8KHvAPwi59AqqEY3RPaUpbwekcv8ScWMzAxb1J6wt3hXktDoi2i8xw/GKVDLmgWnsBt7q84TzjTqmA6DMRtA3XG00rrB0YeLNgAXlzSYGVxI9GkoWhXd11+SJ5ZqNqB5I1zN9oVFUxDWPex5gA2J0hS1UVL7sE/wAnEvThcw819x++qz/N1Ooyk57ZMAzHyPqoqfMtNj8hqNE6EuhaV9dlRmUwQ6x/RKsZQ7aPH8BzkWuAcTGkm/4LT8O4uysYY4B/TZ3p+SxfNPAhTqPDLQ4/mFV8IbUaZBjKZB6EdCuh8UJR7QZHyyUqkj1l7JvEOF+nuFVcRxTWAuecsW/6R2D4wx1NheQX5fNpqLGR+9VVcb4hScIDG37yfumAsEldGzdK7HYfEB1Jry17swJADg2GCwJsTJIMe3VVfF6pc5l5bkGWdQNCD3kIetxBxblFhA+URHawQufSSt4xrJx83KpKkyVRl9106KGbrQ5iYlNc0LhNlHmQJnMgSTl1FsQxlRPc9KrRhOpM7JlCYDqlUKMY2yGfR1QDQM1yTinChdJ1IpEkVRQEoh7CozQKYDfEXDUXXUCuHDlNIdHJXXFMa0p5TBCYAdQnuaFxgXXBSxj2MEQpOG4bK5xm0W97/gowYRVB3lJlTLRpwvNFdj8F4jrHzDrpCs+W+WanjDzNiL7g9h30+9Op4HP5i8NHpeB6LX8Ir0KNMPfNogadSJ7mFPeTj1R0qMU+zN5ytg8gaAIDRfue6B5q4CXguYGk31EiFQYPnOS4spuIsBDgIJMCVpeX+YxiC6i9jvEa0lwdAcWyBItfULX4bhTM/lqdo8pfyjUc5xcXQTldo2zbi3QbEL0Hlrh7WMaA5xDRAzOLr+6t+NcGNsroB+1Egjo4dUM0CiweabWgRJ9FzzlJvq/DaPWrj6ed89tjEubPlLWu++fnqsy58aLU84DNUncMbJtrLjH3ELLuYtOJLqc/M25UJlSVMAhskKRj1ZiSOXIXQ5LMihCkppUkrhRQUNldyroCdMIoBmQpKXOEk6YqQhVlPY8KLw4TgEgoKZXCe9wIQDmFRlzkUCDMi5lUdOoVIXooZwNvdEeGIQbqhldNYwl1AkewJll2kZ1XKohOgGeCCoX0EQEg2UACikniknudCZnQA0005php/f73XAV10EaxEEe179kpLBUHUkF4WuAWg2uB6g6fijuNYx9TDupC0GZGttB81VcWwrm0i9mkNe0ja6bw/iQqAtLocR5mnQ9x1CcI1+RvOVqjPYZxaS3PAMAwT5TJE+0fNek/+I8C5uIdWNUuY1mT+0ucQXBpJkgR2uvOcVSptcZdfNcC8X6jZej8kcwUKNFzc7Z11yxGgJN102YHp3NXFGUcK+pJMRA1MyNFh38S8anTqmxJyR/cQTMeyp+LcXdxF4oUSW0ZzPfoXwW/1XiJ7kxoNdlyvwSS177MYZYztoCfYBcvNBykkjfjkoxyUXH+DEMNR5Azhoa37XwgG+5Xn+Jplji06g/9Fem88uL8Y0D4W0wBqbkmbfcvPeOUyHj/AB1PqUsRfVCmrj2YCxdKa0JwKujnOTCRK48pjE6AJY+y4EwBdDUBY8PSe6UxwhNzpCsV0kvEC4jsItxQldGHurQUhoFK3DBTZp1KR7OygqM7K6xVMdFBTpgo7B1KtrCphRI1CsG0bpzxKVh1K4YeV11EKwDAntoAosVFO+idkvDO6tBSE3ThRBTsKKhrF1jJVwcM0KIUgEdvA6lX4EqB1FXooKF2HCaYqKplJONIaQrNmGB0RLMFNgJhDd4KSoi4dRz0sr7QS2+mUjT0us3U4Pkqmm6A5zXZO9iT8gfvWqxOJyQ0jaD0lA8QoGs1rmOAqMByE76QAdiri+rLu2ZkcEOkbj63Wm4TwSmKbxiDkDv+Ng3L3tcWH08s+yhwPNLaYIq4QmoCIc13lJ7tIstNw59TFllSrTbSptcHBhIzPI0uR0kbfEffZtGlxStGo5Q5dpYZjAYLy3M+e9hbQDULR1MSxj8jdSJPtsqHhwqOqOc9rhmFyLgCIG+yu6GFp2MS7QTss1oybtlPx3AzUa/KYy3cBN9gs5zByz4tPMweZoJZ/deXMPrt3XqXgiIOioeKUgHQ0RfQad1hzRcfyTNYSUl1Z4ezCHQjRNfhey2vNHDPDf4jR5HmT0Dzcj3uVngJKcZWrMJR6uipOGURoFW9SneEhTA1VWTRU+GUvDKtHsErhYITsKKt7ZUIZdW3gjRdZhQCkKiq/h+xSV/4DUkBQeydVwYqLJ+HqWQ1dt1kW2OqvlDiWlTNlJ7eqdBY9olNewhcBI0Uk9U6GRN1RTBZQ09ZTnPG6SQqGVmrlJymzghQYcyYVD0Odqk9kXUlamBdNAzeil0sieBuddYQpXUQdCh3UyClGSehJ4Jm0byp8HZ+utvyQZqGLIjhzC57fWVcbspBGNwuYEbqh8CPKTBBsfpC1WIYZsEFiKDHxnEEHUReFpJDRDgwx13tBdu4tABP7hX/AA54eHUnR8JyWgAi7dFFgeDtPwmw7D9J2ROH4U5rpDmxmsTMiDe4uNxupbaKikyy4RiX5AxpfrveOy1OEpwJce/Qqnw4ywA6ZvbtrfZWmHcSeoVRFIsWGUPxDCBzZA8wuETSTqxsfRXOKlFpkxbTwYzjODD6b2ET5SW/5C4XnIIb6r07HOgx2K874jhQDmA66dVxccqbRvyxtdgCq64JTKhulVqhOosButbOehGFG6l0UtWn0TaQKOyYtkGUyngKQtukXABJyoUmkR5ikn5uySnuT2D3EBMIBUlOnm12UlKnJ00Qk0WlggZTJcOinLBOiKFMLjqZBkXQUC1RA0QzKbiVYam6Ip5WppCor6dM9FFVwpVg/wCKdihnvgmUk2NkDKDhpom5YMoh2IMABRYhx2CdhSHsEi6ieSNkwVSLFEZ5Gil2weUDsc4qSgSTB0RTQMkkKNjxeE44EkkQVG3MKfhNQh8dj9FD4l0qZh2b1Vp07GlbLx7utwi8Ng21D8J/1k/NC8NcH6wJ6q+/k5DbSJ6GxXRtD0GcNwQZ5XAjYZomehg2Vo2iwGIF/wB7rP4Z+TyukHrNj6zoiGVMzhc/eoWBsKxNZjHEQQNo2JROG4nSFhmn/FR4/DtIzbIdlNpNvdVoRo6FYOEt0TsTUAbqqrDPyugaKTHPdIt+ScpVFhGNsqOKN8xOyyHEsoYT0d9bfitjxIyDbQLG8bHkcB2+oleev2OmX6FFVc03hQvrCLJswLqNlOdFvSOR5HGuUn4qEQWNAAUL6QzRsmkhJEuGqA6rkCUjQACYwQjAMfASTfDHVdRQYLV1AsGZS4Zh1K7XJMAqdlOQob8G/oY8rrRNgoatM6dE6gYN0k3YqZ12G1umuGVhUue5hQvqzbYaqrKqkCUMzutlPVph0HfdE0y0adLqFo887FIWyM0w1wJ0TKwzOFrKxq0xv7KAggTCd+DS8IG4e8kWClZTgF0WRAe0sJNioXPLmgDRCCiBtbMCIsmsokbJ9NwY2SLSp6r9C3dF+j3kHdoLaJuNgttspGVQTA21UmJALHAawUWEcMfy/wCV2ZzrDYR8zqvQsFjmPYBoR7ELFcvYIvYSW7fhCt8Dw17I809Jm/a6h8soukdKgpLJd43CAtzWWcw9fLULdpWjq4kMovzkCAd1g34uX5mrpcrSZjVOjWcW4jDMo1gFZ6hxZwdrH5LtWqXAON7KnxVTKZCbb2SjUt4kYDswgant6rmH44+q8AAwPU/UarJsxudjmt+KQ33NgfqtfwSm1rAGiwGvU3ue65+abqkb8UVst8U2Wz1aZWO4405JA+IgBbl7paFhOZJDwxn2Jn3/AEWaWQm/xaM/icNbulQow2US9zgbiU1rXAXFlon9nKo0DvbFkOHkOhWzKQ33TBgW5rXVJjoHLbXTcRTltkY6gu0sOfZFhTsqfAPVJW2XskixUi0xNNoEoZmINxsEXVF9fZcr4fSNwpoojw+YDM4WOiY+mbuUhaWsh5k7BDGsbNE7J2BPQpF11ABE23hWAEXE2GnVNa+ZJHeEMAdrCRA1KjewsIEI6k9okxB2Ujhm9OqT+gKr+Jc4y4aaIwMloKDreVxbsiWYkmGgbITBsixFIWaTGYp4pgGBpomPZL2z9ko6vVAdLR2TDwEdQtBvdReDY9Roj2sIAdsUI6pBch6Ahw9K56zdTGBMCbGfuTsKYc4kahPADWGR5nAj71KQKrL7l+uMhbpb6K8wjg45Tvp6rz7g+LLX/rZbHD1SRLetuxSkns6lnBTc+4ktc2ju5oe70kgfQrLMqWhaXn6jm8LEaOA8CoDsfM9h/wDv5LIStLXhjK/S8p4mGBVON8036rj6ktDeikwGFNR7GAwXECTt1Psm5dsErBY8h8vGs573khgIA7ka+116GOFeHGUS3r27qy4Nw9lGk2mwQAPck3JPeSjy20dlq+FNZ2NcrWjNYp+VpHRYvGed7ndSTKv+N4rzvpg6Egn20+aochgCNd1yqLtj5HdIFpYa8qDEsdtBurxtIBgEKsbTJcRBsrZD0QmkIEld8rW21KJGHBaUIyh5ydgEqFsTaTnRGv4JPYS4ibiy7hn5Sb3UrGfaPcosLAPDd1SRXjDskpsLRZOy5p2At6phY4X13soalBpEOdMaAdUTTpwASU78E8AeOY98ZbRclJjIZLrkHXsj2vF56dIlQCsxxiPKQhO0CyDOxT5GQW6rj6paQALm8o52Roa0aaJ2IcA3L133SavYmrIW1IcCRqNFI6mbAm0yY2GyFrNI8wM2hcw1Qxc/EIgpppDqjmOZNgNxB6qYPDQDG111gmGkjsigWFhYRfcpoa/sDxFAkAt3Ejsm0BaHbI+ocryGXsIH1KHqSLRrc9ymxNHK1VobF5GnSUPSbml3TVKrTJiGz1SwRnMGjVTkYmOBGvmCcxs63Kc+kGuEtk9dkZSoZrsItr3TX0CZS1aJY8dDcHv0K9J5W4eGMOaC4w70svO+MVXCm5wjyOafuN16by2ZoMeT8QmT02W/Ck7sJSdIF504U2rhK8Nl7WF7Y1LmDMBbUkAj3Xj+AJeMoBJGkX/7XvzKrSYDgT6rEcxcuspVRXpeRr3f8jRGUO/qaNpOo6p8kE8oSk9Hn7qBGv6q85RwZfiaZIsCXH2B/RS4pmYg6iTeNI0Wo5CwZyvqOGrsrf8AEakep+ijjjchtmybog+L4o06T3jZpj1hGtCoObHODGR8JfleOxEj5hdL0QYfEvIaHmS57jJ9bk/RPfWOUEjQW/fsiuN0w0sDfhAJM9SqmpUdodtLLhSawzWT7Owo4kua0gqKnWIJFpO/Zcp0BldJhxiFG6mdBroTO6b+xaHY5xbGUz1UNFtySNpKTKLgMsiZTcNVcHunTf0CS/slHXsBEgKei5rmEdFHVuCR8M2UT3Whvb37JWCwxuXskjG0XwPKkn1GOZTJIaPsiSVM5pI8okk23v0TGvJGZrSLkO7jpKcxjpgyA3zAQpik0Rs5iGuiLE7t6dVXV6TgczB0kKw8W0kOBOi7lJhgudZ7I65GmBeLmcGvERcdlNXJJ0kDdS0cK0ODyPNJEnS3ULrKbs+YeYGTA09AihtWyZlItYHGJ1ynYIFkuu34h5vWeiMqsc5jnEXFo0tuhKbHAtY0AWtPT1T14JANZ7/EzQQALd1aNcSJLdQCnNfmIkD23jYItktGVwEuNwNh0lLDHvYJQxOd0htxA/RTPpPnQEjYnRDswuXOWzBNvVcwdUvBaTBbr39U442LQTWeAC82AOUDqYuoWGAMgOZ2oAn9hTupjKM1xJ9j1hLh77Py7yJjZV6CYBXD3ENIOt/RdoPcxttydFY4t4BY0C9iSO43QviDxcjT8IMnp1RVDA6+Fzse12pY6B0sYPrKIxvNQo0WU2vAaKTSASPhDToNzYe0qUsJzECQ5sT0jqsVx7hDzVaARGRzBmmMjiTY9QSR6ALTjlVjLvB/+SqjmEljWFrmhzgZsS6C1ojTyg3KvsJzd/EANcWkOny3u4CWuA2vIhYXhnJpMB7iWnUC3uDC1OD4cykcrGRlEAm5deZLlU31Vh2VFg+sfOyLOEgdFt+UCf4ZhdYmY/xBIb8gF589rg62oMQfxWw5e4kxwYxpBjM0xMBwixP+rrdkcLy7E8mtBVNzU5ow7i7QFpHrmH6qehiTlcbE+YtA94H4LPczcWY+gaYcDUztGQXJElaSlgHGjMYnGF5G4M6bKTxRkDRBMx3ChqUpbPwlsTFtUxtGCHToR7rktpheAhxizm6iL7nZVbKD2u1Nzp0V3iCHDPN7QNRG6GZiQ55tobH6pyBjXUjAgibn23lDeH10Fz3CmL5e63l0/ROd5hMRt6KW1QXaAKeKaXuYJLdk3MWlvc2PvuiDRIJbF5F46p9TDicua4+UpJWGy3ZiLC40C6qvKz+o/ckrt/Y8ljiWwbW1+pQ+GeSDJJnXvdJJJaJZeY6g3yCBAbooOL0gDTIES38l1JOWmUAvYIIjdR4Wzvl8kkllHz/RLQ2qLn0H1T8WwZGmL6T/AKlJJOQIFw7bjtP0CN3aerSuJKVofgqf2RsSbKPFMANhrKSSa2J6HYNsi9/N9FC+zXRbyn6pJKvCfoJpsGVhi5YPqVVlgFV9tXD6JJKXtif7FjR+A93ge3RRcwYZnggxcPsekriSqO0UN4V8KO+27s0JJLfm/Vf9BbG1qLYeYvDbyVk34t9LHUKdNxYx1RxLW2Bza/U/eupJQ2UjR4jidVlSnlqESwk6X/5ag/Afcp6dIZ3GLnKSdz5Ekkp/qUypYJeJ3cQe6Kx9qrgNMuiSSyWjN6Ez4PcKFjfID/e76lJJNAywawZXW3UlKmC15jqfkkkmg8BKHxj0/BQYqg3MDH2ep6pJJS0xouaOGblFth16JJJKCj//2Q==\"\n",
    "}\n",
    "```"
   ]
  },
  {
   "cell_type": "markdown",
   "id": "866540f3",
   "metadata": {},
   "source": [
    "### Configure API Gateway \n",
    "<a name=\"api-gateway\"></a>\n",
    "* Finally, we need an API to have the service accessible\n",
    "* This API accepts image POST to it and pass the image to ```invoke_image_object_detection```\n",
    "\n",
    "```curl -X POST -H 'content-type: application/octet-stream' --data-binary @$f $OD_API | jq .``` \n",
    "\n",
    "* we can create it by console also by aws cli "
   ]
  },
  {
   "cell_type": "code",
   "execution_count": null,
   "id": "b56275eb",
   "metadata": {},
   "outputs": [],
   "source": [
    "!aws lambda add-permission \\\n",
    "    --function-name invoke_endpoint \\\n",
    "    --action lambda:InvokeFunction \\\n",
    "    --statement-id apigateway \\\n",
    "    --principal apigateway.amazonaws.com    \n",
    "\n"
   ]
  },
  {
   "cell_type": "code",
   "execution_count": null,
   "id": "b7d734a0",
   "metadata": {},
   "outputs": [],
   "source": [
    "!sed \"s/<account_id>/$account_id/g\" latestswagger2-template.json > latestswagger2-tmp.json \n",
    "!sed \"s/<region>/$region/g\" latestswagger2-tmp.json > latestswagger2.json "
   ]
  },
  {
   "cell_type": "code",
   "execution_count": null,
   "id": "fd68b9ba",
   "metadata": {},
   "outputs": [],
   "source": [
    "api_info = !aws apigateway import-rest-api \\\n",
    "    --fail-on-warnings \\\n",
    "    --body 'file:////home/ec2-user/SageMaker/incremental-training-mlops/01-byoc/latestswagger2.json' "
   ]
  },
  {
   "cell_type": "code",
   "execution_count": null,
   "id": "3bac5224",
   "metadata": {},
   "outputs": [],
   "source": [
    "api_info"
   ]
  },
  {
   "cell_type": "code",
   "execution_count": null,
   "id": "f8c4fbd3",
   "metadata": {},
   "outputs": [],
   "source": [
    "api_obj = json.loads(''.join(api_info))\n",
    "api_id = api_obj['id']\n",
    "api_id"
   ]
  },
  {
   "cell_type": "code",
   "execution_count": null,
   "id": "994a8574",
   "metadata": {},
   "outputs": [],
   "source": [
    "!aws apigateway create-deployment --rest-api-id $api_id --stage-name dev"
   ]
  },
  {
   "cell_type": "markdown",
   "id": "6339bf73",
   "metadata": {},
   "source": [
    "### Manually Setup API-Gateway in Console\n",
    "<a name=\"binary-content\"></a>\n"
   ]
  },
  {
   "cell_type": "markdown",
   "id": "5bd2df8e",
   "metadata": {},
   "source": [
    "####  Create Restful API \n",
    "<img src=\"../03-lambda-api/content_image/build_api_gateway.png\" alt=\"rest_api\" width=\"600\"/>"
   ]
  },
  {
   "cell_type": "markdown",
   "id": "d07728e1",
   "metadata": {},
   "source": [
    "#### Create resource and methods \n",
    "* click the drop down manual and name your resource \n",
    "<img src=\"../03-lambda-api/content_image/create_resource.png\" alt=\"create_resource\" width=\"600\"/>\n",
    "\n",
    "* focus on the resource just created, click the drop down manual and select create method, then select backend lambda function \n",
    "<img src=\"../03-lambda-api/content_image/create_method.png\" alt=\"create_method\" width=\"600\"/>\n",
    "<img src=\"../03-lambda-api/content_image/create_method2.png\" alt=\"create_method\" width=\"600\"/>\n"
   ]
  },
  {
   "cell_type": "markdown",
   "id": "7a174908",
   "metadata": {},
   "source": [
    "### Configurations for passing the binary content to backend\n",
    "* Add binary media type in ```Settings``` of this API \n",
    "* Configure which attribute to extract and fill it in event in Lambda integration"
   ]
  },
  {
   "cell_type": "markdown",
   "id": "68658b2d",
   "metadata": {},
   "source": [
    "<img src=\"../03-lambda-api/content_image/setting.png\" alt=\"binary_media\" width=\"600\"/>\n",
    "<img src=\"../03-lambda-api/content_image/integration.png\" alt=\"config lambda function\" width=\"600\"/>\n",
    "<img src=\"../03-lambda-api/content_image/setting1.png\" alt=\"config lambda function2\" width=\"600\"/>"
   ]
  },
  {
   "cell_type": "markdown",
   "id": "4c0c77b0",
   "metadata": {},
   "source": [
    "### Test API Gateway \n",
    "<a name=\"test-api\"></a>"
   ]
  },
  {
   "cell_type": "code",
   "execution_count": null,
   "id": "29e44c0b",
   "metadata": {},
   "outputs": [],
   "source": [
    "api_endpoint = \"https://{}.execute-api.{}.amazonaws.com/dev/classify\".format(api_id, region)\n",
    "\n",
    "!curl -X POST -H 'content-type: application/octet-stream'  --data-binary @./input/data/competition/train/train_00002.wav    $api_endpoint\n"
   ]
  },
  {
   "cell_type": "code",
   "execution_count": null,
   "id": "fe30429b",
   "metadata": {},
   "outputs": [],
   "source": [
    "%store endpoint_name \n",
    "%store lambda_role_arn\n",
    "%store model_s3_path "
   ]
  },
  {
   "cell_type": "code",
   "execution_count": null,
   "id": "e3628179",
   "metadata": {},
   "outputs": [],
   "source": []
  }
 ],
 "metadata": {
  "kernelspec": {
   "display_name": "conda_pytorch_latest_p36",
   "language": "python",
   "name": "conda_pytorch_latest_p36"
  },
  "language_info": {
   "codemirror_mode": {
    "name": "ipython",
    "version": 3
   },
   "file_extension": ".py",
   "mimetype": "text/x-python",
   "name": "python",
   "nbconvert_exporter": "python",
   "pygments_lexer": "ipython3",
   "version": "3.6.13"
  }
 },
 "nbformat": 4,
 "nbformat_minor": 5
}
