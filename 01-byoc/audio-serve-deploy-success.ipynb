{
 "cells": [
  {
   "cell_type": "markdown",
   "id": "74bf33ce",
   "metadata": {},
   "source": [
    "\n",
    "## Bring Your Own Algorithm to SageMaker\n",
    "### Architecture of this notebook \n",
    "\n",
    "\n",
    "<img src=\"./images/part1.png\" alt=\"architecture\" width=\"800\"/>\n",
    "\n",
    "\n",
    "### 1. Training\n",
    "a. [Bring Your Own Container](#byoc)\n",
    "\n",
    "b. [Training locally](#local_train)\n",
    "\n",
    "c. [Trigger remote training job](#remote_train)\n",
    "\n",
    "d. [Test locally](#local_test)\n",
    "\n",
    "### 2. Deploy EndPoint\n",
    "[Deploy model to SageMaker Endpoint](#deploy_endpoint)\n",
    "\n",
    "### 3. Build Lambda Function\n",
    "a. [Construct lambda function](#build_lambda_function)\n",
    "\n",
    "b. [Test lambda](#lambda_test)\n",
    "\n",
    "### 4. Configure API Gateway\n",
    "\n",
    "a. [Construct and setting api gateway](#api-gateway)\n",
    "\n",
    "b. [Configure for passing binary media to Lambda Function](#binary-content)\n",
    "\n",
    "c. [test api gateway](#test-api)\n"
   ]
  },
  {
   "cell_type": "code",
   "execution_count": 141,
   "id": "978c48b7",
   "metadata": {},
   "outputs": [
    {
     "data": {
      "text/plain": [
       "2"
      ]
     },
     "execution_count": 141,
     "metadata": {},
     "output_type": "execute_result"
    }
   ],
   "source": [
    "1+1"
   ]
  },
  {
   "cell_type": "raw",
   "id": "f81deeb1",
   "metadata": {},
   "source": [
    "# 部屬流程\n",
    "'''\n",
    "import boto3 \n",
    "\n",
    "session = boto3.session.Session()\n",
    "region = session.region_name\n",
    "client = boto3.client(\"sts\")\n",
    "account_id = client.get_caller_identity()[\"Account\"]\n",
    "algorithm_name = \"vgg-audio\"\n",
    "\n",
    "-----------------\n",
    "!./build_and_push.sh\n",
    "\n",
    "-------------------\n",
    "import sagemaker \n",
    "session = sagemaker.session.Session()\n",
    "bucket = session.default_bucket()\n",
    "\n",
    "-------------------\n",
    "from sagemaker import get_execution_role\n",
    "\n",
    "role = get_execution_role()\n",
    "print(role)\n",
    "\n",
    "-------------------\n",
    "# 自己建立Deploy\n",
    "mode = 'remote'\n",
    "\n",
    "if mode == 'local':\n",
    "    csess = sagemaker.local.LocalSession()\n",
    "else:\n",
    "    csess = session\n",
    "\n",
    "model = sagemaker.model.Model(image_uri, \n",
    "                              model_data = model_data_s3_uri,\n",
    "                              role = role,\n",
    "                              predictor_cls = sagemaker.predictor.Predictor,\n",
    "                              sagemaker_session = csess)\n",
    "\n",
    "\n",
    "-------------------\n",
    "\n",
    "new_detector =  sagemaker.predictor.Predictor(endpoint_name = endpoint_name) \n",
    "new_detector.update_endpoint(model_name=model.name, initial_instance_count = 1,\n",
    "                                instance_type = 'ml.m4.xlarge')\n",
    "\n",
    "-------------------\n",
    "\n",
    "\n",
    "\n",
    "''''"
   ]
  },
  {
   "cell_type": "markdown",
   "id": "c9ede683",
   "metadata": {},
   "source": [
    "### BYOC (Bring Your Own Container) for Example Audio Classification Algorithm\n",
    "<a name=\"byoc\"></a>\n"
   ]
  },
  {
   "cell_type": "markdown",
   "id": "709d8ada",
   "metadata": {},
   "source": [
    "* prepare necessry variables\n",
    "using `boto3` to get region and account_id for later usage - ECR uri construction "
   ]
  },
  {
   "cell_type": "code",
   "execution_count": 2,
   "id": "c6a187b8",
   "metadata": {},
   "outputs": [],
   "source": [
    "import boto3 \n",
    "\n",
    "session = boto3.session.Session()\n",
    "region = session.region_name\n",
    "client = boto3.client(\"sts\")\n",
    "account_id = client.get_caller_identity()[\"Account\"]\n",
    "algorithm_name = \"vgg-audio\""
   ]
  },
  {
   "cell_type": "markdown",
   "id": "e25e1da7",
   "metadata": {},
   "source": [
    "#### 3 elements to build bring your own container \n",
    "* `build_and_push.sh` is the script communicating with ECR \n",
    "* `Dockerfile` defines the training and serving environment \n",
    "* `code/train` and `code/serve` defines entry point of our container "
   ]
  },
  {
   "cell_type": "code",
   "execution_count": 2,
   "id": "315b87c9",
   "metadata": {},
   "outputs": [],
   "source": [
    "# 給最高權限\n",
    "!chmod u+x *.sh"
   ]
  },
  {
   "cell_type": "code",
   "execution_count": 3,
   "id": "169c1bd7",
   "metadata": {},
   "outputs": [
    {
     "data": {
      "text/plain": [
       "datetime.datetime(2021, 7, 16, 21, 36, 32, 288005, tzinfo=datetime.timezone(datetime.timedelta(0, 28800)))"
      ]
     },
     "execution_count": 3,
     "metadata": {},
     "output_type": "execute_result"
    }
   ],
   "source": [
    "# import datetime\n",
    "from datetime import datetime, timedelta, timezone\n",
    "datetime.now(timezone(timedelta(hours=8)))"
   ]
  },
  {
   "cell_type": "code",
   "execution_count": 7,
   "id": "040e0b1c",
   "metadata": {
    "scrolled": true
   },
   "outputs": [
    {
     "name": "stdout",
     "output_type": "stream",
     "text": [
      "355444812467\n",
      "us-west-2\n",
      "WARNING! Using --password via the CLI is insecure. Use --password-stdin.\n",
      "WARNING! Your password will be stored unencrypted in /home/ec2-user/.docker/config.json.\n",
      "Configure a credential helper to remove this warning. See\n",
      "https://docs.docker.com/engine/reference/commandline/login/#credentials-store\n",
      "\n",
      "Login Succeeded\n",
      "WARNING! Using --password via the CLI is insecure. Use --password-stdin.\n",
      "WARNING! Your password will be stored unencrypted in /home/ec2-user/.docker/config.json.\n",
      "Configure a credential helper to remove this warning. See\n",
      "https://docs.docker.com/engine/reference/commandline/login/#credentials-store\n",
      "\n",
      "Login Succeeded\n",
      "base_img:763104351884.dkr.ecr.us-west-2.amazonaws.com/pytorch-training:1.6.0-gpu-py36-cu110-ubuntu18.04\n",
      "1.6.0-gpu-py36-cu110-ubuntu18.04: Pulling from pytorch-training\n",
      "\n",
      "\u001b[1B57c49d0f: Pulling fs layer \n",
      "\u001b[1B40447d26: Pulling fs layer \n",
      "\u001b[1B2f862619: Pulling fs layer \n",
      "\u001b[1B278deddf: Pulling fs layer \n",
      "\u001b[1B80049843: Pulling fs layer \n",
      "\u001b[1B556b2329: Pulling fs layer \n",
      "\u001b[1Ba0c97a55: Pulling fs layer \n",
      "\u001b[1B78bd0b24: Pulling fs layer \n",
      "\u001b[1B6c31766d: Pulling fs layer \n",
      "\u001b[1Bcbd546ee: Pulling fs layer \n",
      "\u001b[1B1a9cd680: Pulling fs layer \n",
      "\u001b[1B4a48faa7: Pulling fs layer \n",
      "\u001b[1B28177a98: Pulling fs layer \n",
      "\u001b[1Bf9345933: Pulling fs layer \n",
      "\u001b[1B31742a05: Pulling fs layer \n",
      "\u001b[1Bdc54ddb5: Pulling fs layer \n",
      "\u001b[1B3d0cffd5: Pulling fs layer \n",
      "\u001b[1B73b8b218: Pulling fs layer \n",
      "\u001b[1Be285bcbe: Pulling fs layer \n",
      "\u001b[1B80b323ed: Pulling fs layer \n",
      "\u001b[1Be1da1ddf: Pulling fs layer \n",
      "\u001b[1B57dba8e5: Pulling fs layer \n",
      "\u001b[1Bce63ecd4: Pulling fs layer \n",
      "\u001b[16Bc31766d: Waiting fs layer \n",
      "\u001b[1B0dc5eeeb: Pulling fs layer \n",
      "\u001b[15Ba48faa7: Waiting fs layer \n",
      "\u001b[17Ba9cd680: Waiting fs layer \n",
      "\u001b[16B8177a98: Waiting fs layer \n",
      "\u001b[26B78deddf: Waiting fs layer \n",
      "\u001b[17B9345933: Waiting fs layer \n",
      "\u001b[27B0049843: Waiting fs layer \n",
      "\u001b[25B8bd0b24: Extracting    947MB/970.9MBB32A\u001b[2K\u001b[28A\u001b[2K\u001b[29A\u001b[2K\u001b[29A\u001b[2K\u001b[28A\u001b[2K\u001b[27A\u001b[2K\u001b[26A\u001b[2K\u001b[26A\u001b[2K\u001b[25A\u001b[2K\u001b[26A\u001b[2K\u001b[25A\u001b[2K\u001b[26A\u001b[2K\u001b[32A\u001b[2K\u001b[26A\u001b[2K\u001b[32A\u001b[2K\u001b[32A\u001b[2K\u001b[25A\u001b[2K\u001b[32A\u001b[2K\u001b[25A\u001b[2K\u001b[32A\u001b[2K\u001b[25A\u001b[2K\u001b[32A\u001b[2K\u001b[26A\u001b[2K\u001b[32A\u001b[2K\u001b[26A\u001b[2K\u001b[25A\u001b[2K\u001b[32A\u001b[2K\u001b[2K\u001b[32A\u001b[2K\u001b[25A\u001b[2K\u001b[32A\u001b[2K\u001b[25A\u001b[2K\u001b[32A\u001b[2K\u001b[26A\u001b[2K\u001b[25A\u001b[2K\u001b[31A\u001b[2K\u001b[26A\u001b[2K\u001b[24A\u001b[2K\u001b[29A\u001b[2K\u001b[26A\u001b[2K\u001b[25A\u001b[2K\u001b[29A\u001b[2K\u001b[25A\u001b[2K\u001b[29A\u001b[2K\u001b[24A\u001b[2K\u001b[29A\u001b[2K\u001b[24A\u001b[2K\u001b[25A\u001b[2K\u001b[24A\u001b[2K\u001b[26A\u001b[2K\u001b[25A\u001b[2K\u001b[28A\u001b[2K\u001b[25A\u001b[2K\u001b[24A\u001b[2K\u001b[26A\u001b[2K\u001b[26A\u001b[2K\u001b[27A\u001b[2K\u001b[26A\u001b[2K\u001b[25A\u001b[2K\u001b[26A\u001b[2K\u001b[25A\u001b[2K\u001b[26A\u001b[2K\u001b[24A\u001b[2K\u001b[25A\u001b[2K\u001b[26A\u001b[2K\u001b[25A\u001b[2K\u001b[26A\u001b[2K\u001b[25A\u001b[2K\u001b[26A\u001b[2K\u001b[25A\u001b[2K\u001b[26A\u001b[2K\u001b[25A\u001b[2K\u001b[24A\u001b[2K\u001b[25A\u001b[2K\u001b[24A\u001b[2K\u001b[25A\u001b[2K\u001b[24A\u001b[2K\u001b[26A\u001b[2K\u001b[24A\u001b[2K\u001b[26A\u001b[2K\u001b[25A\u001b[2K\u001b[24A\u001b[2K\u001b[26A\u001b[2K\u001b[24A\u001b[2K\u001b[24A\u001b[2K\u001b[25A\u001b[2K\u001b[26A\u001b[2K\u001b[25A\u001b[2K\u001b[26A\u001b[2K\u001b[25A\u001b[2K\u001b[26A\u001b[2K\u001b[25A\u001b[2K\u001b[24A\u001b[2K\u001b[25A\u001b[2K\u001b[24A\u001b[2K\u001b[25A\u001b[2K\u001b[24A\u001b[2K\u001b[25A\u001b[2K\u001b[26A\u001b[2K\u001b[24A\u001b[2K\u001b[25A\u001b[2K\u001b[26A\u001b[2K\u001b[25A\u001b[2K\u001b[24A\u001b[2K\u001b[25A\u001b[2K\u001b[24A\u001b[2K\u001b[25A\u001b[2K\u001b[24A\u001b[2K\u001b[26A\u001b[2K\u001b[25A\u001b[2K\u001b[26A\u001b[2K\u001b[25A\u001b[2K\u001b[26A\u001b[2K\u001b[25A\u001b[2K\u001b[26A\u001b[2K\u001b[25A\u001b[2K\u001b[26A\u001b[2K\u001b[24A\u001b[2K\u001b[25A\u001b[2K\u001b[26A\u001b[2K\u001b[26A\u001b[2K\u001b[25A\u001b[2K\u001b[26A\u001b[2K\u001b[24A\u001b[2K\u001b[25A\u001b[2K\u001b[26A\u001b[2K\u001b[25A\u001b[2K\u001b[24A\u001b[2K\u001b[25A\u001b[2K\u001b[24A\u001b[2K\u001b[25A\u001b[2K\u001b[26A\u001b[2K\u001b[24A\u001b[2K\u001b[25A\u001b[2K\u001b[26A\u001b[2K\u001b[24A\u001b[2K\u001b[26A\u001b[2K\u001b[26A\u001b[2K\u001b[26A\u001b[2K\u001b[25A\u001b[2K\u001b[26A\u001b[2K\u001b[25A\u001b[2K\u001b[24A\u001b[2K\u001b[25A\u001b[2K\u001b[26A\u001b[2K\u001b[24A\u001b[2K\u001b[26A\u001b[2K\u001b[24A\u001b[2K\u001b[26A\u001b[2K\u001b[25A\u001b[2K\u001b[24A\u001b[2K\u001b[26A\u001b[2K\u001b[24A\u001b[2K\u001b[26A\u001b[2K\u001b[25A\u001b[2K\u001b[26A\u001b[2K\u001b[25A\u001b[2K\u001b[24A\u001b[2K\u001b[25A\u001b[2K\u001b[24A\u001b[2K\u001b[25A\u001b[2K\u001b[24A\u001b[2K\u001b[25A\u001b[2K\u001b[24A\u001b[2K\u001b[26A\u001b[2K\u001b[24A\u001b[2K\u001b[26A\u001b[2K\u001b[24A\u001b[2K\u001b[26A\u001b[2K\u001b[24A\u001b[2K\u001b[26A\u001b[2K\u001b[26A\u001b[2K\u001b[25A\u001b[2K\u001b[25A\u001b[2K\u001b[24A\u001b[2K\u001b[25A\u001b[2K\u001b[24A\u001b[2K\u001b[26A\u001b[2K\u001b[25A\u001b[2K\u001b[24A\u001b[2K\u001b[25A\u001b[2K\u001b[26A\u001b[2K\u001b[25A\u001b[2K\u001b[26A\u001b[2K\u001b[24A\u001b[2K\u001b[25A\u001b[2K\u001b[24A\u001b[2K\u001b[26A\u001b[2K\u001b[24A\u001b[2K\u001b[26A\u001b[2K\u001b[25A\u001b[2K\u001b[26A\u001b[2K\u001b[25A\u001b[2K\u001b[26A\u001b[2K\u001b[24A\u001b[2K\u001b[26A\u001b[2K\u001b[25A\u001b[2K\u001b[25A\u001b[2K\u001b[26A\u001b[2K\u001b[25A\u001b[2K\u001b[24A\u001b[2K\u001b[25A\u001b[2K\u001b[26A\u001b[2K\u001b[24A\u001b[2K\u001b[25A\u001b[2K\u001b[24A\u001b[2K\u001b[26A\u001b[2K\u001b[24A\u001b[2K\u001b[26A\u001b[2K\u001b[24A\u001b[2K\u001b[26A\u001b[2K\u001b[24A\u001b[2K\u001b[25A\u001b[2K\u001b[26A\u001b[2K\u001b[25A\u001b[2K\u001b[24A\u001b[2K\u001b[26A\u001b[2K\u001b[24A\u001b[2K\u001b[26A\u001b[2K\u001b[25A\u001b[2K\u001b[26A\u001b[2K\u001b[24A\u001b[2K\u001b[26A\u001b[2K\u001b[25A\u001b[2K\u001b[26A\u001b[2K\u001b[24A\u001b[2K\u001b[26A\u001b[2K\u001b[24A\u001b[2K\u001b[26A\u001b[2K\u001b[24A\u001b[2K\u001b[26A\u001b[2K\u001b[25A\u001b[2K\u001b[24A\u001b[2K\u001b[26A\u001b[2K\u001b[25A\u001b[2K\u001b[24A\u001b[2K\u001b[26A\u001b[2K\u001b[24A\u001b[2K\u001b[26A\u001b[2K\u001b[25A\u001b[2K\u001b[26A\u001b[2K\u001b[25A\u001b[2K\u001b[26A\u001b[2K\u001b[25A\u001b[2K\u001b[26A\u001b[2K\u001b[25A\u001b[2K\u001b[26A\u001b[2K\u001b[25A\u001b[2K\u001b[26A\u001b[2K\u001b[25A\u001b[2K\u001b[26A\u001b[2K\u001b[25A\u001b[2K\u001b[26A\u001b[2K\u001b[24A\u001b[2K\u001b[26A\u001b[2K\u001b[25A\u001b[2K\u001b[26A\u001b[2K\u001b[25A\u001b[2K\u001b[26A\u001b[2K\u001b[25A\u001b[2K\u001b[24A\u001b[2K\u001b[25A\u001b[2K\u001b[24A\u001b[2K\u001b[24A\u001b[2K\u001b[26A\u001b[2K\u001b[25A\u001b[2K\u001b[24A\u001b[2K\u001b[24A\u001b[2K\u001b[26A\u001b[2K\u001b[24A\u001b[2K\u001b[24A\u001b[2K\u001b[26A\u001b[2K\u001b[26A\u001b[2K\u001b[25A\u001b[2K\u001b[24A\u001b[2K\u001b[26A\u001b[2K\u001b[24A\u001b[2K\u001b[26A\u001b[2K\u001b[24A\u001b[2K\u001b[25A\u001b[2K\u001b[26A\u001b[2K\u001b[25A\u001b[2K\u001b[24A\u001b[2K\u001b[25A\u001b[2K\u001b[24A\u001b[2K\u001b[26A\u001b[2K\u001b[26A\u001b[2K\u001b[24A\u001b[2K\u001b[26A\u001b[2K\u001b[24A\u001b[2K\u001b[26A\u001b[2K\u001b[26A\u001b[2K\u001b[26A\u001b[2K\u001b[26A\u001b[2K\u001b[25A\u001b[2K\u001b[24A\u001b[2K\u001b[24A\u001b[2K\u001b[26A\u001b[2K\u001b[24A\u001b[2K\u001b[25A\u001b[2K\u001b[26A\u001b[2K\u001b[25A\u001b[2K\u001b[24A\u001b[2K\u001b[26A\u001b[2K\u001b[24A\u001b[2K\u001b[24A\u001b[2K\u001b[25A\u001b[2K\u001b[24A\u001b[2K\u001b[26A\u001b[2K\u001b[24A\u001b[2K\u001b[25A\u001b[2K\u001b[26A\u001b[2K\u001b[26A\u001b[2K\u001b[26A\u001b[2K\u001b[26A\u001b[2K\u001b[25A\u001b[2K\u001b[25A\u001b[2K\u001b[25A\u001b[2K\u001b[26A\u001b[2K\u001b[25A\u001b[2K\u001b[26A\u001b[2K\u001b[25A\u001b[2K\u001b[26A\u001b[2K\u001b[26A\u001b[2K\u001b[24A\u001b[2K\u001b[26A\u001b[2K\u001b[25A\u001b[2K\u001b[26A\u001b[2K\u001b[25A\u001b[2K\u001b[24A\u001b[2K\u001b[25A\u001b[2K\u001b[24A\u001b[2K\u001b[26A\u001b[2K\u001b[24A\u001b[2K\u001b[25A\u001b[2K\u001b[24A\u001b[2K\u001b[26A\u001b[2K\u001b[24A\u001b[2K\u001b[25A\u001b[2K\u001b[26A\u001b[2K\u001b[25A\u001b[2K\u001b[26A\u001b[2K\u001b[25A\u001b[2K\u001b[26A\u001b[2K\u001b[25A\u001b[2K\u001b[26A\u001b[2K\u001b[25A\u001b[2K\u001b[26A\u001b[2K\u001b[26A\u001b[2K\u001b[25A\u001b[2K\u001b[24A\u001b[2K\u001b[26A\u001b[2K\u001b[24A\u001b[2K\u001b[26A\u001b[2K\u001b[24A\u001b[2K\u001b[25A\u001b[2K\u001b[24A\u001b[2K\u001b[26A\u001b[2K\u001b[24A\u001b[2K\u001b[26A\u001b[2K\u001b[25A\u001b[2K\u001b[26A\u001b[2K\u001b[25A\u001b[2K\u001b[25A\u001b[2K\u001b[25A\u001b[2K\u001b[26A\u001b[2K\u001b[25A\u001b[2K\u001b[26A\u001b[2K\u001b[25A\u001b[2K\u001b[26A\u001b[2K\u001b[25A\u001b[2K\u001b[25A\u001b[2K\u001b[26A\u001b[2K\u001b[24A\u001b[2K\u001b[23A\u001b[2K\u001b[24A\u001b[2K\u001b[26A\u001b[2K\u001b[24A\u001b[2K\u001b[26A\u001b[2K\u001b[24A\u001b[2K\u001b[26A\u001b[2K\u001b[24A\u001b[2K\u001b[26A\u001b[2K\u001b[23A\u001b[2K\u001b[23A\u001b[2KDownloading  1.029GB/1.058GB\u001b[23A\u001b[2K\u001b[24A\u001b[2K\u001b[26A\u001b[2K\u001b[23A\u001b[2K\u001b[26A\u001b[2K\u001b[24A\u001b[2K\u001b[26A\u001b[2K\u001b[24A\u001b[2K\u001b[23A\u001b[2K\u001b[24A\u001b[2K\u001b[23A\u001b[2K\u001b[23A\u001b[2K\u001b[22A\u001b[2K\u001b[23A\u001b[2K\u001b[26A\u001b[2KDownloading  10.73MB/186MB\u001b[23A\u001b[2K\u001b[23A\u001b[2K\u001b[22A\u001b[2K\u001b[23A\u001b[2K\u001b[22A\u001b[2K\u001b[26A\u001b[2K\u001b[26A\u001b[2K\u001b[26A\u001b[2K\u001b[23A\u001b[2K\u001b[26A\u001b[2K\u001b[22A\u001b[2K\u001b[26A\u001b[2K\u001b[23A\u001b[2K\u001b[26A\u001b[2K\u001b[26A\u001b[2K\u001b[23A\u001b[2K\u001b[21A\u001b[2K\u001b[23A\u001b[2K\u001b[26A\u001b[2K\u001b[26A\u001b[2K\u001b[23A\u001b[2K\u001b[26A\u001b[2K\u001b[23A\u001b[2K\u001b[20A\u001b[2K\u001b[26A\u001b[2K\u001b[23A\u001b[2K\u001b[20A\u001b[2K\u001b[22A\u001b[2K\u001b[20A\u001b[2K\u001b[22A\u001b[2K\u001b[20A\u001b[2K\u001b[22A\u001b[2K\u001b[26A\u001b[2K\u001b[20A\u001b[2K\u001b[26A\u001b[2K\u001b[22A\u001b[2K\u001b[20A\u001b[2K\u001b[26A\u001b[2K\u001b[23A\u001b[2K\u001b[20A\u001b[2K\u001b[23A\u001b[2K\u001b[20A\u001b[2K\u001b[22A\u001b[2K\u001b[26A\u001b[2K\u001b[22A\u001b[2K\u001b[26A\u001b[2K\u001b[26A\u001b[2K\u001b[19A\u001b[2K\u001b[26A\u001b[2K\u001b[22A\u001b[2K\u001b[20A\u001b[2K\u001b[22A\u001b[2K\u001b[20A\u001b[2K\u001b[22A\u001b[2K\u001b[20A\u001b[2K\u001b[20A\u001b[2K\u001b[26A\u001b[2K\u001b[20A\u001b[2K\u001b[26A\u001b[2K\u001b[19A\u001b[2K\u001b[26A\u001b[2K\u001b[19A\u001b[2K\u001b[26A\u001b[2K\u001b[19A\u001b[2K\u001b[26A\u001b[2K\u001b[26A\u001b[2K\u001b[26A\u001b[2K\u001b[20A\u001b[2K\u001b[26A\u001b[2K\u001b[20A\u001b[2K\u001b[26A\u001b[2K\u001b[19A\u001b[2K\u001b[26A\u001b[2K\u001b[22A\u001b[2K\u001b[26A\u001b[2K\u001b[20A\u001b[2K\u001b[26A\u001b[2K\u001b[20A\u001b[2K\u001b[16A\u001b[2K\u001b[20A\u001b[2K\u001b[15A\u001b[2K\u001b[19A\u001b[2K\u001b[20A\u001b[2K\u001b[19A\u001b[2K\u001b[26A\u001b[2K\u001b[14A\u001b[2K\u001b[26A\u001b[2K\u001b[14A\u001b[2K\u001b[26A\u001b[2K\u001b[20A\u001b[2K\u001b[14A\u001b[2K\u001b[14A\u001b[2K\u001b[14A\u001b[2K\u001b[20A\u001b[2K\u001b[14A\u001b[2K\u001b[19A\u001b[2K\u001b[26A\u001b[2K\u001b[19A\u001b[2K\u001b[20A\u001b[2K\u001b[14A\u001b[2K\u001b[26A\u001b[2K\u001b[14A\u001b[2K\u001b[20A\u001b[2K\u001b[14A\u001b[2K\u001b[19A\u001b[2K\u001b[14A\u001b[2K\u001b[20A\u001b[2K\u001b[26A\u001b[2K\u001b[14A\u001b[2K\u001b[19A\u001b[2K\u001b[20A\u001b[2K\u001b[19A\u001b[2K\u001b[20A\u001b[2K\u001b[14A\u001b[2K\u001b[20A\u001b[2K\u001b[26A\u001b[2K\u001b[19A\u001b[2K\u001b[26A\u001b[2K\u001b[14A\u001b[2K\u001b[20A\u001b[2K\u001b[19A\u001b[2K\u001b[20A\u001b[2K\u001b[26A\u001b[2K\u001b[14A\u001b[2K\u001b[26A\u001b[2K\u001b[20A\u001b[2K\u001b[26A\u001b[2K\u001b[19A\u001b[2K\u001b[26A\u001b[2K\u001b[19A\u001b[2K\u001b[14A\u001b[2K\u001b[20A\u001b[2K\u001b[14A\u001b[2K\u001b[20A\u001b[2K\u001b[26A\u001b[2K\u001b[14A\u001b[2K\u001b[26A\u001b[2K\u001b[20A\u001b[2K\u001b[26A\u001b[2K\u001b[20A\u001b[2K\u001b[26A\u001b[2K\u001b[14A\u001b[2K\u001b[26A\u001b[2K\u001b[14A\u001b[2K\u001b[14A\u001b[2K\u001b[26A\u001b[2K\u001b[14A\u001b[2K\u001b[26A\u001b[2K\u001b[20A\u001b[2K\u001b[26A\u001b[2K\u001b[20A\u001b[2K\u001b[14A\u001b[2K\u001b[19A\u001b[2K\u001b[20A\u001b[2K\u001b[19A\u001b[2K\u001b[14A\u001b[2K\u001b[14A\u001b[2K\u001b[14A\u001b[2K\u001b[20A\u001b[2K\u001b[14A\u001b[2K\u001b[19A\u001b[2K\u001b[14A\u001b[2K\u001b[19A\u001b[2K\u001b[20A\u001b[2K\u001b[14A\u001b[2K\u001b[20A\u001b[2K\u001b[14A\u001b[2K\u001b[20A\u001b[2K\u001b[26A\u001b[2K\u001b[20A\u001b[2K\u001b[26A\u001b[2K\u001b[20A\u001b[2K\u001b[19A\u001b[2K\u001b[20A\u001b[2K\u001b[19A\u001b[2K\u001b[14A\u001b[2K\u001b[19A\u001b[2K\u001b[14A\u001b[2K\u001b[19A\u001b[2K\u001b[20A\u001b[2K\u001b[19A\u001b[2K\u001b[14A\u001b[2K\u001b[19A\u001b[2K\u001b[26A\u001b[2K\u001b[14A\u001b[2K\u001b[26A\u001b[2K\u001b[19A\u001b[2K\u001b[26A\u001b[2K\u001b[14A\u001b[2K\u001b[20A\u001b[2K\u001b[19A\u001b[2K\u001b[20A\u001b[2K\u001b[19A\u001b[2K\u001b[14A\u001b[2K\u001b[19A\u001b[2K\u001b[26A\u001b[2K\u001b[20A\u001b[2K\u001b[14A\u001b[2K\u001b[20A\u001b[2K\u001b[26A\u001b[2K\u001b[20A\u001b[2K\u001b[19A\u001b[2K\u001b[20A\u001b[2K\u001b[19A\u001b[2K\u001b[14A\u001b[2K\u001b[19A\u001b[2K\u001b[14A\u001b[2K\u001b[19A\u001b[2K\u001b[20A\u001b[2K\u001b[19A\u001b[2K\u001b[20A\u001b[2K\u001b[20A\u001b[2K\u001b[19A\u001b[2K\u001b[26A\u001b[2K\u001b[19A\u001b[2K\u001b[14A\u001b[2K\u001b[20A\u001b[2K\u001b[14A\u001b[2K\u001b[14A\u001b[2K\u001b[13A\u001b[2K\u001b[20A\u001b[2K\u001b[12A\u001b[2KDownloading  457.3MB/461.7MB\u001b[26A\u001b[2K\u001b[20A\u001b[2K\u001b[26A\u001b[2K\u001b[11A\u001b[2K\u001b[26A\u001b[2K\u001b[14A\u001b[2K\u001b[26A\u001b[2K\u001b[14A\u001b[2K\u001b[26A\u001b[2K\u001b[26A\u001b[2K\u001b[10A\u001b[2K\u001b[26A\u001b[2K\u001b[14A\u001b[2K\u001b[26A\u001b[2K\u001b[11A\u001b[2K\u001b[26A\u001b[2K\u001b[11A\u001b[2K\u001b[26A\u001b[2K\u001b[14A\u001b[2K\u001b[11A\u001b[2K\u001b[6A\u001b[2K\u001b[11A\u001b[2K\u001b[14A\u001b[2K\u001b[11A\u001b[2K\u001b[14A\u001b[2K\u001b[11A\u001b[2K\u001b[14A\u001b[2K\u001b[11A\u001b[2K\u001b[5A\u001b[2K\u001b[11A\u001b[2K\u001b[4A\u001b[2K\u001b[4A\u001b[2K\u001b[26A\u001b[2K\u001b[2A\u001b[2K\u001b[14A\u001b[2K\u001b[11A\u001b[2K\u001b[1A\u001b[2K\u001b[26A\u001b[2K\u001b[26A\u001b[2K\u001b[11A\u001b[2K\u001b[14A\u001b[2K\u001b[11A\u001b[2K\u001b[26A\u001b[2K\u001b[14A\u001b[2K\u001b[26A\u001b[2K\u001b[14A\u001b[2K\u001b[26A\u001b[2K\u001b[14A\u001b[2K\u001b[26A\u001b[2K\u001b[14A\u001b[2K\u001b[26A\u001b[2K\u001b[14A\u001b[2K\u001b[26A\u001b[2K\u001b[14A\u001b[2K\u001b[26A\u001b[2K\u001b[14A\u001b[2K\u001b[26A\u001b[2K\u001b[14A\u001b[2K\u001b[26A\u001b[2K\u001b[14A\u001b[2K\u001b[26A\u001b[2K\u001b[26A\u001b[2K\u001b[14A\u001b[2K\u001b[26A\u001b[2K\u001b[14A\u001b[2K\u001b[26A\u001b[2K\u001b[14A\u001b[2K\u001b[26A\u001b[2K\u001b[14A\u001b[2K\u001b[14A\u001b[2K\u001b[14A\u001b[2K\u001b[26A\u001b[2K\u001b[14A\u001b[2K\u001b[26A\u001b[2K\u001b[14A\u001b[2K\u001b[26A\u001b[2K\u001b[26A\u001b[2K\u001b[14A\u001b[2K\u001b[26A\u001b[2K\u001b[14A\u001b[2K\u001b[26A\u001b[2K\u001b[14A\u001b[2K\u001b[26A\u001b[2K\u001b[26A\u001b[2K\u001b[26A\u001b[2K\u001b[14A\u001b[2K\u001b[26A\u001b[2K\u001b[14A\u001b[2K\u001b[26A\u001b[2K\u001b[14A\u001b[2K\u001b[26A\u001b[2K\u001b[14A\u001b[2K\u001b[26A\u001b[2K\u001b[26A\u001b[2K\u001b[26A\u001b[2K\u001b[14A\u001b[2K\u001b[14A\u001b[2K\u001b[14A\u001b[2K\u001b[26A\u001b[2K\u001b[25A\u001b[2K\u001b[25A\u001b[2K\u001b[25A\u001b[2K\u001b[25A\u001b[2K\u001b[25A\u001b[2K\u001b[14A\u001b[2K\u001b[25A\u001b[2K\u001b[14A\u001b[2K\u001b[25A\u001b[2K\u001b[25A\u001b[2K\u001b[25A\u001b[2K\u001b[14A\u001b[2K\u001b[14A\u001b[2K\u001b[25A\u001b[2K\u001b[25A\u001b[2K\u001b[14A\u001b[2K\u001b[25A\u001b[2K\u001b[14A\u001b[2K\u001b[25A\u001b[2K\u001b[25A\u001b[2K\u001b[25A\u001b[2K\u001b[14A\u001b[2K\u001b[25A\u001b[2K\u001b[14A\u001b[2K\u001b[25A\u001b[2K\u001b[14A\u001b[2K\u001b[25A\u001b[2K\u001b[14A\u001b[2K\u001b[25A\u001b[2K\u001b[14A\u001b[2K\u001b[25A\u001b[2K\u001b[14A\u001b[2K\u001b[25A\u001b[2K\u001b[14A\u001b[2K\u001b[25A\u001b[2K\u001b[25A\u001b[2K\u001b[25A\u001b[2K\u001b[25A\u001b[2K\u001b[14A\u001b[2K\u001b[14A\u001b[2K\u001b[25A\u001b[2K\u001b[14A\u001b[2K\u001b[25A\u001b[2K\u001b[14A\u001b[2K\u001b[25A\u001b[2K\u001b[14A\u001b[2K\u001b[25A\u001b[2K\u001b[14A\u001b[2K\u001b[25A\u001b[2K\u001b[14A\u001b[2K\u001b[25A\u001b[2K\u001b[25A\u001b[2K\u001b[25A\u001b[2K\u001b[14A\u001b[2K\u001b[25A\u001b[2K\u001b[14A\u001b[2K\u001b[25A\u001b[2K\u001b[14A\u001b[2K\u001b[25A\u001b[2K\u001b[25A\u001b[2K\u001b[14A\u001b[2K\u001b[25A\u001b[2K\u001b[14A\u001b[2K\u001b[25A\u001b[2K\u001b[25A\u001b[2K\u001b[25A\u001b[2K\u001b[14A\u001b[2K\u001b[25A\u001b[2K\u001b[14A\u001b[2K\u001b[25A\u001b[2K\u001b[14A\u001b[2K\u001b[25A\u001b[2K\u001b[14A\u001b[2K\u001b[25A\u001b[2K\u001b[25A\u001b[2K\u001b[25A\u001b[2K\u001b[14A\u001b[2K\u001b[25A\u001b[2K\u001b[14A\u001b[2K\u001b[25A\u001b[2K\u001b[25A\u001b[2K\u001b[14A\u001b[2K\u001b[25A\u001b[2K\u001b[14A\u001b[2K\u001b[25A\u001b[2K\u001b[14A\u001b[2K\u001b[25A\u001b[2K\u001b[25A\u001b[2K\u001b[14A\u001b[2K\u001b[25A\u001b[2K\u001b[14A\u001b[2K\u001b[25A\u001b[2K\u001b[14A\u001b[2K\u001b[14A\u001b[2K\u001b[25A\u001b[2K\u001b[14A\u001b[2K\u001b[25A\u001b[2K\u001b[14A\u001b[2K\u001b[25A\u001b[2K\u001b[25A\u001b[2K\u001b[14A\u001b[2K\u001b[25A\u001b[2K\u001b[25A\u001b[2K\u001b[25A\u001b[2K\u001b[25A\u001b[2K\u001b[25A\u001b[2K\u001b[25A\u001b[2K\u001b[14A\u001b[2K\u001b[14A\u001b[2K\u001b[14A\u001b[2K\u001b[25A\u001b[2K\u001b[25A\u001b[2K\u001b[25A\u001b[2K\u001b[25A\u001b[2K\u001b[25A\u001b[2K\u001b[25A\u001b[2K\u001b[25A\u001b[2K\u001b[25A\u001b[2K\u001b[25A\u001b[2K\u001b[25A\u001b[2K\u001b[25A\u001b[2K\u001b[25A\u001b[2K\u001b[25A\u001b[2K\u001b[25A\u001b[2K\u001b[25A\u001b[2K\u001b[25A\u001b[2K\u001b[25A\u001b[2K\u001b[25A\u001b[2K\u001b[25A\u001b[2K\u001b[25A\u001b[2K\u001b[25A\u001b[2K\u001b[25A\u001b[2K\u001b[25A\u001b[2K\u001b[25A\u001b[2K\u001b[25A\u001b[2K\u001b[25A\u001b[2K\u001b[25A\u001b[2K\u001b[25A\u001b[2K\u001b[25A\u001b[2K\u001b[25A\u001b[2K\u001b[25A\u001b[2K\u001b[25A\u001b[2K\u001b[25A\u001b[2K\u001b[25A\u001b[2K\u001b[25A\u001b[2K\u001b[25A\u001b[2K\u001b[25A\u001b[2K\u001b[25A\u001b[2K\u001b[25A\u001b[2K\u001b[25A\u001b[2K\u001b[25A\u001b[2K\u001b[25A\u001b[2K\u001b[25A\u001b[2K\u001b[25A\u001b[2K\u001b[25A\u001b[2K\u001b[25A\u001b[2K\u001b[25A\u001b[2K\u001b[25A\u001b[2K\u001b[25A\u001b[2K\u001b[25A\u001b[2K\u001b[25A\u001b[2K\u001b[25A\u001b[2K\u001b[25A\u001b[2K\u001b[25A\u001b[2K\u001b[25A\u001b[2K\u001b[25A\u001b[2K\u001b[25A\u001b[2K\u001b[25A\u001b[2K\u001b[25A\u001b[2K\u001b[25A\u001b[2K\u001b[25A\u001b[2K\u001b[25A\u001b[2K\u001b[25A\u001b[2K\u001b[25A\u001b[2K\u001b[25A\u001b[2K\u001b[25A\u001b[2K\u001b[25A\u001b[2K\u001b[1BDigest: sha256:33bd2f7485f1e486c016a470a5e3e5c9894d2b69734425259fc58fec8054f853[2K\u001b[25A\u001b[2K\u001b[24A\u001b[2K\u001b[24A\u001b[2K\u001b[24A\u001b[2K\u001b[24A\u001b[2K\u001b[24A\u001b[2K\u001b[24A\u001b[2K\u001b[24A\u001b[2K\u001b[24A\u001b[2K\u001b[24A\u001b[2K\u001b[24A\u001b[2K\u001b[24A\u001b[2K\u001b[24A\u001b[2K\u001b[24A\u001b[2K\u001b[24A\u001b[2K\u001b[24A\u001b[2K\u001b[24A\u001b[2K\u001b[24A\u001b[2K\u001b[24A\u001b[2K\u001b[24A\u001b[2K\u001b[24A\u001b[2K\u001b[24A\u001b[2K\u001b[24A\u001b[2K\u001b[24A\u001b[2K\u001b[24A\u001b[2K\u001b[24A\u001b[2K\u001b[24A\u001b[2K\u001b[24A\u001b[2K\u001b[24A\u001b[2K\u001b[24A\u001b[2K\u001b[24A\u001b[2K\u001b[24A\u001b[2K\u001b[24A\u001b[2K\u001b[24A\u001b[2K\u001b[24A\u001b[2K\u001b[24A\u001b[2K\u001b[24A\u001b[2K\u001b[24A\u001b[2K\u001b[24A\u001b[2K\u001b[24A\u001b[2K\u001b[24A\u001b[2K\u001b[24A\u001b[2K\u001b[24A\u001b[2K\u001b[24A\u001b[2K\u001b[24A\u001b[2K\u001b[24A\u001b[2K\u001b[24A\u001b[2K\u001b[24A\u001b[2K\u001b[24A\u001b[2K\u001b[24A\u001b[2K\u001b[24A\u001b[2K\u001b[24A\u001b[2K\u001b[24A\u001b[2K\u001b[24A\u001b[2K\u001b[24A\u001b[2K\u001b[24A\u001b[2K\u001b[24A\u001b[2K\u001b[24A\u001b[2K\u001b[24A\u001b[2K\u001b[24A\u001b[2K\u001b[24A\u001b[2K\u001b[24A\u001b[2K\u001b[24A\u001b[2K\u001b[24A\u001b[2K\u001b[24A\u001b[2K\u001b[24A\u001b[2K\u001b[24A\u001b[2K\u001b[24A\u001b[2K\u001b[24A\u001b[2K\u001b[24A\u001b[2K\u001b[24A\u001b[2K\u001b[24A\u001b[2K\u001b[24A\u001b[2K\u001b[24A\u001b[2K\u001b[24A\u001b[2K\u001b[24A\u001b[2K\u001b[24A\u001b[2K\u001b[24A\u001b[2K\u001b[24A\u001b[2K\u001b[24A\u001b[2K\u001b[24A\u001b[2K\u001b[24A\u001b[2K\u001b[24A\u001b[2K\u001b[24A\u001b[2K\u001b[24A\u001b[2K\u001b[24A\u001b[2K\u001b[24A\u001b[2K\u001b[24A\u001b[2K\u001b[24A\u001b[2K\u001b[24A\u001b[2K\u001b[24A\u001b[2K\u001b[24A\u001b[2K\u001b[24A\u001b[2K\u001b[24A\u001b[2K\u001b[24A\u001b[2K\u001b[24A\u001b[2K\u001b[24A\u001b[2K\u001b[24A\u001b[2K\u001b[24A\u001b[2K\u001b[24A\u001b[2K\u001b[24A\u001b[2K\u001b[24A\u001b[2K\u001b[24A\u001b[2K\u001b[24A\u001b[2K\u001b[24A\u001b[2K\u001b[24A\u001b[2K\u001b[24A\u001b[2K\u001b[24A\u001b[2K\u001b[24A\u001b[2K\u001b[24A\u001b[2K\u001b[24A\u001b[2K\u001b[24A\u001b[2K\u001b[24A\u001b[2K\u001b[24A\u001b[2K\u001b[24A\u001b[2K\u001b[24A\u001b[2K\u001b[24A\u001b[2K\u001b[24A\u001b[2K\u001b[24A\u001b[2K\u001b[24A\u001b[2K\u001b[24A\u001b[2K\u001b[24A\u001b[2K\u001b[24A\u001b[2K\u001b[24A\u001b[2K\u001b[24A\u001b[2K\u001b[24A\u001b[2K\u001b[24A\u001b[2K\u001b[24A\u001b[2K\u001b[24A\u001b[2K\u001b[24A\u001b[2K\u001b[24A\u001b[2K\u001b[24A\u001b[2K\u001b[24A\u001b[2K\u001b[24A\u001b[2K\u001b[24A\u001b[2K\u001b[24A\u001b[2K\u001b[24A\u001b[2K\u001b[24A\u001b[2K\u001b[24A\u001b[2K\u001b[24A\u001b[2K\u001b[24A\u001b[2K\u001b[24A\u001b[2K\u001b[24A\u001b[2K\u001b[24A\u001b[2K\u001b[24A\u001b[2K\u001b[24A\u001b[2K\u001b[24A\u001b[2K\u001b[24A\u001b[2K\u001b[24A\u001b[2K\u001b[24A\u001b[2K\u001b[24A\u001b[2K\u001b[24A\u001b[2K\u001b[24A\u001b[2K\u001b[24A\u001b[2K\u001b[24A\u001b[2K\u001b[24A\u001b[2K\u001b[24A\u001b[2K\u001b[24A\u001b[2K\u001b[24A\u001b[2K\u001b[24A\u001b[2K\u001b[24A\u001b[2K\u001b[24A\u001b[2K\u001b[24A\u001b[2K\u001b[24A\u001b[2K\u001b[24A\u001b[2K\u001b[24A\u001b[2K\u001b[24A\u001b[2K\u001b[24A\u001b[2K\u001b[24A\u001b[2K\u001b[24A\u001b[2K\u001b[24A\u001b[2K\u001b[24A\u001b[2K\u001b[24A\u001b[2K\u001b[24A\u001b[2K\u001b[24A\u001b[2K\u001b[24A\u001b[2K\u001b[24A\u001b[2K\u001b[24A\u001b[2K\u001b[24A\u001b[2K\u001b[24A\u001b[2K\u001b[24A\u001b[2K\u001b[24A\u001b[2K\u001b[24A\u001b[2K\u001b[24A\u001b[2K\u001b[24A\u001b[2K\u001b[24A\u001b[2K\u001b[24A\u001b[2K\u001b[24A\u001b[2K\u001b[24A\u001b[2K\u001b[24A\u001b[2K\u001b[24A\u001b[2K\u001b[24A\u001b[2K\u001b[24A\u001b[2K\u001b[24A\u001b[2K\u001b[24A\u001b[2K\u001b[24A\u001b[2K\u001b[24A\u001b[2K\u001b[24A\u001b[2K\u001b[24A\u001b[2K\u001b[24A\u001b[2K\u001b[24A\u001b[2K\u001b[24A\u001b[2K\u001b[24A\u001b[2K\u001b[24A\u001b[2K\u001b[24A\u001b[2K\u001b[24A\u001b[2K\u001b[24A\u001b[2K\u001b[24A\u001b[2K\u001b[24A\u001b[2K\u001b[24A\u001b[2K\u001b[24A\u001b[2K\u001b[24A\u001b[2K\u001b[24A\u001b[2K\u001b[24A\u001b[2K\u001b[24A\u001b[2K\u001b[24A\u001b[2K\u001b[24A\u001b[2K\u001b[24A\u001b[2K\u001b[24A\u001b[2K\u001b[24A\u001b[2K\u001b[24A\u001b[2K\u001b[24A\u001b[2K\u001b[24A\u001b[2K\u001b[24A\u001b[2K\u001b[24A\u001b[2K\u001b[24A\u001b[2K\u001b[24A\u001b[2K\u001b[24A\u001b[2K\u001b[24A\u001b[2K\u001b[24A\u001b[2K\u001b[24A\u001b[2K\u001b[24A\u001b[2K\u001b[24A\u001b[2K\u001b[24A\u001b[2K\u001b[24A\u001b[2K\u001b[24A\u001b[2K\u001b[24A\u001b[2K\u001b[24A\u001b[2K\u001b[24A\u001b[2K\u001b[24A\u001b[2K\u001b[24A\u001b[2K\u001b[24A\u001b[2K\u001b[24A\u001b[2K\u001b[24A\u001b[2K\u001b[24A\u001b[2K\u001b[24A\u001b[2K\u001b[24A\u001b[2K\u001b[24A\u001b[2K\u001b[24A\u001b[2K\u001b[24A\u001b[2K\u001b[24A\u001b[2K\u001b[23A\u001b[2K\u001b[23A\u001b[2K\u001b[23A\u001b[2K\u001b[23A\u001b[2K\u001b[23A\u001b[2K\u001b[23A\u001b[2K\u001b[23A\u001b[2K\u001b[23A\u001b[2K\u001b[23A\u001b[2K\u001b[23A\u001b[2K\u001b[23A\u001b[2K\u001b[23A\u001b[2K\u001b[23A\u001b[2K\u001b[23A\u001b[2K\u001b[23A\u001b[2K\u001b[23A\u001b[2K\u001b[23A\u001b[2K\u001b[23A\u001b[2K\u001b[23A\u001b[2K\u001b[23A\u001b[2K\u001b[23A\u001b[2K\u001b[23A\u001b[2K\u001b[23A\u001b[2K\u001b[23A\u001b[2K\u001b[23A\u001b[2K\u001b[23A\u001b[2K\u001b[23A\u001b[2K\u001b[23A\u001b[2K\u001b[23A\u001b[2K\u001b[23A\u001b[2K\u001b[23A\u001b[2K\u001b[23A\u001b[2K\u001b[23A\u001b[2K\u001b[23A\u001b[2K\u001b[23A\u001b[2K\u001b[23A\u001b[2K\u001b[23A\u001b[2K\u001b[23A\u001b[2K\u001b[23A\u001b[2K\u001b[23A\u001b[2K\u001b[23A\u001b[2K\u001b[23A\u001b[2K\u001b[23A\u001b[2K\u001b[23A\u001b[2K\u001b[23A\u001b[2K\u001b[23A\u001b[2K\u001b[23A\u001b[2K\u001b[23A\u001b[2K\u001b[23A\u001b[2K\u001b[23A\u001b[2K\u001b[22A\u001b[2K\u001b[22A\u001b[2K\u001b[22A\u001b[2K\u001b[22A\u001b[2K\u001b[22A\u001b[2K\u001b[22A\u001b[2K\u001b[22A\u001b[2K\u001b[22A\u001b[2K\u001b[22A\u001b[2K\u001b[22A\u001b[2K\u001b[22A\u001b[2K\u001b[22A\u001b[2K\u001b[22A\u001b[2K\u001b[22A\u001b[2K\u001b[22A\u001b[2K\u001b[22A\u001b[2K\u001b[22A\u001b[2K\u001b[22A\u001b[2K\u001b[22A\u001b[2K\u001b[22A\u001b[2K\u001b[22A\u001b[2K\u001b[22A\u001b[2K\u001b[22A\u001b[2K\u001b[22A\u001b[2K\u001b[21A\u001b[2K\u001b[21A\u001b[2K\u001b[21A\u001b[2K\u001b[21A\u001b[2K\u001b[20A\u001b[2K\u001b[20A\u001b[2K\u001b[20A\u001b[2K\u001b[20A\u001b[2K\u001b[20A\u001b[2K\u001b[20A\u001b[2K\u001b[20A\u001b[2K\u001b[20A\u001b[2K\u001b[20A\u001b[2K\u001b[20A\u001b[2K\u001b[20A\u001b[2K\u001b[20A\u001b[2K\u001b[20A\u001b[2K\u001b[20A\u001b[2K\u001b[20A\u001b[2K\u001b[20A\u001b[2K\u001b[20A\u001b[2K\u001b[20A\u001b[2K\u001b[20A\u001b[2K\u001b[20A\u001b[2K\u001b[20A\u001b[2K\u001b[20A\u001b[2K\u001b[20A\u001b[2K\u001b[20A\u001b[2K\u001b[20A\u001b[2K\u001b[20A\u001b[2K\u001b[20A\u001b[2K\u001b[20A\u001b[2K\u001b[20A\u001b[2K\u001b[20A\u001b[2K\u001b[20A\u001b[2K\u001b[20A\u001b[2K\u001b[20A\u001b[2K\u001b[20A\u001b[2K\u001b[20A\u001b[2K\u001b[20A\u001b[2K\u001b[20A\u001b[2K\u001b[20A\u001b[2K\u001b[20A\u001b[2K\u001b[20A\u001b[2K\u001b[20A\u001b[2K\u001b[20A\u001b[2K\u001b[20A\u001b[2K\u001b[20A\u001b[2K\u001b[20A\u001b[2K\u001b[20A\u001b[2K\u001b[20A\u001b[2K\u001b[20A\u001b[2K\u001b[20A\u001b[2K\u001b[20A\u001b[2K\u001b[20A\u001b[2K\u001b[20A\u001b[2K\u001b[20A\u001b[2K\u001b[20A\u001b[2K\u001b[20A\u001b[2K\u001b[20A\u001b[2K\u001b[20A\u001b[2K\u001b[20A\u001b[2K\u001b[20A\u001b[2K\u001b[20A\u001b[2K\u001b[20A\u001b[2K\u001b[20A\u001b[2K\u001b[20A\u001b[2K\u001b[20A\u001b[2K\u001b[20A\u001b[2K\u001b[20A\u001b[2K\u001b[20A\u001b[2K\u001b[20A\u001b[2K\u001b[20A\u001b[2K\u001b[20A\u001b[2K\u001b[20A\u001b[2K\u001b[20A\u001b[2K\u001b[20A\u001b[2K\u001b[20A\u001b[2K\u001b[20A\u001b[2K\u001b[20A\u001b[2K\u001b[20A\u001b[2K\u001b[20A\u001b[2K\u001b[20A\u001b[2K\u001b[20A\u001b[2K\u001b[20A\u001b[2K\u001b[20A\u001b[2K\u001b[20A\u001b[2K\u001b[20A\u001b[2K\u001b[20A\u001b[2K\u001b[20A\u001b[2K\u001b[20A\u001b[2K\u001b[20A\u001b[2K\u001b[20A\u001b[2K\u001b[20A\u001b[2K\u001b[20A\u001b[2K\u001b[20A\u001b[2K\u001b[20A\u001b[2K\u001b[20A\u001b[2K\u001b[20A\u001b[2K\u001b[20A\u001b[2K\u001b[20A\u001b[2K\u001b[20A\u001b[2K\u001b[20A\u001b[2K\u001b[20A\u001b[2K\u001b[20A\u001b[2K\u001b[20A\u001b[2K\u001b[20A\u001b[2K\u001b[20A\u001b[2K\u001b[20A\u001b[2K\u001b[20A\u001b[2K\u001b[20A\u001b[2K\u001b[20A\u001b[2K\u001b[20A\u001b[2K\u001b[20A\u001b[2K\u001b[20A\u001b[2K\u001b[20A\u001b[2K\u001b[20A\u001b[2K\u001b[20A\u001b[2K\u001b[20A\u001b[2K\u001b[20A\u001b[2K\u001b[20A\u001b[2K\u001b[20A\u001b[2K\u001b[20A\u001b[2K\u001b[20A\u001b[2K\u001b[20A\u001b[2K\u001b[20A\u001b[2K\u001b[20A\u001b[2K\u001b[20A\u001b[2K\u001b[20A\u001b[2K\u001b[20A\u001b[2K\u001b[20A\u001b[2K\u001b[20A\u001b[2K\u001b[20A\u001b[2K\u001b[20A\u001b[2K\u001b[20A\u001b[2K\u001b[20A\u001b[2K\u001b[20A\u001b[2K\u001b[20A\u001b[2K\u001b[20A\u001b[2K\u001b[20A\u001b[2K\u001b[20A\u001b[2K\u001b[19A\u001b[2K\u001b[19A\u001b[2K\u001b[19A\u001b[2K\u001b[19A\u001b[2K\u001b[19A\u001b[2K\u001b[19A\u001b[2K\u001b[19A\u001b[2K\u001b[19A\u001b[2K\u001b[19A\u001b[2K\u001b[19A\u001b[2K\u001b[19A\u001b[2K\u001b[19A\u001b[2K\u001b[19A\u001b[2K\u001b[19A\u001b[2K\u001b[19A\u001b[2K\u001b[19A\u001b[2K\u001b[19A\u001b[2K\u001b[19A\u001b[2K\u001b[19A\u001b[2K\u001b[19A\u001b[2K\u001b[19A\u001b[2K\u001b[19A\u001b[2K\u001b[19A\u001b[2K\u001b[19A\u001b[2K\u001b[19A\u001b[2K\u001b[19A\u001b[2K\u001b[19A\u001b[2K\u001b[19A\u001b[2K\u001b[19A\u001b[2K\u001b[19A\u001b[2K\u001b[19A\u001b[2K\u001b[19A\u001b[2K\u001b[19A\u001b[2KExtracting  159.3MB/380.4MB\u001b[19A\u001b[2K\u001b[19A\u001b[2K\u001b[19A\u001b[2K\u001b[19A\u001b[2K\u001b[19A\u001b[2K\u001b[19A\u001b[2K\u001b[19A\u001b[2K\u001b[19A\u001b[2K\u001b[19A\u001b[2K\u001b[19A\u001b[2K\u001b[19A\u001b[2K\u001b[19A\u001b[2K\u001b[19A\u001b[2K\u001b[19A\u001b[2K\u001b[19A\u001b[2K\u001b[19A\u001b[2K\u001b[19A\u001b[2K\u001b[19A\u001b[2K\u001b[19A\u001b[2K\u001b[19A\u001b[2K\u001b[19A\u001b[2K\u001b[19A\u001b[2K\u001b[19A\u001b[2K\u001b[19A\u001b[2K\u001b[19A\u001b[2K\u001b[19A\u001b[2K\u001b[19A\u001b[2K\u001b[19A\u001b[2K\u001b[19A\u001b[2K\u001b[19A\u001b[2K\u001b[19A\u001b[2K\u001b[19A\u001b[2K\u001b[19A\u001b[2K\u001b[19A\u001b[2K\u001b[19A\u001b[2K\u001b[19A\u001b[2K\u001b[19A\u001b[2K\u001b[19A\u001b[2K\u001b[19A\u001b[2K\u001b[19A\u001b[2K\u001b[19A\u001b[2K\u001b[19A\u001b[2K\u001b[19A\u001b[2K\u001b[19A\u001b[2K\u001b[19A\u001b[2K\u001b[19A\u001b[2K\u001b[19A\u001b[2K\u001b[19A\u001b[2K\u001b[19A\u001b[2K\u001b[19A\u001b[2K\u001b[19A\u001b[2K\u001b[19A\u001b[2K\u001b[18A\u001b[2K\u001b[18A\u001b[2K\u001b[17A\u001b[2K\u001b[17A\u001b[2K\u001b[16A\u001b[2K\u001b[15A\u001b[2K\u001b[14A\u001b[2K\u001b[14A\u001b[2K\u001b[14A\u001b[2K\u001b[14A\u001b[2K\u001b[14A\u001b[2K\u001b[14A\u001b[2K\u001b[14A\u001b[2K\u001b[14A\u001b[2K\u001b[14A\u001b[2K\u001b[14A\u001b[2K\u001b[14A\u001b[2K\u001b[14A\u001b[2K\u001b[14A\u001b[2K\u001b[14A\u001b[2K\u001b[14A\u001b[2K\u001b[14A\u001b[2K\u001b[14A\u001b[2K\u001b[14A\u001b[2K\u001b[14A\u001b[2K\u001b[14A\u001b[2K\u001b[14A\u001b[2K\u001b[14A\u001b[2K\u001b[14A\u001b[2K\u001b[14A\u001b[2K\u001b[14A\u001b[2K\u001b[14A\u001b[2K\u001b[14A\u001b[2K\u001b[14A\u001b[2K\u001b[14A\u001b[2K\u001b[14A\u001b[2K\u001b[14A\u001b[2K\u001b[14A\u001b[2K\u001b[14A\u001b[2K\u001b[14A\u001b[2K\u001b[14A\u001b[2K\u001b[14A\u001b[2K\u001b[14A\u001b[2K\u001b[14A\u001b[2K\u001b[14A\u001b[2K\u001b[14A\u001b[2K\u001b[14A\u001b[2K\u001b[14A\u001b[2K\u001b[14A\u001b[2K\u001b[14A\u001b[2K\u001b[14A\u001b[2K\u001b[14A\u001b[2K\u001b[14A\u001b[2K\u001b[14A\u001b[2K\u001b[14A\u001b[2K\u001b[14A\u001b[2K\u001b[14A\u001b[2K\u001b[14A\u001b[2K\u001b[14A\u001b[2K\u001b[14A\u001b[2K\u001b[14A\u001b[2K\u001b[14A\u001b[2K\u001b[14A\u001b[2K\u001b[14A\u001b[2K\u001b[14A\u001b[2K\u001b[14A\u001b[2K\u001b[14A\u001b[2K\u001b[14A\u001b[2K\u001b[14A\u001b[2K\u001b[14A\u001b[2K\u001b[14A\u001b[2K\u001b[14A\u001b[2K\u001b[14A\u001b[2K\u001b[14A\u001b[2K\u001b[14A\u001b[2K\u001b[14A\u001b[2K\u001b[14A\u001b[2K\u001b[14A\u001b[2K\u001b[14A\u001b[2K\u001b[14A\u001b[2K\u001b[14A\u001b[2K\u001b[14A\u001b[2K\u001b[14A\u001b[2K\u001b[14A\u001b[2K\u001b[14A\u001b[2K\u001b[14A\u001b[2K\u001b[14A\u001b[2K\u001b[14A\u001b[2K\u001b[14A\u001b[2K\u001b[14A\u001b[2K\u001b[14A\u001b[2K\u001b[14A\u001b[2K\u001b[14A\u001b[2K\u001b[14A\u001b[2K\u001b[14A\u001b[2K\u001b[14A\u001b[2K\u001b[14A\u001b[2K\u001b[14A\u001b[2K\u001b[14A\u001b[2K\u001b[14A\u001b[2K\u001b[14A\u001b[2K\u001b[14A\u001b[2K\u001b[14A\u001b[2K\u001b[14A\u001b[2K\u001b[14A\u001b[2K\u001b[14A\u001b[2K\u001b[14A\u001b[2K\u001b[14A\u001b[2K\u001b[14A\u001b[2K\u001b[14A\u001b[2K\u001b[14A\u001b[2K\u001b[14A\u001b[2K\u001b[14A\u001b[2K\u001b[14A\u001b[2K\u001b[14A\u001b[2K\u001b[14A\u001b[2K\u001b[14A\u001b[2K\u001b[14A\u001b[2K\u001b[14A\u001b[2K\u001b[14A\u001b[2K\u001b[14A\u001b[2K\u001b[14A\u001b[2K\u001b[14A\u001b[2K\u001b[14A\u001b[2K\u001b[14A\u001b[2K\u001b[14A\u001b[2K\u001b[14A\u001b[2K\u001b[14A\u001b[2K\u001b[14A\u001b[2K\u001b[14A\u001b[2K\u001b[14A\u001b[2K\u001b[14A\u001b[2K\u001b[14A\u001b[2K\u001b[14A\u001b[2K\u001b[14A\u001b[2K\u001b[14A\u001b[2K\u001b[14A\u001b[2K\u001b[14A\u001b[2K\u001b[14A\u001b[2K\u001b[14A\u001b[2K\u001b[14A\u001b[2K\u001b[14A\u001b[2K\u001b[14A\u001b[2K\u001b[14A\u001b[2K\u001b[14A\u001b[2K\u001b[14A\u001b[2K\u001b[14A\u001b[2K\u001b[14A\u001b[2K\u001b[14A\u001b[2K\u001b[14A\u001b[2K\u001b[14A\u001b[2K\u001b[14A\u001b[2K\u001b[14A\u001b[2K\u001b[14A\u001b[2K\u001b[14A\u001b[2K\u001b[14A\u001b[2K\u001b[14A\u001b[2K\u001b[14A\u001b[2K\u001b[14A\u001b[2K\u001b[14A\u001b[2K\u001b[14A\u001b[2K\u001b[14A\u001b[2K\u001b[14A\u001b[2K\u001b[14A\u001b[2K\u001b[14A\u001b[2K\u001b[14A\u001b[2K\u001b[14A\u001b[2K\u001b[14A\u001b[2K\u001b[14A\u001b[2K\u001b[14A\u001b[2K\u001b[14A\u001b[2K\u001b[14A\u001b[2K\u001b[14A\u001b[2K\u001b[14A\u001b[2K\u001b[14A\u001b[2K\u001b[13A\u001b[2K\u001b[12A\u001b[2K\u001b[12A\u001b[2K\u001b[11A\u001b[2K\u001b[11A\u001b[2K\u001b[11A\u001b[2K\u001b[11A\u001b[2K\u001b[11A\u001b[2K\u001b[11A\u001b[2K\u001b[11A\u001b[2K\u001b[11A\u001b[2K\u001b[11A\u001b[2K\u001b[11A\u001b[2K\u001b[11A\u001b[2K\u001b[11A\u001b[2K\u001b[11A\u001b[2K\u001b[11A\u001b[2K\u001b[10A\u001b[2K\u001b[10A\u001b[2K\u001b[10A\u001b[2K\u001b[10A\u001b[2K\u001b[10A\u001b[2K\u001b[10A\u001b[2K\u001b[10A\u001b[2K\u001b[9A\u001b[2K\u001b[8A\u001b[2K\u001b[8A\u001b[2K\u001b[8A\u001b[2K\u001b[7A\u001b[2K\u001b[6A\u001b[2K\u001b[5A\u001b[2K\u001b[5A\u001b[2K\u001b[5A\u001b[2K\u001b[5A\u001b[2K\u001b[5A\u001b[2K\u001b[4A\u001b[2K\u001b[4A\u001b[2K\u001b[4A\u001b[2K\u001b[4A\u001b[2K\u001b[4A\u001b[2K\u001b[3A\u001b[2K\u001b[2A\u001b[2K\u001b[2A\u001b[2K\u001b[2A\u001b[2K\u001b[1A\u001b[2K\n",
      "Status: Downloaded newer image for 763104351884.dkr.ecr.us-west-2.amazonaws.com/pytorch-training:1.6.0-gpu-py36-cu110-ubuntu18.04\n",
      "763104351884.dkr.ecr.us-west-2.amazonaws.com/pytorch-training:1.6.0-gpu-py36-cu110-ubuntu18.04\n",
      "Sending build context to Docker daemon  18.93GB\n",
      "Step 1/8 : ARG BASE_IMG=${BASE_IMG}\n",
      "Step 2/8 : FROM ${BASE_IMG}\n",
      " ---> 7de1db919d58\n",
      "Step 3/8 : COPY code/* /\n",
      " ---> 955fc60ccd62\n",
      "Step 4/8 : RUN pip install -r requirements.txt --no-cache-dir\n",
      " ---> Running in 694e79e62075\n",
      "Collecting efficientnet_pytorch==0.7.1\n",
      "  Downloading efficientnet_pytorch-0.7.1.tar.gz (21 kB)\n",
      "Collecting librosa==0.6.0\n",
      "  Downloading librosa-0.6.0.tar.gz (1.5 MB)\n",
      "Collecting absl-py==0.10.0\n",
      "  Downloading absl_py-0.10.0-py3-none-any.whl (127 kB)\n",
      "Collecting aiohttp==3.6.2\n",
      "  Downloading aiohttp-3.6.2-cp36-cp36m-manylinux1_x86_64.whl (1.2 MB)\n",
      "Collecting aioredis==1.3.1\n",
      "  Downloading aioredis-1.3.1-py3-none-any.whl (65 kB)\n",
      "Collecting appdirs==1.4.4\n",
      "  Downloading appdirs-1.4.4-py2.py3-none-any.whl (9.6 kB)\n",
      "Collecting argon2-cffi==20.1.0\n",
      "  Downloading argon2_cffi-20.1.0-cp35-abi3-manylinux1_x86_64.whl (97 kB)\n",
      "Collecting astunparse==1.6.3\n",
      "  Downloading astunparse-1.6.3-py2.py3-none-any.whl (12 kB)\n"
     ]
    },
    {
     "name": "stdout",
     "output_type": "stream",
     "text": [
      "Collecting async-timeout==3.0.1\n",
      "  Downloading async_timeout-3.0.1-py3-none-any.whl (8.2 kB)\n",
      "Collecting attrs==19.3.0\n",
      "  Downloading attrs-19.3.0-py2.py3-none-any.whl (39 kB)\n",
      "Collecting audioread==2.1.8\n",
      "  Downloading audioread-2.1.8.tar.gz (21 kB)\n",
      "Requirement already satisfied: backcall==0.2.0 in /opt/conda/lib/python3.6/site-packages (from -r requirements.txt (line 12)) (0.2.0)\n",
      "Collecting beautifulsoup4==4.9.1\n",
      "  Downloading beautifulsoup4-4.9.1-py3-none-any.whl (115 kB)\n",
      "Collecting bleach==3.1.5\n",
      "  Downloading bleach-3.1.5-py2.py3-none-any.whl (151 kB)\n",
      "Collecting blessings==1.7\n",
      "  Downloading blessings-1.7-py3-none-any.whl (18 kB)\n",
      "Collecting cachetools==4.1.1\n",
      "  Downloading cachetools-4.1.1-py3-none-any.whl (10 kB)\n",
      "Collecting certifi==2020.6.20\n",
      "  Downloading certifi-2020.6.20-py2.py3-none-any.whl (156 kB)\n",
      "Collecting cffi==1.14.2\n",
      "  Downloading cffi-1.14.2-cp36-cp36m-manylinux1_x86_64.whl (400 kB)\n",
      "Requirement already satisfied: chardet==3.0.4 in /opt/conda/lib/python3.6/site-packages (from -r requirements.txt (line 19)) (3.0.4)\n",
      "Requirement already satisfied: click==7.1.2 in /opt/conda/lib/python3.6/site-packages (from -r requirements.txt (line 20)) (7.1.2)\n",
      "Requirement already satisfied: colorama==0.4.3 in /opt/conda/lib/python3.6/site-packages (from -r requirements.txt (line 21)) (0.4.3)\n",
      "Collecting colorful==0.5.4\n",
      "  Downloading colorful-0.5.4-py2.py3-none-any.whl (201 kB)\n",
      "Requirement already satisfied: cycler==0.10.0 in /opt/conda/lib/python3.6/site-packages (from -r requirements.txt (line 23)) (0.10.0)\n",
      "Requirement already satisfied: decorator==4.4.2 in /opt/conda/lib/python3.6/site-packages (from -r requirements.txt (line 24)) (4.4.2)\n",
      "Collecting defusedxml==0.6.0\n",
      "  Downloading defusedxml-0.6.0-py2.py3-none-any.whl (23 kB)\n",
      "Collecting entrypoints==0.3\n",
      "  Downloading entrypoints-0.3-py2.py3-none-any.whl (11 kB)\n",
      "Collecting filelock==3.0.12\n",
      "  Downloading filelock-3.0.12-py3-none-any.whl (7.6 kB)\n",
      "Collecting Flask==1.1.2\n",
      "  Downloading Flask-1.1.2-py2.py3-none-any.whl (94 kB)\n",
      "Requirement already satisfied: future==0.18.2 in /opt/conda/lib/python3.6/site-packages (from -r requirements.txt (line 29)) (0.18.2)\n",
      "Collecting gast==0.3.3\n",
      "  Downloading gast-0.3.3-py2.py3-none-any.whl (9.7 kB)\n",
      "Collecting gdown==3.12.2\n",
      "  Downloading gdown-3.12.2.tar.gz (8.2 kB)\n",
      "  Installing build dependencies: started\n",
      "  Installing build dependencies: finished with status 'done'\n",
      "  Getting requirements to build wheel: started\n",
      "  Getting requirements to build wheel: finished with status 'done'\n",
      "    Preparing wheel metadata: started\n",
      "    Preparing wheel metadata: finished with status 'done'\n",
      "Collecting google==3.0.0\n",
      "  Downloading google-3.0.0-py2.py3-none-any.whl (45 kB)\n",
      "Collecting google-api-core==1.22.2\n",
      "  Downloading google_api_core-1.22.2-py2.py3-none-any.whl (91 kB)\n",
      "Collecting google-auth==1.21.1\n",
      "  Downloading google_auth-1.21.1-py2.py3-none-any.whl (93 kB)\n",
      "Collecting google-auth-oauthlib==0.4.1\n",
      "  Downloading google_auth_oauthlib-0.4.1-py2.py3-none-any.whl (18 kB)\n",
      "Requirement already satisfied: google-pasta==0.2.0 in /opt/conda/lib/python3.6/site-packages (from -r requirements.txt (line 36)) (0.2.0)\n",
      "Collecting googleapis-common-protos==1.52.0\n",
      "  Downloading googleapis_common_protos-1.52.0-py2.py3-none-any.whl (100 kB)\n",
      "Collecting gpustat==0.6.0\n",
      "  Downloading gpustat-0.6.0.tar.gz (78 kB)\n",
      "Collecting grpcio==1.32.0\n",
      "  Downloading grpcio-1.32.0-cp36-cp36m-manylinux2014_x86_64.whl (3.8 MB)\n",
      "Collecting h5py==2.10.0\n",
      "  Downloading h5py-2.10.0-cp36-cp36m-manylinux1_x86_64.whl (2.9 MB)\n",
      "Collecting hiredis==1.1.0\n",
      "  Downloading hiredis-1.1.0-cp36-cp36m-manylinux2010_x86_64.whl (61 kB)\n",
      "Requirement already satisfied: idna==2.10 in /opt/conda/lib/python3.6/site-packages (from -r requirements.txt (line 42)) (2.10)\n",
      "Collecting importlib-metadata==1.7.0\n",
      "  Downloading importlib_metadata-1.7.0-py2.py3-none-any.whl (31 kB)\n",
      "Collecting IProgress==0.4\n",
      "  Downloading IProgress-0.4-py3-none-any.whl (11 kB)\n",
      "Collecting ipykernel==5.3.4\n",
      "  Downloading ipykernel-5.3.4-py3-none-any.whl (120 kB)\n",
      "Requirement already satisfied: ipython-genutils==0.2.0 in /opt/conda/lib/python3.6/site-packages (from -r requirements.txt (line 46)) (0.2.0)\n",
      "Collecting ipywidgets==7.5.1\n",
      "  Downloading ipywidgets-7.5.1-py2.py3-none-any.whl (121 kB)\n",
      "Collecting isort==5.5.2\n",
      "  Downloading isort-5.5.2-py3-none-any.whl (95 kB)\n",
      "Collecting itsdangerous==1.1.0\n",
      "  Downloading itsdangerous-1.1.0-py2.py3-none-any.whl (16 kB)\n",
      "Collecting jedi==0.17.2\n",
      "  Downloading jedi-0.17.2-py2.py3-none-any.whl (1.4 MB)\n",
      "Collecting Jinja2==2.11.2\n",
      "  Downloading Jinja2-2.11.2-py2.py3-none-any.whl (125 kB)\n",
      "Collecting joblib==0.16.0\n",
      "  Downloading joblib-0.16.0-py3-none-any.whl (300 kB)\n",
      "Collecting jsonschema==3.2.0\n",
      "  Downloading jsonschema-3.2.0-py2.py3-none-any.whl (56 kB)\n",
      "Collecting jupyter==1.0.0\n",
      "  Downloading jupyter-1.0.0-py2.py3-none-any.whl (2.7 kB)\n",
      "Collecting jupyter-client==6.1.6\n",
      "  Downloading jupyter_client-6.1.6-py3-none-any.whl (108 kB)\n",
      "Collecting jupyter-console==6.1.0\n",
      "  Downloading jupyter_console-6.1.0-py2.py3-none-any.whl (21 kB)\n",
      "Collecting jupyter-core==4.6.3\n",
      "  Downloading jupyter_core-4.6.3-py2.py3-none-any.whl (83 kB)\n",
      "Collecting Keras-Preprocessing==1.1.2\n",
      "  Downloading Keras_Preprocessing-1.1.2-py2.py3-none-any.whl (42 kB)\n",
      "Collecting kiwisolver==1.2.0\n",
      "  Downloading kiwisolver-1.2.0-cp36-cp36m-manylinux1_x86_64.whl (88 kB)\n",
      "Collecting lazy-object-proxy==1.4.3\n",
      "  Downloading lazy_object_proxy-1.4.3-cp36-cp36m-manylinux1_x86_64.whl (55 kB)\n",
      "Collecting llvmlite==0.34.0\n",
      "  Downloading llvmlite-0.34.0-cp36-cp36m-manylinux2010_x86_64.whl (24.6 MB)\n",
      "Collecting Markdown==3.2.2\n",
      "  Downloading Markdown-3.2.2-py3-none-any.whl (88 kB)\n",
      "Collecting MarkupSafe==1.1.1\n",
      "  Downloading MarkupSafe-1.1.1-cp36-cp36m-manylinux2010_x86_64.whl (32 kB)\n",
      "Collecting matplotlib==3.3.1\n",
      "  Downloading matplotlib-3.3.1-cp36-cp36m-manylinux1_x86_64.whl (11.6 MB)\n",
      "Collecting mccabe==0.6.1\n",
      "  Downloading mccabe-0.6.1-py2.py3-none-any.whl (8.6 kB)\n",
      "Collecting mistune==0.8.4\n",
      "  Downloading mistune-0.8.4-py2.py3-none-any.whl (16 kB)\n",
      "Collecting msgpack==1.0.0\n",
      "  Downloading msgpack-1.0.0-cp36-cp36m-manylinux1_x86_64.whl (274 kB)\n",
      "Collecting multidict==4.7.6\n",
      "  Downloading multidict-4.7.6-cp36-cp36m-manylinux1_x86_64.whl (148 kB)\n",
      "Collecting nbconvert==5.6.1\n",
      "  Downloading nbconvert-5.6.1-py2.py3-none-any.whl (455 kB)\n",
      "Collecting nbformat==5.0.7\n",
      "  Downloading nbformat-5.0.7-py3-none-any.whl (170 kB)\n",
      "Collecting notebook==6.1.3\n",
      "  Downloading notebook-6.1.3-py3-none-any.whl (9.4 MB)\n",
      "Collecting numexpr==2.7.1\n",
      "  Downloading numexpr-2.7.1-cp36-cp36m-manylinux1_x86_64.whl (162 kB)\n",
      "Collecting numpy==1.18.5\n",
      "  Downloading numpy-1.18.5-cp36-cp36m-manylinux1_x86_64.whl (20.1 MB)\n",
      "Requirement already satisfied: nvidia-ml-py3==7.352.0 in /opt/conda/lib/python3.6/site-packages (from -r requirements.txt (line 74)) (7.352.0)\n",
      "Collecting oauthlib==3.1.0\n",
      "  Downloading oauthlib-3.1.0-py2.py3-none-any.whl (147 kB)\n",
      "Collecting opencensus==0.7.10\n",
      "  Downloading opencensus-0.7.10-py2.py3-none-any.whl (126 kB)\n",
      "Collecting opencensus-context==0.1.1\n",
      "  Downloading opencensus_context-0.1.1-py2.py3-none-any.whl (4.4 kB)\n",
      "Collecting opt-einsum==3.3.0\n",
      "  Downloading opt_einsum-3.3.0-py3-none-any.whl (65 kB)\n",
      "Collecting packaging==20.4\n",
      "  Downloading packaging-20.4-py2.py3-none-any.whl (37 kB)\n",
      "Collecting pandas==1.1.0\n",
      "  Downloading pandas-1.1.0-cp36-cp36m-manylinux1_x86_64.whl (10.5 MB)\n",
      "Collecting pandocfilters==1.4.2\n",
      "  Downloading pandocfilters-1.4.2.tar.gz (14 kB)\n",
      "Collecting parso==0.7.1\n",
      "  Downloading parso-0.7.1-py2.py3-none-any.whl (109 kB)\n",
      "Requirement already satisfied: pexpect==4.8.0 in /opt/conda/lib/python3.6/site-packages (from -r requirements.txt (line 83)) (4.8.0)\n",
      "Requirement already satisfied: pickleshare==0.7.5 in /opt/conda/lib/python3.6/site-packages (from -r requirements.txt (line 84)) (0.7.5)\n",
      "Collecting Pillow==7.2.0\n",
      "  Downloading Pillow-7.2.0-cp36-cp36m-manylinux1_x86_64.whl (2.2 MB)\n",
      "Collecting pkbar==0.4\n",
      "  Downloading pkbar-0.4-py3-none-any.whl (8.7 kB)\n",
      "Collecting pooch==1.1.1\n",
      "  Downloading pooch-1.1.1-py3-none-any.whl (45 kB)\n",
      "Collecting prometheus-client==0.8.0\n",
      "  Downloading prometheus_client-0.8.0-py2.py3-none-any.whl (53 kB)\n",
      "Collecting prompt-toolkit==3.0.6\n",
      "  Downloading prompt_toolkit-3.0.6-py3-none-any.whl (354 kB)\n",
      "Collecting protobuf==3.13.0\n",
      "  Downloading protobuf-3.13.0-cp36-cp36m-manylinux1_x86_64.whl (1.3 MB)\n"
     ]
    },
    {
     "name": "stdout",
     "output_type": "stream",
     "text": [
      "Collecting psutil==5.7.2\n",
      "  Downloading psutil-5.7.2.tar.gz (460 kB)\n",
      "Requirement already satisfied: ptyprocess==0.6.0 in /opt/conda/lib/python3.6/site-packages (from -r requirements.txt (line 92)) (0.6.0)\n",
      "Collecting py-spy==0.3.3\n",
      "  Downloading py_spy-0.3.3-py2.py3-none-manylinux1_x86_64.whl (2.9 MB)\n",
      "Requirement already satisfied: pyasn1==0.4.8 in /opt/conda/lib/python3.6/site-packages (from -r requirements.txt (line 94)) (0.4.8)\n",
      "Collecting pyasn1-modules==0.2.8\n",
      "  Downloading pyasn1_modules-0.2.8-py2.py3-none-any.whl (155 kB)\n",
      "Requirement already satisfied: pycparser==2.20 in /opt/conda/lib/python3.6/site-packages (from -r requirements.txt (line 96)) (2.20)\n",
      "Collecting pydiogment==0.1.0\n",
      "  Downloading pydiogment-0.1.0-py3-none-any.whl (13 kB)\n",
      "Collecting pydub==0.24.1\n",
      "  Downloading pydub-0.24.1-py2.py3-none-any.whl (30 kB)\n",
      "Collecting Pygments==2.6.1\n",
      "  Downloading Pygments-2.6.1-py3-none-any.whl (914 kB)\n",
      "Collecting pylint==2.6.0\n",
      "  Downloading pylint-2.6.0-py3-none-any.whl (325 kB)\n",
      "Requirement already satisfied: pyparsing==2.4.7 in /opt/conda/lib/python3.6/site-packages (from -r requirements.txt (line 101)) (2.4.7)\n",
      "Collecting pyrsistent==0.16.0\n",
      "  Downloading pyrsistent-0.16.0.tar.gz (108 kB)\n",
      "Requirement already satisfied: PySocks==1.7.1 in /opt/conda/lib/python3.6/site-packages (from -r requirements.txt (line 103)) (1.7.1)\n",
      "Requirement already satisfied: python-dateutil==2.8.1 in /opt/conda/lib/python3.6/site-packages (from -r requirements.txt (line 104)) (2.8.1)\n",
      "Collecting pytorch-ignite==0.4.1\n",
      "  Downloading pytorch_ignite-0.4.1-py2.py3-none-any.whl (166 kB)\n",
      "Collecting pytorch-ranger==0.1.1\n",
      "  Downloading pytorch_ranger-0.1.1-py3-none-any.whl (14 kB)\n",
      "Collecting pytorch-warmup==0.0.4\n",
      "  Downloading pytorch_warmup-0.0.4-py3-none-any.whl (6.5 kB)\n",
      "Collecting pytz==2020.1\n",
      "  Downloading pytz-2020.1-py2.py3-none-any.whl (510 kB)\n",
      "Collecting PyYAML==5.3.1\n",
      "  Downloading PyYAML-5.3.1.tar.gz (269 kB)\n",
      "Collecting pyzmq==19.0.2\n",
      "  Downloading pyzmq-19.0.2-cp36-cp36m-manylinux1_x86_64.whl (1.1 MB)\n",
      "Collecting qtconsole==4.7.6\n",
      "  Downloading qtconsole-4.7.6-py2.py3-none-any.whl (118 kB)\n",
      "Collecting QtPy==1.9.0\n",
      "  Downloading QtPy-1.9.0-py2.py3-none-any.whl (54 kB)\n",
      "Collecting ray==0.8.7\n",
      "  Downloading ray-0.8.7-cp36-cp36m-manylinux1_x86_64.whl (22.0 MB)\n",
      "Collecting redis==3.4.1\n",
      "  Downloading redis-3.4.1-py2.py3-none-any.whl (71 kB)\n",
      "Collecting requests==2.24.0\n",
      "  Downloading requests-2.24.0-py2.py3-none-any.whl (61 kB)\n",
      "Collecting requests-oauthlib==1.3.0\n",
      "  Downloading requests_oauthlib-1.3.0-py2.py3-none-any.whl (23 kB)\n",
      "Collecting resampy==0.2.2\n",
      "  Downloading resampy-0.2.2.tar.gz (323 kB)\n",
      "Collecting rsa==4.6\n",
      "  Downloading rsa-4.6-py3-none-any.whl (47 kB)\n",
      "Collecting scikit-learn==0.23.2\n",
      "  Downloading scikit_learn-0.23.2-cp36-cp36m-manylinux1_x86_64.whl (6.8 MB)\n",
      "Collecting scipy==1.4.1\n",
      "  Downloading scipy-1.4.1-cp36-cp36m-manylinux1_x86_64.whl (26.1 MB)\n",
      "Collecting Send2Trash==1.5.0\n",
      "  Downloading Send2Trash-1.5.0-py3-none-any.whl (12 kB)\n",
      "Collecting six==1.15.0\n",
      "  Downloading six-1.15.0-py2.py3-none-any.whl (10 kB)\n",
      "Collecting SoundFile==0.10.3.post1\n",
      "  Downloading SoundFile-0.10.3.post1-py2.py3-none-any.whl (21 kB)\n",
      "Collecting soupsieve==2.0.1\n",
      "  Downloading soupsieve-2.0.1-py3-none-any.whl (32 kB)\n",
      "Collecting tables==3.6.1\n",
      "  Downloading tables-3.6.1-cp36-cp36m-manylinux1_x86_64.whl (4.3 MB)\n",
      "Collecting tensorboard==2.3.0\n",
      "  Downloading tensorboard-2.3.0-py3-none-any.whl (6.8 MB)\n",
      "Collecting tensorboard-plugin-wit==1.7.0\n",
      "  Downloading tensorboard_plugin_wit-1.7.0-py3-none-any.whl (779 kB)\n",
      "Collecting tensorboardX==2.1\n",
      "  Downloading tensorboardX-2.1-py2.py3-none-any.whl (308 kB)\n",
      "Collecting tensorflow==2.3.0\n",
      "  Downloading tensorflow-2.3.0-cp36-cp36m-manylinux2010_x86_64.whl (320.4 MB)\n",
      "Collecting tensorflow-estimator==2.3.0\n",
      "  Downloading tensorflow_estimator-2.3.0-py2.py3-none-any.whl (459 kB)\n",
      "Collecting termcolor==1.1.0\n",
      "  Downloading termcolor-1.1.0.tar.gz (3.9 kB)\n",
      "Collecting terminado==0.8.3\n",
      "  Downloading terminado-0.8.3-py2.py3-none-any.whl (33 kB)\n",
      "Collecting testpath==0.4.4\n",
      "  Downloading testpath-0.4.4-py2.py3-none-any.whl (163 kB)\n",
      "Requirement already satisfied: threadpoolctl==2.1.0 in /opt/conda/lib/python3.6/site-packages (from -r requirements.txt (line 134)) (2.1.0)\n",
      "Collecting toml==0.10.1\n",
      "  Downloading toml-0.10.1-py2.py3-none-any.whl (19 kB)\n",
      "Requirement already satisfied: torch==1.6.0 in /opt/conda/lib/python3.6/site-packages (from -r requirements.txt (line 136)) (1.6.0)\n",
      "Collecting torch-optimizer==0.0.1a15\n",
      "  Downloading torch_optimizer-0.0.1a15-py3-none-any.whl (41 kB)\n",
      "Collecting torchlibrosa==0.0.4\n",
      "  Downloading torchlibrosa-0.0.4-py3-none-any.whl (8.9 kB)\n",
      "Collecting torchsummary==1.5.1\n",
      "  Downloading torchsummary-1.5.1-py3-none-any.whl (2.8 kB)\n",
      "Collecting torchvision==0.7.0\n",
      "  Downloading torchvision-0.7.0-cp36-cp36m-manylinux1_x86_64.whl (5.9 MB)\n",
      "Collecting tornado==6.0.4\n",
      "  Downloading tornado-6.0.4.tar.gz (496 kB)\n",
      "Collecting tqdm==4.48.2\n",
      "  Downloading tqdm-4.48.2-py2.py3-none-any.whl (68 kB)\n",
      "Requirement already satisfied: traitlets==4.3.3 in /opt/conda/lib/python3.6/site-packages (from -r requirements.txt (line 143)) (4.3.3)\n",
      "Collecting typed-ast==1.4.1\n",
      "  Downloading typed_ast-1.4.1-cp36-cp36m-manylinux1_x86_64.whl (737 kB)\n",
      "Collecting typing-extensions==3.7.4.3\n",
      "  Downloading typing_extensions-3.7.4.3-py3-none-any.whl (22 kB)\n",
      "Collecting urllib3==1.25.10\n",
      "  Downloading urllib3-1.25.10-py2.py3-none-any.whl (127 kB)\n",
      "Requirement already satisfied: wcwidth==0.2.5 in /opt/conda/lib/python3.6/site-packages (from -r requirements.txt (line 147)) (0.2.5)\n",
      "Collecting webencodings==0.5.1\n",
      "  Downloading webencodings-0.5.1-py2.py3-none-any.whl (11 kB)\n",
      "Collecting Werkzeug==1.0.1\n",
      "  Downloading Werkzeug-1.0.1-py2.py3-none-any.whl (298 kB)\n",
      "Collecting widgetsnbextension==3.5.1\n",
      "  Downloading widgetsnbextension-3.5.1-py2.py3-none-any.whl (2.2 MB)\n",
      "Collecting wrapt==1.12.1\n",
      "  Downloading wrapt-1.12.1.tar.gz (27 kB)\n",
      "Collecting yarl==1.5.1\n",
      "  Downloading yarl-1.5.1-cp36-cp36m-manylinux1_x86_64.whl (257 kB)\n",
      "Collecting zipp==3.1.0\n",
      "  Downloading zipp-3.1.0-py3-none-any.whl (4.9 kB)\n",
      "Collecting idna-ssl>=1.0\n",
      "  Downloading idna-ssl-1.1.0.tar.gz (3.4 kB)\n",
      "Requirement already satisfied: wheel<1.0,>=0.23.0 in /opt/conda/lib/python3.6/site-packages (from astunparse==1.6.3->-r requirements.txt (line 8)) (0.35.1)\n",
      "Requirement already satisfied: requests[socks] in /opt/conda/lib/python3.6/site-packages (from gdown==3.12.2->-r requirements.txt (line 31)) (2.25.1)\n",
      "Requirement already satisfied: setuptools>=34.0.0 in /opt/conda/lib/python3.6/site-packages (from google-api-core==1.22.2->-r requirements.txt (line 33)) (49.6.0.post20210108)\n",
      "Requirement already satisfied: ipython>=5.0.0 in /opt/conda/lib/python3.6/site-packages (from ipykernel==5.3.4->-r requirements.txt (line 45)) (7.16.1)\n",
      "Requirement already satisfied: contextvars in /opt/conda/lib/python3.6/site-packages (from opencensus-context==0.1.1->-r requirements.txt (line 77)) (2.4)\n",
      "Collecting astroid<=2.5,>=2.4.0\n",
      "  Downloading astroid-2.5-py3-none-any.whl (220 kB)\n",
      "Collecting numba>=0.32\n",
      "  Downloading numba-0.53.1-cp36-cp36m-manylinux2014_x86_64.whl (3.4 MB)\n",
      "  Downloading numba-0.53.0-cp36-cp36m-manylinux2014_x86_64.whl (3.4 MB)\n",
      "  Downloading numba-0.52.0-cp36-cp36m-manylinux2014_x86_64.whl (3.1 MB)\n",
      "  Downloading numba-0.51.2-cp36-cp36m-manylinux2014_x86_64.whl (3.1 MB)\n",
      "Requirement already satisfied: immutables>=0.9 in /opt/conda/lib/python3.6/site-packages (from contextvars->opencensus-context==0.1.1->-r requirements.txt (line 77)) (0.15)\n",
      "Collecting requests[socks]\n",
      "  Downloading requests-2.26.0-py2.py3-none-any.whl (62 kB)\n",
      "  Downloading requests-2.25.0-py2.py3-none-any.whl (61 kB)\n",
      "Building wheels for collected packages: efficientnet-pytorch, librosa, audioread, gdown, gpustat, pandocfilters, psutil, pyrsistent, PyYAML, resampy, termcolor, tornado, wrapt, idna-ssl\n",
      "  Building wheel for efficientnet-pytorch (setup.py): started\n",
      "  Building wheel for efficientnet-pytorch (setup.py): finished with status 'done'\n",
      "  Created wheel for efficientnet-pytorch: filename=efficientnet_pytorch-0.7.1-py3-none-any.whl size=16445 sha256=7b80509c93a3bbb49f6fd4250231f0eecdda0f299ec54ccab33bca1d19c5a43e\n",
      "  Stored in directory: /tmp/pip-ephem-wheel-cache-x0_70ms6/wheels/63/17/7e/07f1c55a623c96ba9b291c5d2e4901afffb953b032c2470ca6\n",
      "  Building wheel for librosa (setup.py): started\n"
     ]
    },
    {
     "name": "stdout",
     "output_type": "stream",
     "text": [
      "  Building wheel for librosa (setup.py): finished with status 'done'\n",
      "  Created wheel for librosa: filename=librosa-0.6.0-py3-none-any.whl size=1553494 sha256=2f5a127e87da2021fa0377fb7ce1c805a7e6cbacce6503cc1da437f8c63031a0\n",
      "  Stored in directory: /tmp/pip-ephem-wheel-cache-x0_70ms6/wheels/72/c0/f2/b00db6242414bafcbbca59c495a52a1bfd0574f29a7e498dc9\n",
      "  Building wheel for audioread (setup.py): started\n",
      "  Building wheel for audioread (setup.py): finished with status 'done'\n",
      "  Created wheel for audioread: filename=audioread-2.1.8-py3-none-any.whl size=23089 sha256=6d8df8fd0a1d003ed4def44d6bdf0ce458a2e69638275a9bad92074b99a2d8a8\n",
      "  Stored in directory: /tmp/pip-ephem-wheel-cache-x0_70ms6/wheels/1d/9a/c7/249a5daf5cb90d9786afaec371cba9dc43f04f916db5d1caff\n",
      "  Building wheel for gdown (PEP 517): started\n",
      "  Building wheel for gdown (PEP 517): finished with status 'done'\n",
      "  Created wheel for gdown: filename=gdown-3.12.2-py3-none-any.whl size=9693 sha256=d6b16a4c26664b545354866fdb113957cb0b76cfb90909d50805829fa6d71307\n",
      "  Stored in directory: /tmp/pip-ephem-wheel-cache-x0_70ms6/wheels/33/15/6e/df5f8336275e96e19599034a76f9cfd81c6ae15d2bf16c11ca\n",
      "  Building wheel for gpustat (setup.py): started\n",
      "  Building wheel for gpustat (setup.py): finished with status 'done'\n",
      "  Created wheel for gpustat: filename=gpustat-0.6.0-py3-none-any.whl size=12617 sha256=73b8f060804ab4fc6948597603066c126eaece2693d112ac100da518a00d1ebb\n",
      "  Stored in directory: /tmp/pip-ephem-wheel-cache-x0_70ms6/wheels/50/da/35/fe2cfb3bc47822299f5e124a599d56f00b30ec0b328db16b9f\n",
      "  Building wheel for pandocfilters (setup.py): started\n",
      "  Building wheel for pandocfilters (setup.py): finished with status 'done'\n",
      "  Created wheel for pandocfilters: filename=pandocfilters-1.4.2-py3-none-any.whl size=7855 sha256=7c085bd18f845e7dcd1598d99695e80998fdf189a87af481e6e38f985018c917\n",
      "  Stored in directory: /tmp/pip-ephem-wheel-cache-x0_70ms6/wheels/46/c4/40/718c6fd14c2129ccaee10e0cf03ef6c4d01d98cad5dbbfda38\n",
      "  Building wheel for psutil (setup.py): started\n",
      "  Building wheel for psutil (setup.py): finished with status 'done'\n",
      "  Created wheel for psutil: filename=psutil-5.7.2-cp36-cp36m-linux_x86_64.whl size=280006 sha256=3554f439bc11e631b71f938c139d2bf66a200a245f7471bbdb610a23378d636f\n",
      "  Stored in directory: /tmp/pip-ephem-wheel-cache-x0_70ms6/wheels/4c/1f/18/c066f071b2c2b638e40889c5595bc6b61fbe45eb475d29d61d\n",
      "  Building wheel for pyrsistent (setup.py): started\n",
      "  Building wheel for pyrsistent (setup.py): finished with status 'done'\n",
      "  Created wheel for pyrsistent: filename=pyrsistent-0.16.0-cp36-cp36m-linux_x86_64.whl size=115038 sha256=3fe51b3de0d13f38d4677109d81e50798e7a22412ec95bd759db20bcb8e885fa\n",
      "  Stored in directory: /tmp/pip-ephem-wheel-cache-x0_70ms6/wheels/d1/8a/1c/32ab9017418a2c64e4fbaf503c08648bed2f8eb311b869a464\n",
      "  Building wheel for PyYAML (setup.py): started\n",
      "  Building wheel for PyYAML (setup.py): finished with status 'done'\n",
      "  Created wheel for PyYAML: filename=PyYAML-5.3.1-cp36-cp36m-linux_x86_64.whl size=44619 sha256=532987493b73f939321d1c5b17fee979122327fa6a2742d5ff1c9fa44ff37bbc\n",
      "  Stored in directory: /tmp/pip-ephem-wheel-cache-x0_70ms6/wheels/e5/9d/ad/2ee53cf262cba1ffd8afe1487eef788ea3f260b7e6232a80fc\n",
      "  Building wheel for resampy (setup.py): started\n",
      "  Building wheel for resampy (setup.py): finished with status 'done'\n",
      "  Created wheel for resampy: filename=resampy-0.2.2-py3-none-any.whl size=320718 sha256=f36c5adf7dd7e290186baaca65765fcb5425c7d4a12beda1aec46dd1ff779623\n",
      "  Stored in directory: /tmp/pip-ephem-wheel-cache-x0_70ms6/wheels/cf/d4/04/49d8824a42bd9f9b11d502727965b9997f0d41d2b22ae4f645\n",
      "  Building wheel for termcolor (setup.py): started\n",
      "  Building wheel for termcolor (setup.py): finished with status 'done'\n",
      "  Created wheel for termcolor: filename=termcolor-1.1.0-py3-none-any.whl size=4830 sha256=85de425055c1a5b54b0594fa1503fc3840c7b5e522b2069c874db181457629cc\n",
      "  Stored in directory: /tmp/pip-ephem-wheel-cache-x0_70ms6/wheels/93/2a/eb/e58dbcbc963549ee4f065ff80a59f274cc7210b6eab962acdc\n",
      "  Building wheel for tornado (setup.py): started\n",
      "  Building wheel for tornado (setup.py): finished with status 'done'\n",
      "  Created wheel for tornado: filename=tornado-6.0.4-cp36-cp36m-linux_x86_64.whl size=427715 sha256=471b8a536879c4aad66c0b2b679fec3d60b7b1f3d5bceeedf0166222ce024b8c\n",
      "  Stored in directory: /tmp/pip-ephem-wheel-cache-x0_70ms6/wheels/37/a7/db/2d592e44029ef817f3ef63ea991db34191cebaef087a96f505\n",
      "  Building wheel for wrapt (setup.py): started\n",
      "  Building wheel for wrapt (setup.py): finished with status 'done'\n",
      "  Created wheel for wrapt: filename=wrapt-1.12.1-cp36-cp36m-linux_x86_64.whl size=69750 sha256=df900cab3e9d88c4396deae32793e4a2fd184b51ff91f4a8f1c67ae3e63bf7b5\n",
      "  Stored in directory: /tmp/pip-ephem-wheel-cache-x0_70ms6/wheels/32/42/7f/23cae9ff6ef66798d00dc5d659088e57dbba01566f6c60db63\n",
      "  Building wheel for idna-ssl (setup.py): started\n",
      "  Building wheel for idna-ssl (setup.py): finished with status 'done'\n",
      "  Created wheel for idna-ssl: filename=idna_ssl-1.1.0-py3-none-any.whl size=3161 sha256=facac7fb80d1087d10c9c1d636c8f4d89fdda85f356952c0047c1c42f4d42811\n",
      "  Stored in directory: /tmp/pip-ephem-wheel-cache-x0_70ms6/wheels/6a/f5/9c/f8331a854f7a8739cf0e74c13854e4dd7b1af11b04fe1dde13\n",
      "Successfully built efficientnet-pytorch librosa audioread gdown gpustat pandocfilters psutil pyrsistent PyYAML resampy termcolor tornado wrapt idna-ssl\n",
      "Installing collected packages: zipp, six, pyrsistent, parso, importlib-metadata, attrs, webencodings, tornado, pyzmq, Pygments, prompt-toolkit, packaging, MarkupSafe, jupyter-core, jsonschema, jedi, urllib3, testpath, pandocfilters, nbformat, mistune, jupyter-client, Jinja2, entrypoints, defusedxml, cffi, certifi, bleach, terminado, Send2Trash, rsa, requests, pyasn1-modules, protobuf, prometheus-client, oauthlib, nbconvert, ipykernel, cachetools, argon2-cffi, typing-extensions, soupsieve, requests-oauthlib, pytz, numpy, notebook, multidict, llvmlite, googleapis-common-protos, google-auth, yarl, wrapt, widgetsnbextension, Werkzeug, typed-ast, tensorboard-plugin-wit, scipy, QtPy, psutil, opencensus-context, numba, Markdown, lazy-object-proxy, joblib, idna-ssl, hiredis, grpcio, google-auth-oauthlib, google-api-core, blessings, beautifulsoup4, async-timeout, absl-py, tqdm, toml, termcolor, tensorflow-estimator, tensorboard, scikit-learn, resampy, redis, qtconsole, PyYAML, pytorch-ranger, py-spy, Pillow, opt-einsum, opencensus, numexpr, msgpack, mccabe, kiwisolver, Keras-Preprocessing, jupyter-console, itsdangerous, isort, ipywidgets, h5py, gpustat, google, gast, filelock, colorful, audioread, astunparse, astroid, appdirs, aioredis, aiohttp, torchvision, torchsummary, torchlibrosa, torch-optimizer, tensorflow, tensorboardX, tables, SoundFile, ray, pytorch-warmup, pytorch-ignite, pylint, pydub, pydiogment, pooch, pkbar, pandas, matplotlib, librosa, jupyter, IProgress, gdown, Flask, efficientnet-pytorch\n",
      "  Attempting uninstall: zipp\n",
      "    Found existing installation: zipp 3.4.1\n",
      "    Uninstalling zipp-3.4.1:\n",
      "      Successfully uninstalled zipp-3.4.1\n",
      "  Attempting uninstall: six\n",
      "    Found existing installation: six 1.16.0\n",
      "    Uninstalling six-1.16.0:\n",
      "      Successfully uninstalled six-1.16.0\n",
      "  Attempting uninstall: parso\n",
      "    Found existing installation: parso 0.8.0\n",
      "    Uninstalling parso-0.8.0:\n",
      "      Successfully uninstalled parso-0.8.0\n",
      "  Attempting uninstall: importlib-metadata\n",
      "    Found existing installation: importlib-metadata 4.4.0\n",
      "    Uninstalling importlib-metadata-4.4.0:\n",
      "      Successfully uninstalled importlib-metadata-4.4.0\n",
      "  Attempting uninstall: attrs\n",
      "    Found existing installation: attrs 21.2.0\n",
      "    Uninstalling attrs-21.2.0:\n",
      "      Successfully uninstalled attrs-21.2.0\n",
      "  Attempting uninstall: tornado\n",
      "    Found existing installation: tornado 6.1\n",
      "    Uninstalling tornado-6.1:\n",
      "      Successfully uninstalled tornado-6.1\n",
      "  Attempting uninstall: pyzmq\n",
      "    Found existing installation: pyzmq 22.1.0\n",
      "    Uninstalling pyzmq-22.1.0:\n",
      "      Successfully uninstalled pyzmq-22.1.0\n",
      "  Attempting uninstall: Pygments\n",
      "    Found existing installation: Pygments 2.7.1\n",
      "    Uninstalling Pygments-2.7.1:\n",
      "      Successfully uninstalled Pygments-2.7.1\n",
      "  Attempting uninstall: prompt-toolkit\n",
      "    Found existing installation: prompt-toolkit 3.0.8\n"
     ]
    },
    {
     "name": "stdout",
     "output_type": "stream",
     "text": [
      "    Uninstalling prompt-toolkit-3.0.8:\n",
      "      Successfully uninstalled prompt-toolkit-3.0.8\n",
      "  Attempting uninstall: packaging\n",
      "    Found existing installation: packaging 20.9\n",
      "    Uninstalling packaging-20.9:\n",
      "      Successfully uninstalled packaging-20.9\n",
      "  Attempting uninstall: MarkupSafe\n",
      "    Found existing installation: MarkupSafe 2.0.1\n",
      "    Uninstalling MarkupSafe-2.0.1:\n",
      "      Successfully uninstalled MarkupSafe-2.0.1\n",
      "  Attempting uninstall: jedi\n",
      "    Found existing installation: jedi 0.18.0\n",
      "    Uninstalling jedi-0.18.0:\n",
      "      Successfully uninstalled jedi-0.18.0\n",
      "  Attempting uninstall: urllib3\n",
      "    Found existing installation: urllib3 1.25.11\n",
      "    Uninstalling urllib3-1.25.11:\n",
      "      Successfully uninstalled urllib3-1.25.11\n",
      "  Attempting uninstall: Jinja2\n",
      "    Found existing installation: Jinja2 3.0.1\n",
      "    Uninstalling Jinja2-3.0.1:\n",
      "      Successfully uninstalled Jinja2-3.0.1\n",
      "  Attempting uninstall: cffi\n",
      "    Found existing installation: cffi 1.14.5\n",
      "    Uninstalling cffi-1.14.5:\n",
      "      Successfully uninstalled cffi-1.14.5\n",
      "  Attempting uninstall: certifi\n",
      "    Found existing installation: certifi 2021.5.30\n",
      "    Uninstalling certifi-2021.5.30:\n",
      "      Successfully uninstalled certifi-2021.5.30\n",
      "  Attempting uninstall: rsa\n",
      "    Found existing installation: rsa 4.7.2\n",
      "    Uninstalling rsa-4.7.2:\n",
      "      Successfully uninstalled rsa-4.7.2\n",
      "  Attempting uninstall: requests\n",
      "    Found existing installation: requests 2.25.1\n",
      "    Uninstalling requests-2.25.1:\n",
      "      Successfully uninstalled requests-2.25.1\n",
      "  Attempting uninstall: protobuf\n",
      "    Found existing installation: protobuf 3.17.1\n",
      "    Uninstalling protobuf-3.17.1:\n",
      "      Successfully uninstalled protobuf-3.17.1\n",
      "  Attempting uninstall: typing-extensions\n",
      "    Found existing installation: typing-extensions 3.10.0.0\n",
      "    Uninstalling typing-extensions-3.10.0.0:\n",
      "      Successfully uninstalled typing-extensions-3.10.0.0\n",
      "  Attempting uninstall: soupsieve\n",
      "    Found existing installation: soupsieve 2.2.1\n",
      "    Uninstalling soupsieve-2.2.1:\n",
      "      Successfully uninstalled soupsieve-2.2.1\n",
      "  Attempting uninstall: pytz\n",
      "    Found existing installation: pytz 2021.1\n",
      "    Uninstalling pytz-2021.1:\n",
      "      Successfully uninstalled pytz-2021.1\n",
      "  Attempting uninstall: numpy\n",
      "    Found existing installation: numpy 1.19.1\n",
      "    Uninstalling numpy-1.19.1:\n",
      "      Successfully uninstalled numpy-1.19.1\n",
      "  Attempting uninstall: Werkzeug\n",
      "    Found existing installation: Werkzeug 2.0.1\n",
      "    Uninstalling Werkzeug-2.0.1:\n",
      "      Successfully uninstalled Werkzeug-2.0.1\n",
      "  Attempting uninstall: scipy\n",
      "    Found existing installation: scipy 1.5.4\n",
      "    Uninstalling scipy-1.5.4:\n",
      "      Successfully uninstalled scipy-1.5.4\n",
      "  Attempting uninstall: psutil\n",
      "    Found existing installation: psutil 5.8.0\n",
      "    Uninstalling psutil-5.8.0:\n",
      "      Successfully uninstalled psutil-5.8.0\n",
      "  Attempting uninstall: joblib\n",
      "    Found existing installation: joblib 1.0.1\n",
      "    Uninstalling joblib-1.0.1:\n",
      "      Successfully uninstalled joblib-1.0.1\n",
      "  Attempting uninstall: beautifulsoup4\n",
      "    Found existing installation: beautifulsoup4 4.9.3\n",
      "    Uninstalling beautifulsoup4-4.9.3:\n",
      "      Successfully uninstalled beautifulsoup4-4.9.3\n",
      "  Attempting uninstall: tqdm\n",
      "    Found existing installation: tqdm 4.51.0\n",
      "    Uninstalling tqdm-4.51.0:\n",
      "      Successfully uninstalled tqdm-4.51.0\n",
      "  Attempting uninstall: scikit-learn\n",
      "    Found existing installation: scikit-learn 0.24.2\n",
      "    Uninstalling scikit-learn-0.24.2:\n",
      "      Successfully uninstalled scikit-learn-0.24.2\n",
      "  Attempting uninstall: PyYAML\n",
      "    Found existing installation: PyYAML 5.4.1\n",
      "    Uninstalling PyYAML-5.4.1:\n",
      "      Successfully uninstalled PyYAML-5.4.1\n",
      "  Attempting uninstall: Pillow\n",
      "    Found existing installation: Pillow 8.2.0\n",
      "    Uninstalling Pillow-8.2.0:\n",
      "      Successfully uninstalled Pillow-8.2.0\n",
      "  Attempting uninstall: numexpr\n",
      "    Found existing installation: numexpr 2.7.3\n",
      "    Uninstalling numexpr-2.7.3:\n",
      "      Successfully uninstalled numexpr-2.7.3\n",
      "  Attempting uninstall: kiwisolver\n",
      "    Found existing installation: kiwisolver 1.3.1\n",
      "    Uninstalling kiwisolver-1.3.1:\n",
      "      Successfully uninstalled kiwisolver-1.3.1\n",
      "  Attempting uninstall: h5py\n",
      "    Found existing installation: h5py 2.8.0\n",
      "    Uninstalling h5py-2.8.0:\n",
      "      Successfully uninstalled h5py-2.8.0\n",
      "  Attempting uninstall: torchvision\n",
      "    Found existing installation: torchvision 0.7.0a0+78ed10c\n",
      "    Uninstalling torchvision-0.7.0a0+78ed10c:\n",
      "      Successfully uninstalled torchvision-0.7.0a0+78ed10c\n",
      "  Attempting uninstall: pandas\n",
      "    Found existing installation: pandas 1.1.5\n",
      "    Uninstalling pandas-1.1.5:\n",
      "      Successfully uninstalled pandas-1.1.5\n",
      "  Attempting uninstall: matplotlib\n",
      "    Found existing installation: matplotlib 3.3.4\n",
      "    Uninstalling matplotlib-3.3.4:\n",
      "      Successfully uninstalled matplotlib-3.3.4\n",
      "Successfully installed Flask-1.1.2 IProgress-0.4 Jinja2-2.11.2 Keras-Preprocessing-1.1.2 Markdown-3.2.2 MarkupSafe-1.1.1 Pillow-7.2.0 PyYAML-5.3.1 Pygments-2.6.1 QtPy-1.9.0 Send2Trash-1.5.0 SoundFile-0.10.3.post1 Werkzeug-1.0.1 absl-py-0.10.0 aiohttp-3.6.2 aioredis-1.3.1 appdirs-1.4.4 argon2-cffi-20.1.0 astroid-2.5 astunparse-1.6.3 async-timeout-3.0.1 attrs-19.3.0 audioread-2.1.8 beautifulsoup4-4.9.1 bleach-3.1.5 blessings-1.7 cachetools-4.1.1 certifi-2020.6.20 cffi-1.14.2 colorful-0.5.4 defusedxml-0.6.0 efficientnet-pytorch-0.7.1 entrypoints-0.3 filelock-3.0.12 gast-0.3.3 gdown-3.12.2 google-3.0.0 google-api-core-1.22.2 google-auth-1.21.1 google-auth-oauthlib-0.4.1 googleapis-common-protos-1.52.0 gpustat-0.6.0 grpcio-1.32.0 h5py-2.10.0 hiredis-1.1.0 idna-ssl-1.1.0 importlib-metadata-1.7.0 ipykernel-5.3.4 ipywidgets-7.5.1 isort-5.5.2 itsdangerous-1.1.0 jedi-0.17.2 joblib-0.16.0 jsonschema-3.2.0 jupyter-1.0.0 jupyter-client-6.1.6 jupyter-console-6.1.0 jupyter-core-4.6.3 kiwisolver-1.2.0 lazy-object-proxy-1.4.3 librosa-0.6.0 llvmlite-0.34.0 matplotlib-3.3.1 mccabe-0.6.1 mistune-0.8.4 msgpack-1.0.0 multidict-4.7.6 nbconvert-5.6.1 nbformat-5.0.7 notebook-6.1.3 numba-0.51.2 numexpr-2.7.1 numpy-1.18.5 oauthlib-3.1.0 opencensus-0.7.10 opencensus-context-0.1.1 opt-einsum-3.3.0 packaging-20.4 pandas-1.1.0 pandocfilters-1.4.2 parso-0.7.1 pkbar-0.4 pooch-1.1.1 prometheus-client-0.8.0 prompt-toolkit-3.0.6 protobuf-3.13.0 psutil-5.7.2 py-spy-0.3.3 pyasn1-modules-0.2.8 pydiogment-0.1.0 pydub-0.24.1 pylint-2.6.0 pyrsistent-0.16.0 pytorch-ignite-0.4.1 pytorch-ranger-0.1.1 pytorch-warmup-0.0.4 pytz-2020.1 pyzmq-19.0.2 qtconsole-4.7.6 ray-0.8.7 redis-3.4.1 requests-2.24.0 requests-oauthlib-1.3.0 resampy-0.2.2 rsa-4.6 scikit-learn-0.23.2 scipy-1.4.1 six-1.15.0 soupsieve-2.0.1 tables-3.6.1 tensorboard-2.3.0 tensorboard-plugin-wit-1.7.0 tensorboardX-2.1 tensorflow-2.3.0 tensorflow-estimator-2.3.0 termcolor-1.1.0 terminado-0.8.3 testpath-0.4.4 toml-0.10.1 torch-optimizer-0.0.1a15 torchlibrosa-0.0.4 torchsummary-1.5.1 torchvision-0.7.0 tornado-6.0.4 tqdm-4.48.2 typed-ast-1.4.1 typing-extensions-3.7.4.3 urllib3-1.25.10 webencodings-0.5.1 widgetsnbextension-3.5.1 wrapt-1.12.1 yarl-1.5.1 zipp-3.1.0\n",
      "\u001b[91mWARNING: Running pip as root will break packages and permissions. You should install packages reliably by using venv: https://pip.pypa.io/warnings/venv\n",
      "\u001b[0mRemoving intermediate container 694e79e62075\n",
      " ---> c7e6dceec332\n",
      "Step 5/8 : RUN pip install numba==0.48.0 --user\n",
      " ---> Running in 85c1a0bee1b3\n",
      "Collecting numba==0.48.0\n",
      "  Downloading numba-0.48.0-1-cp36-cp36m-manylinux2014_x86_64.whl (3.5 MB)\n",
      "Requirement already satisfied: numpy>=1.15 in /opt/conda/lib/python3.6/site-packages (from numba==0.48.0) (1.18.5)\n",
      "Requirement already satisfied: setuptools in /opt/conda/lib/python3.6/site-packages (from numba==0.48.0) (49.6.0.post20210108)\n",
      "Collecting llvmlite<0.32.0,>=0.31.0dev0\n",
      "  Downloading llvmlite-0.31.0-cp36-cp36m-manylinux1_x86_64.whl (20.2 MB)\n",
      "Installing collected packages: llvmlite, numba\n",
      "Successfully installed llvmlite-0.31.0 numba-0.48.0\n",
      "\u001b[91mWARNING: Running pip as root will break packages and permissions. You should install packages reliably by using venv: https://pip.pypa.io/warnings/venv\n",
      "\u001b[0mRemoving intermediate container 85c1a0bee1b3\n",
      " ---> 69d6254cf82a\n",
      "Step 6/8 : RUN apt-get update -y && apt-get install python3-soundfile -y  && rm -rf /var/lib/apt/lists/* && apt-get clean\n",
      " ---> Running in e99df5b7829e\n",
      "Ign:1 https://developer.download.nvidia.com/compute/cuda/repos/ubuntu1804/x86_64  InRelease\n",
      "Ign:2 https://developer.download.nvidia.com/compute/machine-learning/repos/ubuntu1804/x86_64  InRelease\n"
     ]
    },
    {
     "name": "stdout",
     "output_type": "stream",
     "text": [
      "Get:3 https://developer.download.nvidia.com/compute/cuda/repos/ubuntu1804/x86_64  Release [697 B]\n",
      "Get:4 https://developer.download.nvidia.com/compute/machine-learning/repos/ubuntu1804/x86_64  Release [564 B]\n",
      "Get:5 https://developer.download.nvidia.com/compute/cuda/repos/ubuntu1804/x86_64  Release.gpg [836 B]\n",
      "Get:6 https://developer.download.nvidia.com/compute/machine-learning/repos/ubuntu1804/x86_64  Release.gpg [833 B]\n",
      "Ign:7 https://developer.download.nvidia.com/compute/cuda/repos/ubuntu1804/x86_64  Packages\n",
      "Get:7 https://developer.download.nvidia.com/compute/cuda/repos/ubuntu1804/x86_64  Packages [637 kB]\n",
      "Get:8 http://security.ubuntu.com/ubuntu bionic-security InRelease [88.7 kB]\n",
      "Get:9 https://developer.download.nvidia.com/compute/machine-learning/repos/ubuntu1804/x86_64  Packages [73.8 kB]\n",
      "Get:10 http://archive.ubuntu.com/ubuntu bionic InRelease [242 kB]\n",
      "Get:11 http://security.ubuntu.com/ubuntu bionic-security/restricted amd64 Packages [473 kB]\n",
      "Get:12 http://archive.ubuntu.com/ubuntu bionic-updates InRelease [88.7 kB]\n",
      "Get:13 http://archive.ubuntu.com/ubuntu bionic-backports InRelease [74.6 kB]\n",
      "Get:14 http://security.ubuntu.com/ubuntu bionic-security/universe amd64 Packages [1418 kB]\n",
      "Get:15 http://archive.ubuntu.com/ubuntu bionic/restricted amd64 Packages [13.5 kB]\n",
      "Get:16 http://archive.ubuntu.com/ubuntu bionic/multiverse amd64 Packages [186 kB]\n",
      "Get:17 http://archive.ubuntu.com/ubuntu bionic/universe amd64 Packages [11.3 MB]\n",
      "Get:18 http://security.ubuntu.com/ubuntu bionic-security/multiverse amd64 Packages [24.7 kB]\n",
      "Get:19 http://security.ubuntu.com/ubuntu bionic-security/main amd64 Packages [2221 kB]\n",
      "Get:20 http://archive.ubuntu.com/ubuntu bionic/main amd64 Packages [1344 kB]\n",
      "Get:21 http://archive.ubuntu.com/ubuntu bionic-updates/restricted amd64 Packages [506 kB]\n",
      "Get:22 http://archive.ubuntu.com/ubuntu bionic-updates/universe amd64 Packages [2188 kB]\n",
      "Get:23 http://archive.ubuntu.com/ubuntu bionic-updates/main amd64 Packages [2658 kB]\n",
      "Get:24 http://archive.ubuntu.com/ubuntu bionic-updates/multiverse amd64 Packages [33.5 kB]\n",
      "Get:25 http://archive.ubuntu.com/ubuntu bionic-backports/main amd64 Packages [11.3 kB]\n",
      "Get:26 http://archive.ubuntu.com/ubuntu bionic-backports/universe amd64 Packages [11.4 kB]\n",
      "Fetched 23.6 MB in 4s (5699 kB/s)\n",
      "Reading package lists...\n",
      "Reading package lists...\n",
      "Building dependency tree...\n",
      "Reading state information...\n",
      "The following additional packages will be installed:\n",
      "  libblas3 libflac8 libgfortran4 liblapack3 libogg0 libpython3-stdlib\n",
      "  libsndfile1 libvorbis0a libvorbisenc2 python3 python3-cffi-backend\n",
      "  python3-minimal python3-numpy python3.6 python3.6-minimal\n",
      "Suggested packages:\n",
      "  python3-doc python3-tk python3-venv gfortran python-numpy-doc python3-dev\n",
      "  python3-nose python3-numpy-dbg python3.6-venv python3.6-doc binfmt-support\n",
      "The following NEW packages will be installed:\n",
      "  libblas3 libflac8 libgfortran4 liblapack3 libogg0 libpython3-stdlib\n",
      "  libsndfile1 libvorbis0a libvorbisenc2 python3 python3-cffi-backend\n",
      "  python3-minimal python3-numpy python3-soundfile python3.6 python3.6-minimal\n",
      "0 upgraded, 16 newly installed, 0 to remove and 61 not upgraded.\n",
      "Need to get 7224 kB of archives.\n",
      "After this operation, 32.6 MB of additional disk space will be used.\n",
      "Get:1 http://archive.ubuntu.com/ubuntu bionic-updates/main amd64 python3.6-minimal amd64 3.6.9-1~18.04ubuntu1.4 [1610 kB]\n",
      "Get:2 http://archive.ubuntu.com/ubuntu bionic-updates/main amd64 python3-minimal amd64 3.6.7-1~18.04 [23.7 kB]\n",
      "Get:3 http://archive.ubuntu.com/ubuntu bionic-updates/main amd64 python3.6 amd64 3.6.9-1~18.04ubuntu1.4 [203 kB]\n",
      "Get:4 http://archive.ubuntu.com/ubuntu bionic-updates/main amd64 libpython3-stdlib amd64 3.6.7-1~18.04 [7240 B]\n",
      "Get:5 http://archive.ubuntu.com/ubuntu bionic-updates/main amd64 python3 amd64 3.6.7-1~18.04 [47.2 kB]\n",
      "Get:6 http://archive.ubuntu.com/ubuntu bionic/main amd64 libogg0 amd64 1.3.2-1 [17.2 kB]\n",
      "Get:7 http://archive.ubuntu.com/ubuntu bionic/main amd64 libblas3 amd64 3.7.1-4ubuntu1 [140 kB]\n",
      "Get:8 http://archive.ubuntu.com/ubuntu bionic/main amd64 libflac8 amd64 1.3.2-1 [213 kB]\n",
      "Get:9 http://archive.ubuntu.com/ubuntu bionic-updates/main amd64 libgfortran4 amd64 7.5.0-3ubuntu1~18.04 [492 kB]\n",
      "Get:10 http://archive.ubuntu.com/ubuntu bionic/main amd64 liblapack3 amd64 3.7.1-4ubuntu1 [2112 kB]\n",
      "Get:11 http://archive.ubuntu.com/ubuntu bionic/main amd64 libvorbis0a amd64 1.3.5-4.2 [86.4 kB]\n",
      "Get:12 http://archive.ubuntu.com/ubuntu bionic/main amd64 libvorbisenc2 amd64 1.3.5-4.2 [70.7 kB]\n",
      "Get:13 http://archive.ubuntu.com/ubuntu bionic-updates/main amd64 libsndfile1 amd64 1.0.28-4ubuntu0.18.04.1 [170 kB]\n",
      "Get:14 http://archive.ubuntu.com/ubuntu bionic/main amd64 python3-cffi-backend amd64 1.11.5-1 [64.6 kB]\n",
      "Get:15 http://archive.ubuntu.com/ubuntu bionic/main amd64 python3-numpy amd64 1:1.13.3-2ubuntu1 [1943 kB]\n",
      "Get:16 http://archive.ubuntu.com/ubuntu bionic/universe amd64 python3-soundfile all 0.10.0-1 [24.6 kB]\n",
      "\u001b[91mdebconf: delaying package configuration, since apt-utils is not installed\n",
      "\u001b[0mFetched 7224 kB in 2s (4111 kB/s)\n",
      "Selecting previously unselected package python3.6-minimal.\n",
      "(Reading database ... 37366 files and directories currently installed.)\n",
      "Preparing to unpack .../python3.6-minimal_3.6.9-1~18.04ubuntu1.4_amd64.deb ...\n",
      "Unpacking python3.6-minimal (3.6.9-1~18.04ubuntu1.4) ...\n",
      "Setting up python3.6-minimal (3.6.9-1~18.04ubuntu1.4) ...\n",
      "Selecting previously unselected package python3-minimal.\n",
      "(Reading database ... 37377 files and directories currently installed.)\n",
      "Preparing to unpack .../python3-minimal_3.6.7-1~18.04_amd64.deb ...\n",
      "Unpacking python3-minimal (3.6.7-1~18.04) ...\n",
      "Selecting previously unselected package python3.6.\n",
      "Preparing to unpack .../python3.6_3.6.9-1~18.04ubuntu1.4_amd64.deb ...\n",
      "Unpacking python3.6 (3.6.9-1~18.04ubuntu1.4) ...\n",
      "Selecting previously unselected package libpython3-stdlib:amd64.\n",
      "Preparing to unpack .../libpython3-stdlib_3.6.7-1~18.04_amd64.deb ...\n",
      "Unpacking libpython3-stdlib:amd64 (3.6.7-1~18.04) ...\n",
      "Setting up python3-minimal (3.6.7-1~18.04) ...\n",
      "Selecting previously unselected package python3.\n",
      "(Reading database ... 37425 files and directories currently installed.)\n",
      "Preparing to unpack .../00-python3_3.6.7-1~18.04_amd64.deb ...\n",
      "Unpacking python3 (3.6.7-1~18.04) ...\n",
      "Selecting previously unselected package libogg0:amd64.\n",
      "Preparing to unpack .../01-libogg0_1.3.2-1_amd64.deb ...\n",
      "Unpacking libogg0:amd64 (1.3.2-1) ...\n",
      "Selecting previously unselected package libblas3:amd64.\n",
      "Preparing to unpack .../02-libblas3_3.7.1-4ubuntu1_amd64.deb ...\n",
      "Unpacking libblas3:amd64 (3.7.1-4ubuntu1) ...\n",
      "Selecting previously unselected package libflac8:amd64.\n",
      "Preparing to unpack .../03-libflac8_1.3.2-1_amd64.deb ...\n",
      "Unpacking libflac8:amd64 (1.3.2-1) ...\n",
      "Selecting previously unselected package libgfortran4:amd64.\n",
      "Preparing to unpack .../04-libgfortran4_7.5.0-3ubuntu1~18.04_amd64.deb ...\n",
      "Unpacking libgfortran4:amd64 (7.5.0-3ubuntu1~18.04) ...\n",
      "Selecting previously unselected package liblapack3:amd64.\n",
      "Preparing to unpack .../05-liblapack3_3.7.1-4ubuntu1_amd64.deb ...\n",
      "Unpacking liblapack3:amd64 (3.7.1-4ubuntu1) ...\n",
      "Selecting previously unselected package libvorbis0a:amd64.\n",
      "Preparing to unpack .../06-libvorbis0a_1.3.5-4.2_amd64.deb ...\n",
      "Unpacking libvorbis0a:amd64 (1.3.5-4.2) ...\n",
      "Selecting previously unselected package libvorbisenc2:amd64.\n",
      "Preparing to unpack .../07-libvorbisenc2_1.3.5-4.2_amd64.deb ...\n",
      "Unpacking libvorbisenc2:amd64 (1.3.5-4.2) ...\n",
      "Selecting previously unselected package libsndfile1:amd64.\n",
      "Preparing to unpack .../08-libsndfile1_1.0.28-4ubuntu0.18.04.1_amd64.deb ...\n",
      "Unpacking libsndfile1:amd64 (1.0.28-4ubuntu0.18.04.1) ...\n",
      "Selecting previously unselected package python3-cffi-backend.\n",
      "Preparing to unpack .../09-python3-cffi-backend_1.11.5-1_amd64.deb ...\n",
      "Unpacking python3-cffi-backend (1.11.5-1) ...\n",
      "Selecting previously unselected package python3-numpy.\n",
      "Preparing to unpack .../10-python3-numpy_1%3a1.13.3-2ubuntu1_amd64.deb ...\n",
      "Unpacking python3-numpy (1:1.13.3-2ubuntu1) ...\n",
      "Selecting previously unselected package python3-soundfile.\n",
      "Preparing to unpack .../11-python3-soundfile_0.10.0-1_all.deb ...\n",
      "Unpacking python3-soundfile (0.10.0-1) ...\n",
      "Setting up libpython3-stdlib:amd64 (3.6.7-1~18.04) ...\n",
      "Setting up python3.6 (3.6.9-1~18.04ubuntu1.4) ...\n"
     ]
    },
    {
     "name": "stdout",
     "output_type": "stream",
     "text": [
      "Setting up python3 (3.6.7-1~18.04) ...\n",
      "running python rtupdate hooks for python3.6...\n",
      "running python post-rtupdate hooks for python3.6...\n",
      "Setting up python3-cffi-backend (1.11.5-1) ...\n",
      "Setting up libgfortran4:amd64 (7.5.0-3ubuntu1~18.04) ...\n",
      "Setting up libogg0:amd64 (1.3.2-1) ...\n",
      "Setting up libblas3:amd64 (3.7.1-4ubuntu1) ...\n",
      "update-alternatives: using /usr/lib/x86_64-linux-gnu/blas/libblas.so.3 to provide /usr/lib/x86_64-linux-gnu/libblas.so.3 (libblas.so.3-x86_64-linux-gnu) in auto mode\n",
      "Setting up libvorbis0a:amd64 (1.3.5-4.2) ...\n",
      "Setting up liblapack3:amd64 (3.7.1-4ubuntu1) ...\n",
      "update-alternatives: using /usr/lib/x86_64-linux-gnu/lapack/liblapack.so.3 to provide /usr/lib/x86_64-linux-gnu/liblapack.so.3 (liblapack.so.3-x86_64-linux-gnu) in auto mode\n",
      "Setting up libflac8:amd64 (1.3.2-1) ...\n",
      "Setting up libvorbisenc2:amd64 (1.3.5-4.2) ...\n",
      "Setting up python3-numpy (1:1.13.3-2ubuntu1) ...\n",
      "Setting up libsndfile1:amd64 (1.0.28-4ubuntu0.18.04.1) ...\n",
      "Setting up python3-soundfile (0.10.0-1) ...\n",
      "Processing triggers for mime-support (3.60ubuntu1) ...\n",
      "Processing triggers for libc-bin (2.27-3ubuntu1.2) ...\n",
      "Removing intermediate container e99df5b7829e\n",
      " ---> 63048f20f331\n",
      "Step 7/8 : WORKDIR /\n",
      " ---> Running in a0449649822c\n",
      "Removing intermediate container a0449649822c\n",
      " ---> 51c5105a55e6\n",
      "Step 8/8 : ENV PATH=\"/:${PATH}\"\n",
      " ---> Running in 5dd5956011c6\n",
      "Removing intermediate container 5dd5956011c6\n",
      " ---> 42eac121585f\n",
      "Successfully built 42eac121585f\n",
      "Successfully tagged vgg-audio:latest\n",
      "The push refers to repository [355444812467.dkr.ecr.us-west-2.amazonaws.com/vgg-audio]\n",
      "\n",
      "\u001b[1B13fdc64e: Preparing \n",
      "\u001b[1Bf0cee83a: Preparing \n",
      "\u001b[1Be9200cf3: Preparing \n",
      "\u001b[1B01ea2695: Preparing \n",
      "\u001b[1Bf5ec8974: Preparing \n",
      "\u001b[1Be5f8ae83: Preparing \n",
      "\u001b[1Baaf0fc6e: Preparing \n",
      "\u001b[1Bb3127f31: Preparing \n",
      "\u001b[1Bf725833a: Preparing \n",
      "\u001b[1B7bd70e14: Preparing \n",
      "\u001b[1Bcdd5a1a8: Preparing \n",
      "\u001b[1B8f26cda9: Preparing \n",
      "\u001b[1Bd9aafc83: Preparing \n",
      "\u001b[1B444a6ce3: Preparing \n",
      "\u001b[10B5f8ae83: Waiting g \n",
      "\u001b[1Bfe54aa9f: Preparing \n",
      "\u001b[1B95deaf22: Preparing \n",
      "\u001b[10B725833a: Waiting g \n",
      "\u001b[13Baf0fc6e: Waiting g \n",
      "\u001b[1Bdf59e266: Preparing \n",
      "\u001b[14B3127f31: Waiting g \n",
      "\u001b[1B06b49709: Preparing \n",
      "\u001b[1Bab7532c3: Preparing \n",
      "\u001b[12B9aafc83: Waiting g \n",
      "\u001b[16Bbd70e14: Waiting g \n",
      "\u001b[13B44a6ce3: Waiting g \n",
      "\u001b[13Bc19a362: Waiting g \n",
      "\u001b[1B00c31be3: Preparing \n",
      "\u001b[14Be54aa9f: Waiting g \n",
      "\u001b[14B5deaf22: Waiting g \n",
      "\u001b[7Bc4ddb009: Waiting g \n",
      "\u001b[7B3845e013: Waiting g \n",
      "\u001b[12B6b49709: Waiting g \n",
      "\u001b[16B698cc9c: Waiting g \n",
      "\u001b[13Bb7532c3: Waiting g \n",
      "\u001b[34B9200cf3: Pushed    1.52GB/1.493GB1A\u001b[2K\u001b[33A\u001b[2K\u001b[29A\u001b[2K\u001b[33A\u001b[2K\u001b[34A\u001b[2K\u001b[33A\u001b[2K\u001b[34A\u001b[2K\u001b[36A\u001b[2K\u001b[34A\u001b[2K\u001b[36A\u001b[2K\u001b[33A\u001b[2K\u001b[36A\u001b[2K\u001b[35A\u001b[2K\u001b[34A\u001b[2K\u001b[18A\u001b[2K\u001b[17A\u001b[2K\u001b[36A\u001b[2K\u001b[35A\u001b[2K\u001b[33A\u001b[2K\u001b[12A\u001b[2K\u001b[10A\u001b[2K\u001b[7A\u001b[2K\u001b[6A\u001b[2K\u001b[36A\u001b[2K\u001b[35A\u001b[2K\u001b[36A\u001b[2K\u001b[35A\u001b[2K\u001b[34A\u001b[2K\u001b[35A\u001b[2K\u001b[34A\u001b[2K\u001b[35A\u001b[2K\u001b[34A\u001b[2K\u001b[36A\u001b[2K\u001b[34A\u001b[2K\u001b[34A\u001b[2K\u001b[34A\u001b[2K\u001b[35A\u001b[2K\u001b[34A\u001b[2KPushing  27.19MB/1.493GB\u001b[35A\u001b[2K\u001b[34A\u001b[2K\u001b[35A\u001b[2K\u001b[34A\u001b[2K\u001b[36A\u001b[2K\u001b[34A\u001b[2K\u001b[35A\u001b[2K\u001b[34A\u001b[2K\u001b[36A\u001b[2K\u001b[34A\u001b[2K\u001b[36A\u001b[2K\u001b[34A\u001b[2K\u001b[36A\u001b[2K\u001b[34A\u001b[2K\u001b[34A\u001b[2K\u001b[36A\u001b[2K\u001b[34A\u001b[2K\u001b[36A\u001b[2K\u001b[34A\u001b[2K\u001b[35A\u001b[2K\u001b[35A\u001b[2K\u001b[35A\u001b[2K\u001b[34A\u001b[2K\u001b[35A\u001b[2K\u001b[34A\u001b[2K\u001b[35A\u001b[2K\u001b[34A\u001b[2K\u001b[36A\u001b[2K\u001b[34A\u001b[2K\u001b[35A\u001b[2K\u001b[35A\u001b[2K\u001b[35A\u001b[2K\u001b[34A\u001b[2K\u001b[35A\u001b[2K\u001b[34A\u001b[2K\u001b[35A\u001b[2K\u001b[34A\u001b[2K\u001b[35A\u001b[2K\u001b[35A\u001b[2K\u001b[34A\u001b[2K\u001b[35A\u001b[2K\u001b[34A\u001b[2K\u001b[35A\u001b[2K\u001b[34A\u001b[2K\u001b[35A\u001b[2K\u001b[34A\u001b[2K\u001b[35A\u001b[2K\u001b[34A\u001b[2K\u001b[35A\u001b[2K\u001b[34A\u001b[2K\u001b[35A\u001b[2K\u001b[34A\u001b[2K\u001b[35A\u001b[2K\u001b[34A\u001b[2K\u001b[35A\u001b[2K\u001b[34A\u001b[2K\u001b[35A\u001b[2K\u001b[34A\u001b[2K\u001b[35A\u001b[2K\u001b[34A\u001b[2K\u001b[35A\u001b[2K\u001b[34A\u001b[2K\u001b[35A\u001b[2K\u001b[34A\u001b[2K\u001b[35A\u001b[2K\u001b[35A\u001b[2K\u001b[34A\u001b[2K\u001b[35A\u001b[2K\u001b[34A\u001b[2K\u001b[35A\u001b[2K\u001b[35A\u001b[2K\u001b[34A\u001b[2K\u001b[35A\u001b[2K\u001b[34A\u001b[2K\u001b[35A\u001b[2K\u001b[34A\u001b[2K\u001b[35A\u001b[2K\u001b[34A\u001b[2K\u001b[35A\u001b[2K\u001b[34A\u001b[2K\u001b[34A\u001b[2K\u001b[34A\u001b[2K\u001b[34A\u001b[2K\u001b[34A\u001b[2K\u001b[34A\u001b[2K\u001b[34A\u001b[2K\u001b[34A\u001b[2K\u001b[34A\u001b[2K\u001b[34A\u001b[2K\u001b[34A\u001b[2K\u001b[34A\u001b[2K\u001b[34A\u001b[2K\u001b[34A\u001b[2K\u001b[34A\u001b[2K\u001b[34A\u001b[2K\u001b[34A\u001b[2K\u001b[34A\u001b[2K\u001b[34A\u001b[2K\u001b[34A\u001b[2K\u001b[34A\u001b[2K\u001b[34A\u001b[2K\u001b[34A\u001b[2K\u001b[34A\u001b[2K\u001b[34A\u001b[2K\u001b[34A\u001b[2K\u001b[34A\u001b[2K\u001b[34A\u001b[2K\u001b[34A\u001b[2K\u001b[34A\u001b[2K\u001b[34A\u001b[2K\u001b[34A\u001b[2K\u001b[34A\u001b[2K\u001b[34A\u001b[2K\u001b[34A\u001b[2K\u001b[34A\u001b[2K\u001b[34A\u001b[2K\u001b[34A\u001b[2K\u001b[34A\u001b[2K\u001b[34A\u001b[2K\u001b[34A\u001b[2K\u001b[34A\u001b[2K\u001b[34A\u001b[2K\u001b[34A\u001b[2K\u001b[34A\u001b[2K\u001b[34A\u001b[2K\u001b[34A\u001b[2K\u001b[34A\u001b[2K\u001b[34A\u001b[2K\u001b[34A\u001b[2K\u001b[34A\u001b[2K\u001b[34A\u001b[2K\u001b[34A\u001b[2K\u001b[34A\u001b[2K\u001b[34A\u001b[2K\u001b[34A\u001b[2K\u001b[34A\u001b[2K\u001b[34A\u001b[2K\u001b[34A\u001b[2K\u001b[34A\u001b[2K\u001b[34A\u001b[2K\u001b[34A\u001b[2K\u001b[34A\u001b[2K\u001b[34A\u001b[2K\u001b[34A\u001b[2K\u001b[34A\u001b[2K\u001b[34A\u001b[2K\u001b[34A\u001b[2K\u001b[34A\u001b[2K\u001b[34A\u001b[2K\u001b[34A\u001b[2K\u001b[34A\u001b[2K\u001b[34A\u001b[2K\u001b[34A\u001b[2K\u001b[34A\u001b[2K\u001b[34A\u001b[2K\u001b[34A\u001b[2K\u001b[34A\u001b[2K\u001b[34A\u001b[2K\u001b[34A\u001b[2K\u001b[34A\u001b[2K\u001b[34A\u001b[2K\u001b[34A\u001b[2K\u001b[34A\u001b[2K\u001b[34A\u001b[2K\u001b[34A\u001b[2K\u001b[34A\u001b[2K\u001b[34A\u001b[2K\u001b[34A\u001b[2K\u001b[34A\u001b[2K\u001b[34A\u001b[2K\u001b[34A\u001b[2K\u001b[34A\u001b[2K\u001b[34A\u001b[2K\u001b[34A\u001b[2K\u001b[34A\u001b[2K\u001b[34A\u001b[2K\u001b[34A\u001b[2K\u001b[34A\u001b[2K\u001b[34A\u001b[2K\u001b[34A\u001b[2K\u001b[34A\u001b[2K\u001b[34A\u001b[2K\u001b[34A\u001b[2K\u001b[34A\u001b[2K\u001b[34A\u001b[2K\u001b[34A\u001b[2K\u001b[34A\u001b[2K\u001b[34A\u001b[2K\u001b[34A\u001b[2K\u001b[34A\u001b[2K\u001b[34A\u001b[2K\u001b[34A\u001b[2K\u001b[34A\u001b[2K\u001b[34A\u001b[2K\u001b[34A\u001b[2K\u001b[34A\u001b[2K\u001b[34A\u001b[2K\u001b[34A\u001b[2K\u001b[34A\u001b[2K\u001b[34A\u001b[2K\u001b[34A\u001b[2K\u001b[34A\u001b[2K\u001b[34A\u001b[2K\u001b[34A\u001b[2K\u001b[34A\u001b[2K\u001b[34A\u001b[2K\u001b[34A\u001b[2K\u001b[34A\u001b[2K\u001b[34A\u001b[2K\u001b[34A\u001b[2K\u001b[34A\u001b[2K\u001b[34A\u001b[2K\u001b[34A\u001b[2K\u001b[34A\u001b[2K\u001b[34A\u001b[2K\u001b[34A\u001b[2K\u001b[34A\u001b[2K\u001b[34A\u001b[2K\u001b[34A\u001b[2K\u001b[34A\u001b[2K\u001b[34A\u001b[2K\u001b[34A\u001b[2K\u001b[34A\u001b[2K\u001b[34A\u001b[2K\u001b[34A\u001b[2K\u001b[34A\u001b[2K\u001b[34A\u001b[2K\u001b[34A\u001b[2K\u001b[34A\u001b[2K\u001b[34A\u001b[2K\u001b[34A\u001b[2K\u001b[34A\u001b[2K\u001b[34A\u001b[2K\u001b[34A\u001b[2K\u001b[34A\u001b[2K\u001b[34A\u001b[2K\u001b[34A\u001b[2K\u001b[34A\u001b[2K\u001b[34A\u001b[2K\u001b[34A\u001b[2K\u001b[34A\u001b[2K\u001b[34A\u001b[2K\u001b[34A\u001b[2K\u001b[34A\u001b[2K\u001b[34A\u001b[2K\u001b[34A\u001b[2K\u001b[34A\u001b[2K\u001b[34A\u001b[2K\u001b[34A\u001b[2K\u001b[34A\u001b[2K\u001b[34A\u001b[2K\u001b[34A\u001b[2K\u001b[34A\u001b[2K\u001b[34A\u001b[2K\u001b[34A\u001b[2K\u001b[34A\u001b[2K\u001b[34A\u001b[2K\u001b[34A\u001b[2K\u001b[34A\u001b[2K\u001b[34A\u001b[2K\u001b[34A\u001b[2K\u001b[34A\u001b[2K\u001b[34A\u001b[2K\u001b[34A\u001b[2K\u001b[34A\u001b[2K\u001b[34A\u001b[2K\u001b[34A\u001b[2K\u001b[34A\u001b[2K\u001b[34A\u001b[2K\u001b[34A\u001b[2K\u001b[34A\u001b[2K\u001b[34A\u001b[2K\u001b[34A\u001b[2K\u001b[34A\u001b[2K\u001b[34A\u001b[2K\u001b[34A\u001b[2K\u001b[34A\u001b[2K\u001b[34A\u001b[2K\u001b[34A\u001b[2K\u001b[34A\u001b[2K\u001b[34A\u001b[2K\u001b[34A\u001b[2K\u001b[34A\u001b[2K\u001b[34A\u001b[2K\u001b[34A\u001b[2K\u001b[34A\u001b[2K\u001b[34A\u001b[2K\u001b[34A\u001b[2K\u001b[34A\u001b[2K\u001b[34A\u001b[2K\u001b[34A\u001b[2K\u001b[34A\u001b[2K\u001b[34A\u001b[2K\u001b[34A\u001b[2K\u001b[34A\u001b[2K\u001b[34A\u001b[2K\u001b[34A\u001b[2K\u001b[34A\u001b[2K\u001b[34A\u001b[2K\u001b[34A\u001b[2K\u001b[34A\u001b[2K\u001b[34A\u001b[2K\u001b[34A\u001b[2K\u001b[34A\u001b[2K\u001b[34A\u001b[2K\u001b[34A\u001b[2K\u001b[34A\u001b[2K\u001b[34A\u001b[2K\u001b[34A\u001b[2K\u001b[34A\u001b[2K\u001b[34A\u001b[2K\u001b[34A\u001b[2K\u001b[34A\u001b[2K\u001b[34A\u001b[2K\u001b[34A\u001b[2K\u001b[34A\u001b[2K\u001b[34A\u001b[2K\u001b[34A\u001b[2K\u001b[34A\u001b[2K\u001b[34A\u001b[2K\u001b[34A\u001b[2K\u001b[34A\u001b[2K\u001b[34A\u001b[2K\u001b[34A\u001b[2K\u001b[34A\u001b[2K\u001b[34A\u001b[2K\u001b[34A\u001b[2K\u001b[34A\u001b[2K\u001b[34A\u001b[2K\u001b[34A\u001b[2K\u001b[34A\u001b[2K\u001b[34A\u001b[2K\u001b[34A\u001b[2K\u001b[34A\u001b[2K\u001b[34A\u001b[2K\u001b[34A\u001b[2K\u001b[34A\u001b[2K\u001b[34A\u001b[2K\u001b[34A\u001b[2K\u001b[34A\u001b[2K\u001b[34A\u001b[2K\u001b[34A\u001b[2K\u001b[34A\u001b[2K\u001b[34A\u001b[2K\u001b[34A\u001b[2K\u001b[34A\u001b[2K\u001b[34A\u001b[2K\u001b[34A\u001b[2K\u001b[34A\u001b[2K\u001b[34A\u001b[2K\u001b[34A\u001b[2K\u001b[34A\u001b[2K\u001b[34A\u001b[2K\u001b[34A\u001b[2K\u001b[34A\u001b[2K\u001b[34A\u001b[2K\u001b[34A\u001b[2K\u001b[34A\u001b[2K\u001b[34A\u001b[2K\u001b[34A\u001b[2K\u001b[34A\u001b[2K\u001b[34A\u001b[2K\u001b[34A\u001b[2K\u001b[34A\u001b[2K\u001b[34A\u001b[2K\u001b[34A\u001b[2K\u001b[34A\u001b[2K\u001b[34A\u001b[2K\u001b[34A\u001b[2K\u001b[34A\u001b[2K\u001b[34A\u001b[2K\u001b[34A\u001b[2K\u001b[34A\u001b[2K\u001b[34A\u001b[2K\u001b[34A\u001b[2K\u001b[34A\u001b[2K\u001b[34A\u001b[2K\u001b[34A\u001b[2K\u001b[34A\u001b[2K\u001b[34A\u001b[2K\u001b[34A\u001b[2K\u001b[34A\u001b[2K\u001b[34A\u001b[2K\u001b[34A\u001b[2K\u001b[34A\u001b[2K\u001b[34A\u001b[2K\u001b[34A\u001b[2K\u001b[34A\u001b[2K\u001b[34A\u001b[2K\u001b[34A\u001b[2K\u001b[34A\u001b[2K\u001b[34A\u001b[2K\u001b[34A\u001b[2K\u001b[34A\u001b[2K\u001b[34A\u001b[2K\u001b[34A\u001b[2K\u001b[34A\u001b[2K\u001b[34A\u001b[2K\u001b[34A\u001b[2K\u001b[34A\u001b[2K\u001b[34A\u001b[2K\u001b[34A\u001b[2K\u001b[34A\u001b[2K\u001b[34A\u001b[2K\u001b[34A\u001b[2K\u001b[34A\u001b[2K\u001b[34A\u001b[2K\u001b[34A\u001b[2K\u001b[34A\u001b[2K\u001b[34A\u001b[2K\u001b[34A\u001b[2K\u001b[34A\u001b[2K\u001b[34A\u001b[2K\u001b[34A\u001b[2K\u001b[34A\u001b[2K\u001b[34A\u001b[2K\u001b[34A\u001b[2K\u001b[34A\u001b[2K\u001b[34A\u001b[2K\u001b[34A\u001b[2K\u001b[34A\u001b[2K\u001b[34A\u001b[2K\u001b[34A\u001b[2K\u001b[34A\u001b[2K\u001b[34A\u001b[2K\u001b[34A\u001b[2K\u001b[34A\u001b[2K\u001b[34A\u001b[2K\u001b[34A\u001b[2K\u001b[34A\u001b[2K\u001b[34A\u001b[2K\u001b[34A\u001b[2K\u001b[34A\u001b[2K\u001b[34A\u001b[2K\u001b[34A\u001b[2K\u001b[34A\u001b[2K\u001b[34A\u001b[2K\u001b[34A\u001b[2K\u001b[34A\u001b[2K\u001b[34A\u001b[2K\u001b[34A\u001b[2K\u001b[34A\u001b[2K\u001b[34A\u001b[2K\u001b[34A\u001b[2K\u001b[34A\u001b[2K\u001b[34A\u001b[2K\u001b[34A\u001b[2K\u001b[34A\u001b[2K\u001b[34A\u001b[2K\u001b[34A\u001b[2K\u001b[34A\u001b[2K\u001b[34A\u001b[2K\u001b[34A\u001b[2K\u001b[34A\u001b[2K\u001b[34A\u001b[2K\u001b[34A\u001b[2K\u001b[34A\u001b[2K\u001b[34A\u001b[2K\u001b[34A\u001b[2K\u001b[34A\u001b[2K\u001b[34A\u001b[2K\u001b[34A\u001b[2K\u001b[34A\u001b[2K\u001b[34A\u001b[2K\u001b[34A\u001b[2K\u001b[34A\u001b[2K\u001b[34A\u001b[2K\u001b[34A\u001b[2K\u001b[34A\u001b[2K\u001b[34A\u001b[2K\u001b[34A\u001b[2K\u001b[34A\u001b[2K\u001b[34A\u001b[2K\u001b[34A\u001b[2K\u001b[34A\u001b[2K\u001b[34A\u001b[2K\u001b[34A\u001b[2K\u001b[34A\u001b[2K\u001b[34A\u001b[2K\u001b[34A\u001b[2K\u001b[34A\u001b[2K\u001b[34A\u001b[2K\u001b[34A\u001b[2K\u001b[34A\u001b[2K\u001b[34A\u001b[2K\u001b[34A\u001b[2K\u001b[34A\u001b[2K\u001b[34A\u001b[2K\u001b[34A\u001b[2K\u001b[34A\u001b[2K\u001b[34A\u001b[2K\u001b[34A\u001b[2K\u001b[34A\u001b[2K\u001b[34A\u001b[2K\u001b[34A\u001b[2K\u001b[34A\u001b[2K\u001b[34A\u001b[2K\u001b[34A\u001b[2K\u001b[34A\u001b[2K\u001b[34A\u001b[2K\u001b[34A\u001b[2K\u001b[34A\u001b[2K\u001b[34A\u001b[2K\u001b[34A\u001b[2K\u001b[34A\u001b[2K\u001b[34A\u001b[2K\u001b[34A\u001b[2K\u001b[34A\u001b[2K\u001b[34A\u001b[2K\u001b[34A\u001b[2K\u001b[34A\u001b[2K\u001b[34A\u001b[2K\u001b[34A\u001b[2K\u001b[34A\u001b[2K\u001b[34A\u001b[2K\u001b[34A\u001b[2K\u001b[34A\u001b[2K\u001b[34A\u001b[2K\u001b[34A\u001b[2K\u001b[34A\u001b[2K\u001b[34A\u001b[2K\u001b[34A\u001b[2K\u001b[34A\u001b[2K\u001b[34A\u001b[2K\u001b[34A\u001b[2K\u001b[34A\u001b[2K\u001b[34A\u001b[2K\u001b[34A\u001b[2K\u001b[34A\u001b[2K\u001b[34A\u001b[2K\u001b[34A\u001b[2K\u001b[34A\u001b[2K\u001b[34A\u001b[2K\u001b[34A\u001b[2K\u001b[34A\u001b[2K\u001b[34A\u001b[2K\u001b[34A\u001b[2K\u001b[34A\u001b[2K\u001b[34A\u001b[2K\u001b[34A\u001b[2K\u001b[34A\u001b[2K\u001b[34A\u001b[2K\u001b[34A\u001b[2K\u001b[34A\u001b[2K\u001b[34A\u001b[2K\u001b[34A\u001b[2K\u001b[34A\u001b[2K\u001b[34A\u001b[2K\u001b[34A\u001b[2K\u001b[34A\u001b[2K\u001b[34A\u001b[2K\u001b[34A\u001b[2K\u001b[34A\u001b[2K\u001b[34A\u001b[2K\u001b[34A\u001b[2K\u001b[34A\u001b[2K\u001b[34A\u001b[2K\u001b[34A\u001b[2K\u001b[34A\u001b[2K\u001b[34A\u001b[2K\u001b[34A\u001b[2K\u001b[34A\u001b[2K\u001b[34A\u001b[2K\u001b[34A\u001b[2K\u001b[34A\u001b[2K\u001b[34A\u001b[2K\u001b[34A\u001b[2K\u001b[34A\u001b[2K\u001b[34A\u001b[2K\u001b[34A\u001b[2K\u001b[34A\u001b[2K\u001b[34A\u001b[2K\u001b[34A\u001b[2K\u001b[34A\u001b[2K\u001b[34A\u001b[2K\u001b[34A\u001b[2K\u001b[34A\u001b[2K\u001b[34A\u001b[2K\u001b[34A\u001b[2K\u001b[34A\u001b[2K\u001b[34A\u001b[2K\u001b[34A\u001b[2K\u001b[34A\u001b[2K\u001b[34A\u001b[2K\u001b[34A\u001b[2K\u001b[34A\u001b[2K\u001b[34A\u001b[2K\u001b[34A\u001b[2K\u001b[34A\u001b[2K\u001b[34A\u001b[2K\u001b[34A\u001b[2K\u001b[34A\u001b[2K\u001b[34A\u001b[2K\u001b[34A\u001b[2K\u001b[34A\u001b[2K\u001b[34A\u001b[2K\u001b[34A\u001b[2K\u001b[34A\u001b[2K\u001b[34A\u001b[2K\u001b[34A\u001b[2K\u001b[34A\u001b[2K\u001b[34A\u001b[2K\u001b[34A\u001b[2K\u001b[34A\u001b[2K\u001b[34A\u001b[2K\u001b[34A\u001b[2K\u001b[34A\u001b[2K\u001b[34A\u001b[2K\u001b[34A\u001b[2K\u001b[34A\u001b[2K\u001b[34A\u001b[2K\u001b[34A\u001b[2K\u001b[34A\u001b[2K\u001b[34A\u001b[2K\u001b[34A\u001b[2K\u001b[34A\u001b[2K\u001b[34A\u001b[2K\u001b[34A\u001b[2K\u001b[34A\u001b[2K\u001b[34A\u001b[2K\u001b[34A\u001b[2K\u001b[34A\u001b[2K\u001b[34A\u001b[2K\u001b[34A\u001b[2K\u001b[34A\u001b[2K\u001b[34A\u001b[2K\u001b[34A\u001b[2K\u001b[34A\u001b[2K\u001b[34A\u001b[2K\u001b[34A\u001b[2K\u001b[34A\u001b[2K\u001b[34A\u001b[2K\u001b[34A\u001b[2K\u001b[34A\u001b[2K\u001b[34A\u001b[2K\u001b[34A\u001b[2K\u001b[34A\u001b[2K\u001b[34A\u001b[2K\u001b[34A\u001b[2K\u001b[34A\u001b[2K\u001b[34A\u001b[2K\u001b[34A\u001b[2K\u001b[34A\u001b[2K\u001b[34A\u001b[2K\u001b[34A\u001b[2K\u001b[34A\u001b[2K\u001b[34A\u001b[2K\u001b[34A\u001b[2K\u001b[34A\u001b[2K\u001b[34A\u001b[2K\u001b[34A\u001b[2KPushing  1.259GB/1.493GB\u001b[34A\u001b[2K\u001b[34A\u001b[2K\u001b[34A\u001b[2K\u001b[34A\u001b[2K\u001b[34A\u001b[2K\u001b[34A\u001b[2K\u001b[34A\u001b[2K\u001b[34A\u001b[2K\u001b[34A\u001b[2K\u001b[34A\u001b[2K\u001b[34A\u001b[2K\u001b[34A\u001b[2K\u001b[34A\u001b[2K\u001b[34A\u001b[2K\u001b[34A\u001b[2K\u001b[34A\u001b[2K\u001b[34A\u001b[2K\u001b[34A\u001b[2K\u001b[34A\u001b[2K\u001b[34A\u001b[2K\u001b[34A\u001b[2K\u001b[34A\u001b[2K\u001b[34A\u001b[2K\u001b[34A\u001b[2K\u001b[34A\u001b[2K\u001b[34A\u001b[2K\u001b[34A\u001b[2K\u001b[34A\u001b[2K\u001b[34A\u001b[2K\u001b[34A\u001b[2K\u001b[34A\u001b[2K\u001b[34A\u001b[2K\u001b[34A\u001b[2K\u001b[34A\u001b[2K\u001b[34A\u001b[2K\u001b[34A\u001b[2K\u001b[34A\u001b[2K\u001b[34A\u001b[2K\u001b[34A\u001b[2K\u001b[34A\u001b[2K\u001b[34A\u001b[2K\u001b[34A\u001b[2K\u001b[34A\u001b[2K\u001b[34A\u001b[2K\u001b[34A\u001b[2K\u001b[34A\u001b[2K\u001b[34A\u001b[2K\u001b[34A\u001b[2K\u001b[34A\u001b[2K\u001b[34A\u001b[2K\u001b[34A\u001b[2K\u001b[34A\u001b[2K\u001b[34A\u001b[2K\u001b[34A\u001b[2K\u001b[34A\u001b[2K\u001b[34A\u001b[2K\u001b[34A\u001b[2K\u001b[34A\u001b[2K\u001b[34A\u001b[2K\u001b[34A\u001b[2K\u001b[34A\u001b[2K\u001b[34A\u001b[2K\u001b[34A\u001b[2K\u001b[34A\u001b[2K\u001b[34A\u001b[2K\u001b[34A\u001b[2K\u001b[34A\u001b[2K\u001b[34A\u001b[2K\u001b[34A\u001b[2K\u001b[34A\u001b[2K\u001b[34A\u001b[2K\u001b[34A\u001b[2K\u001b[34A\u001b[2K\u001b[34A\u001b[2K\u001b[34A\u001b[2K\u001b[34A\u001b[2K\u001b[34A\u001b[2K\u001b[34A\u001b[2K\u001b[34A\u001b[2K\u001b[34A\u001b[2K\u001b[34A\u001b[2K\u001b[34A\u001b[2K\u001b[34A\u001b[2K\u001b[34A\u001b[2K\u001b[34A\u001b[2K\u001b[34A\u001b[2K\u001b[34A\u001b[2K\u001b[34A\u001b[2K\u001b[34A\u001b[2K\u001b[34A\u001b[2K\u001b[34A\u001b[2K\u001b[34A\u001b[2K\u001b[34A\u001b[2K\u001b[34A\u001b[2K\u001b[34A\u001b[2K\u001b[34A\u001b[2K\u001b[34A\u001b[2K\u001b[34A\u001b[2K\u001b[34A\u001b[2K\u001b[34A\u001b[2K\u001b[34A\u001b[2K\u001b[34A\u001b[2K\u001b[34A\u001b[2K\u001b[34A\u001b[2K\u001b[34A\u001b[2K\u001b[34A\u001b[2K\u001b[34A\u001b[2K\u001b[34A\u001b[2K\u001b[34A\u001b[2K\u001b[34A\u001b[2K\u001b[34A\u001b[2K\u001b[34A\u001b[2K\u001b[34A\u001b[2K\u001b[34A\u001b[2K\u001b[34A\u001b[2K\u001b[34A\u001b[2K\u001b[34A\u001b[2K\u001b[34A\u001b[2K\u001b[34A\u001b[2K\u001b[34A\u001b[2K\u001b[34A\u001b[2K\u001b[34A\u001b[2K\u001b[34A\u001b[2K\u001b[34A\u001b[2K\u001b[34A\u001b[2K\u001b[34A\u001b[2K\u001b[34A\u001b[2K\u001b[34A\u001b[2K\u001b[34A\u001b[2K\u001b[34A\u001b[2K\u001b[34A\u001b[2K\u001b[34A\u001b[2Klatest: digest: sha256:789131e783b25c1e12b28be14df7a313630beff726bf43379313039862221c52 size: 7899\n"
     ]
    },
    {
     "data": {
      "text/plain": [
       "datetime.datetime(2021, 7, 16, 15, 16, 24, 729545, tzinfo=datetime.timezone(datetime.timedelta(0, 28800)))"
      ]
     },
     "execution_count": 7,
     "metadata": {},
     "output_type": "execute_result"
    }
   ],
   "source": [
    "# 這個不用重跑\n",
    "!./build_and_push.sh\n",
    "# import datetime\n",
    "from datetime import datetime, timedelta, timezone\n",
    "datetime.now(timezone(timedelta(hours=8)))"
   ]
  },
  {
   "cell_type": "code",
   "execution_count": 4,
   "id": "110de6a7",
   "metadata": {},
   "outputs": [
    {
     "name": "stdout",
     "output_type": "stream",
     "text": [
      "ARG BASE_IMG=${BASE_IMG}\r\n",
      "FROM ${BASE_IMG} \r\n",
      "COPY code/* /\r\n",
      "RUN pip install -r requirements.txt --no-cache-dir \r\n",
      "RUN pip install numba==0.48.0 --user\r\n",
      "RUN apt-get update -y && apt-get install python3-soundfile -y  && rm -rf /var/lib/apt/lists/* && apt-get clean\r\n",
      "WORKDIR /\r\n",
      "ENV PATH=\"/:${PATH}\"\r\n",
      "\r\n",
      "\r\n",
      "\r\n"
     ]
    }
   ],
   "source": [
    "!cat Dockerfile"
   ]
  },
  {
   "cell_type": "code",
   "execution_count": 5,
   "id": "9c389549",
   "metadata": {},
   "outputs": [
    {
     "name": "stdout",
     "output_type": "stream",
     "text": [
      "#!/bin/bash\r\n",
      "\r\n",
      "# The name of our algorithm\r\n",
      "algorithm_name=vgg-audio\r\n",
      "\r\n",
      "#cd container\r\n",
      "# get information - account and region, required by ECR https://aws.amazon.com/ecr/\r\n",
      "account=$(aws sts get-caller-identity --query Account --output text)\r\n",
      "echo $account\r\n",
      "# Get the region defined in the current configuration (default to us-west-2 if none defined)\r\n",
      "region=$(aws configure get region)\r\n",
      "region=${region:-us-west-2}\r\n",
      "echo $region\r\n",
      "\r\n",
      "\r\n",
      "# derive fullname of docker image \r\n",
      "fullname=\"${account}.dkr.ecr.${region}.amazonaws.com/${algorithm_name}:latest\"\r\n",
      "\r\n",
      "# If the repository doesn't exist in ECR, create it.\r\n",
      "\r\n",
      "aws ecr describe-repositories --repository-names \"${algorithm_name}\" > /dev/null 2>&1\r\n",
      "if [ $? -ne 0 ]\r\n",
      "then\r\n",
      "    aws ecr create-repository --repository-name \"${algorithm_name}\" > /dev/null\r\n",
      "fi\r\n",
      "\r\n",
      "# Get the login command from ECR and execute it directly\r\n",
      "$(aws ecr get-login --region ${region} --no-include-email)\r\n",
      "\r\n",
      "# Get the login command from ECR in order to pull down the SageMaker TensorFlow image\r\n",
      "$(aws ecr get-login --registry-ids 763104351884 --region ${region} --no-include-email)\r\n",
      "\r\n",
      "# get the fullname of deep learning container image \r\n",
      "base_img='763104351884.dkr.ecr.'$region'.amazonaws.com/pytorch-training:1.6.0-gpu-py36-cu110-ubuntu18.04'\r\n",
      "echo 'base_img:'$base_img\r\n",
      "docker pull $base_img\r\n",
      "# Build the docker image locally with the image name and then push it to ECR\r\n",
      "# with the full name.\r\n",
      "docker build  -t ${algorithm_name} -f Dockerfile  --build-arg BASE_IMG=\"${base_img}\" .  --no-cache\r\n",
      "docker tag ${algorithm_name} ${fullname}\r\n",
      "docker push ${fullname}\r\n"
     ]
    }
   ],
   "source": [
    "!cat build_and_push.sh"
   ]
  },
  {
   "cell_type": "markdown",
   "id": "3d9f87be",
   "metadata": {},
   "source": [
    "* construct image uri by account_id, region and algorithm_name"
   ]
  },
  {
   "cell_type": "code",
   "execution_count": 6,
   "id": "ab43f2b5",
   "metadata": {},
   "outputs": [
    {
     "data": {
      "text/plain": [
       "'355444812467.dkr.ecr.us-west-2.amazonaws.com/vgg-audio'"
      ]
     },
     "execution_count": 6,
     "metadata": {},
     "output_type": "execute_result"
    }
   ],
   "source": [
    "image_uri=f\"{account_id}.dkr.ecr.{region}.amazonaws.com/{algorithm_name}\"\n",
    "image_uri"
   ]
  },
  {
   "cell_type": "markdown",
   "id": "a4686556",
   "metadata": {},
   "source": [
    "* prepare necessary variables/object for training "
   ]
  },
  {
   "cell_type": "code",
   "execution_count": 7,
   "id": "d597bff2",
   "metadata": {},
   "outputs": [],
   "source": [
    "import sagemaker \n",
    "session = sagemaker.session.Session()\n",
    "bucket = session.default_bucket()"
   ]
  },
  {
   "cell_type": "code",
   "execution_count": 9,
   "id": "9ade5475",
   "metadata": {},
   "outputs": [
    {
     "name": "stdout",
     "output_type": "stream",
     "text": [
      "arn:aws:iam::355444812467:role/service-role/AmazonSageMaker-ExecutionRole-20210702T211675\n"
     ]
    }
   ],
   "source": [
    "from sagemaker import get_execution_role\n",
    "\n",
    "role = get_execution_role()\n",
    "print(role)\n",
    "\n",
    "# s3_path = f\"s3://{bucket}/data/competition\"\n",
    "# s3_path"
   ]
  },
  {
   "cell_type": "markdown",
   "id": "e9ebf4ae",
   "metadata": {},
   "source": [
    "### Dataset Description - \n",
    "\n",
    "Dataset used in this workshop can be obtained from [Dog Bark Sound AI competition](https://tbrain.trendmicro.com.tw/Competitions/Details/15) hold by the world leading pet camera brand [Tomofun](https://en.wikipedia.org/wiki/Tomofun). The url below will be invalid after workshop. "
   ]
  },
  {
   "cell_type": "code",
   "execution_count": 12,
   "id": "68d72a41",
   "metadata": {},
   "outputs": [],
   "source": [
    "# s3://tomofun-audio-classification-yianc\n",
    "# data/data.zip\n",
    "# !wget -O data.zip https://tinyurl.com/ydzvotsd\n",
    "# !unzip  train.zip     \n",
    "# !aws s3 cp --recursive ./input/data/competition/ $s3_path"
   ]
  },
  {
   "cell_type": "markdown",
   "id": "835bff7c",
   "metadata": {},
   "source": [
    "### Train model in a docker container with terminal interface \n",
    "<a name=\"local_train\"></a>"
   ]
  },
  {
   "cell_type": "markdown",
   "id": "4fdf4509",
   "metadata": {},
   "source": [
    "* start container in interactive mode\n",
    "```\n",
    "IMAGE_ID=$(sudo docker images --filter=reference=vgg16-audio --format \"{{.ID}}\")\n",
    "nvidia-docker run -it -v $PWD:/opt/ml --entrypoint '' $IMAGE_ID bash \n",
    "```\n",
    "* train model based on README.md\n",
    "```\n",
    "python train.py --csv_path=/opt/ml/input/data/competition/meta_train.csv --data_dir=/opt/ml/input/data/competition/train --epochs=50 --val_split 0.1\n",
    "```"
   ]
  },
  {
   "cell_type": "code",
   "execution_count": 13,
   "id": "5cd3bb62",
   "metadata": {},
   "outputs": [],
   "source": [
    "from datetime import datetime"
   ]
  },
  {
   "cell_type": "code",
   "execution_count": 10,
   "id": "ef66ef98",
   "metadata": {},
   "outputs": [
    {
     "data": {
      "text/plain": [
       "'audio-1626442613'"
      ]
     },
     "execution_count": 10,
     "metadata": {},
     "output_type": "execute_result"
    }
   ],
   "source": [
    "from datetime import datetime\n",
    "now = datetime.now()\n",
    "timestamp = datetime.timestamp(now)\n",
    "job_name = \"audio-{}\".format(str(int(timestamp))) \n",
    "job_name"
   ]
  },
  {
   "cell_type": "markdown",
   "id": "767d4b7c",
   "metadata": {},
   "source": [
    "### Start SageMaker Training Job\n",
    "<a name=\"remote_train\"></a>\n",
    "* sagemaker training jobs can run either locally or remotely "
   ]
  },
  {
   "cell_type": "code",
   "execution_count": 9,
   "id": "c26a9f98",
   "metadata": {},
   "outputs": [],
   "source": [
    "# mode = 'local'\n",
    "# if mode == 'local':\n",
    "#     csess = sagemaker.local.LocalSession()\n",
    "# else:    \n",
    "#     csess = session\n",
    "\n",
    "# print(csess)\n",
    "# estimator = sagemaker.estimator.Estimator( \n",
    "#                         role=role,\n",
    "#                         image_uri=image_uri,\n",
    "#                         instance_count=1,\n",
    "#                         instance_type='local_gpu',\n",
    "# #                         instance_type='ml.p3.8xlarge',\n",
    "#                         sagemaker_session=csess,\n",
    "#                         volume_size=100, \n",
    "#                         debugger_hook_config=False\n",
    "#                    )"
   ]
  },
  {
   "cell_type": "code",
   "execution_count": 18,
   "id": "0a3e01fc",
   "metadata": {},
   "outputs": [],
   "source": [
    "# estimator.fit(inputs={\"competition\":s3_path}, job_name=job_name)"
   ]
  },
  {
   "cell_type": "code",
   "execution_count": 19,
   "id": "de201647",
   "metadata": {},
   "outputs": [],
   "source": [
    "# estimator.model_data"
   ]
  },
  {
   "cell_type": "code",
   "execution_count": 10,
   "id": "b0ae793e",
   "metadata": {},
   "outputs": [],
   "source": [
    "# model_s3_path = estimator.model_data\n",
    "\n",
    "# !aws s3 cp $model_s3_path . \n",
    "# !tar -xvf model.tar.gz\n",
    "# !mkdir -p model \n",
    "# !mv final_model.pkl model/"
   ]
  },
  {
   "cell_type": "markdown",
   "id": "99df5065",
   "metadata": {},
   "source": [
    "### Test Model Locally \n",
    "<a name=\"local_test\"></a>\n",
    "\n",
    "* start container in interactive mode\n",
    "```\n",
    "IMAGE_ID=$(sudo docker images --filter=reference=vgg16-audio --format \"{{.ID}}\")\n",
    "nvidia-docker run -it -v $PWD:/opt/ml --entrypoint '' $IMAGE_ID bash \n",
    "```\n",
    "* test model based on README.md\n",
    "```\n",
    "python test.py --test_csv /opt/ml/input/data/competition/meta_train.csv --data_dir /opt/ml/input/data/competition/train  --model_name VGGish --model_path /opt/ml/model --saved_root results/test --saved_name test_result\n",
    "```"
   ]
  },
  {
   "cell_type": "markdown",
   "id": "97a95db1",
   "metadata": {},
   "source": [
    "### Deploy SageMaker Endpoint  \n",
    "<a name=\"deploy_endpoint\"></a>\n"
   ]
  },
  {
   "cell_type": "code",
   "execution_count": 11,
   "id": "aee642b2",
   "metadata": {},
   "outputs": [],
   "source": [
    "# predictor = estimator.deploy(instance_type='ml.p2.xlarge', initial_instance_count=1, serializer=sagemaker.serializers.IdentitySerializer())\n",
    "# predictor = estimator.deploy(instance_type='local_gpu', initial_instance_count=1, serializer=sagemaker.serializers.IdentitySerializer())"
   ]
  },
  {
   "cell_type": "code",
   "execution_count": 12,
   "id": "202a6dfc",
   "metadata": {},
   "outputs": [],
   "source": [
    "# endpoint_name = predictor.endpoint_name"
   ]
  },
  {
   "cell_type": "markdown",
   "id": "6e7538e1",
   "metadata": {},
   "source": [
    "### You can deploy by using model file directly  \n",
    "\n",
    "The Source code is as below. we can use model locally trained to deploy a sagemaker endpoint "
   ]
  },
  {
   "cell_type": "markdown",
   "id": "7dcaa446",
   "metadata": {},
   "source": [
    "#### get example model file from s3 \n",
    "```\n",
    "source_model_data_url = 'https://tinyurl.com/yh7tw3hj'\n",
    "!wget -O model.tar.gz $source_model_data_url\n",
    "\n",
    "MODEL_PATH = f's3://{bucket}/model'\n",
    "model_data_s3_uri = f'{MODEL_PATH}/model.tar.gz'\n",
    "!aws s3 cp model.tar.gz $model_data_s3_uri\n",
    "```\n"
   ]
  },
  {
   "cell_type": "markdown",
   "id": "f8a11988",
   "metadata": {},
   "source": [
    "#### build endpoint from the model file \n",
    "```\n",
    "import time \n",
    "\n",
    "mode = 'remote'\n",
    "\n",
    "if mode == 'local':\n",
    "    csess = sagemaker.local.LocalSession()\n",
    "else:\n",
    "    csess = session\n",
    "\n",
    "model = sagemaker.model.Model(image_uri, \n",
    "                              model_data = model_data_s3_uri,\n",
    "                              role = role,\n",
    "                              predictor_cls = sagemaker.predictor.Predictor,\n",
    "                              sagemaker_session = csess)\n",
    "\n",
    "now = datetime.now()\n",
    "timestamp = datetime.timestamp(now)\n",
    "new_endpoint_name = \"audio-{}\".format(str(int(timestamp))) \n",
    "object_detector = model.deploy(initial_instance_count = 1,\n",
    "                               instance_type = 'ml.p2.xlarge',\n",
    "#                                instance_type = 'local_gpu',\n",
    "                               endpoint_name = new_endpoint_name,\n",
    "                               serializer = sagemaker.serializers.IdentitySerializer())\n",
    "```"
   ]
  },
  {
   "cell_type": "code",
   "execution_count": 11,
   "id": "5355929c",
   "metadata": {},
   "outputs": [
    {
     "data": {
      "text/plain": [
       "'355444812467.dkr.ecr.us-west-2.amazonaws.com/vgg-audio'"
      ]
     },
     "execution_count": 11,
     "metadata": {},
     "output_type": "execute_result"
    }
   ],
   "source": [
    "image_uri"
   ]
  },
  {
   "cell_type": "code",
   "execution_count": 119,
   "id": "8121b7d2",
   "metadata": {},
   "outputs": [],
   "source": [
    "model_2.name = 'zz'"
   ]
  },
  {
   "cell_type": "code",
   "execution_count": 117,
   "id": "917eeba3",
   "metadata": {},
   "outputs": [
    {
     "data": {
      "text/plain": [
       "2"
      ]
     },
     "execution_count": 117,
     "metadata": {},
     "output_type": "execute_result"
    }
   ],
   "source": [
    "1+1"
   ]
  },
  {
   "cell_type": "code",
   "execution_count": 104,
   "id": "dfcde0c7",
   "metadata": {},
   "outputs": [
    {
     "data": {
      "text/plain": [
       "'s3://sagemaker-us-west-2-355444812467/model/model_0716_liyu.tar.gz'"
      ]
     },
     "execution_count": 104,
     "metadata": {},
     "output_type": "execute_result"
    }
   ],
   "source": [
    "model_data_s3_uri"
   ]
  },
  {
   "cell_type": "code",
   "execution_count": null,
   "id": "0df6ef78",
   "metadata": {},
   "outputs": [],
   "source": [
    "model_data_s3_uri"
   ]
  },
  {
   "cell_type": "code",
   "execution_count": null,
   "id": "efcc796d",
   "metadata": {},
   "outputs": [],
   "source": []
  },
  {
   "cell_type": "markdown",
   "id": "114fc680",
   "metadata": {},
   "source": [
    "## 直接更新!!!"
   ]
  },
  {
   "cell_type": "code",
   "execution_count": 125,
   "id": "aa46e4f9",
   "metadata": {},
   "outputs": [],
   "source": [
    "model_2 = sagemaker.model.Model(image_uri, name = 'zz',\n",
    "                              model_data = f's3://sagemaker-us-west-2-355444812467/model/{model_targz}',\n",
    "                              role = role,\n",
    "                              predictor_cls = sagemaker.predictor.Predictor,\n",
    "                              sagemaker_session = csess)"
   ]
  },
  {
   "cell_type": "code",
   "execution_count": 126,
   "id": "e4195620",
   "metadata": {},
   "outputs": [
    {
     "data": {
      "text/plain": [
       "'zz'"
      ]
     },
     "execution_count": 126,
     "metadata": {},
     "output_type": "execute_result"
    }
   ],
   "source": [
    "model_2.name"
   ]
  },
  {
   "cell_type": "code",
   "execution_count": 142,
   "id": "97c9e345",
   "metadata": {},
   "outputs": [
    {
     "name": "stdout",
     "output_type": "stream",
     "text": [
      "2021-07-17 12:14:06.332961+08:00\n",
      "-----------------------!2021-07-17 12:25:39.244282+08:00\n",
      "---------------------!2021-07-17 12:36:12.517053+08:00\n"
     ]
    }
   ],
   "source": [
    "print(datetime.now(timezone(timedelta(hours=8))))\n",
    "model_targz = 'model_0725_liyu.tar.gz'\n",
    "# model_name = 'vgg-audio-2021-07-16-13-50-04-174'\n",
    "model_2 = sagemaker.model.Model(image_uri,\n",
    "                              model_data = f's3://sagemaker-us-west-2-355444812467/model/{model_targz}',\n",
    "                              role = role,\n",
    "                              predictor_cls = sagemaker.predictor.Predictor,\n",
    "                              sagemaker_session = csess)\n",
    "\n",
    "now = datetime.now()\n",
    "timestamp = datetime.timestamp(now)\n",
    "new_endpoint_name = \"audio-{}\".format(str(int(timestamp))) \n",
    "object_detector = model_2.deploy(initial_instance_count = 1,\n",
    "                               instance_type = 'ml.p2.xlarge',\n",
    "#                                instance_type = 'local_gpu',\n",
    "                               endpoint_name = new_endpoint_name,\n",
    "                               serializer = sagemaker.serializers.IdentitySerializer())\n",
    "print(datetime.now(timezone(timedelta(hours=8))))\n",
    "# model_2.name = 'vgg-audio-2021-07-15-16-14-07-334'\n",
    "# 更新model再跑\n",
    "new_detector =  sagemaker.predictor.Predictor(endpoint_name = endpoint_name) \n",
    "new_detector.update_endpoint(model_name=model_2.name, initial_instance_count = 1,\n",
    "                                instance_type = 'ml.p3.2xlarge')\n",
    "print(datetime.now(timezone(timedelta(hours=8))))"
   ]
  },
  {
   "cell_type": "code",
   "execution_count": null,
   "id": "aa90add6",
   "metadata": {},
   "outputs": [],
   "source": []
  },
  {
   "cell_type": "code",
   "execution_count": null,
   "id": "d0157450",
   "metadata": {},
   "outputs": [],
   "source": [
    "'./Final_Training_Dataset/train/train_00001.wav'"
   ]
  },
  {
   "cell_type": "code",
   "execution_count": 116,
   "id": "3a8431ad",
   "metadata": {},
   "outputs": [
    {
     "name": "stdout",
     "output_type": "stream",
     "text": [
      "{'label': 0, 'probability': [0.9903320670127869, 0.0001989333686651662, 0.0007428666576743126, 0.00016775673429947346, 3.222770828870125e-05, 3.8894515455467626e-05, 0.0003140326589345932, 0.0003089535457547754, 3.332734195282683e-05, 0.007830953225493431]}\n"
     ]
    }
   ],
   "source": [
    "import json \n",
    "file_name = './Final_Training_Dataset/train/train_00001.wav'\n",
    "with open(file_name, 'rb') as image:\n",
    "    f = image.read()\n",
    "    b = bytearray(f)\n",
    "results = new_detector.predict(b)\n",
    "detections = json.loads(results)\n",
    "print(detections) "
   ]
  },
  {
   "cell_type": "code",
   "execution_count": 115,
   "id": "476755d6",
   "metadata": {},
   "outputs": [
    {
     "name": "stdout",
     "output_type": "stream",
     "text": [
      "{'label': 0, 'probability': [0.9903320670127869, 0.0001989333686651662, 0.0007428666576743126, 0.00016775673429947346, 3.222770828870125e-05, 3.8894515455467626e-05, 0.0003140326589345932, 0.0003089535457547754, 3.332734195282683e-05, 0.007830953225493431]}\n"
     ]
    }
   ],
   "source": [
    "import json \n",
    "file_name = './Final_Training_Dataset/train/train_00001.wav'\n",
    "with open(file_name, 'rb') as image:\n",
    "    f = image.read()\n",
    "    b = bytearray(f)\n",
    "results = object_detector.predict(b)\n",
    "detections = json.loads(results)\n",
    "print(detections) "
   ]
  },
  {
   "cell_type": "code",
   "execution_count": 114,
   "id": "05538b2c",
   "metadata": {
    "collapsed": true
   },
   "outputs": [
    {
     "ename": "ModelError",
     "evalue": "An error occurred (ModelError) when calling the InvokeEndpoint operation: Received server error (500) from model with message \"<!DOCTYPE HTML PUBLIC \"-//W3C//DTD HTML 4.01 Transitional//EN\"\n  \"http://www.w3.org/TR/html4/loose.dtd\">\n<html>\n  <head>\n    <title>audioread.exceptions.NoBackendError // Werkzeug Debugger</title>\n    <link rel=\"stylesheet\" href=\"?__debugger__=yes&amp;cmd=resource&amp;f=style.css\"\n        type=\"text/css\">\n    <!-- We need to make sure this has a favicon so that the debugger does\n         not by accident trigger a request to /favicon.ico which might\n         change the application state. -->\n    <link rel=\"shortcut icon\"\n        href=\"?__debugger__=yes&amp;cmd=resource&amp;f=console.png\">\n    <script src=\"?__debugger__=yes&amp;cmd=resource&amp;f=jquery.js\"></script>\n    <script src=\"?__debugger__=yes&amp;cmd=resource&amp;f=debugger.js\"></script>\n    <script type=\"text/javascript\">\n      var TRACEBACK = 140135917314344,\n          CONSOLE_MODE = false,\n          EVALEX = true,\n          EVALEX_TRUSTED = false,\n          SECRET = \"sa0gTLco13HlPJLODeq5\";\n    </script>\n  </head>\n  <body style=\"background-color: #fff\">\n    <div class=\"debugger\">\n<h1>audioread.exceptions.NoBackendError</h1>\n<div class=\"detail\">\n  <p class=\"errormsg\">audioread.exceptions.NoBackendError</p>\n</div>\n<h2 class=\"traceback\">Traceback <em>(most recent call last)</em></h2>\n<div class=\"traceback\">\n  \n  <ul><li><div class=\"frame\" id=\"frame-140135917314120\">\n  <h4>File <cite class=\"filename\">\"/opt/conda/lib/python3.6/site-packages/flask/app.py\"</cite>,\n      line <em class=\"line\">2464</em>,\n      in <code class=\"function\">__call__</code></h4>\n  <div class=\"source library\"><pre class=\"line before\"><span class=\"ws\"></span> </pre>\n<pre class=\"line before\"><span class=\"ws\">    </span>def __call__(self, environ, start_response):</pre>\n<pre class=\"line before\"><span class=\"ws\">        </span>&quot;&quot;&quot;The WSGI server calls the Flask application object as the</pre>\n<pre class=\"line before\"><span class=\"ws\">        </span>WSGI application. This calls :meth:`wsgi_app` which can be</pre>\n<pre class=\"line before\"><span class=\"ws\">        </span>wrapped to applying middleware.&quot;&quot;&quot;</pre>\n<pre class=\"line current\"><span class=\"ws\">        </span>return self.wsgi_app(environ, start_response)</pre>\n<pre class=\"line after\"><span class=\"ws\"></span> </pre>\n<pre class=\"line after\"><span class=\"ws\">    </span>def __repr__(self):</pre>\n<pre class=\"line after\"><span class=\"ws\">        </span>return &quot;&lt;%s %r&gt;&quot; % (self.__class__.__name__, self.name)</pre></div>\n</div>\n\n<li><div class=\"frame\" id=\"frame-140135917314176\">\n  <h4>File <cite class=\"filename\">\"/opt/conda/lib/python3.6/site-packages/flask/app.py\"</cite>,\n      line <em class=\"line\">2450</em>,\n      in <code class=\"function\">wsgi_app</code></h4>\n  <div class=\"source library\"><pre class=\"line before\"><span class=\"ws\">            </span>try:</pre>\n<pre class=\"line before\"><span class=\"ws\">                </span>ctx.push()</pre>\n<pre class=\"line before\"><span class=\"ws\">                </span>response = self.full_dispatch_request()</pre>\n<pre class=\"line before\"><span class=\"ws\">            </span>except Exception as e:</pre>\n<pre class=\"line before\"><span class=\"ws\">                </span>error = e</pre>\n<pre class=\"line current\"><span class=\"ws\">                </span>response = self.handle_exception(e)</pre>\n<pre class=\"line after\"><span class=\"ws\">            </span>except:  # noqa: B001</pre>\n<pre class=\"line after\"><span class=\"ws\">                </span>error = sys.exc_info()[1]</pre>\n<pre class=\"line after\"><span class=\"ws\">                </span>raise</pre>\n<pre class=\"line after\"><span class=\"ws\">            </span>return response(environ, start_response)</pre>\n<pre class=\"line after\"><span class=\"ws\">        </span>finally:</pre></div>\n</div>\n\n<li><div class=\"frame\" id=\"frame-140135917314400\">\n  <h4>File <cite class=\"filename\">\"/opt/conda/lib/python3.6/site-packages/flask/app.py\"</cite>,\n      line <em class=\"line\">1867</em>,\n      in <code class=\"function\">handle_exception</code></h4>\n  <div class=\"source library\"><pre class=\"line before\"><span class=\"ws\">            </span># if we want to repropagate the exception, we can attempt to</pre>\n<pre class=\"line before\"><span class=\"ws\">            </span># raise it with the whole traceback in case we can do that</pre>\n<pre class=\"line before\"><span class=\"ws\">            </span># (the function was actually called from the except part)</pre>\n<pre class=\"line before\"><span class=\"ws\">            </span># otherwise, we just raise the error again</pre>\n<pre class=\"line before\"><span class=\"ws\">            </span>if exc_value is e:</pre>\n<pre class=\"line current\"><span class=\"ws\">                </span>reraise(exc_type, exc_value, tb)</pre>\n<pre class=\"line after\"><span class=\"ws\">            </span>else:</pre>\n<pre class=\"line after\"><span class=\"ws\">                </span>raise e</pre>\n<pre class=\"line after\"><span class=\"ws\"></span> </pre>\n<pre class=\"line after\"><span class=\"ws\">        </span>self.log_exception((exc_type, exc_value, tb))</pre>\n<pre class=\"line after\"><span class=\"ws\">        </span>server_error = InternalServerError()</pre></div>\n</div>\n\n<li><div class=\"frame\" id=\"frame-140135917314288\">\n  <h4>File <cite class=\"filename\">\"/opt/conda/lib/python3.6/site-packages/flask/_compat.py\"</cite>,\n      line <em class=\"line\">39</em>,\n      in <code class=\"function\">reraise</code></h4>\n  <div class=\"source library\"><pre class=\"line before\"><span class=\"ws\">    </span>import collections.abc as collections_abc</pre>\n<pre class=\"line before\"><span class=\"ws\"></span> </pre>\n<pre class=\"line before\"><span class=\"ws\">    </span>def reraise(tp, value, tb=None):</pre>\n<pre class=\"line before\"><span class=\"ws\">        </span>if value.__traceback__ is not tb:</pre>\n<pre class=\"line before\"><span class=\"ws\">            </span>raise value.with_traceback(tb)</pre>\n<pre class=\"line current\"><span class=\"ws\">        </span>raise value</pre>\n<pre class=\"line after\"><span class=\"ws\"></span> </pre>\n<pre class=\"line after\"><span class=\"ws\">    </span>implements_to_string = _identity</pre>\n<pre class=\"line after\"><span class=\"ws\"></span> </pre>\n<pre class=\"line after\"><span class=\"ws\"></span>else:</pre>\n<pre class=\"line after\"><span class=\"ws\">    </span>iterkeys = lambda d: d.iterkeys()</pre></div>\n</div>\n\n<li><div class=\"frame\" id=\"frame-140135917296944\">\n  <h4>File <cite class=\"filename\">\"/opt/conda/lib/python3.6/site-packages/flask/app.py\"</cite>,\n      line <em class=\"line\">2447</em>,\n      in <code class=\"function\">wsgi_app</code></h4>\n  <div class=\"source library\"><pre class=\"line before\"><span class=\"ws\">        </span>ctx = self.request_context(environ)</pre>\n<pre class=\"line before\"><span class=\"ws\">        </span>error = None</pre>\n<pre class=\"line before\"><span class=\"ws\">        </span>try:</pre>\n<pre class=\"line before\"><span class=\"ws\">            </span>try:</pre>\n<pre class=\"line before\"><span class=\"ws\">                </span>ctx.push()</pre>\n<pre class=\"line current\"><span class=\"ws\">                </span>response = self.full_dispatch_request()</pre>\n<pre class=\"line after\"><span class=\"ws\">            </span>except Exception as e:</pre>\n<pre class=\"line after\"><span class=\"ws\">                </span>error = e</pre>\n<pre class=\"line after\"><span class=\"ws\">                </span>response = self.handle_exception(e)</pre>\n<pre class=\"line after\"><span class=\"ws\">            </span>except:  # noqa: B001</pre>\n<pre class=\"line after\"><span class=\"ws\">                </span>error = sys.exc_info()[1]</pre></div>\n</div>\n\n<li><div class=\"frame\" id=\"frame-140135917295880\">\n  <h4>File <cite class=\"filename\">\"/opt/conda/lib/python3.6/site-packages/flask/app.py\"</cite>,\n      line <em class=\"line\">1952</em>,\n      in <code class=\"function\">full_dispatch_request</code></h4>\n  <div class=\"source library\"><pre class=\"line before\"><span class=\"ws\">            </span>request_started.send(self)</pre>\n<pre class=\"line before\"><span class=\"ws\">            </span>rv = self.preprocess_request()</pre>\n<pre class=\"line before\"><span class=\"ws\">            </span>if rv is None:</pre>\n<pre class=\"line before\"><span class=\"ws\">                </span>rv = self.dispatch_request()</pre>\n<pre class=\"line before\"><span class=\"ws\">        </span>except Exception as e:</pre>\n<pre class=\"line current\"><span class=\"ws\">            </span>rv = self.handle_user_exception(e)</pre>\n<pre class=\"line after\"><span class=\"ws\">        </span>return self.finalize_request(rv)</pre>\n<pre class=\"line after\"><span class=\"ws\"></span> </pre>\n<pre class=\"line after\"><span class=\"ws\">    </span>def finalize_request(self, rv, from_error_handler=False):</pre>\n<pre class=\"line after\"><span class=\"ws\">        </span>&quot;&quot;&quot;Given the return value from a view function this finalizes</pre>\n<pre class=\"line after\"><span class=\"ws\">        </span>the request by converting it into a response and invoking the</pre></div>\n</div>\n\n<li><div class=\"frame\" id=\"frame-140135917296216\">\n  <h4>File <cite class=\"filename\">\"/opt/conda/lib/python3.6/site-packages/flask/app.py\"</cite>,\n      line <em class=\"line\">1821</em>,\n      in <code class=\"function\">handle_user_exception</code></h4>\n  <div class=\"source library\"><pre class=\"line before\"><span class=\"ws\">            </span>return self.handle_http_exception(e)</pre>\n<pre class=\"line before\"><span class=\"ws\"></span> </pre>\n<pre class=\"line before\"><span class=\"ws\">        </span>handler = self._find_error_handler(e)</pre>\n<pre class=\"line before\"><span class=\"ws\"></span> </pre>\n<pre class=\"line before\"><span class=\"ws\">        </span>if handler is None:</pre>\n<pre class=\"line current\"><span class=\"ws\">            </span>reraise(exc_type, exc_value, tb)</pre>\n<pre class=\"line after\"><span class=\"ws\">        </span>return handler(e)</pre>\n<pre class=\"line after\"><span class=\"ws\"></span> </pre>\n<pre class=\"line after\"><span class=\"ws\">    </span>def handle_exception(self, e):</pre>\n<pre class=\"line after\"><span class=\"ws\">        </span>&quot;&quot;&quot;Handle an exception that did not have an error handler</pre>\n<pre class=\"line after\"><span class=\"ws\">        </span>associated with it, or that was raised from an error handler.</pre></div>\n</div>\n\n<li><div class=\"frame\" id=\"frame-140135917296552\">\n  <h4>File <cite class=\"filename\">\"/opt/conda/lib/python3.6/site-packages/flask/_compat.py\"</cite>,\n      line <em class=\"line\">39</em>,\n      in <code class=\"function\">reraise</code></h4>\n  <div class=\"source library\"><pre class=\"line before\"><span class=\"ws\">    </span>import collections.abc as collections_abc</pre>\n<pre class=\"line before\"><span class=\"ws\"></span> </pre>\n<pre class=\"line before\"><span class=\"ws\">    </span>def reraise(tp, value, tb=None):</pre>\n<pre class=\"line before\"><span class=\"ws\">        </span>if value.__traceback__ is not tb:</pre>\n<pre class=\"line before\"><span class=\"ws\">            </span>raise value.with_traceback(tb)</pre>\n<pre class=\"line current\"><span class=\"ws\">        </span>raise value</pre>\n<pre class=\"line after\"><span class=\"ws\"></span> </pre>\n<pre class=\"line after\"><span class=\"ws\">    </span>implements_to_string = _identity</pre>\n<pre class=\"line after\"><span class=\"ws\"></span> </pre>\n<pre class=\"line after\"><span class=\"ws\"></span>else:</pre>\n<pre class=\"line after\"><span class=\"ws\">    </span>iterkeys = lambda d: d.iterkeys()</pre></div>\n</div>\n\n<li><div class=\"frame\" id=\"frame-140135917297224\">\n  <h4>File <cite class=\"filename\">\"/opt/conda/lib/python3.6/site-packages/flask/app.py\"</cite>,\n      line <em class=\"line\">1950</em>,\n      in <code class=\"function\">full_dispatch_request</code></h4>\n  <div class=\"source library\"><pre class=\"line before\"><span class=\"ws\">        </span>self.try_trigger_before_first_request_functions()</pre>\n<pre class=\"line before\"><span class=\"ws\">        </span>try:</pre>\n<pre class=\"line before\"><span class=\"ws\">            </span>request_started.send(self)</pre>\n<pre class=\"line before\"><span class=\"ws\">            </span>rv = self.preprocess_request()</pre>\n<pre class=\"line before\"><span class=\"ws\">            </span>if rv is None:</pre>\n<pre class=\"line current\"><span class=\"ws\">                </span>rv = self.dispatch_request()</pre>\n<pre class=\"line after\"><span class=\"ws\">        </span>except Exception as e:</pre>\n<pre class=\"line after\"><span class=\"ws\">            </span>rv = self.handle_user_exception(e)</pre>\n<pre class=\"line after\"><span class=\"ws\">        </span>return self.finalize_request(rv)</pre>\n<pre class=\"line after\"><span class=\"ws\"></span> </pre>\n<pre class=\"line after\"><span class=\"ws\">    </span>def finalize_request(self, rv, from_error_handler=False):</pre></div>\n</div>\n\n<li><div class=\"frame\" id=\"frame-140135917297280\">\n  <h4>File <cite class=\"filename\">\"/opt/conda/lib/python3.6/site-packages/flask/app.py\"</cite>,\n      line <em class=\"line\">1936</em>,\n      in <code class=\"function\">dispatch_request</code></h4>\n  <div class=\"source library\"><pre class=\"line before\"><span class=\"ws\">            </span>getattr(rule, &quot;provide_automatic_options&quot;, False)</pre>\n<pre class=\"line before\"><span class=\"ws\">            </span>and req.method == &quot;OPTIONS&quot;</pre>\n<pre class=\"line before\"><span class=\"ws\">        </span>):</pre>\n<pre class=\"line before\"><span class=\"ws\">            </span>return self.make_default_options_response()</pre>\n<pre class=\"line before\"><span class=\"ws\">        </span># otherwise dispatch to the handler for that endpoint</pre>\n<pre class=\"line current\"><span class=\"ws\">        </span>return self.view_functions[rule.endpoint](**req.view_args)</pre>\n<pre class=\"line after\"><span class=\"ws\"></span> </pre>\n<pre class=\"line after\"><span class=\"ws\">    </span>def full_dispatch_request(self):</pre>\n<pre class=\"line after\"><span class=\"ws\">        </span>&quot;&quot;&quot;Dispatches the request and on top of that performs request</pre>\n<pre class=\"line after\"><span class=\"ws\">        </span>pre and postprocessing as well as HTTP exception catching and</pre>\n<pre class=\"line after\"><span class=\"ws\">        </span>error handling.</pre></div>\n</div>\n\n<li><div class=\"frame\" id=\"frame-140135917297616\">\n  <h4>File <cite class=\"filename\">\"/serve\"</cite>,\n      line <em class=\"line\">91</em>,\n      in <code class=\"function\">predict</code></h4>\n  <div class=\"source \"><pre class=\"line before\"><span class=\"ws\">    </span>tmpFile = open(path, 'wb')</pre>\n<pre class=\"line before\"><span class=\"ws\">    </span>tmpFile.write(data)</pre>\n<pre class=\"line before\"><span class=\"ws\">    </span>tmpFile.close()</pre>\n<pre class=\"line before\"><span class=\"ws\"></span> </pre>\n<pre class=\"line before\"><span class=\"ws\">    </span># Loading data</pre>\n<pre class=\"line current\"><span class=\"ws\">    </span>mel_spec = get_melspec(path)</pre>\n<pre class=\"line after\"><span class=\"ws\">    </span>mel_concat = np.stack((mel_spec, mel_spec, mel_spec))/255</pre>\n<pre class=\"line after\"><span class=\"ws\"></span> </pre>\n<pre class=\"line after\"><span class=\"ws\">    </span># Reshape data to tensor</pre>\n<pre class=\"line after\"><span class=\"ws\">    </span>img_test = np.reshape(mel_concat, (1, mel_concat.shape[0], mel_concat.shape[1], mel_concat.shape[2]))</pre>\n<pre class=\"line after\"><span class=\"ws\">    </span>wav = torch.tensor(img_test)</pre></div>\n</div>\n\n<li><div class=\"frame\" id=\"frame-140135917297112\">\n  <h4>File <cite class=\"filename\">\"/serve\"</cite>,\n      line <em class=\"line\">38</em>,\n      in <code class=\"function\">get_melspec</code></h4>\n  <div class=\"source \"><pre class=\"line before\"><span class=\"ws\"></span>def run_predict_server():</pre>\n<pre class=\"line before\"><span class=\"ws\">    </span>app.run(host='0.0.0.0', port=8080, debug=True)</pre>\n<pre class=\"line before\"><span class=\"ws\"></span> </pre>\n<pre class=\"line before\"><span class=\"ws\"></span># è£½ä½é »è­å</pre>\n<pre class=\"line before\"><span class=\"ws\"></span>def get_melspec(file_name):</pre>\n<pre class=\"line current\"><span class=\"ws\">    </span>y, sr = librosa.load(file_name, sr = 8000)</pre>\n<pre class=\"line after\"><span class=\"ws\">    </span>if len(y)&lt;sr*5:</pre>\n<pre class=\"line after\"><span class=\"ws\">        </span>print(prefix,file_name)</pre>\n<pre class=\"line after\"><span class=\"ws\">        </span>l = sr*5-len(y)</pre>\n<pre class=\"line after\"><span class=\"ws\">        </span>y = np.hstack([y,np.zeros(l)])</pre>\n<pre class=\"line after\"><span class=\"ws\">    </span>mel_spec = librosa.power_to_db(librosa.feature.melspectrogram(y, sr=sr, n_mels=128, n_fft=1024, hop_length=256))</pre></div>\n</div>\n\n<li><div class=\"frame\" id=\"frame-140135917296664\">\n  <h4>File <cite class=\"filename\">\"/opt/conda/lib/python3.6/site-packages/librosa/core/audio.py\"</cite>,\n      line <em class=\"line\">112</em>,\n      in <code class=\"function\">load</code></h4>\n  <div class=\"source library\"><pre class=\"line before\"><span class=\"ws\">    </span>22050</pre>\n<pre class=\"line before\"><span class=\"ws\"></span> </pre>\n<pre class=\"line before\"><span class=\"ws\">    </span>&quot;&quot;&quot;</pre>\n<pre class=\"line before\"><span class=\"ws\"></span> </pre>\n<pre class=\"line before\"><span class=\"ws\">    </span>y = []</pre>\n<pre class=\"line current\"><span class=\"ws\">    </span>with audioread.audio_open(os.path.realpath(path)) as input_file:</pre>\n<pre class=\"line after\"><span class=\"ws\">        </span>sr_native = input_file.samplerate</pre>\n<pre class=\"line after\"><span class=\"ws\">        </span>n_channels = input_file.channels</pre>\n<pre class=\"line after\"><span class=\"ws\"></span> </pre>\n<pre class=\"line after\"><span class=\"ws\">        </span>s_start = int(np.round(sr_native * offset)) * n_channels</pre>\n<pre class=\"line after\"><span class=\"ws\"></span> </pre></div>\n</div>\n\n<li><div class=\"frame\" id=\"frame-140135917297000\">\n  <h4>File <cite class=\"filename\">\"/opt/conda/lib/python3.6/site-packages/audioread/__init__.py\"</cite>,\n      line <em class=\"line\">116</em>,\n      in <code class=\"function\">audio_open</code></h4>\n  <div class=\"source library\"><pre class=\"line before\"><span class=\"ws\">            </span>return BackendClass(path)</pre>\n<pre class=\"line before\"><span class=\"ws\">        </span>except DecodeError:</pre>\n<pre class=\"line before\"><span class=\"ws\">            </span>pass</pre>\n<pre class=\"line before\"><span class=\"ws\"></span> </pre>\n<pre class=\"line before\"><span class=\"ws\">    </span># All backends failed!</pre>\n<pre class=\"line current\"><span class=\"ws\">    </span>raise NoBackendError()</pre></div>\n</div>\n</ul>\n  <blockquote>audioread.exceptions.NoBackendError</blockquote>\n</div>\n\n<div class=\"plain\">\n  <form action=\"/?__debugger__=yes&amp;cmd=paste\" method=\"post\">\n    <p>\n      <input type=\"hidden\" name=\"language\" value=\"pytb\">\n      This is the Copy/Paste friendly version of the traceback.  <span\n      class=\"pastemessage\">You can also paste this traceback into\n      a <a href=\"https://gist.github.com/\">gist</a>:\n      <input type=\"submit\" value=\"create paste\"></span>\n    </p>\n    <textarea cols=\"50\" rows=\"10\" name=\"code\" readonly>Traceback (most recent call last):\n  File &quot;/opt/conda/lib/python3.6/site-packages/flask/app.py&quot;, line 2464, in __call__\n    return self.wsgi_app(environ, start_response)\n  File &quot;/opt/conda/lib/python3.6/site-packages/flask/app.py&quot;, line 2450, in wsgi_app\n    response = self.handle_exception(e)\n  File &quot;/opt/conda/lib/python3.6/site-packages/flask/app.py&quot;, line 1867, in handle_exception\n    reraise(exc_type, exc_value, tb)\n  File &quot;/opt/conda/lib/python3.6/site-packages/flask/_compat.py&quot;, line 39, in reraise\n    raise value\n  File &quot;/opt/conda/lib/python3.6/site-packages/flask/app.py&quot;, line 2447, in wsgi_app\n    response = self.full_dispatch_request()\n  File &quot;/opt/conda/lib/python3.6/site-packages/flask/app.py&quot;, line 1952, in full_dispatch_request\n    rv = self.handle_user_exception(e)\n  File &quot;/opt/conda/lib/python3.6/site-packages/flask/app.py&quot;, line 1821, in handle_user_exception\n    reraise(exc_type, exc_value, tb)\n  File &quot;/opt/conda/lib/python3.6/site-packages/flask/_compat.py&quot;, line 39, in reraise\n    raise value\n  File &quot;/opt/conda/lib/python3.6/site-packages/flask/app.py&quot;, line 1950, in full_dispatch_request\n    rv = self.dispatch_request()\n  File &quot;/opt/conda/lib/python3.6/site-packages/flask/app.py&quot;, line 1936, in dispatch_request\n    return self.view_functions[rule.endpoint](**req.view_args)\n  File &quot;/serve&quot;, line 91, in predict\n    mel_spec = get_melspec(path)\n  File &quot;/serve&quot;, line 38, in get_melspec\n    y, sr = librosa.load(file_name, sr = 8000)\n  File &quot;/opt/conda/lib/python3.6/site-packages/librosa/core/audio.py&quot;, line 112, in load\n    with audioread.audio_open(os.path.realpath(path)) as input_file:\n  File &quot;/opt/conda/lib/python3.6/site-packages/audioread/__init__.py&quot;, line 116, in audio_open\n    raise NoBackendError()\naudioread.exceptions.NoBackendError</textarea>\n  </form>\n</div>\n<div class=\"explanation\">\n  The debugger caught an exception in your WSGI application.  You can now\n  look at the traceback which led to the error.  <span class=\"nojavascript\">\n  If you enable JavaScript you can also use additional features such as code\n  execution (if the evalex feature is enabled), automatic pasting of the\n  exceptions and much more.</span>\n</div>\n      <div class=\"footer\">\n        Brought to you by <strong class=\"arthur\">DON'T PANIC</strong>, your\n        friendly Werkzeug powered traceback interpreter.\n      </div>\n    </div>\n\n    <div class=\"pin-prompt\">\n      <div class=\"inner\">\n        <h3>Console Locked</h3>\n        <p>\n          The console is locked and needs to be unlocked by entering the PIN.\n          You can find the PIN printed out on the standard output of your\n          shell that runs the server.\n        <form>\n          <p>PIN:\n            <input type=text name=pin size=14>\n            <input type=submit name=btn value=\"Confirm Pin\">\n        </form>\n      </div>\n    </div>\n  </body>\n</html>\n\n<!--\n\nTraceback (most recent call last):\n  File \"/opt/conda/lib/python3.6/site-packages/flask/app.py\", line 2464, in __call__\n    return self.wsgi_app(environ, start_response)\n  File \"/opt/conda/lib/python3.6/site-packages/flask/app.py\", line 2450, in wsgi_app\n    response = self.handle_exception(e)\n  File \"/opt/conda/lib/python3.6/site-packages/flask/app.py\", line 1867, in handle_exception\n    reraise(exc_type, exc_value, tb)\n  File \"/opt/conda/lib/python3.6/site-packages/flask/_compat.py\", line 39, in reraise\n    raise value\n  File \"/opt/conda/lib/python3.6/site-packages/flask/app.py\", line 2447, in wsgi_app\n    response = self.full_dispatch_request()\n  File \"/opt/conda/lib/python3.6/site-packages/flask/app.py\", line 1952, in full_dispatch_request\n    rv = self.handle_user_exception(e)\n  File \"/opt/conda/lib/python3.6/site-packages/flask/app.py\", line 1821, in handle_user_exception\n    reraise(exc_type, exc_value, tb)\n  File \"/opt/conda/lib/python3.6/site-packages/flask/_compat.py\", line 39, in reraise\n    raise value\n  File \"/opt/conda/lib/python3.6/site-packages/flask/app.py\", line 1950, in full_dispatch_request\n    rv = self.dispatch_request()\n  File \"/opt/conda/lib/python3.6/site-packages/flask/app.py\", line 1936, in dispatch_request\n    return self.view_functions[rule.endpoint](**req.view_args)\n  File \"/serve\", line 91, in predict\n    mel_spec = get_melspec(path)\n  File \"/serve\", line 38, in get_melspec\n    y, sr = librosa.load(file_name, sr = 8000)\n  File \"/opt/conda/lib/python3.6/site-packages/librosa/core/audio.py\", line 112, in load\n    with audioread.audio_open(os.path.realpath(path)) as input_file:\n  File \"/opt/conda/lib/python3.6/site-packages/audioread/__init__.py\", line 116, in audio_open\n    raise NoBackendError()\naudioread.exceptions.NoBackendError\n\n-->\n\". See https://us-west-2.console.aws.amazon.com/cloudwatch/home?region=us-west-2#logEventViewer:group=/aws/sagemaker/Endpoints/audio-20210716 in account 355444812467 for more information.",
     "output_type": "error",
     "traceback": [
      "\u001b[0;31m---------------------------------------------------------------------------\u001b[0m",
      "\u001b[0;31mModelError\u001b[0m                                Traceback (most recent call last)",
      "\u001b[0;32m<ipython-input-114-439db26838e3>\u001b[0m in \u001b[0;36m<module>\u001b[0;34m\u001b[0m\n\u001b[0;32m----> 1\u001b[0;31m \u001b[0mobject_detector\u001b[0m\u001b[0;34m.\u001b[0m\u001b[0mpredict\u001b[0m\u001b[0;34m(\u001b[0m\u001b[0;34m'./Final_Training_Dataset/train/train_01500.wav'\u001b[0m\u001b[0;34m)\u001b[0m\u001b[0;34m\u001b[0m\u001b[0;34m\u001b[0m\u001b[0m\n\u001b[0m",
      "\u001b[0;32m~/anaconda3/envs/pytorch_latest_p36/lib/python3.6/site-packages/sagemaker/predictor.py\u001b[0m in \u001b[0;36mpredict\u001b[0;34m(self, data, initial_args, target_model, target_variant, inference_id)\u001b[0m\n\u001b[1;32m    134\u001b[0m             \u001b[0mdata\u001b[0m\u001b[0;34m,\u001b[0m \u001b[0minitial_args\u001b[0m\u001b[0;34m,\u001b[0m \u001b[0mtarget_model\u001b[0m\u001b[0;34m,\u001b[0m \u001b[0mtarget_variant\u001b[0m\u001b[0;34m,\u001b[0m \u001b[0minference_id\u001b[0m\u001b[0;34m\u001b[0m\u001b[0;34m\u001b[0m\u001b[0m\n\u001b[1;32m    135\u001b[0m         )\n\u001b[0;32m--> 136\u001b[0;31m         \u001b[0mresponse\u001b[0m \u001b[0;34m=\u001b[0m \u001b[0mself\u001b[0m\u001b[0;34m.\u001b[0m\u001b[0msagemaker_session\u001b[0m\u001b[0;34m.\u001b[0m\u001b[0msagemaker_runtime_client\u001b[0m\u001b[0;34m.\u001b[0m\u001b[0minvoke_endpoint\u001b[0m\u001b[0;34m(\u001b[0m\u001b[0;34m**\u001b[0m\u001b[0mrequest_args\u001b[0m\u001b[0;34m)\u001b[0m\u001b[0;34m\u001b[0m\u001b[0;34m\u001b[0m\u001b[0m\n\u001b[0m\u001b[1;32m    137\u001b[0m         \u001b[0;32mreturn\u001b[0m \u001b[0mself\u001b[0m\u001b[0;34m.\u001b[0m\u001b[0m_handle_response\u001b[0m\u001b[0;34m(\u001b[0m\u001b[0mresponse\u001b[0m\u001b[0;34m)\u001b[0m\u001b[0;34m\u001b[0m\u001b[0;34m\u001b[0m\u001b[0m\n\u001b[1;32m    138\u001b[0m \u001b[0;34m\u001b[0m\u001b[0m\n",
      "\u001b[0;32m~/anaconda3/envs/pytorch_latest_p36/lib/python3.6/site-packages/botocore/client.py\u001b[0m in \u001b[0;36m_api_call\u001b[0;34m(self, *args, **kwargs)\u001b[0m\n\u001b[1;32m    384\u001b[0m                     \"%s() only accepts keyword arguments.\" % py_operation_name)\n\u001b[1;32m    385\u001b[0m             \u001b[0;31m# The \"self\" in this scope is referring to the BaseClient.\u001b[0m\u001b[0;34m\u001b[0m\u001b[0;34m\u001b[0m\u001b[0;34m\u001b[0m\u001b[0m\n\u001b[0;32m--> 386\u001b[0;31m             \u001b[0;32mreturn\u001b[0m \u001b[0mself\u001b[0m\u001b[0;34m.\u001b[0m\u001b[0m_make_api_call\u001b[0m\u001b[0;34m(\u001b[0m\u001b[0moperation_name\u001b[0m\u001b[0;34m,\u001b[0m \u001b[0mkwargs\u001b[0m\u001b[0;34m)\u001b[0m\u001b[0;34m\u001b[0m\u001b[0;34m\u001b[0m\u001b[0m\n\u001b[0m\u001b[1;32m    387\u001b[0m \u001b[0;34m\u001b[0m\u001b[0m\n\u001b[1;32m    388\u001b[0m         \u001b[0m_api_call\u001b[0m\u001b[0;34m.\u001b[0m\u001b[0m__name__\u001b[0m \u001b[0;34m=\u001b[0m \u001b[0mstr\u001b[0m\u001b[0;34m(\u001b[0m\u001b[0mpy_operation_name\u001b[0m\u001b[0;34m)\u001b[0m\u001b[0;34m\u001b[0m\u001b[0;34m\u001b[0m\u001b[0m\n",
      "\u001b[0;32m~/anaconda3/envs/pytorch_latest_p36/lib/python3.6/site-packages/botocore/client.py\u001b[0m in \u001b[0;36m_make_api_call\u001b[0;34m(self, operation_name, api_params)\u001b[0m\n\u001b[1;32m    703\u001b[0m             \u001b[0merror_code\u001b[0m \u001b[0;34m=\u001b[0m \u001b[0mparsed_response\u001b[0m\u001b[0;34m.\u001b[0m\u001b[0mget\u001b[0m\u001b[0;34m(\u001b[0m\u001b[0;34m\"Error\"\u001b[0m\u001b[0;34m,\u001b[0m \u001b[0;34m{\u001b[0m\u001b[0;34m}\u001b[0m\u001b[0;34m)\u001b[0m\u001b[0;34m.\u001b[0m\u001b[0mget\u001b[0m\u001b[0;34m(\u001b[0m\u001b[0;34m\"Code\"\u001b[0m\u001b[0;34m)\u001b[0m\u001b[0;34m\u001b[0m\u001b[0;34m\u001b[0m\u001b[0m\n\u001b[1;32m    704\u001b[0m             \u001b[0merror_class\u001b[0m \u001b[0;34m=\u001b[0m \u001b[0mself\u001b[0m\u001b[0;34m.\u001b[0m\u001b[0mexceptions\u001b[0m\u001b[0;34m.\u001b[0m\u001b[0mfrom_code\u001b[0m\u001b[0;34m(\u001b[0m\u001b[0merror_code\u001b[0m\u001b[0;34m)\u001b[0m\u001b[0;34m\u001b[0m\u001b[0;34m\u001b[0m\u001b[0m\n\u001b[0;32m--> 705\u001b[0;31m             \u001b[0;32mraise\u001b[0m \u001b[0merror_class\u001b[0m\u001b[0;34m(\u001b[0m\u001b[0mparsed_response\u001b[0m\u001b[0;34m,\u001b[0m \u001b[0moperation_name\u001b[0m\u001b[0;34m)\u001b[0m\u001b[0;34m\u001b[0m\u001b[0;34m\u001b[0m\u001b[0m\n\u001b[0m\u001b[1;32m    706\u001b[0m         \u001b[0;32melse\u001b[0m\u001b[0;34m:\u001b[0m\u001b[0;34m\u001b[0m\u001b[0;34m\u001b[0m\u001b[0m\n\u001b[1;32m    707\u001b[0m             \u001b[0;32mreturn\u001b[0m \u001b[0mparsed_response\u001b[0m\u001b[0;34m\u001b[0m\u001b[0;34m\u001b[0m\u001b[0m\n",
      "\u001b[0;31mModelError\u001b[0m: An error occurred (ModelError) when calling the InvokeEndpoint operation: Received server error (500) from model with message \"<!DOCTYPE HTML PUBLIC \"-//W3C//DTD HTML 4.01 Transitional//EN\"\n  \"http://www.w3.org/TR/html4/loose.dtd\">\n<html>\n  <head>\n    <title>audioread.exceptions.NoBackendError // Werkzeug Debugger</title>\n    <link rel=\"stylesheet\" href=\"?__debugger__=yes&amp;cmd=resource&amp;f=style.css\"\n        type=\"text/css\">\n    <!-- We need to make sure this has a favicon so that the debugger does\n         not by accident trigger a request to /favicon.ico which might\n         change the application state. -->\n    <link rel=\"shortcut icon\"\n        href=\"?__debugger__=yes&amp;cmd=resource&amp;f=console.png\">\n    <script src=\"?__debugger__=yes&amp;cmd=resource&amp;f=jquery.js\"></script>\n    <script src=\"?__debugger__=yes&amp;cmd=resource&amp;f=debugger.js\"></script>\n    <script type=\"text/javascript\">\n      var TRACEBACK = 140135917314344,\n          CONSOLE_MODE = false,\n          EVALEX = true,\n          EVALEX_TRUSTED = false,\n          SECRET = \"sa0gTLco13HlPJLODeq5\";\n    </script>\n  </head>\n  <body style=\"background-color: #fff\">\n    <div class=\"debugger\">\n<h1>audioread.exceptions.NoBackendError</h1>\n<div class=\"detail\">\n  <p class=\"errormsg\">audioread.exceptions.NoBackendError</p>\n</div>\n<h2 class=\"traceback\">Traceback <em>(most recent call last)</em></h2>\n<div class=\"traceback\">\n  \n  <ul><li><div class=\"frame\" id=\"frame-140135917314120\">\n  <h4>File <cite class=\"filename\">\"/opt/conda/lib/python3.6/site-packages/flask/app.py\"</cite>,\n      line <em class=\"line\">2464</em>,\n      in <code class=\"function\">__call__</code></h4>\n  <div class=\"source library\"><pre class=\"line before\"><span class=\"ws\"></span> </pre>\n<pre class=\"line before\"><span class=\"ws\">    </span>def __call__(self, environ, start_response):</pre>\n<pre class=\"line before\"><span class=\"ws\">        </span>&quot;&quot;&quot;The WSGI server calls the Flask application object as the</pre>\n<pre class=\"line before\"><span class=\"ws\">        </span>WSGI application. This calls :meth:`wsgi_app` which can be</pre>\n<pre class=\"line before\"><span class=\"ws\">        </span>wrapped to applying middleware.&quot;&quot;&quot;</pre>\n<pre class=\"line current\"><span class=\"ws\">        </span>return self.wsgi_app(environ, start_response)</pre>\n<pre class=\"line after\"><span class=\"ws\"></span> </pre>\n<pre class=\"line after\"><span class=\"ws\">    </span>def __repr__(self):</pre>\n<pre class=\"line after\"><span class=\"ws\">        </span>return &quot;&lt;%s %r&gt;&quot; % (self.__class__.__name__, self.name)</pre></div>\n</div>\n\n<li><div class=\"frame\" id=\"frame-140135917314176\">\n  <h4>File <cite class=\"filename\">\"/opt/conda/lib/python3.6/site-packages/flask/app.py\"</cite>,\n      line <em class=\"line\">2450</em>,\n      in <code class=\"function\">wsgi_app</code></h4>\n  <div class=\"source library\"><pre class=\"line before\"><span class=\"ws\">            </span>try:</pre>\n<pre class=\"line before\"><span class=\"ws\">                </span>ctx.push()</pre>\n<pre class=\"line before\"><span class=\"ws\">                </span>response = self.full_dispatch_request()</pre>\n<pre class=\"line before\"><span class=\"ws\">            </span>except Exception as e:</pre>\n<pre class=\"line before\"><span class=\"ws\">                </span>error = e</pre>\n<pre class=\"line current\"><span class=\"ws\">                </span>response = self.handle_exception(e)</pre>\n<pre class=\"line after\"><span class=\"ws\">            </span>except:  # noqa: B001</pre>\n<pre class=\"line after\"><span class=\"ws\">                </span>error = sys.exc_info()[1]</pre>\n<pre class=\"line after\"><span class=\"ws\">                </span>raise</pre>\n<pre class=\"line after\"><span class=\"ws\">            </span>return response(environ, start_response)</pre>\n<pre class=\"line after\"><span class=\"ws\">        </span>finally:</pre></div>\n</div>\n\n<li><div class=\"frame\" id=\"frame-140135917314400\">\n  <h4>File <cite class=\"filename\">\"/opt/conda/lib/python3.6/site-packages/flask/app.py\"</cite>,\n      line <em class=\"line\">1867</em>,\n      in <code class=\"function\">handle_exception</code></h4>\n  <div class=\"source library\"><pre class=\"line before\"><span class=\"ws\">            </span># if we want to repropagate the exception, we can attempt to</pre>\n<pre class=\"line before\"><span class=\"ws\">            </span># raise it with the whole traceback in case we can do that</pre>\n<pre class=\"line before\"><span class=\"ws\">            </span># (the function was actually called from the except part)</pre>\n<pre class=\"line before\"><span class=\"ws\">            </span># otherwise, we just raise the error again</pre>\n<pre class=\"line before\"><span class=\"ws\">            </span>if exc_value is e:</pre>\n<pre class=\"line current\"><span class=\"ws\">                </span>reraise(exc_type, exc_value, tb)</pre>\n<pre class=\"line after\"><span class=\"ws\">            </span>else:</pre>\n<pre class=\"line after\"><span class=\"ws\">                </span>raise e</pre>\n<pre class=\"line after\"><span class=\"ws\"></span> </pre>\n<pre class=\"line after\"><span class=\"ws\">        </span>self.log_exception((exc_type, exc_value, tb))</pre>\n<pre class=\"line after\"><span class=\"ws\">        </span>server_error = InternalServerError()</pre></div>\n</div>\n\n<li><div class=\"frame\" id=\"frame-140135917314288\">\n  <h4>File <cite class=\"filename\">\"/opt/conda/lib/python3.6/site-packages/flask/_compat.py\"</cite>,\n      line <em class=\"line\">39</em>,\n      in <code class=\"function\">reraise</code></h4>\n  <div class=\"source library\"><pre class=\"line before\"><span class=\"ws\">    </span>import collections.abc as collections_abc</pre>\n<pre class=\"line before\"><span class=\"ws\"></span> </pre>\n<pre class=\"line before\"><span class=\"ws\">    </span>def reraise(tp, value, tb=None):</pre>\n<pre class=\"line before\"><span class=\"ws\">        </span>if value.__traceback__ is not tb:</pre>\n<pre class=\"line before\"><span class=\"ws\">            </span>raise value.with_traceback(tb)</pre>\n<pre class=\"line current\"><span class=\"ws\">        </span>raise value</pre>\n<pre class=\"line after\"><span class=\"ws\"></span> </pre>\n<pre class=\"line after\"><span class=\"ws\">    </span>implements_to_string = _identity</pre>\n<pre class=\"line after\"><span class=\"ws\"></span> </pre>\n<pre class=\"line after\"><span class=\"ws\"></span>else:</pre>\n<pre class=\"line after\"><span class=\"ws\">    </span>iterkeys = lambda d: d.iterkeys()</pre></div>\n</div>\n\n<li><div class=\"frame\" id=\"frame-140135917296944\">\n  <h4>File <cite class=\"filename\">\"/opt/conda/lib/python3.6/site-packages/flask/app.py\"</cite>,\n      line <em class=\"line\">2447</em>,\n      in <code class=\"function\">wsgi_app</code></h4>\n  <div class=\"source library\"><pre class=\"line before\"><span class=\"ws\">        </span>ctx = self.request_context(environ)</pre>\n<pre class=\"line before\"><span class=\"ws\">        </span>error = None</pre>\n<pre class=\"line before\"><span class=\"ws\">        </span>try:</pre>\n<pre class=\"line before\"><span class=\"ws\">            </span>try:</pre>\n<pre class=\"line before\"><span class=\"ws\">                </span>ctx.push()</pre>\n<pre class=\"line current\"><span class=\"ws\">                </span>response = self.full_dispatch_request()</pre>\n<pre class=\"line after\"><span class=\"ws\">            </span>except Exception as e:</pre>\n<pre class=\"line after\"><span class=\"ws\">                </span>error = e</pre>\n<pre class=\"line after\"><span class=\"ws\">                </span>response = self.handle_exception(e)</pre>\n<pre class=\"line after\"><span class=\"ws\">            </span>except:  # noqa: B001</pre>\n<pre class=\"line after\"><span class=\"ws\">                </span>error = sys.exc_info()[1]</pre></div>\n</div>\n\n<li><div class=\"frame\" id=\"frame-140135917295880\">\n  <h4>File <cite class=\"filename\">\"/opt/conda/lib/python3.6/site-packages/flask/app.py\"</cite>,\n      line <em class=\"line\">1952</em>,\n      in <code class=\"function\">full_dispatch_request</code></h4>\n  <div class=\"source library\"><pre class=\"line before\"><span class=\"ws\">            </span>request_started.send(self)</pre>\n<pre class=\"line before\"><span class=\"ws\">            </span>rv = self.preprocess_request()</pre>\n<pre class=\"line before\"><span class=\"ws\">            </span>if rv is None:</pre>\n<pre class=\"line before\"><span class=\"ws\">                </span>rv = self.dispatch_request()</pre>\n<pre class=\"line before\"><span class=\"ws\">        </span>except Exception as e:</pre>\n<pre class=\"line current\"><span class=\"ws\">            </span>rv = self.handle_user_exception(e)</pre>\n<pre class=\"line after\"><span class=\"ws\">        </span>return self.finalize_request(rv)</pre>\n<pre class=\"line after\"><span class=\"ws\"></span> </pre>\n<pre class=\"line after\"><span class=\"ws\">    </span>def finalize_request(self, rv, from_error_handler=False):</pre>\n<pre class=\"line after\"><span class=\"ws\">        </span>&quot;&quot;&quot;Given the return value from a view function this finalizes</pre>\n<pre class=\"line after\"><span class=\"ws\">        </span>the request by converting it into a response and invoking the</pre></div>\n</div>\n\n<li><div class=\"frame\" id=\"frame-140135917296216\">\n  <h4>File <cite class=\"filename\">\"/opt/conda/lib/python3.6/site-packages/flask/app.py\"</cite>,\n      line <em class=\"line\">1821</em>,\n      in <code class=\"function\">handle_user_exception</code></h4>\n  <div class=\"source library\"><pre class=\"line before\"><span class=\"ws\">            </span>return self.handle_http_exception(e)</pre>\n<pre class=\"line before\"><span class=\"ws\"></span> </pre>\n<pre class=\"line before\"><span class=\"ws\">        </span>handler = self._find_error_handler(e)</pre>\n<pre class=\"line before\"><span class=\"ws\"></span> </pre>\n<pre class=\"line before\"><span class=\"ws\">        </span>if handler is None:</pre>\n<pre class=\"line current\"><span class=\"ws\">            </span>reraise(exc_type, exc_value, tb)</pre>\n<pre class=\"line after\"><span class=\"ws\">        </span>return handler(e)</pre>\n<pre class=\"line after\"><span class=\"ws\"></span> </pre>\n<pre class=\"line after\"><span class=\"ws\">    </span>def handle_exception(self, e):</pre>\n<pre class=\"line after\"><span class=\"ws\">        </span>&quot;&quot;&quot;Handle an exception that did not have an error handler</pre>\n<pre class=\"line after\"><span class=\"ws\">        </span>associated with it, or that was raised from an error handler.</pre></div>\n</div>\n\n<li><div class=\"frame\" id=\"frame-140135917296552\">\n  <h4>File <cite class=\"filename\">\"/opt/conda/lib/python3.6/site-packages/flask/_compat.py\"</cite>,\n      line <em class=\"line\">39</em>,\n      in <code class=\"function\">reraise</code></h4>\n  <div class=\"source library\"><pre class=\"line before\"><span class=\"ws\">    </span>import collections.abc as collections_abc</pre>\n<pre class=\"line before\"><span class=\"ws\"></span> </pre>\n<pre class=\"line before\"><span class=\"ws\">    </span>def reraise(tp, value, tb=None):</pre>\n<pre class=\"line before\"><span class=\"ws\">        </span>if value.__traceback__ is not tb:</pre>\n<pre class=\"line before\"><span class=\"ws\">            </span>raise value.with_traceback(tb)</pre>\n<pre class=\"line current\"><span class=\"ws\">        </span>raise value</pre>\n<pre class=\"line after\"><span class=\"ws\"></span> </pre>\n<pre class=\"line after\"><span class=\"ws\">    </span>implements_to_string = _identity</pre>\n<pre class=\"line after\"><span class=\"ws\"></span> </pre>\n<pre class=\"line after\"><span class=\"ws\"></span>else:</pre>\n<pre class=\"line after\"><span class=\"ws\">    </span>iterkeys = lambda d: d.iterkeys()</pre></div>\n</div>\n\n<li><div class=\"frame\" id=\"frame-140135917297224\">\n  <h4>File <cite class=\"filename\">\"/opt/conda/lib/python3.6/site-packages/flask/app.py\"</cite>,\n      line <em class=\"line\">1950</em>,\n      in <code class=\"function\">full_dispatch_request</code></h4>\n  <div class=\"source library\"><pre class=\"line before\"><span class=\"ws\">        </span>self.try_trigger_before_first_request_functions()</pre>\n<pre class=\"line before\"><span class=\"ws\">        </span>try:</pre>\n<pre class=\"line before\"><span class=\"ws\">            </span>request_started.send(self)</pre>\n<pre class=\"line before\"><span class=\"ws\">            </span>rv = self.preprocess_request()</pre>\n<pre class=\"line before\"><span class=\"ws\">            </span>if rv is None:</pre>\n<pre class=\"line current\"><span class=\"ws\">                </span>rv = self.dispatch_request()</pre>\n<pre class=\"line after\"><span class=\"ws\">        </span>except Exception as e:</pre>\n<pre class=\"line after\"><span class=\"ws\">            </span>rv = self.handle_user_exception(e)</pre>\n<pre class=\"line after\"><span class=\"ws\">        </span>return self.finalize_request(rv)</pre>\n<pre class=\"line after\"><span class=\"ws\"></span> </pre>\n<pre class=\"line after\"><span class=\"ws\">    </span>def finalize_request(self, rv, from_error_handler=False):</pre></div>\n</div>\n\n<li><div class=\"frame\" id=\"frame-140135917297280\">\n  <h4>File <cite class=\"filename\">\"/opt/conda/lib/python3.6/site-packages/flask/app.py\"</cite>,\n      line <em class=\"line\">1936</em>,\n      in <code class=\"function\">dispatch_request</code></h4>\n  <div class=\"source library\"><pre class=\"line before\"><span class=\"ws\">            </span>getattr(rule, &quot;provide_automatic_options&quot;, False)</pre>\n<pre class=\"line before\"><span class=\"ws\">            </span>and req.method == &quot;OPTIONS&quot;</pre>\n<pre class=\"line before\"><span class=\"ws\">        </span>):</pre>\n<pre class=\"line before\"><span class=\"ws\">            </span>return self.make_default_options_response()</pre>\n<pre class=\"line before\"><span class=\"ws\">        </span># otherwise dispatch to the handler for that endpoint</pre>\n<pre class=\"line current\"><span class=\"ws\">        </span>return self.view_functions[rule.endpoint](**req.view_args)</pre>\n<pre class=\"line after\"><span class=\"ws\"></span> </pre>\n<pre class=\"line after\"><span class=\"ws\">    </span>def full_dispatch_request(self):</pre>\n<pre class=\"line after\"><span class=\"ws\">        </span>&quot;&quot;&quot;Dispatches the request and on top of that performs request</pre>\n<pre class=\"line after\"><span class=\"ws\">        </span>pre and postprocessing as well as HTTP exception catching and</pre>\n<pre class=\"line after\"><span class=\"ws\">        </span>error handling.</pre></div>\n</div>\n\n<li><div class=\"frame\" id=\"frame-140135917297616\">\n  <h4>File <cite class=\"filename\">\"/serve\"</cite>,\n      line <em class=\"line\">91</em>,\n      in <code class=\"function\">predict</code></h4>\n  <div class=\"source \"><pre class=\"line before\"><span class=\"ws\">    </span>tmpFile = open(path, 'wb')</pre>\n<pre class=\"line before\"><span class=\"ws\">    </span>tmpFile.write(data)</pre>\n<pre class=\"line before\"><span class=\"ws\">    </span>tmpFile.close()</pre>\n<pre class=\"line before\"><span class=\"ws\"></span> </pre>\n<pre class=\"line before\"><span class=\"ws\">    </span># Loading data</pre>\n<pre class=\"line current\"><span class=\"ws\">    </span>mel_spec = get_melspec(path)</pre>\n<pre class=\"line after\"><span class=\"ws\">    </span>mel_concat = np.stack((mel_spec, mel_spec, mel_spec))/255</pre>\n<pre class=\"line after\"><span class=\"ws\"></span> </pre>\n<pre class=\"line after\"><span class=\"ws\">    </span># Reshape data to tensor</pre>\n<pre class=\"line after\"><span class=\"ws\">    </span>img_test = np.reshape(mel_concat, (1, mel_concat.shape[0], mel_concat.shape[1], mel_concat.shape[2]))</pre>\n<pre class=\"line after\"><span class=\"ws\">    </span>wav = torch.tensor(img_test)</pre></div>\n</div>\n\n<li><div class=\"frame\" id=\"frame-140135917297112\">\n  <h4>File <cite class=\"filename\">\"/serve\"</cite>,\n      line <em class=\"line\">38</em>,\n      in <code class=\"function\">get_melspec</code></h4>\n  <div class=\"source \"><pre class=\"line before\"><span class=\"ws\"></span>def run_predict_server():</pre>\n<pre class=\"line before\"><span class=\"ws\">    </span>app.run(host='0.0.0.0', port=8080, debug=True)</pre>\n<pre class=\"line before\"><span class=\"ws\"></span> </pre>\n<pre class=\"line before\"><span class=\"ws\"></span># è£½ä½é »è­å</pre>\n<pre class=\"line before\"><span class=\"ws\"></span>def get_melspec(file_name):</pre>\n<pre class=\"line current\"><span class=\"ws\">    </span>y, sr = librosa.load(file_name, sr = 8000)</pre>\n<pre class=\"line after\"><span class=\"ws\">    </span>if len(y)&lt;sr*5:</pre>\n<pre class=\"line after\"><span class=\"ws\">        </span>print(prefix,file_name)</pre>\n<pre class=\"line after\"><span class=\"ws\">        </span>l = sr*5-len(y)</pre>\n<pre class=\"line after\"><span class=\"ws\">        </span>y = np.hstack([y,np.zeros(l)])</pre>\n<pre class=\"line after\"><span class=\"ws\">    </span>mel_spec = librosa.power_to_db(librosa.feature.melspectrogram(y, sr=sr, n_mels=128, n_fft=1024, hop_length=256))</pre></div>\n</div>\n\n<li><div class=\"frame\" id=\"frame-140135917296664\">\n  <h4>File <cite class=\"filename\">\"/opt/conda/lib/python3.6/site-packages/librosa/core/audio.py\"</cite>,\n      line <em class=\"line\">112</em>,\n      in <code class=\"function\">load</code></h4>\n  <div class=\"source library\"><pre class=\"line before\"><span class=\"ws\">    </span>22050</pre>\n<pre class=\"line before\"><span class=\"ws\"></span> </pre>\n<pre class=\"line before\"><span class=\"ws\">    </span>&quot;&quot;&quot;</pre>\n<pre class=\"line before\"><span class=\"ws\"></span> </pre>\n<pre class=\"line before\"><span class=\"ws\">    </span>y = []</pre>\n<pre class=\"line current\"><span class=\"ws\">    </span>with audioread.audio_open(os.path.realpath(path)) as input_file:</pre>\n<pre class=\"line after\"><span class=\"ws\">        </span>sr_native = input_file.samplerate</pre>\n<pre class=\"line after\"><span class=\"ws\">        </span>n_channels = input_file.channels</pre>\n<pre class=\"line after\"><span class=\"ws\"></span> </pre>\n<pre class=\"line after\"><span class=\"ws\">        </span>s_start = int(np.round(sr_native * offset)) * n_channels</pre>\n<pre class=\"line after\"><span class=\"ws\"></span> </pre></div>\n</div>\n\n<li><div class=\"frame\" id=\"frame-140135917297000\">\n  <h4>File <cite class=\"filename\">\"/opt/conda/lib/python3.6/site-packages/audioread/__init__.py\"</cite>,\n      line <em class=\"line\">116</em>,\n      in <code class=\"function\">audio_open</code></h4>\n  <div class=\"source library\"><pre class=\"line before\"><span class=\"ws\">            </span>return BackendClass(path)</pre>\n<pre class=\"line before\"><span class=\"ws\">        </span>except DecodeError:</pre>\n<pre class=\"line before\"><span class=\"ws\">            </span>pass</pre>\n<pre class=\"line before\"><span class=\"ws\"></span> </pre>\n<pre class=\"line before\"><span class=\"ws\">    </span># All backends failed!</pre>\n<pre class=\"line current\"><span class=\"ws\">    </span>raise NoBackendError()</pre></div>\n</div>\n</ul>\n  <blockquote>audioread.exceptions.NoBackendError</blockquote>\n</div>\n\n<div class=\"plain\">\n  <form action=\"/?__debugger__=yes&amp;cmd=paste\" method=\"post\">\n    <p>\n      <input type=\"hidden\" name=\"language\" value=\"pytb\">\n      This is the Copy/Paste friendly version of the traceback.  <span\n      class=\"pastemessage\">You can also paste this traceback into\n      a <a href=\"https://gist.github.com/\">gist</a>:\n      <input type=\"submit\" value=\"create paste\"></span>\n    </p>\n    <textarea cols=\"50\" rows=\"10\" name=\"code\" readonly>Traceback (most recent call last):\n  File &quot;/opt/conda/lib/python3.6/site-packages/flask/app.py&quot;, line 2464, in __call__\n    return self.wsgi_app(environ, start_response)\n  File &quot;/opt/conda/lib/python3.6/site-packages/flask/app.py&quot;, line 2450, in wsgi_app\n    response = self.handle_exception(e)\n  File &quot;/opt/conda/lib/python3.6/site-packages/flask/app.py&quot;, line 1867, in handle_exception\n    reraise(exc_type, exc_value, tb)\n  File &quot;/opt/conda/lib/python3.6/site-packages/flask/_compat.py&quot;, line 39, in reraise\n    raise value\n  File &quot;/opt/conda/lib/python3.6/site-packages/flask/app.py&quot;, line 2447, in wsgi_app\n    response = self.full_dispatch_request()\n  File &quot;/opt/conda/lib/python3.6/site-packages/flask/app.py&quot;, line 1952, in full_dispatch_request\n    rv = self.handle_user_exception(e)\n  File &quot;/opt/conda/lib/python3.6/site-packages/flask/app.py&quot;, line 1821, in handle_user_exception\n    reraise(exc_type, exc_value, tb)\n  File &quot;/opt/conda/lib/python3.6/site-packages/flask/_compat.py&quot;, line 39, in reraise\n    raise value\n  File &quot;/opt/conda/lib/python3.6/site-packages/flask/app.py&quot;, line 1950, in full_dispatch_request\n    rv = self.dispatch_request()\n  File &quot;/opt/conda/lib/python3.6/site-packages/flask/app.py&quot;, line 1936, in dispatch_request\n    return self.view_functions[rule.endpoint](**req.view_args)\n  File &quot;/serve&quot;, line 91, in predict\n    mel_spec = get_melspec(path)\n  File &quot;/serve&quot;, line 38, in get_melspec\n    y, sr = librosa.load(file_name, sr = 8000)\n  File &quot;/opt/conda/lib/python3.6/site-packages/librosa/core/audio.py&quot;, line 112, in load\n    with audioread.audio_open(os.path.realpath(path)) as input_file:\n  File &quot;/opt/conda/lib/python3.6/site-packages/audioread/__init__.py&quot;, line 116, in audio_open\n    raise NoBackendError()\naudioread.exceptions.NoBackendError</textarea>\n  </form>\n</div>\n<div class=\"explanation\">\n  The debugger caught an exception in your WSGI application.  You can now\n  look at the traceback which led to the error.  <span class=\"nojavascript\">\n  If you enable JavaScript you can also use additional features such as code\n  execution (if the evalex feature is enabled), automatic pasting of the\n  exceptions and much more.</span>\n</div>\n      <div class=\"footer\">\n        Brought to you by <strong class=\"arthur\">DON'T PANIC</strong>, your\n        friendly Werkzeug powered traceback interpreter.\n      </div>\n    </div>\n\n    <div class=\"pin-prompt\">\n      <div class=\"inner\">\n        <h3>Console Locked</h3>\n        <p>\n          The console is locked and needs to be unlocked by entering the PIN.\n          You can find the PIN printed out on the standard output of your\n          shell that runs the server.\n        <form>\n          <p>PIN:\n            <input type=text name=pin size=14>\n            <input type=submit name=btn value=\"Confirm Pin\">\n        </form>\n      </div>\n    </div>\n  </body>\n</html>\n\n<!--\n\nTraceback (most recent call last):\n  File \"/opt/conda/lib/python3.6/site-packages/flask/app.py\", line 2464, in __call__\n    return self.wsgi_app(environ, start_response)\n  File \"/opt/conda/lib/python3.6/site-packages/flask/app.py\", line 2450, in wsgi_app\n    response = self.handle_exception(e)\n  File \"/opt/conda/lib/python3.6/site-packages/flask/app.py\", line 1867, in handle_exception\n    reraise(exc_type, exc_value, tb)\n  File \"/opt/conda/lib/python3.6/site-packages/flask/_compat.py\", line 39, in reraise\n    raise value\n  File \"/opt/conda/lib/python3.6/site-packages/flask/app.py\", line 2447, in wsgi_app\n    response = self.full_dispatch_request()\n  File \"/opt/conda/lib/python3.6/site-packages/flask/app.py\", line 1952, in full_dispatch_request\n    rv = self.handle_user_exception(e)\n  File \"/opt/conda/lib/python3.6/site-packages/flask/app.py\", line 1821, in handle_user_exception\n    reraise(exc_type, exc_value, tb)\n  File \"/opt/conda/lib/python3.6/site-packages/flask/_compat.py\", line 39, in reraise\n    raise value\n  File \"/opt/conda/lib/python3.6/site-packages/flask/app.py\", line 1950, in full_dispatch_request\n    rv = self.dispatch_request()\n  File \"/opt/conda/lib/python3.6/site-packages/flask/app.py\", line 1936, in dispatch_request\n    return self.view_functions[rule.endpoint](**req.view_args)\n  File \"/serve\", line 91, in predict\n    mel_spec = get_melspec(path)\n  File \"/serve\", line 38, in get_melspec\n    y, sr = librosa.load(file_name, sr = 8000)\n  File \"/opt/conda/lib/python3.6/site-packages/librosa/core/audio.py\", line 112, in load\n    with audioread.audio_open(os.path.realpath(path)) as input_file:\n  File \"/opt/conda/lib/python3.6/site-packages/audioread/__init__.py\", line 116, in audio_open\n    raise NoBackendError()\naudioread.exceptions.NoBackendError\n\n-->\n\". See https://us-west-2.console.aws.amazon.com/cloudwatch/home?region=us-west-2#logEventViewer:group=/aws/sagemaker/Endpoints/audio-20210716 in account 355444812467 for more information."
     ]
    }
   ],
   "source": [
    "object_detector.predict('./Final_Training_Dataset/train/train_01500.wav')"
   ]
  },
  {
   "cell_type": "code",
   "execution_count": 113,
   "id": "caa3527a",
   "metadata": {
    "collapsed": true
   },
   "outputs": [
    {
     "ename": "ModelError",
     "evalue": "An error occurred (ModelError) when calling the InvokeEndpoint operation: Received server error (500) from model with message \"<!DOCTYPE HTML PUBLIC \"-//W3C//DTD HTML 4.01 Transitional//EN\"\n  \"http://www.w3.org/TR/html4/loose.dtd\">\n<html>\n  <head>\n    <title>audioread.exceptions.NoBackendError // Werkzeug Debugger</title>\n    <link rel=\"stylesheet\" href=\"?__debugger__=yes&amp;cmd=resource&amp;f=style.css\"\n        type=\"text/css\">\n    <!-- We need to make sure this has a favicon so that the debugger does\n         not by accident trigger a request to /favicon.ico which might\n         change the application state. -->\n    <link rel=\"shortcut icon\"\n        href=\"?__debugger__=yes&amp;cmd=resource&amp;f=console.png\">\n    <script src=\"?__debugger__=yes&amp;cmd=resource&amp;f=jquery.js\"></script>\n    <script src=\"?__debugger__=yes&amp;cmd=resource&amp;f=debugger.js\"></script>\n    <script type=\"text/javascript\">\n      var TRACEBACK = 140135917224120,\n          CONSOLE_MODE = false,\n          EVALEX = true,\n          EVALEX_TRUSTED = false,\n          SECRET = \"sa0gTLco13HlPJLODeq5\";\n    </script>\n  </head>\n  <body style=\"background-color: #fff\">\n    <div class=\"debugger\">\n<h1>audioread.exceptions.NoBackendError</h1>\n<div class=\"detail\">\n  <p class=\"errormsg\">audioread.exceptions.NoBackendError</p>\n</div>\n<h2 class=\"traceback\">Traceback <em>(most recent call last)</em></h2>\n<div class=\"traceback\">\n  \n  <ul><li><div class=\"frame\" id=\"frame-140135917224176\">\n  <h4>File <cite class=\"filename\">\"/opt/conda/lib/python3.6/site-packages/flask/app.py\"</cite>,\n      line <em class=\"line\">2464</em>,\n      in <code class=\"function\">__call__</code></h4>\n  <div class=\"source library\"><pre class=\"line before\"><span class=\"ws\"></span> </pre>\n<pre class=\"line before\"><span class=\"ws\">    </span>def __call__(self, environ, start_response):</pre>\n<pre class=\"line before\"><span class=\"ws\">        </span>&quot;&quot;&quot;The WSGI server calls the Flask application object as the</pre>\n<pre class=\"line before\"><span class=\"ws\">        </span>WSGI application. This calls :meth:`wsgi_app` which can be</pre>\n<pre class=\"line before\"><span class=\"ws\">        </span>wrapped to applying middleware.&quot;&quot;&quot;</pre>\n<pre class=\"line current\"><span class=\"ws\">        </span>return self.wsgi_app(environ, start_response)</pre>\n<pre class=\"line after\"><span class=\"ws\"></span> </pre>\n<pre class=\"line after\"><span class=\"ws\">    </span>def __repr__(self):</pre>\n<pre class=\"line after\"><span class=\"ws\">        </span>return &quot;&lt;%s %r&gt;&quot; % (self.__class__.__name__, self.name)</pre></div>\n</div>\n\n<li><div class=\"frame\" id=\"frame-140135917224008\">\n  <h4>File <cite class=\"filename\">\"/opt/conda/lib/python3.6/site-packages/flask/app.py\"</cite>,\n      line <em class=\"line\">2450</em>,\n      in <code class=\"function\">wsgi_app</code></h4>\n  <div class=\"source library\"><pre class=\"line before\"><span class=\"ws\">            </span>try:</pre>\n<pre class=\"line before\"><span class=\"ws\">                </span>ctx.push()</pre>\n<pre class=\"line before\"><span class=\"ws\">                </span>response = self.full_dispatch_request()</pre>\n<pre class=\"line before\"><span class=\"ws\">            </span>except Exception as e:</pre>\n<pre class=\"line before\"><span class=\"ws\">                </span>error = e</pre>\n<pre class=\"line current\"><span class=\"ws\">                </span>response = self.handle_exception(e)</pre>\n<pre class=\"line after\"><span class=\"ws\">            </span>except:  # noqa: B001</pre>\n<pre class=\"line after\"><span class=\"ws\">                </span>error = sys.exc_info()[1]</pre>\n<pre class=\"line after\"><span class=\"ws\">                </span>raise</pre>\n<pre class=\"line after\"><span class=\"ws\">            </span>return response(environ, start_response)</pre>\n<pre class=\"line after\"><span class=\"ws\">        </span>finally:</pre></div>\n</div>\n\n<li><div class=\"frame\" id=\"frame-140135917296888\">\n  <h4>File <cite class=\"filename\">\"/opt/conda/lib/python3.6/site-packages/flask/app.py\"</cite>,\n      line <em class=\"line\">1867</em>,\n      in <code class=\"function\">handle_exception</code></h4>\n  <div class=\"source library\"><pre class=\"line before\"><span class=\"ws\">            </span># if we want to repropagate the exception, we can attempt to</pre>\n<pre class=\"line before\"><span class=\"ws\">            </span># raise it with the whole traceback in case we can do that</pre>\n<pre class=\"line before\"><span class=\"ws\">            </span># (the function was actually called from the except part)</pre>\n<pre class=\"line before\"><span class=\"ws\">            </span># otherwise, we just raise the error again</pre>\n<pre class=\"line before\"><span class=\"ws\">            </span>if exc_value is e:</pre>\n<pre class=\"line current\"><span class=\"ws\">                </span>reraise(exc_type, exc_value, tb)</pre>\n<pre class=\"line after\"><span class=\"ws\">            </span>else:</pre>\n<pre class=\"line after\"><span class=\"ws\">                </span>raise e</pre>\n<pre class=\"line after\"><span class=\"ws\"></span> </pre>\n<pre class=\"line after\"><span class=\"ws\">        </span>self.log_exception((exc_type, exc_value, tb))</pre>\n<pre class=\"line after\"><span class=\"ws\">        </span>server_error = InternalServerError()</pre></div>\n</div>\n\n<li><div class=\"frame\" id=\"frame-140135917297448\">\n  <h4>File <cite class=\"filename\">\"/opt/conda/lib/python3.6/site-packages/flask/_compat.py\"</cite>,\n      line <em class=\"line\">39</em>,\n      in <code class=\"function\">reraise</code></h4>\n  <div class=\"source library\"><pre class=\"line before\"><span class=\"ws\">    </span>import collections.abc as collections_abc</pre>\n<pre class=\"line before\"><span class=\"ws\"></span> </pre>\n<pre class=\"line before\"><span class=\"ws\">    </span>def reraise(tp, value, tb=None):</pre>\n<pre class=\"line before\"><span class=\"ws\">        </span>if value.__traceback__ is not tb:</pre>\n<pre class=\"line before\"><span class=\"ws\">            </span>raise value.with_traceback(tb)</pre>\n<pre class=\"line current\"><span class=\"ws\">        </span>raise value</pre>\n<pre class=\"line after\"><span class=\"ws\"></span> </pre>\n<pre class=\"line after\"><span class=\"ws\">    </span>implements_to_string = _identity</pre>\n<pre class=\"line after\"><span class=\"ws\"></span> </pre>\n<pre class=\"line after\"><span class=\"ws\"></span>else:</pre>\n<pre class=\"line after\"><span class=\"ws\">    </span>iterkeys = lambda d: d.iterkeys()</pre></div>\n</div>\n\n<li><div class=\"frame\" id=\"frame-140135917297056\">\n  <h4>File <cite class=\"filename\">\"/opt/conda/lib/python3.6/site-packages/flask/app.py\"</cite>,\n      line <em class=\"line\">2447</em>,\n      in <code class=\"function\">wsgi_app</code></h4>\n  <div class=\"source library\"><pre class=\"line before\"><span class=\"ws\">        </span>ctx = self.request_context(environ)</pre>\n<pre class=\"line before\"><span class=\"ws\">        </span>error = None</pre>\n<pre class=\"line before\"><span class=\"ws\">        </span>try:</pre>\n<pre class=\"line before\"><span class=\"ws\">            </span>try:</pre>\n<pre class=\"line before\"><span class=\"ws\">                </span>ctx.push()</pre>\n<pre class=\"line current\"><span class=\"ws\">                </span>response = self.full_dispatch_request()</pre>\n<pre class=\"line after\"><span class=\"ws\">            </span>except Exception as e:</pre>\n<pre class=\"line after\"><span class=\"ws\">                </span>error = e</pre>\n<pre class=\"line after\"><span class=\"ws\">                </span>response = self.handle_exception(e)</pre>\n<pre class=\"line after\"><span class=\"ws\">            </span>except:  # noqa: B001</pre>\n<pre class=\"line after\"><span class=\"ws\">                </span>error = sys.exc_info()[1]</pre></div>\n</div>\n\n<li><div class=\"frame\" id=\"frame-140135917297392\">\n  <h4>File <cite class=\"filename\">\"/opt/conda/lib/python3.6/site-packages/flask/app.py\"</cite>,\n      line <em class=\"line\">1952</em>,\n      in <code class=\"function\">full_dispatch_request</code></h4>\n  <div class=\"source library\"><pre class=\"line before\"><span class=\"ws\">            </span>request_started.send(self)</pre>\n<pre class=\"line before\"><span class=\"ws\">            </span>rv = self.preprocess_request()</pre>\n<pre class=\"line before\"><span class=\"ws\">            </span>if rv is None:</pre>\n<pre class=\"line before\"><span class=\"ws\">                </span>rv = self.dispatch_request()</pre>\n<pre class=\"line before\"><span class=\"ws\">        </span>except Exception as e:</pre>\n<pre class=\"line current\"><span class=\"ws\">            </span>rv = self.handle_user_exception(e)</pre>\n<pre class=\"line after\"><span class=\"ws\">        </span>return self.finalize_request(rv)</pre>\n<pre class=\"line after\"><span class=\"ws\"></span> </pre>\n<pre class=\"line after\"><span class=\"ws\">    </span>def finalize_request(self, rv, from_error_handler=False):</pre>\n<pre class=\"line after\"><span class=\"ws\">        </span>&quot;&quot;&quot;Given the return value from a view function this finalizes</pre>\n<pre class=\"line after\"><span class=\"ws\">        </span>the request by converting it into a response and invoking the</pre></div>\n</div>\n\n<li><div class=\"frame\" id=\"frame-140135917297336\">\n  <h4>File <cite class=\"filename\">\"/opt/conda/lib/python3.6/site-packages/flask/app.py\"</cite>,\n      line <em class=\"line\">1821</em>,\n      in <code class=\"function\">handle_user_exception</code></h4>\n  <div class=\"source library\"><pre class=\"line before\"><span class=\"ws\">            </span>return self.handle_http_exception(e)</pre>\n<pre class=\"line before\"><span class=\"ws\"></span> </pre>\n<pre class=\"line before\"><span class=\"ws\">        </span>handler = self._find_error_handler(e)</pre>\n<pre class=\"line before\"><span class=\"ws\"></span> </pre>\n<pre class=\"line before\"><span class=\"ws\">        </span>if handler is None:</pre>\n<pre class=\"line current\"><span class=\"ws\">            </span>reraise(exc_type, exc_value, tb)</pre>\n<pre class=\"line after\"><span class=\"ws\">        </span>return handler(e)</pre>\n<pre class=\"line after\"><span class=\"ws\"></span> </pre>\n<pre class=\"line after\"><span class=\"ws\">    </span>def handle_exception(self, e):</pre>\n<pre class=\"line after\"><span class=\"ws\">        </span>&quot;&quot;&quot;Handle an exception that did not have an error handler</pre>\n<pre class=\"line after\"><span class=\"ws\">        </span>associated with it, or that was raised from an error handler.</pre></div>\n</div>\n\n<li><div class=\"frame\" id=\"frame-140135917292624\">\n  <h4>File <cite class=\"filename\">\"/opt/conda/lib/python3.6/site-packages/flask/_compat.py\"</cite>,\n      line <em class=\"line\">39</em>,\n      in <code class=\"function\">reraise</code></h4>\n  <div class=\"source library\"><pre class=\"line before\"><span class=\"ws\">    </span>import collections.abc as collections_abc</pre>\n<pre class=\"line before\"><span class=\"ws\"></span> </pre>\n<pre class=\"line before\"><span class=\"ws\">    </span>def reraise(tp, value, tb=None):</pre>\n<pre class=\"line before\"><span class=\"ws\">        </span>if value.__traceback__ is not tb:</pre>\n<pre class=\"line before\"><span class=\"ws\">            </span>raise value.with_traceback(tb)</pre>\n<pre class=\"line current\"><span class=\"ws\">        </span>raise value</pre>\n<pre class=\"line after\"><span class=\"ws\"></span> </pre>\n<pre class=\"line after\"><span class=\"ws\">    </span>implements_to_string = _identity</pre>\n<pre class=\"line after\"><span class=\"ws\"></span> </pre>\n<pre class=\"line after\"><span class=\"ws\"></span>else:</pre>\n<pre class=\"line after\"><span class=\"ws\">    </span>iterkeys = lambda d: d.iterkeys()</pre></div>\n</div>\n\n<li><div class=\"frame\" id=\"frame-140135917292064\">\n  <h4>File <cite class=\"filename\">\"/opt/conda/lib/python3.6/site-packages/flask/app.py\"</cite>,\n      line <em class=\"line\">1950</em>,\n      in <code class=\"function\">full_dispatch_request</code></h4>\n  <div class=\"source library\"><pre class=\"line before\"><span class=\"ws\">        </span>self.try_trigger_before_first_request_functions()</pre>\n<pre class=\"line before\"><span class=\"ws\">        </span>try:</pre>\n<pre class=\"line before\"><span class=\"ws\">            </span>request_started.send(self)</pre>\n<pre class=\"line before\"><span class=\"ws\">            </span>rv = self.preprocess_request()</pre>\n<pre class=\"line before\"><span class=\"ws\">            </span>if rv is None:</pre>\n<pre class=\"line current\"><span class=\"ws\">                </span>rv = self.dispatch_request()</pre>\n<pre class=\"line after\"><span class=\"ws\">        </span>except Exception as e:</pre>\n<pre class=\"line after\"><span class=\"ws\">            </span>rv = self.handle_user_exception(e)</pre>\n<pre class=\"line after\"><span class=\"ws\">        </span>return self.finalize_request(rv)</pre>\n<pre class=\"line after\"><span class=\"ws\"></span> </pre>\n<pre class=\"line after\"><span class=\"ws\">    </span>def finalize_request(self, rv, from_error_handler=False):</pre></div>\n</div>\n\n<li><div class=\"frame\" id=\"frame-140135917292512\">\n  <h4>File <cite class=\"filename\">\"/opt/conda/lib/python3.6/site-packages/flask/app.py\"</cite>,\n      line <em class=\"line\">1936</em>,\n      in <code class=\"function\">dispatch_request</code></h4>\n  <div class=\"source library\"><pre class=\"line before\"><span class=\"ws\">            </span>getattr(rule, &quot;provide_automatic_options&quot;, False)</pre>\n<pre class=\"line before\"><span class=\"ws\">            </span>and req.method == &quot;OPTIONS&quot;</pre>\n<pre class=\"line before\"><span class=\"ws\">        </span>):</pre>\n<pre class=\"line before\"><span class=\"ws\">            </span>return self.make_default_options_response()</pre>\n<pre class=\"line before\"><span class=\"ws\">        </span># otherwise dispatch to the handler for that endpoint</pre>\n<pre class=\"line current\"><span class=\"ws\">        </span>return self.view_functions[rule.endpoint](**req.view_args)</pre>\n<pre class=\"line after\"><span class=\"ws\"></span> </pre>\n<pre class=\"line after\"><span class=\"ws\">    </span>def full_dispatch_request(self):</pre>\n<pre class=\"line after\"><span class=\"ws\">        </span>&quot;&quot;&quot;Dispatches the request and on top of that performs request</pre>\n<pre class=\"line after\"><span class=\"ws\">        </span>pre and postprocessing as well as HTTP exception catching and</pre>\n<pre class=\"line after\"><span class=\"ws\">        </span>error handling.</pre></div>\n</div>\n\n<li><div class=\"frame\" id=\"frame-140135917293016\">\n  <h4>File <cite class=\"filename\">\"/serve\"</cite>,\n      line <em class=\"line\">91</em>,\n      in <code class=\"function\">predict</code></h4>\n  <div class=\"source \"><pre class=\"line before\"><span class=\"ws\">    </span>tmpFile = open(path, 'wb')</pre>\n<pre class=\"line before\"><span class=\"ws\">    </span>tmpFile.write(data)</pre>\n<pre class=\"line before\"><span class=\"ws\">    </span>tmpFile.close()</pre>\n<pre class=\"line before\"><span class=\"ws\"></span> </pre>\n<pre class=\"line before\"><span class=\"ws\">    </span># Loading data</pre>\n<pre class=\"line current\"><span class=\"ws\">    </span>mel_spec = get_melspec(path)</pre>\n<pre class=\"line after\"><span class=\"ws\">    </span>mel_concat = np.stack((mel_spec, mel_spec, mel_spec))/255</pre>\n<pre class=\"line after\"><span class=\"ws\"></span> </pre>\n<pre class=\"line after\"><span class=\"ws\">    </span># Reshape data to tensor</pre>\n<pre class=\"line after\"><span class=\"ws\">    </span>img_test = np.reshape(mel_concat, (1, mel_concat.shape[0], mel_concat.shape[1], mel_concat.shape[2]))</pre>\n<pre class=\"line after\"><span class=\"ws\">    </span>wav = torch.tensor(img_test)</pre></div>\n</div>\n\n<li><div class=\"frame\" id=\"frame-140135917293352\">\n  <h4>File <cite class=\"filename\">\"/serve\"</cite>,\n      line <em class=\"line\">38</em>,\n      in <code class=\"function\">get_melspec</code></h4>\n  <div class=\"source \"><pre class=\"line before\"><span class=\"ws\"></span>def run_predict_server():</pre>\n<pre class=\"line before\"><span class=\"ws\">    </span>app.run(host='0.0.0.0', port=8080, debug=True)</pre>\n<pre class=\"line before\"><span class=\"ws\"></span> </pre>\n<pre class=\"line before\"><span class=\"ws\"></span># è£½ä½é »è­å</pre>\n<pre class=\"line before\"><span class=\"ws\"></span>def get_melspec(file_name):</pre>\n<pre class=\"line current\"><span class=\"ws\">    </span>y, sr = librosa.load(file_name, sr = 8000)</pre>\n<pre class=\"line after\"><span class=\"ws\">    </span>if len(y)&lt;sr*5:</pre>\n<pre class=\"line after\"><span class=\"ws\">        </span>print(prefix,file_name)</pre>\n<pre class=\"line after\"><span class=\"ws\">        </span>l = sr*5-len(y)</pre>\n<pre class=\"line after\"><span class=\"ws\">        </span>y = np.hstack([y,np.zeros(l)])</pre>\n<pre class=\"line after\"><span class=\"ws\">    </span>mel_spec = librosa.power_to_db(librosa.feature.melspectrogram(y, sr=sr, n_mels=128, n_fft=1024, hop_length=256))</pre></div>\n</div>\n\n<li><div class=\"frame\" id=\"frame-140135917291224\">\n  <h4>File <cite class=\"filename\">\"/opt/conda/lib/python3.6/site-packages/librosa/core/audio.py\"</cite>,\n      line <em class=\"line\">112</em>,\n      in <code class=\"function\">load</code></h4>\n  <div class=\"source library\"><pre class=\"line before\"><span class=\"ws\">    </span>22050</pre>\n<pre class=\"line before\"><span class=\"ws\"></span> </pre>\n<pre class=\"line before\"><span class=\"ws\">    </span>&quot;&quot;&quot;</pre>\n<pre class=\"line before\"><span class=\"ws\"></span> </pre>\n<pre class=\"line before\"><span class=\"ws\">    </span>y = []</pre>\n<pre class=\"line current\"><span class=\"ws\">    </span>with audioread.audio_open(os.path.realpath(path)) as input_file:</pre>\n<pre class=\"line after\"><span class=\"ws\">        </span>sr_native = input_file.samplerate</pre>\n<pre class=\"line after\"><span class=\"ws\">        </span>n_channels = input_file.channels</pre>\n<pre class=\"line after\"><span class=\"ws\"></span> </pre>\n<pre class=\"line after\"><span class=\"ws\">        </span>s_start = int(np.round(sr_native * offset)) * n_channels</pre>\n<pre class=\"line after\"><span class=\"ws\"></span> </pre></div>\n</div>\n\n<li><div class=\"frame\" id=\"frame-140135917292232\">\n  <h4>File <cite class=\"filename\">\"/opt/conda/lib/python3.6/site-packages/audioread/__init__.py\"</cite>,\n      line <em class=\"line\">116</em>,\n      in <code class=\"function\">audio_open</code></h4>\n  <div class=\"source library\"><pre class=\"line before\"><span class=\"ws\">            </span>return BackendClass(path)</pre>\n<pre class=\"line before\"><span class=\"ws\">        </span>except DecodeError:</pre>\n<pre class=\"line before\"><span class=\"ws\">            </span>pass</pre>\n<pre class=\"line before\"><span class=\"ws\"></span> </pre>\n<pre class=\"line before\"><span class=\"ws\">    </span># All backends failed!</pre>\n<pre class=\"line current\"><span class=\"ws\">    </span>raise NoBackendError()</pre></div>\n</div>\n</ul>\n  <blockquote>audioread.exceptions.NoBackendError</blockquote>\n</div>\n\n<div class=\"plain\">\n  <form action=\"/?__debugger__=yes&amp;cmd=paste\" method=\"post\">\n    <p>\n      <input type=\"hidden\" name=\"language\" value=\"pytb\">\n      This is the Copy/Paste friendly version of the traceback.  <span\n      class=\"pastemessage\">You can also paste this traceback into\n      a <a href=\"https://gist.github.com/\">gist</a>:\n      <input type=\"submit\" value=\"create paste\"></span>\n    </p>\n    <textarea cols=\"50\" rows=\"10\" name=\"code\" readonly>Traceback (most recent call last):\n  File &quot;/opt/conda/lib/python3.6/site-packages/flask/app.py&quot;, line 2464, in __call__\n    return self.wsgi_app(environ, start_response)\n  File &quot;/opt/conda/lib/python3.6/site-packages/flask/app.py&quot;, line 2450, in wsgi_app\n    response = self.handle_exception(e)\n  File &quot;/opt/conda/lib/python3.6/site-packages/flask/app.py&quot;, line 1867, in handle_exception\n    reraise(exc_type, exc_value, tb)\n  File &quot;/opt/conda/lib/python3.6/site-packages/flask/_compat.py&quot;, line 39, in reraise\n    raise value\n  File &quot;/opt/conda/lib/python3.6/site-packages/flask/app.py&quot;, line 2447, in wsgi_app\n    response = self.full_dispatch_request()\n  File &quot;/opt/conda/lib/python3.6/site-packages/flask/app.py&quot;, line 1952, in full_dispatch_request\n    rv = self.handle_user_exception(e)\n  File &quot;/opt/conda/lib/python3.6/site-packages/flask/app.py&quot;, line 1821, in handle_user_exception\n    reraise(exc_type, exc_value, tb)\n  File &quot;/opt/conda/lib/python3.6/site-packages/flask/_compat.py&quot;, line 39, in reraise\n    raise value\n  File &quot;/opt/conda/lib/python3.6/site-packages/flask/app.py&quot;, line 1950, in full_dispatch_request\n    rv = self.dispatch_request()\n  File &quot;/opt/conda/lib/python3.6/site-packages/flask/app.py&quot;, line 1936, in dispatch_request\n    return self.view_functions[rule.endpoint](**req.view_args)\n  File &quot;/serve&quot;, line 91, in predict\n    mel_spec = get_melspec(path)\n  File &quot;/serve&quot;, line 38, in get_melspec\n    y, sr = librosa.load(file_name, sr = 8000)\n  File &quot;/opt/conda/lib/python3.6/site-packages/librosa/core/audio.py&quot;, line 112, in load\n    with audioread.audio_open(os.path.realpath(path)) as input_file:\n  File &quot;/opt/conda/lib/python3.6/site-packages/audioread/__init__.py&quot;, line 116, in audio_open\n    raise NoBackendError()\naudioread.exceptions.NoBackendError</textarea>\n  </form>\n</div>\n<div class=\"explanation\">\n  The debugger caught an exception in your WSGI application.  You can now\n  look at the traceback which led to the error.  <span class=\"nojavascript\">\n  If you enable JavaScript you can also use additional features such as code\n  execution (if the evalex feature is enabled), automatic pasting of the\n  exceptions and much more.</span>\n</div>\n      <div class=\"footer\">\n        Brought to you by <strong class=\"arthur\">DON'T PANIC</strong>, your\n        friendly Werkzeug powered traceback interpreter.\n      </div>\n    </div>\n\n    <div class=\"pin-prompt\">\n      <div class=\"inner\">\n        <h3>Console Locked</h3>\n        <p>\n          The console is locked and needs to be unlocked by entering the PIN.\n          You can find the PIN printed out on the standard output of your\n          shell that runs the server.\n        <form>\n          <p>PIN:\n            <input type=text name=pin size=14>\n            <input type=submit name=btn value=\"Confirm Pin\">\n        </form>\n      </div>\n    </div>\n  </body>\n</html>\n\n<!--\n\nTraceback (most recent call last):\n  File \"/opt/conda/lib/python3.6/site-packages/flask/app.py\", line 2464, in __call__\n    return self.wsgi_app(environ, start_response)\n  File \"/opt/conda/lib/python3.6/site-packages/flask/app.py\", line 2450, in wsgi_app\n    response = self.handle_exception(e)\n  File \"/opt/conda/lib/python3.6/site-packages/flask/app.py\", line 1867, in handle_exception\n    reraise(exc_type, exc_value, tb)\n  File \"/opt/conda/lib/python3.6/site-packages/flask/_compat.py\", line 39, in reraise\n    raise value\n  File \"/opt/conda/lib/python3.6/site-packages/flask/app.py\", line 2447, in wsgi_app\n    response = self.full_dispatch_request()\n  File \"/opt/conda/lib/python3.6/site-packages/flask/app.py\", line 1952, in full_dispatch_request\n    rv = self.handle_user_exception(e)\n  File \"/opt/conda/lib/python3.6/site-packages/flask/app.py\", line 1821, in handle_user_exception\n    reraise(exc_type, exc_value, tb)\n  File \"/opt/conda/lib/python3.6/site-packages/flask/_compat.py\", line 39, in reraise\n    raise value\n  File \"/opt/conda/lib/python3.6/site-packages/flask/app.py\", line 1950, in full_dispatch_request\n    rv = self.dispatch_request()\n  File \"/opt/conda/lib/python3.6/site-packages/flask/app.py\", line 1936, in dispatch_request\n    return self.view_functions[rule.endpoint](**req.view_args)\n  File \"/serve\", line 91, in predict\n    mel_spec = get_melspec(path)\n  File \"/serve\", line 38, in get_melspec\n    y, sr = librosa.load(file_name, sr = 8000)\n  File \"/opt/conda/lib/python3.6/site-packages/librosa/core/audio.py\", line 112, in load\n    with audioread.audio_open(os.path.realpath(path)) as input_file:\n  File \"/opt/conda/lib/python3.6/site-packages/audioread/__init__.py\", line 116, in audio_open\n    raise NoBackendError()\naudioread.exceptions.NoBackendError\n\n-->\n\". See https://us-west-2.console.aws.amazon.com/cloudwatch/home?region=us-west-2#logEventViewer:group=/aws/sagemaker/Endpoints/audio-20210716 in account 355444812467 for more information.",
     "output_type": "error",
     "traceback": [
      "\u001b[0;31m---------------------------------------------------------------------------\u001b[0m",
      "\u001b[0;31mModelError\u001b[0m                                Traceback (most recent call last)",
      "\u001b[0;32m<ipython-input-113-f3cb590b0670>\u001b[0m in \u001b[0;36m<module>\u001b[0;34m\u001b[0m\n\u001b[0;32m----> 1\u001b[0;31m \u001b[0mnew_detector\u001b[0m\u001b[0;34m.\u001b[0m\u001b[0mpredict\u001b[0m\u001b[0;34m(\u001b[0m\u001b[0;34m'./Final_Training_Dataset/train/train_01500.wav'\u001b[0m\u001b[0;34m)\u001b[0m\u001b[0;34m\u001b[0m\u001b[0;34m\u001b[0m\u001b[0m\n\u001b[0m",
      "\u001b[0;32m~/anaconda3/envs/pytorch_latest_p36/lib/python3.6/site-packages/sagemaker/predictor.py\u001b[0m in \u001b[0;36mpredict\u001b[0;34m(self, data, initial_args, target_model, target_variant, inference_id)\u001b[0m\n\u001b[1;32m    134\u001b[0m             \u001b[0mdata\u001b[0m\u001b[0;34m,\u001b[0m \u001b[0minitial_args\u001b[0m\u001b[0;34m,\u001b[0m \u001b[0mtarget_model\u001b[0m\u001b[0;34m,\u001b[0m \u001b[0mtarget_variant\u001b[0m\u001b[0;34m,\u001b[0m \u001b[0minference_id\u001b[0m\u001b[0;34m\u001b[0m\u001b[0;34m\u001b[0m\u001b[0m\n\u001b[1;32m    135\u001b[0m         )\n\u001b[0;32m--> 136\u001b[0;31m         \u001b[0mresponse\u001b[0m \u001b[0;34m=\u001b[0m \u001b[0mself\u001b[0m\u001b[0;34m.\u001b[0m\u001b[0msagemaker_session\u001b[0m\u001b[0;34m.\u001b[0m\u001b[0msagemaker_runtime_client\u001b[0m\u001b[0;34m.\u001b[0m\u001b[0minvoke_endpoint\u001b[0m\u001b[0;34m(\u001b[0m\u001b[0;34m**\u001b[0m\u001b[0mrequest_args\u001b[0m\u001b[0;34m)\u001b[0m\u001b[0;34m\u001b[0m\u001b[0;34m\u001b[0m\u001b[0m\n\u001b[0m\u001b[1;32m    137\u001b[0m         \u001b[0;32mreturn\u001b[0m \u001b[0mself\u001b[0m\u001b[0;34m.\u001b[0m\u001b[0m_handle_response\u001b[0m\u001b[0;34m(\u001b[0m\u001b[0mresponse\u001b[0m\u001b[0;34m)\u001b[0m\u001b[0;34m\u001b[0m\u001b[0;34m\u001b[0m\u001b[0m\n\u001b[1;32m    138\u001b[0m \u001b[0;34m\u001b[0m\u001b[0m\n",
      "\u001b[0;32m~/anaconda3/envs/pytorch_latest_p36/lib/python3.6/site-packages/botocore/client.py\u001b[0m in \u001b[0;36m_api_call\u001b[0;34m(self, *args, **kwargs)\u001b[0m\n\u001b[1;32m    384\u001b[0m                     \"%s() only accepts keyword arguments.\" % py_operation_name)\n\u001b[1;32m    385\u001b[0m             \u001b[0;31m# The \"self\" in this scope is referring to the BaseClient.\u001b[0m\u001b[0;34m\u001b[0m\u001b[0;34m\u001b[0m\u001b[0;34m\u001b[0m\u001b[0m\n\u001b[0;32m--> 386\u001b[0;31m             \u001b[0;32mreturn\u001b[0m \u001b[0mself\u001b[0m\u001b[0;34m.\u001b[0m\u001b[0m_make_api_call\u001b[0m\u001b[0;34m(\u001b[0m\u001b[0moperation_name\u001b[0m\u001b[0;34m,\u001b[0m \u001b[0mkwargs\u001b[0m\u001b[0;34m)\u001b[0m\u001b[0;34m\u001b[0m\u001b[0;34m\u001b[0m\u001b[0m\n\u001b[0m\u001b[1;32m    387\u001b[0m \u001b[0;34m\u001b[0m\u001b[0m\n\u001b[1;32m    388\u001b[0m         \u001b[0m_api_call\u001b[0m\u001b[0;34m.\u001b[0m\u001b[0m__name__\u001b[0m \u001b[0;34m=\u001b[0m \u001b[0mstr\u001b[0m\u001b[0;34m(\u001b[0m\u001b[0mpy_operation_name\u001b[0m\u001b[0;34m)\u001b[0m\u001b[0;34m\u001b[0m\u001b[0;34m\u001b[0m\u001b[0m\n",
      "\u001b[0;32m~/anaconda3/envs/pytorch_latest_p36/lib/python3.6/site-packages/botocore/client.py\u001b[0m in \u001b[0;36m_make_api_call\u001b[0;34m(self, operation_name, api_params)\u001b[0m\n\u001b[1;32m    703\u001b[0m             \u001b[0merror_code\u001b[0m \u001b[0;34m=\u001b[0m \u001b[0mparsed_response\u001b[0m\u001b[0;34m.\u001b[0m\u001b[0mget\u001b[0m\u001b[0;34m(\u001b[0m\u001b[0;34m\"Error\"\u001b[0m\u001b[0;34m,\u001b[0m \u001b[0;34m{\u001b[0m\u001b[0;34m}\u001b[0m\u001b[0;34m)\u001b[0m\u001b[0;34m.\u001b[0m\u001b[0mget\u001b[0m\u001b[0;34m(\u001b[0m\u001b[0;34m\"Code\"\u001b[0m\u001b[0;34m)\u001b[0m\u001b[0;34m\u001b[0m\u001b[0;34m\u001b[0m\u001b[0m\n\u001b[1;32m    704\u001b[0m             \u001b[0merror_class\u001b[0m \u001b[0;34m=\u001b[0m \u001b[0mself\u001b[0m\u001b[0;34m.\u001b[0m\u001b[0mexceptions\u001b[0m\u001b[0;34m.\u001b[0m\u001b[0mfrom_code\u001b[0m\u001b[0;34m(\u001b[0m\u001b[0merror_code\u001b[0m\u001b[0;34m)\u001b[0m\u001b[0;34m\u001b[0m\u001b[0;34m\u001b[0m\u001b[0m\n\u001b[0;32m--> 705\u001b[0;31m             \u001b[0;32mraise\u001b[0m \u001b[0merror_class\u001b[0m\u001b[0;34m(\u001b[0m\u001b[0mparsed_response\u001b[0m\u001b[0;34m,\u001b[0m \u001b[0moperation_name\u001b[0m\u001b[0;34m)\u001b[0m\u001b[0;34m\u001b[0m\u001b[0;34m\u001b[0m\u001b[0m\n\u001b[0m\u001b[1;32m    706\u001b[0m         \u001b[0;32melse\u001b[0m\u001b[0;34m:\u001b[0m\u001b[0;34m\u001b[0m\u001b[0;34m\u001b[0m\u001b[0m\n\u001b[1;32m    707\u001b[0m             \u001b[0;32mreturn\u001b[0m \u001b[0mparsed_response\u001b[0m\u001b[0;34m\u001b[0m\u001b[0;34m\u001b[0m\u001b[0m\n",
      "\u001b[0;31mModelError\u001b[0m: An error occurred (ModelError) when calling the InvokeEndpoint operation: Received server error (500) from model with message \"<!DOCTYPE HTML PUBLIC \"-//W3C//DTD HTML 4.01 Transitional//EN\"\n  \"http://www.w3.org/TR/html4/loose.dtd\">\n<html>\n  <head>\n    <title>audioread.exceptions.NoBackendError // Werkzeug Debugger</title>\n    <link rel=\"stylesheet\" href=\"?__debugger__=yes&amp;cmd=resource&amp;f=style.css\"\n        type=\"text/css\">\n    <!-- We need to make sure this has a favicon so that the debugger does\n         not by accident trigger a request to /favicon.ico which might\n         change the application state. -->\n    <link rel=\"shortcut icon\"\n        href=\"?__debugger__=yes&amp;cmd=resource&amp;f=console.png\">\n    <script src=\"?__debugger__=yes&amp;cmd=resource&amp;f=jquery.js\"></script>\n    <script src=\"?__debugger__=yes&amp;cmd=resource&amp;f=debugger.js\"></script>\n    <script type=\"text/javascript\">\n      var TRACEBACK = 140135917224120,\n          CONSOLE_MODE = false,\n          EVALEX = true,\n          EVALEX_TRUSTED = false,\n          SECRET = \"sa0gTLco13HlPJLODeq5\";\n    </script>\n  </head>\n  <body style=\"background-color: #fff\">\n    <div class=\"debugger\">\n<h1>audioread.exceptions.NoBackendError</h1>\n<div class=\"detail\">\n  <p class=\"errormsg\">audioread.exceptions.NoBackendError</p>\n</div>\n<h2 class=\"traceback\">Traceback <em>(most recent call last)</em></h2>\n<div class=\"traceback\">\n  \n  <ul><li><div class=\"frame\" id=\"frame-140135917224176\">\n  <h4>File <cite class=\"filename\">\"/opt/conda/lib/python3.6/site-packages/flask/app.py\"</cite>,\n      line <em class=\"line\">2464</em>,\n      in <code class=\"function\">__call__</code></h4>\n  <div class=\"source library\"><pre class=\"line before\"><span class=\"ws\"></span> </pre>\n<pre class=\"line before\"><span class=\"ws\">    </span>def __call__(self, environ, start_response):</pre>\n<pre class=\"line before\"><span class=\"ws\">        </span>&quot;&quot;&quot;The WSGI server calls the Flask application object as the</pre>\n<pre class=\"line before\"><span class=\"ws\">        </span>WSGI application. This calls :meth:`wsgi_app` which can be</pre>\n<pre class=\"line before\"><span class=\"ws\">        </span>wrapped to applying middleware.&quot;&quot;&quot;</pre>\n<pre class=\"line current\"><span class=\"ws\">        </span>return self.wsgi_app(environ, start_response)</pre>\n<pre class=\"line after\"><span class=\"ws\"></span> </pre>\n<pre class=\"line after\"><span class=\"ws\">    </span>def __repr__(self):</pre>\n<pre class=\"line after\"><span class=\"ws\">        </span>return &quot;&lt;%s %r&gt;&quot; % (self.__class__.__name__, self.name)</pre></div>\n</div>\n\n<li><div class=\"frame\" id=\"frame-140135917224008\">\n  <h4>File <cite class=\"filename\">\"/opt/conda/lib/python3.6/site-packages/flask/app.py\"</cite>,\n      line <em class=\"line\">2450</em>,\n      in <code class=\"function\">wsgi_app</code></h4>\n  <div class=\"source library\"><pre class=\"line before\"><span class=\"ws\">            </span>try:</pre>\n<pre class=\"line before\"><span class=\"ws\">                </span>ctx.push()</pre>\n<pre class=\"line before\"><span class=\"ws\">                </span>response = self.full_dispatch_request()</pre>\n<pre class=\"line before\"><span class=\"ws\">            </span>except Exception as e:</pre>\n<pre class=\"line before\"><span class=\"ws\">                </span>error = e</pre>\n<pre class=\"line current\"><span class=\"ws\">                </span>response = self.handle_exception(e)</pre>\n<pre class=\"line after\"><span class=\"ws\">            </span>except:  # noqa: B001</pre>\n<pre class=\"line after\"><span class=\"ws\">                </span>error = sys.exc_info()[1]</pre>\n<pre class=\"line after\"><span class=\"ws\">                </span>raise</pre>\n<pre class=\"line after\"><span class=\"ws\">            </span>return response(environ, start_response)</pre>\n<pre class=\"line after\"><span class=\"ws\">        </span>finally:</pre></div>\n</div>\n\n<li><div class=\"frame\" id=\"frame-140135917296888\">\n  <h4>File <cite class=\"filename\">\"/opt/conda/lib/python3.6/site-packages/flask/app.py\"</cite>,\n      line <em class=\"line\">1867</em>,\n      in <code class=\"function\">handle_exception</code></h4>\n  <div class=\"source library\"><pre class=\"line before\"><span class=\"ws\">            </span># if we want to repropagate the exception, we can attempt to</pre>\n<pre class=\"line before\"><span class=\"ws\">            </span># raise it with the whole traceback in case we can do that</pre>\n<pre class=\"line before\"><span class=\"ws\">            </span># (the function was actually called from the except part)</pre>\n<pre class=\"line before\"><span class=\"ws\">            </span># otherwise, we just raise the error again</pre>\n<pre class=\"line before\"><span class=\"ws\">            </span>if exc_value is e:</pre>\n<pre class=\"line current\"><span class=\"ws\">                </span>reraise(exc_type, exc_value, tb)</pre>\n<pre class=\"line after\"><span class=\"ws\">            </span>else:</pre>\n<pre class=\"line after\"><span class=\"ws\">                </span>raise e</pre>\n<pre class=\"line after\"><span class=\"ws\"></span> </pre>\n<pre class=\"line after\"><span class=\"ws\">        </span>self.log_exception((exc_type, exc_value, tb))</pre>\n<pre class=\"line after\"><span class=\"ws\">        </span>server_error = InternalServerError()</pre></div>\n</div>\n\n<li><div class=\"frame\" id=\"frame-140135917297448\">\n  <h4>File <cite class=\"filename\">\"/opt/conda/lib/python3.6/site-packages/flask/_compat.py\"</cite>,\n      line <em class=\"line\">39</em>,\n      in <code class=\"function\">reraise</code></h4>\n  <div class=\"source library\"><pre class=\"line before\"><span class=\"ws\">    </span>import collections.abc as collections_abc</pre>\n<pre class=\"line before\"><span class=\"ws\"></span> </pre>\n<pre class=\"line before\"><span class=\"ws\">    </span>def reraise(tp, value, tb=None):</pre>\n<pre class=\"line before\"><span class=\"ws\">        </span>if value.__traceback__ is not tb:</pre>\n<pre class=\"line before\"><span class=\"ws\">            </span>raise value.with_traceback(tb)</pre>\n<pre class=\"line current\"><span class=\"ws\">        </span>raise value</pre>\n<pre class=\"line after\"><span class=\"ws\"></span> </pre>\n<pre class=\"line after\"><span class=\"ws\">    </span>implements_to_string = _identity</pre>\n<pre class=\"line after\"><span class=\"ws\"></span> </pre>\n<pre class=\"line after\"><span class=\"ws\"></span>else:</pre>\n<pre class=\"line after\"><span class=\"ws\">    </span>iterkeys = lambda d: d.iterkeys()</pre></div>\n</div>\n\n<li><div class=\"frame\" id=\"frame-140135917297056\">\n  <h4>File <cite class=\"filename\">\"/opt/conda/lib/python3.6/site-packages/flask/app.py\"</cite>,\n      line <em class=\"line\">2447</em>,\n      in <code class=\"function\">wsgi_app</code></h4>\n  <div class=\"source library\"><pre class=\"line before\"><span class=\"ws\">        </span>ctx = self.request_context(environ)</pre>\n<pre class=\"line before\"><span class=\"ws\">        </span>error = None</pre>\n<pre class=\"line before\"><span class=\"ws\">        </span>try:</pre>\n<pre class=\"line before\"><span class=\"ws\">            </span>try:</pre>\n<pre class=\"line before\"><span class=\"ws\">                </span>ctx.push()</pre>\n<pre class=\"line current\"><span class=\"ws\">                </span>response = self.full_dispatch_request()</pre>\n<pre class=\"line after\"><span class=\"ws\">            </span>except Exception as e:</pre>\n<pre class=\"line after\"><span class=\"ws\">                </span>error = e</pre>\n<pre class=\"line after\"><span class=\"ws\">                </span>response = self.handle_exception(e)</pre>\n<pre class=\"line after\"><span class=\"ws\">            </span>except:  # noqa: B001</pre>\n<pre class=\"line after\"><span class=\"ws\">                </span>error = sys.exc_info()[1]</pre></div>\n</div>\n\n<li><div class=\"frame\" id=\"frame-140135917297392\">\n  <h4>File <cite class=\"filename\">\"/opt/conda/lib/python3.6/site-packages/flask/app.py\"</cite>,\n      line <em class=\"line\">1952</em>,\n      in <code class=\"function\">full_dispatch_request</code></h4>\n  <div class=\"source library\"><pre class=\"line before\"><span class=\"ws\">            </span>request_started.send(self)</pre>\n<pre class=\"line before\"><span class=\"ws\">            </span>rv = self.preprocess_request()</pre>\n<pre class=\"line before\"><span class=\"ws\">            </span>if rv is None:</pre>\n<pre class=\"line before\"><span class=\"ws\">                </span>rv = self.dispatch_request()</pre>\n<pre class=\"line before\"><span class=\"ws\">        </span>except Exception as e:</pre>\n<pre class=\"line current\"><span class=\"ws\">            </span>rv = self.handle_user_exception(e)</pre>\n<pre class=\"line after\"><span class=\"ws\">        </span>return self.finalize_request(rv)</pre>\n<pre class=\"line after\"><span class=\"ws\"></span> </pre>\n<pre class=\"line after\"><span class=\"ws\">    </span>def finalize_request(self, rv, from_error_handler=False):</pre>\n<pre class=\"line after\"><span class=\"ws\">        </span>&quot;&quot;&quot;Given the return value from a view function this finalizes</pre>\n<pre class=\"line after\"><span class=\"ws\">        </span>the request by converting it into a response and invoking the</pre></div>\n</div>\n\n<li><div class=\"frame\" id=\"frame-140135917297336\">\n  <h4>File <cite class=\"filename\">\"/opt/conda/lib/python3.6/site-packages/flask/app.py\"</cite>,\n      line <em class=\"line\">1821</em>,\n      in <code class=\"function\">handle_user_exception</code></h4>\n  <div class=\"source library\"><pre class=\"line before\"><span class=\"ws\">            </span>return self.handle_http_exception(e)</pre>\n<pre class=\"line before\"><span class=\"ws\"></span> </pre>\n<pre class=\"line before\"><span class=\"ws\">        </span>handler = self._find_error_handler(e)</pre>\n<pre class=\"line before\"><span class=\"ws\"></span> </pre>\n<pre class=\"line before\"><span class=\"ws\">        </span>if handler is None:</pre>\n<pre class=\"line current\"><span class=\"ws\">            </span>reraise(exc_type, exc_value, tb)</pre>\n<pre class=\"line after\"><span class=\"ws\">        </span>return handler(e)</pre>\n<pre class=\"line after\"><span class=\"ws\"></span> </pre>\n<pre class=\"line after\"><span class=\"ws\">    </span>def handle_exception(self, e):</pre>\n<pre class=\"line after\"><span class=\"ws\">        </span>&quot;&quot;&quot;Handle an exception that did not have an error handler</pre>\n<pre class=\"line after\"><span class=\"ws\">        </span>associated with it, or that was raised from an error handler.</pre></div>\n</div>\n\n<li><div class=\"frame\" id=\"frame-140135917292624\">\n  <h4>File <cite class=\"filename\">\"/opt/conda/lib/python3.6/site-packages/flask/_compat.py\"</cite>,\n      line <em class=\"line\">39</em>,\n      in <code class=\"function\">reraise</code></h4>\n  <div class=\"source library\"><pre class=\"line before\"><span class=\"ws\">    </span>import collections.abc as collections_abc</pre>\n<pre class=\"line before\"><span class=\"ws\"></span> </pre>\n<pre class=\"line before\"><span class=\"ws\">    </span>def reraise(tp, value, tb=None):</pre>\n<pre class=\"line before\"><span class=\"ws\">        </span>if value.__traceback__ is not tb:</pre>\n<pre class=\"line before\"><span class=\"ws\">            </span>raise value.with_traceback(tb)</pre>\n<pre class=\"line current\"><span class=\"ws\">        </span>raise value</pre>\n<pre class=\"line after\"><span class=\"ws\"></span> </pre>\n<pre class=\"line after\"><span class=\"ws\">    </span>implements_to_string = _identity</pre>\n<pre class=\"line after\"><span class=\"ws\"></span> </pre>\n<pre class=\"line after\"><span class=\"ws\"></span>else:</pre>\n<pre class=\"line after\"><span class=\"ws\">    </span>iterkeys = lambda d: d.iterkeys()</pre></div>\n</div>\n\n<li><div class=\"frame\" id=\"frame-140135917292064\">\n  <h4>File <cite class=\"filename\">\"/opt/conda/lib/python3.6/site-packages/flask/app.py\"</cite>,\n      line <em class=\"line\">1950</em>,\n      in <code class=\"function\">full_dispatch_request</code></h4>\n  <div class=\"source library\"><pre class=\"line before\"><span class=\"ws\">        </span>self.try_trigger_before_first_request_functions()</pre>\n<pre class=\"line before\"><span class=\"ws\">        </span>try:</pre>\n<pre class=\"line before\"><span class=\"ws\">            </span>request_started.send(self)</pre>\n<pre class=\"line before\"><span class=\"ws\">            </span>rv = self.preprocess_request()</pre>\n<pre class=\"line before\"><span class=\"ws\">            </span>if rv is None:</pre>\n<pre class=\"line current\"><span class=\"ws\">                </span>rv = self.dispatch_request()</pre>\n<pre class=\"line after\"><span class=\"ws\">        </span>except Exception as e:</pre>\n<pre class=\"line after\"><span class=\"ws\">            </span>rv = self.handle_user_exception(e)</pre>\n<pre class=\"line after\"><span class=\"ws\">        </span>return self.finalize_request(rv)</pre>\n<pre class=\"line after\"><span class=\"ws\"></span> </pre>\n<pre class=\"line after\"><span class=\"ws\">    </span>def finalize_request(self, rv, from_error_handler=False):</pre></div>\n</div>\n\n<li><div class=\"frame\" id=\"frame-140135917292512\">\n  <h4>File <cite class=\"filename\">\"/opt/conda/lib/python3.6/site-packages/flask/app.py\"</cite>,\n      line <em class=\"line\">1936</em>,\n      in <code class=\"function\">dispatch_request</code></h4>\n  <div class=\"source library\"><pre class=\"line before\"><span class=\"ws\">            </span>getattr(rule, &quot;provide_automatic_options&quot;, False)</pre>\n<pre class=\"line before\"><span class=\"ws\">            </span>and req.method == &quot;OPTIONS&quot;</pre>\n<pre class=\"line before\"><span class=\"ws\">        </span>):</pre>\n<pre class=\"line before\"><span class=\"ws\">            </span>return self.make_default_options_response()</pre>\n<pre class=\"line before\"><span class=\"ws\">        </span># otherwise dispatch to the handler for that endpoint</pre>\n<pre class=\"line current\"><span class=\"ws\">        </span>return self.view_functions[rule.endpoint](**req.view_args)</pre>\n<pre class=\"line after\"><span class=\"ws\"></span> </pre>\n<pre class=\"line after\"><span class=\"ws\">    </span>def full_dispatch_request(self):</pre>\n<pre class=\"line after\"><span class=\"ws\">        </span>&quot;&quot;&quot;Dispatches the request and on top of that performs request</pre>\n<pre class=\"line after\"><span class=\"ws\">        </span>pre and postprocessing as well as HTTP exception catching and</pre>\n<pre class=\"line after\"><span class=\"ws\">        </span>error handling.</pre></div>\n</div>\n\n<li><div class=\"frame\" id=\"frame-140135917293016\">\n  <h4>File <cite class=\"filename\">\"/serve\"</cite>,\n      line <em class=\"line\">91</em>,\n      in <code class=\"function\">predict</code></h4>\n  <div class=\"source \"><pre class=\"line before\"><span class=\"ws\">    </span>tmpFile = open(path, 'wb')</pre>\n<pre class=\"line before\"><span class=\"ws\">    </span>tmpFile.write(data)</pre>\n<pre class=\"line before\"><span class=\"ws\">    </span>tmpFile.close()</pre>\n<pre class=\"line before\"><span class=\"ws\"></span> </pre>\n<pre class=\"line before\"><span class=\"ws\">    </span># Loading data</pre>\n<pre class=\"line current\"><span class=\"ws\">    </span>mel_spec = get_melspec(path)</pre>\n<pre class=\"line after\"><span class=\"ws\">    </span>mel_concat = np.stack((mel_spec, mel_spec, mel_spec))/255</pre>\n<pre class=\"line after\"><span class=\"ws\"></span> </pre>\n<pre class=\"line after\"><span class=\"ws\">    </span># Reshape data to tensor</pre>\n<pre class=\"line after\"><span class=\"ws\">    </span>img_test = np.reshape(mel_concat, (1, mel_concat.shape[0], mel_concat.shape[1], mel_concat.shape[2]))</pre>\n<pre class=\"line after\"><span class=\"ws\">    </span>wav = torch.tensor(img_test)</pre></div>\n</div>\n\n<li><div class=\"frame\" id=\"frame-140135917293352\">\n  <h4>File <cite class=\"filename\">\"/serve\"</cite>,\n      line <em class=\"line\">38</em>,\n      in <code class=\"function\">get_melspec</code></h4>\n  <div class=\"source \"><pre class=\"line before\"><span class=\"ws\"></span>def run_predict_server():</pre>\n<pre class=\"line before\"><span class=\"ws\">    </span>app.run(host='0.0.0.0', port=8080, debug=True)</pre>\n<pre class=\"line before\"><span class=\"ws\"></span> </pre>\n<pre class=\"line before\"><span class=\"ws\"></span># è£½ä½é »è­å</pre>\n<pre class=\"line before\"><span class=\"ws\"></span>def get_melspec(file_name):</pre>\n<pre class=\"line current\"><span class=\"ws\">    </span>y, sr = librosa.load(file_name, sr = 8000)</pre>\n<pre class=\"line after\"><span class=\"ws\">    </span>if len(y)&lt;sr*5:</pre>\n<pre class=\"line after\"><span class=\"ws\">        </span>print(prefix,file_name)</pre>\n<pre class=\"line after\"><span class=\"ws\">        </span>l = sr*5-len(y)</pre>\n<pre class=\"line after\"><span class=\"ws\">        </span>y = np.hstack([y,np.zeros(l)])</pre>\n<pre class=\"line after\"><span class=\"ws\">    </span>mel_spec = librosa.power_to_db(librosa.feature.melspectrogram(y, sr=sr, n_mels=128, n_fft=1024, hop_length=256))</pre></div>\n</div>\n\n<li><div class=\"frame\" id=\"frame-140135917291224\">\n  <h4>File <cite class=\"filename\">\"/opt/conda/lib/python3.6/site-packages/librosa/core/audio.py\"</cite>,\n      line <em class=\"line\">112</em>,\n      in <code class=\"function\">load</code></h4>\n  <div class=\"source library\"><pre class=\"line before\"><span class=\"ws\">    </span>22050</pre>\n<pre class=\"line before\"><span class=\"ws\"></span> </pre>\n<pre class=\"line before\"><span class=\"ws\">    </span>&quot;&quot;&quot;</pre>\n<pre class=\"line before\"><span class=\"ws\"></span> </pre>\n<pre class=\"line before\"><span class=\"ws\">    </span>y = []</pre>\n<pre class=\"line current\"><span class=\"ws\">    </span>with audioread.audio_open(os.path.realpath(path)) as input_file:</pre>\n<pre class=\"line after\"><span class=\"ws\">        </span>sr_native = input_file.samplerate</pre>\n<pre class=\"line after\"><span class=\"ws\">        </span>n_channels = input_file.channels</pre>\n<pre class=\"line after\"><span class=\"ws\"></span> </pre>\n<pre class=\"line after\"><span class=\"ws\">        </span>s_start = int(np.round(sr_native * offset)) * n_channels</pre>\n<pre class=\"line after\"><span class=\"ws\"></span> </pre></div>\n</div>\n\n<li><div class=\"frame\" id=\"frame-140135917292232\">\n  <h4>File <cite class=\"filename\">\"/opt/conda/lib/python3.6/site-packages/audioread/__init__.py\"</cite>,\n      line <em class=\"line\">116</em>,\n      in <code class=\"function\">audio_open</code></h4>\n  <div class=\"source library\"><pre class=\"line before\"><span class=\"ws\">            </span>return BackendClass(path)</pre>\n<pre class=\"line before\"><span class=\"ws\">        </span>except DecodeError:</pre>\n<pre class=\"line before\"><span class=\"ws\">            </span>pass</pre>\n<pre class=\"line before\"><span class=\"ws\"></span> </pre>\n<pre class=\"line before\"><span class=\"ws\">    </span># All backends failed!</pre>\n<pre class=\"line current\"><span class=\"ws\">    </span>raise NoBackendError()</pre></div>\n</div>\n</ul>\n  <blockquote>audioread.exceptions.NoBackendError</blockquote>\n</div>\n\n<div class=\"plain\">\n  <form action=\"/?__debugger__=yes&amp;cmd=paste\" method=\"post\">\n    <p>\n      <input type=\"hidden\" name=\"language\" value=\"pytb\">\n      This is the Copy/Paste friendly version of the traceback.  <span\n      class=\"pastemessage\">You can also paste this traceback into\n      a <a href=\"https://gist.github.com/\">gist</a>:\n      <input type=\"submit\" value=\"create paste\"></span>\n    </p>\n    <textarea cols=\"50\" rows=\"10\" name=\"code\" readonly>Traceback (most recent call last):\n  File &quot;/opt/conda/lib/python3.6/site-packages/flask/app.py&quot;, line 2464, in __call__\n    return self.wsgi_app(environ, start_response)\n  File &quot;/opt/conda/lib/python3.6/site-packages/flask/app.py&quot;, line 2450, in wsgi_app\n    response = self.handle_exception(e)\n  File &quot;/opt/conda/lib/python3.6/site-packages/flask/app.py&quot;, line 1867, in handle_exception\n    reraise(exc_type, exc_value, tb)\n  File &quot;/opt/conda/lib/python3.6/site-packages/flask/_compat.py&quot;, line 39, in reraise\n    raise value\n  File &quot;/opt/conda/lib/python3.6/site-packages/flask/app.py&quot;, line 2447, in wsgi_app\n    response = self.full_dispatch_request()\n  File &quot;/opt/conda/lib/python3.6/site-packages/flask/app.py&quot;, line 1952, in full_dispatch_request\n    rv = self.handle_user_exception(e)\n  File &quot;/opt/conda/lib/python3.6/site-packages/flask/app.py&quot;, line 1821, in handle_user_exception\n    reraise(exc_type, exc_value, tb)\n  File &quot;/opt/conda/lib/python3.6/site-packages/flask/_compat.py&quot;, line 39, in reraise\n    raise value\n  File &quot;/opt/conda/lib/python3.6/site-packages/flask/app.py&quot;, line 1950, in full_dispatch_request\n    rv = self.dispatch_request()\n  File &quot;/opt/conda/lib/python3.6/site-packages/flask/app.py&quot;, line 1936, in dispatch_request\n    return self.view_functions[rule.endpoint](**req.view_args)\n  File &quot;/serve&quot;, line 91, in predict\n    mel_spec = get_melspec(path)\n  File &quot;/serve&quot;, line 38, in get_melspec\n    y, sr = librosa.load(file_name, sr = 8000)\n  File &quot;/opt/conda/lib/python3.6/site-packages/librosa/core/audio.py&quot;, line 112, in load\n    with audioread.audio_open(os.path.realpath(path)) as input_file:\n  File &quot;/opt/conda/lib/python3.6/site-packages/audioread/__init__.py&quot;, line 116, in audio_open\n    raise NoBackendError()\naudioread.exceptions.NoBackendError</textarea>\n  </form>\n</div>\n<div class=\"explanation\">\n  The debugger caught an exception in your WSGI application.  You can now\n  look at the traceback which led to the error.  <span class=\"nojavascript\">\n  If you enable JavaScript you can also use additional features such as code\n  execution (if the evalex feature is enabled), automatic pasting of the\n  exceptions and much more.</span>\n</div>\n      <div class=\"footer\">\n        Brought to you by <strong class=\"arthur\">DON'T PANIC</strong>, your\n        friendly Werkzeug powered traceback interpreter.\n      </div>\n    </div>\n\n    <div class=\"pin-prompt\">\n      <div class=\"inner\">\n        <h3>Console Locked</h3>\n        <p>\n          The console is locked and needs to be unlocked by entering the PIN.\n          You can find the PIN printed out on the standard output of your\n          shell that runs the server.\n        <form>\n          <p>PIN:\n            <input type=text name=pin size=14>\n            <input type=submit name=btn value=\"Confirm Pin\">\n        </form>\n      </div>\n    </div>\n  </body>\n</html>\n\n<!--\n\nTraceback (most recent call last):\n  File \"/opt/conda/lib/python3.6/site-packages/flask/app.py\", line 2464, in __call__\n    return self.wsgi_app(environ, start_response)\n  File \"/opt/conda/lib/python3.6/site-packages/flask/app.py\", line 2450, in wsgi_app\n    response = self.handle_exception(e)\n  File \"/opt/conda/lib/python3.6/site-packages/flask/app.py\", line 1867, in handle_exception\n    reraise(exc_type, exc_value, tb)\n  File \"/opt/conda/lib/python3.6/site-packages/flask/_compat.py\", line 39, in reraise\n    raise value\n  File \"/opt/conda/lib/python3.6/site-packages/flask/app.py\", line 2447, in wsgi_app\n    response = self.full_dispatch_request()\n  File \"/opt/conda/lib/python3.6/site-packages/flask/app.py\", line 1952, in full_dispatch_request\n    rv = self.handle_user_exception(e)\n  File \"/opt/conda/lib/python3.6/site-packages/flask/app.py\", line 1821, in handle_user_exception\n    reraise(exc_type, exc_value, tb)\n  File \"/opt/conda/lib/python3.6/site-packages/flask/_compat.py\", line 39, in reraise\n    raise value\n  File \"/opt/conda/lib/python3.6/site-packages/flask/app.py\", line 1950, in full_dispatch_request\n    rv = self.dispatch_request()\n  File \"/opt/conda/lib/python3.6/site-packages/flask/app.py\", line 1936, in dispatch_request\n    return self.view_functions[rule.endpoint](**req.view_args)\n  File \"/serve\", line 91, in predict\n    mel_spec = get_melspec(path)\n  File \"/serve\", line 38, in get_melspec\n    y, sr = librosa.load(file_name, sr = 8000)\n  File \"/opt/conda/lib/python3.6/site-packages/librosa/core/audio.py\", line 112, in load\n    with audioread.audio_open(os.path.realpath(path)) as input_file:\n  File \"/opt/conda/lib/python3.6/site-packages/audioread/__init__.py\", line 116, in audio_open\n    raise NoBackendError()\naudioread.exceptions.NoBackendError\n\n-->\n\". See https://us-west-2.console.aws.amazon.com/cloudwatch/home?region=us-west-2#logEventViewer:group=/aws/sagemaker/Endpoints/audio-20210716 in account 355444812467 for more information."
     ]
    }
   ],
   "source": [
    "new_detector.predict('./Final_Training_Dataset/train/train_01500.wav')"
   ]
  },
  {
   "cell_type": "code",
   "execution_count": 112,
   "id": "e9d421a6",
   "metadata": {},
   "outputs": [
    {
     "name": "stdout",
     "output_type": "stream",
     "text": [
      "2021-07-17 00:37:24.916723+08:00\n"
     ]
    }
   ],
   "source": [
    "# 1228\n",
    "from datetime import datetime, timedelta, timezone\n",
    "print(datetime.now(timezone(timedelta(hours=8))))"
   ]
  },
  {
   "cell_type": "code",
   "execution_count": null,
   "id": "9630d627",
   "metadata": {},
   "outputs": [],
   "source": [
    "model_0717_liyu_0.tar.gz"
   ]
  },
  {
   "cell_type": "code",
   "execution_count": 109,
   "id": "e7aafcba",
   "metadata": {},
   "outputs": [
    {
     "data": {
      "text/plain": [
       "'vgg-audio-2021-07-16-13-50-04-174'"
      ]
     },
     "execution_count": 109,
     "metadata": {},
     "output_type": "execute_result"
    }
   ],
   "source": [
    "model.name"
   ]
  },
  {
   "cell_type": "code",
   "execution_count": 68,
   "id": "77c866de",
   "metadata": {},
   "outputs": [
    {
     "data": {
      "text/plain": [
       "'audio-20210716'"
      ]
     },
     "execution_count": 68,
     "metadata": {},
     "output_type": "execute_result"
    }
   ],
   "source": [
    "endpoint_name"
   ]
  },
  {
   "cell_type": "code",
   "execution_count": 107,
   "id": "69986421",
   "metadata": {},
   "outputs": [
    {
     "data": {
      "text/plain": [
       "'vgg-audio-2021-07-16-13-50-04-174'"
      ]
     },
     "execution_count": 107,
     "metadata": {},
     "output_type": "execute_result"
    }
   ],
   "source": [
    "model.name"
   ]
  },
  {
   "cell_type": "code",
   "execution_count": 69,
   "id": "c3f53e9a",
   "metadata": {},
   "outputs": [
    {
     "name": "stdout",
     "output_type": "stream",
     "text": [
      "-------------------!"
     ]
    }
   ],
   "source": [
    "# 更新model再跑\n",
    "new_detector =  sagemaker.predictor.Predictor(endpoint_name = endpoint_name) \n",
    "new_detector.update_endpoint(model_name=model.name, initial_instance_count = 1,\n",
    "                                instance_type = 'ml.p3.2xlarge')"
   ]
  },
  {
   "cell_type": "code",
   "execution_count": 70,
   "id": "b4e3b2b9",
   "metadata": {},
   "outputs": [
    {
     "name": "stdout",
     "output_type": "stream",
     "text": [
      "2021-07-16 22:59:45.579358+08:00\n"
     ]
    }
   ],
   "source": [
    "# 1050\n",
    "from datetime import datetime, timedelta, timezone\n",
    "print(datetime.now(timezone(timedelta(hours=8))))"
   ]
  },
  {
   "cell_type": "code",
   "execution_count": 13,
   "id": "d6aed838",
   "metadata": {},
   "outputs": [
    {
     "name": "stdout",
     "output_type": "stream",
     "text": [
      "Filesystem     1K-blocks     Used Available Use% Mounted on\r\n",
      "devtmpfs        31426652       72  31426580   1% /dev\r\n",
      "tmpfs           31437352        8  31437344   1% /dev/shm\r\n",
      "/dev/xvda1     108305356 89591192  18613916  83% /\r\n",
      "/dev/xvdf      515535104 53854976 439623092  11% /home/ec2-user/SageMaker\r\n"
     ]
    }
   ],
   "source": [
    "!df"
   ]
  },
  {
   "cell_type": "code",
   "execution_count": 14,
   "id": "92c33457",
   "metadata": {},
   "outputs": [
    {
     "data": {
      "text/plain": [
       "'s3://sagemaker-us-west-2-355444812467/model/model_0716_liyu.tar.gz'"
      ]
     },
     "execution_count": 14,
     "metadata": {},
     "output_type": "execute_result"
    }
   ],
   "source": [
    "# model_data_s3_uri = 's3://sagemaker-us-west-2-355444812467/model/model_0715_liyu.tar.gz'\n",
    "model_data_s3_uri = 's3://sagemaker-us-west-2-355444812467/model/model_0716_liyu.tar.gz'\n",
    "model_data_s3_uri"
   ]
  },
  {
   "cell_type": "code",
   "execution_count": 16,
   "id": "2ab3a027",
   "metadata": {},
   "outputs": [],
   "source": [
    "# endpoint_name"
   ]
  },
  {
   "cell_type": "code",
   "execution_count": 25,
   "id": "f32275db",
   "metadata": {},
   "outputs": [],
   "source": [
    "# 自己建立Deploy\n",
    "mode = 'remote'\n",
    "\n",
    "if mode == 'local':\n",
    "    csess = sagemaker.local.LocalSession()\n",
    "else:\n",
    "    csess = session\n",
    "\n",
    "model = sagemaker.model.Model(image_uri, \n",
    "                              model_data = model_data_s3_uri,\n",
    "                              role = role,\n",
    "                              predictor_cls = sagemaker.predictor.Predictor,\n",
    "                              sagemaker_session = csess)"
   ]
  },
  {
   "cell_type": "code",
   "execution_count": 26,
   "id": "5c174272",
   "metadata": {},
   "outputs": [
    {
     "data": {
      "text/plain": [
       "'355444812467.dkr.ecr.us-west-2.amazonaws.com/vgg-audio'"
      ]
     },
     "execution_count": 26,
     "metadata": {},
     "output_type": "execute_result"
    }
   ],
   "source": [
    "image_uri"
   ]
  },
  {
   "cell_type": "code",
   "execution_count": 27,
   "id": "9eadd721",
   "metadata": {},
   "outputs": [
    {
     "data": {
      "text/plain": [
       "'s3://sagemaker-us-west-2-355444812467/model/model_0716_liyu.tar.gz'"
      ]
     },
     "execution_count": 27,
     "metadata": {},
     "output_type": "execute_result"
    }
   ],
   "source": [
    "model_data_s3_uri"
   ]
  },
  {
   "cell_type": "code",
   "execution_count": 30,
   "id": "c969663f",
   "metadata": {},
   "outputs": [],
   "source": [
    "# from datetime import datetime, timedelta, timezone\n",
    "\n",
    "new_endpoint_name = 'audio-20210716'\n",
    "# print(datetime.now(timezone(timedelta(hours=8))))\n",
    "\n",
    "# new_detector =  sagemaker.predictor.Predictor(endpoint_name = new_endpoint_name) \n",
    "# new_detector.update_endpoint(model_name=model.name, initial_instance_count = 1,\n",
    "#                                 instance_type = 'ml.p2.xlarge')\n",
    "\n",
    "# print(datetime.now(timezone(timedelta(hours=8))))"
   ]
  },
  {
   "cell_type": "code",
   "execution_count": 20,
   "id": "9a092e2c",
   "metadata": {},
   "outputs": [],
   "source": [
    "# now = datetime.now()\n",
    "# timestamp = datetime.timestamp(now)\n",
    "# new_endpoint_name = \"audio-{}\".format(str(int(timestamp))) \n",
    "# new_endpoint_name"
   ]
  },
  {
   "cell_type": "code",
   "execution_count": 31,
   "id": "a91be9ba",
   "metadata": {},
   "outputs": [
    {
     "name": "stdout",
     "output_type": "stream",
     "text": [
      "-------------------!"
     ]
    }
   ],
   "source": [
    "object_detector = model.deploy(initial_instance_count = 1,\n",
    "                               instance_type = 'ml.p3.2xlarge',\n",
    "#                                instance_type = 'local_gpu',\n",
    "                               endpoint_name = new_endpoint_name,\n",
    "                               serializer = sagemaker.serializers.IdentitySerializer())"
   ]
  },
  {
   "cell_type": "code",
   "execution_count": 103,
   "id": "84f43657",
   "metadata": {},
   "outputs": [
    {
     "data": {
      "text/plain": [
       "'vgg-audio-2021-07-16-13-50-04-174'"
      ]
     },
     "execution_count": 103,
     "metadata": {},
     "output_type": "execute_result"
    }
   ],
   "source": [
    "model.name "
   ]
  },
  {
   "cell_type": "code",
   "execution_count": 33,
   "id": "f46dbcc9",
   "metadata": {},
   "outputs": [
    {
     "name": "stdout",
     "output_type": "stream",
     "text": [
      "2021-07-16 00:18:52.444700+08:00\n",
      "-----------------------!2021-07-16 00:30:26.244070+08:00\n"
     ]
    }
   ],
   "source": [
    "from datetime import datetime, timedelta, timezone\n",
    "\n",
    "print(datetime.now(timezone(timedelta(hours=8))))\n",
    "\n",
    "new_detector =  sagemaker.predictor.Predictor(endpoint_name = new_endpoint_name) \n",
    "new_detector.update_endpoint(model_name=model.name, initial_instance_count = 1,\n",
    "                                instance_type = 'ml.p2.xlarge')\n",
    "\n",
    "print(datetime.now(timezone(timedelta(hours=8))))\n"
   ]
  },
  {
   "cell_type": "code",
   "execution_count": 32,
   "id": "a251e2d8",
   "metadata": {},
   "outputs": [
    {
     "data": {
      "text/plain": [
       "'vgg-audio-2021-07-16-13-50-04-174'"
      ]
     },
     "execution_count": 32,
     "metadata": {},
     "output_type": "execute_result"
    }
   ],
   "source": [
    "model.name # 'vgg-audio-2021-07-16-13-50-04-174'"
   ]
  },
  {
   "cell_type": "code",
   "execution_count": 102,
   "id": "eafaf623",
   "metadata": {},
   "outputs": [
    {
     "data": {
      "text/plain": [
       "'vgg-audio-2021-07-16-13-50-04-174'"
      ]
     },
     "execution_count": 102,
     "metadata": {},
     "output_type": "execute_result"
    }
   ],
   "source": [
    "model.name"
   ]
  },
  {
   "cell_type": "code",
   "execution_count": 33,
   "id": "ccc33391",
   "metadata": {},
   "outputs": [
    {
     "data": {
      "text/plain": [
       "'audio-20210716'"
      ]
     },
     "execution_count": 33,
     "metadata": {},
     "output_type": "execute_result"
    }
   ],
   "source": [
    "object_detector.endpoint_name"
   ]
  },
  {
   "cell_type": "markdown",
   "id": "672f89ba",
   "metadata": {},
   "source": [
    "### You can also update endpoint based on following example code \n",
    "\n",
    "```\n",
    "new_detector =  sagemaker.predictor.Predictor(endpoint_name = endpoint_name) \n",
    "new_detector.update_endpoint(model_name=model.name, initial_instance_count = 1,\n",
    "                                instance_type = 'ml.m4.xlarge')\n",
    "```"
   ]
  },
  {
   "cell_type": "code",
   "execution_count": 34,
   "id": "03c38c50",
   "metadata": {},
   "outputs": [
    {
     "name": "stdout",
     "output_type": "stream",
     "text": [
      "{'label': 0, 'probability': [0.9513887763023376, 0.00023666038759984076, 0.04708951339125633, 9.738496009958908e-05, 6.840967398602515e-05, 5.344108558347216e-06, 4.340481973486021e-05, 0.00042902593850158155, 1.1892406291735824e-05, 0.0006295717321336269]}\n"
     ]
    }
   ],
   "source": [
    "import json \n",
    "file_name = \"./train_data/train_00002.wav\"\n",
    "with open(file_name, 'rb') as image:\n",
    "    f = image.read()\n",
    "    b = bytearray(f)\n",
    "results = object_detector.predict(b)\n",
    "detections = json.loads(results)\n",
    "print(detections) "
   ]
  },
  {
   "cell_type": "code",
   "execution_count": 35,
   "id": "cb0c7915",
   "metadata": {},
   "outputs": [
    {
     "name": "stdout",
     "output_type": "stream",
     "text": [
      "{'label': 0, 'probability': [0.9998981356620789, 2.4996995762194274e-06, 4.887235627393238e-05, 1.990066266444046e-06, 3.2699779239919735e-07, 2.4871712867025053e-07, 1.0537002708588261e-05, 1.0949130228254944e-05, 1.7080250472645275e-05, 9.29264206206426e-06]}\n"
     ]
    }
   ],
   "source": [
    "file_name = \"./train_data/train_00090.wav\"\n",
    "with open(file_name, 'rb') as image:\n",
    "    f = image.read()\n",
    "    b = bytearray(f)\n",
    "results = object_detector.predict(b)\n",
    "detections = json.loads(results)\n",
    "print(detections) "
   ]
  },
  {
   "cell_type": "code",
   "execution_count": null,
   "id": "023ea502",
   "metadata": {},
   "outputs": [],
   "source": [
    " [0.9998981356620789, 2.4996995762194274e-06, 4.887235627393238e-05, 1.990066266444046e-06, 3.2699779239919735e-07, 2.4871712867025053e-07, 1.0537002708588261e-05, 1.0949130228254944e-05, 1.7080250472645275e-05, 9.29264206206426e-06]"
   ]
  },
  {
   "cell_type": "markdown",
   "id": "05463e3e",
   "metadata": {},
   "source": [
    "### Create Lambda Function \n",
    "<a name=\"build_lambda_function\"></a>"
   ]
  },
  {
   "cell_type": "code",
   "execution_count": 36,
   "id": "86d32a1a",
   "metadata": {},
   "outputs": [
    {
     "name": "stdout",
     "output_type": "stream",
     "text": [
      "arn:aws:iam::355444812467:role/AmazonSageMaker-LambdaExecutionRole\n"
     ]
    }
   ],
   "source": [
    "import time \n",
    "iam = boto3.client(\"iam\")\n",
    "\n",
    "# role_name = \"AmazonSageMaker-LambdaExecutionRole\"\n",
    "# assume_role_policy_document = {\n",
    "#     \"Version\": \"2012-10-17\",\n",
    "#     \"Statement\": [\n",
    "#         {\n",
    "#           \"Effect\": \"Allow\",\n",
    "#           \"Principal\": {\n",
    "#             \"Service\": [\"sagemaker.amazonaws.com\", \"lambda.amazonaws.com\"]\n",
    "#           },\n",
    "#           \"Action\": \"sts:AssumeRole\"\n",
    "#         }\n",
    "#     ]\n",
    "# }\n",
    "\n",
    "# create_role_response = iam.create_role(\n",
    "#     RoleName = role_name,\n",
    "#     AssumeRolePolicyDocument = json.dumps(assume_role_policy_document)\n",
    "# )\n",
    "\n",
    "\n",
    "# # Now add S3 support\n",
    "# iam.attach_role_policy(\n",
    "#     PolicyArn='arn:aws:iam::aws:policy/AmazonS3FullAccess',\n",
    "#     RoleName=role_name\n",
    "# )\n",
    "\n",
    "# iam.attach_role_policy(\n",
    "#     PolicyArn='arn:aws:iam::aws:policy/AmazonSQSFullAccess',\n",
    "#     RoleName=role_name\n",
    "# )\n",
    "\n",
    "# iam.attach_role_policy(\n",
    "#     PolicyArn='arn:aws:iam::aws:policy/AmazonSageMakerFullAccess',\n",
    "#     RoleName=role_name\n",
    "# )\n",
    "# time.sleep(60) # wait for a minute to allow IAM role policy attachment to propagate\n",
    "\n",
    "# lambda_role_arn = create_role_response[\"Role\"][\"Arn\"]\n",
    "# arn:aws:iam::355444812467:role/AmazonSageMaker-LambdaExecutionRole\n",
    "lambda_role_arn = \"arn:aws:iam::355444812467:role/AmazonSageMaker-LambdaExecutionRole\"\n",
    "print(lambda_role_arn)"
   ]
  },
  {
   "cell_type": "code",
   "execution_count": 37,
   "id": "c3d4c74e",
   "metadata": {},
   "outputs": [
    {
     "data": {
      "text/plain": [
       "'sagemaker-us-west-2-355444812467'"
      ]
     },
     "execution_count": 37,
     "metadata": {},
     "output_type": "execute_result"
    }
   ],
   "source": [
    "bucket"
   ]
  },
  {
   "cell_type": "code",
   "execution_count": 38,
   "id": "a045c74e",
   "metadata": {},
   "outputs": [
    {
     "name": "stdout",
     "output_type": "stream",
     "text": [
      "updating: lambda_function.py (deflated 51%)\n",
      "Completed 529 Bytes/529 Bytes (7.0 KiB/s) with 1 file(s) remaining\r",
      "upload: ./invoke_endpoint.zip to s3://sagemaker-us-west-2-355444812467/lambda/invoke_endpoint.zip\n"
     ]
    }
   ],
   "source": [
    "%%bash -s \"$bucket\" \n",
    "cd invoke_endpoint \n",
    "zip -r invoke_endpoint.zip  .\n",
    "aws s3 cp invoke_endpoint.zip s3://$1/lambda/"
   ]
  },
  {
   "cell_type": "code",
   "execution_count": 39,
   "id": "ebe0433a",
   "metadata": {},
   "outputs": [
    {
     "name": "stdout",
     "output_type": "stream",
     "text": [
      "\r\n",
      "An error occurred (ResourceConflictException) when calling the CreateFunction operation: Function already exist: invoke_endpoint\r\n"
     ]
    }
   ],
   "source": [
    "import os\n",
    "cwd = os.getcwd()\n",
    "!aws lambda create-function --function-name invoke_endpoint --zip-file fileb://$cwd/invoke_endpoint/invoke_endpoint.zip  --handler lambda_function.lambda_handler --runtime python3.7 --role $lambda_role_arn"
   ]
  },
  {
   "cell_type": "code",
   "execution_count": 40,
   "id": "988b25a7",
   "metadata": {},
   "outputs": [
    {
     "name": "stdout",
     "output_type": "stream",
     "text": [
      "{\r\n",
      "    \"FunctionName\": \"invoke_endpoint\",\r\n",
      "    \"FunctionArn\": \"arn:aws:lambda:us-west-2:355444812467:function:invoke_endpoint\",\r\n",
      "    \"Runtime\": \"python3.7\",\r\n",
      "    \"Role\": \"arn:aws:iam::355444812467:role/AmazonSageMaker-LambdaExecutionRole\",\r\n",
      "    \"Handler\": \"lambda_function.lambda_handler\",\r\n",
      "    \"CodeSize\": 529,\r\n",
      "    \"Description\": \"\",\r\n",
      "    \"Timeout\": 3,\r\n",
      "    \"MemorySize\": 128,\r\n",
      "    \"LastModified\": \"2021-07-16T14:04:17.342+0000\",\r\n",
      "    \"CodeSha256\": \"Oa3KNKU1lrPgGJzpg1Eot6grKw87LJkjGolYHLjuGPE=\",\r\n",
      "    \"Version\": \"$LATEST\",\r\n",
      "    \"Environment\": {\r\n",
      "        \"Variables\": {\r\n",
      "            \"ENDPOINT_NAME\": \"audio-20210716\"\r\n",
      "        }\r\n",
      "    },\r\n",
      "    \"TracingConfig\": {\r\n",
      "        \"Mode\": \"PassThrough\"\r\n",
      "    },\r\n",
      "    \"RevisionId\": \"2d97fd49-7e49-4037-89c2-76b0b9a69496\",\r\n",
      "    \"State\": \"Active\",\r\n",
      "    \"LastUpdateStatus\": \"Successful\",\r\n",
      "    \"PackageType\": \"Zip\"\r\n",
      "}\r\n"
     ]
    }
   ],
   "source": [
    "endpoint_name = object_detector.endpoint_name\n",
    "bucket_key = \"audio-demo\"\n",
    "variables = f\"ENDPOINT_NAME={endpoint_name}\"\n",
    "env = \"Variables={\"+variables+\"}\"\n",
    "\n",
    "!aws lambda update-function-configuration --function-name invoke_endpoint --environment \"$env\"\n"
   ]
  },
  {
   "cell_type": "markdown",
   "id": "9c290514",
   "metadata": {},
   "source": [
    "### Test Material \n",
    "<a name=\"lambda_test\"></a>\n",
    "```\n",
    "{\n",
    "  \"content\": \"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\"\n",
    "}\n",
    "```"
   ]
  },
  {
   "cell_type": "markdown",
   "id": "a6a94ada",
   "metadata": {},
   "source": [
    "### Configure API Gateway \n",
    "<a name=\"api-gateway\"></a>\n",
    "* Finally, we need an API to have the service accessible\n",
    "* This API accepts image POST to it and pass the image to ```invoke_image_object_detection```\n",
    "\n",
    "```curl -X POST -H 'content-type: application/octet-stream' --data-binary @$f $OD_API | jq .``` \n",
    "\n",
    "* we can create it by console also by aws cli "
   ]
  },
  {
   "cell_type": "code",
   "execution_count": 41,
   "id": "e298d43b",
   "metadata": {},
   "outputs": [
    {
     "name": "stdout",
     "output_type": "stream",
     "text": [
      "\r\n",
      "An error occurred (ResourceConflictException) when calling the AddPermission operation: The statement id (apigateway) provided already exists. Please provide a new statement id, or remove the existing statement.\r\n"
     ]
    }
   ],
   "source": [
    "!aws lambda add-permission \\\n",
    "    --function-name invoke_endpoint \\\n",
    "    --action lambda:InvokeFunction \\\n",
    "    --statement-id apigateway \\\n",
    "    --principal apigateway.amazonaws.com    "
   ]
  },
  {
   "cell_type": "code",
   "execution_count": 42,
   "id": "39117678",
   "metadata": {},
   "outputs": [],
   "source": [
    "!sed \"s/<account_id>/$account_id/g\" latestswagger2-template.json > latestswagger2-tmp.json \n",
    "!sed \"s/<region>/$region/g\" latestswagger2-tmp.json > latestswagger2.json "
   ]
  },
  {
   "cell_type": "code",
   "execution_count": 43,
   "id": "539b9ab9",
   "metadata": {},
   "outputs": [],
   "source": [
    "api_info = !aws apigateway import-rest-api \\\n",
    "    --fail-on-warnings \\\n",
    "    --body 'file:////home/ec2-user/SageMaker/incremental-training-mlops/01-byoc/latestswagger2.json' "
   ]
  },
  {
   "cell_type": "code",
   "execution_count": 44,
   "id": "39cd6cd2",
   "metadata": {},
   "outputs": [
    {
     "data": {
      "text/plain": [
       "['{',\n",
       " '    \"id\": \"pdtujuf6u4\",',\n",
       " '    \"name\": \"audio_0529\",',\n",
       " '    \"createdDate\": 1626444300,',\n",
       " '    \"version\": \"2021-05-29T14:33:28Z\",',\n",
       " '    \"binaryMediaTypes\": [',\n",
       " '        \"application/octet-stream\"',\n",
       " '    ],',\n",
       " '    \"apiKeySource\": \"HEADER\",',\n",
       " '    \"endpointConfiguration\": {',\n",
       " '        \"types\": [',\n",
       " '            \"EDGE\"',\n",
       " '        ]',\n",
       " '    },',\n",
       " '    \"disableExecuteApiEndpoint\": false',\n",
       " '}']"
      ]
     },
     "execution_count": 44,
     "metadata": {},
     "output_type": "execute_result"
    }
   ],
   "source": [
    "api_info"
   ]
  },
  {
   "cell_type": "code",
   "execution_count": 45,
   "id": "e2d0c0cb",
   "metadata": {},
   "outputs": [
    {
     "data": {
      "text/plain": [
       "'pdtujuf6u4'"
      ]
     },
     "execution_count": 45,
     "metadata": {},
     "output_type": "execute_result"
    }
   ],
   "source": [
    "api_obj = json.loads(''.join(api_info))\n",
    "api_id = api_obj['id']\n",
    "api_id"
   ]
  },
  {
   "cell_type": "code",
   "execution_count": 42,
   "id": "177058ad",
   "metadata": {},
   "outputs": [
    {
     "data": {
      "text/plain": [
       "'rbrdok3cva'"
      ]
     },
     "execution_count": 42,
     "metadata": {},
     "output_type": "execute_result"
    }
   ],
   "source": [
    "# OLD 'rbrdok3cva'\n",
    "# api_obj = json.loads(''.join(api_info))\n",
    "# api_id = api_obj['id']\n",
    "# api_id"
   ]
  },
  {
   "cell_type": "code",
   "execution_count": 49,
   "id": "18a11773",
   "metadata": {},
   "outputs": [
    {
     "name": "stdout",
     "output_type": "stream",
     "text": [
      "{\r\n",
      "    \"id\": \"ck5oh9\",\r\n",
      "    \"createdDate\": 1626444488\r\n",
      "}\r\n"
     ]
    }
   ],
   "source": [
    "# !aws apigateway create-deployment --rest-api-id $api_id --stage-name dev\n",
    "!aws apigateway create-deployment --rest-api-id pdtujuf6u4 --stage-name dev"
   ]
  },
  {
   "cell_type": "markdown",
   "id": "428df58b",
   "metadata": {},
   "source": [
    "### Manually Setup API-Gateway in Console\n",
    "<a name=\"binary-content\"></a>\n"
   ]
  },
  {
   "cell_type": "markdown",
   "id": "ec43a960",
   "metadata": {},
   "source": [
    "####  Create Restful API \n",
    "<img src=\"../03-lambda-api/content_image/build_api_gateway.png\" alt=\"rest_api\" width=\"600\"/>"
   ]
  },
  {
   "cell_type": "markdown",
   "id": "dda058a0",
   "metadata": {},
   "source": [
    "#### Create resource and methods \n",
    "* click the drop down manual and name your resource \n",
    "<img src=\"../03-lambda-api/content_image/create_resource.png\" alt=\"create_resource\" width=\"600\"/>\n",
    "\n",
    "* focus on the resource just created, click the drop down manual and select create method, then select backend lambda function \n",
    "<img src=\"../03-lambda-api/content_image/create_method.png\" alt=\"create_method\" width=\"600\"/>\n",
    "<img src=\"../03-lambda-api/content_image/create_method2.png\" alt=\"create_method\" width=\"600\"/>\n"
   ]
  },
  {
   "cell_type": "markdown",
   "id": "dbacbe8f",
   "metadata": {},
   "source": [
    "### Configurations for passing the binary content to backend\n",
    "* Add binary media type in ```Settings``` of this API \n",
    "* Configure which attribute to extract and fill it in event in Lambda integration"
   ]
  },
  {
   "cell_type": "markdown",
   "id": "64b25d3d",
   "metadata": {},
   "source": [
    "<img src=\"../03-lambda-api/content_image/setting.png\" alt=\"binary_media\" width=\"600\"/>\n",
    "<img src=\"../03-lambda-api/content_image/integration.png\" alt=\"config lambda function\" width=\"600\"/>\n",
    "<img src=\"../03-lambda-api/content_image/setting1.png\" alt=\"config lambda function2\" width=\"600\"/>"
   ]
  },
  {
   "cell_type": "markdown",
   "id": "5897a451",
   "metadata": {},
   "source": [
    "### Test API Gateway \n",
    "<a name=\"test-api\"></a>"
   ]
  },
  {
   "cell_type": "code",
   "execution_count": 130,
   "id": "4b87ecdd",
   "metadata": {},
   "outputs": [
    {
     "name": "stdout",
     "output_type": "stream",
     "text": [
      "{\"label\": 0, \"probability\": [0.9513887763023376, 0.00023666038759984076, 0.04708951339125633, 9.738496009958908e-05, 6.840967398602515e-05, 5.344108558347216e-06, 4.340481973486021e-05, 0.00042902593850158155, 1.1892406291735824e-05, 0.0006295717321336269]}"
     ]
    }
   ],
   "source": [
    "api_endpoint = \"https://{}.execute-api.{}.amazonaws.com/dev/classify\".format(api_id, region)\n",
    "\n",
    "!curl -X POST -H 'content-type: application/octet-stream'  --data-binary @./train_data/train_00002.wav $api_endpoint\n"
   ]
  },
  {
   "cell_type": "code",
   "execution_count": 131,
   "id": "80f8bb52",
   "metadata": {},
   "outputs": [
    {
     "data": {
      "text/plain": [
       "'https://pdtujuf6u4.execute-api.us-west-2.amazonaws.com/dev/classify'"
      ]
     },
     "execution_count": 131,
     "metadata": {},
     "output_type": "execute_result"
    }
   ],
   "source": [
    "api_endpoint"
   ]
  },
  {
   "cell_type": "code",
   "execution_count": 67,
   "id": "d073a30e",
   "metadata": {},
   "outputs": [
    {
     "data": {
      "text/plain": [
       "'https://pdtujuf6u4.execute-api.us-west-2.amazonaws.com/dev/classify'"
      ]
     },
     "execution_count": 67,
     "metadata": {},
     "output_type": "execute_result"
    }
   ],
   "source": [
    "api_endpoint"
   ]
  },
  {
   "cell_type": "code",
   "execution_count": 53,
   "id": "5e5a2cf1",
   "metadata": {},
   "outputs": [
    {
     "name": "stdout",
     "output_type": "stream",
     "text": [
      "Stored 'endpoint_name' (str)\n",
      "Stored 'lambda_role_arn' (str)\n",
      "Stored 'model_s3_path' (str)\n"
     ]
    }
   ],
   "source": [
    "endpoint_name = new_endpoint_name\n",
    "lambda_role_arn = \"arn:aws:iam::355444812467:role/AmazonSageMaker-LambdaExecutionRole\"\n",
    "# print(lambda_role_arn)\n",
    "model_s3_path = model.model_data\n",
    "%store endpoint_name \n",
    "%store lambda_role_arn\n",
    "%store model_s3_path "
   ]
  },
  {
   "cell_type": "code",
   "execution_count": 54,
   "id": "0a59f132",
   "metadata": {},
   "outputs": [
    {
     "data": {
      "text/plain": [
       "'arn:aws:iam::355444812467:role/AmazonSageMaker-LambdaExecutionRole'"
      ]
     },
     "execution_count": 54,
     "metadata": {},
     "output_type": "execute_result"
    }
   ],
   "source": [
    "lambda_role_arn"
   ]
  },
  {
   "cell_type": "code",
   "execution_count": 28,
   "id": "1311d935",
   "metadata": {},
   "outputs": [
    {
     "name": "stdout",
     "output_type": "stream",
     "text": [
      "{\"message\":\"Missing Authentication Token\"}"
     ]
    }
   ],
   "source": [
    "api_endpoint = \"https://runtime.sagemaker.us-west-2.amazonaws.com/endpoints/audio-1626202830/invocations\"\n",
    "token = \"0B22878B03FE197EF8D6\"\n",
    "!curl -X POST -H 'content-type: application/octet-stream' --data-binary @./train_data/train_00002.wav    $api_endpoint"
   ]
  },
  {
   "cell_type": "code",
   "execution_count": 64,
   "id": "fe506542",
   "metadata": {},
   "outputs": [
    {
     "name": "stdout",
     "output_type": "stream",
     "text": [
      "{\"label\": 0, \"probability\": [0.998103141784668, 4.8802314267959446e-05, 8.627666102256626e-05, 3.7545803479588358e-06, 1.8969452639794326e-06, 2.4744387701503e-05, 7.638564966327976e-06, 6.144330768620421e-07, 1.734519173623994e-06, 0.0017214053077623248]}"
     ]
    }
   ],
   "source": [
    "!curl -X POST -H 'content-type: application/octet-stream' \\\n",
    "-H 'x-api-key: 0B22878B03FE197EF8D6' \\\n",
    "--data-binary @./train_data/train_00077.wav \\\n",
    "'https:///rbrdok3cva.execute-api.us-west-2.amazonaws.com/dev/classify'"
   ]
  },
  {
   "cell_type": "code",
   "execution_count": 140,
   "id": "c05660e1",
   "metadata": {},
   "outputs": [
    {
     "name": "stdout",
     "output_type": "stream",
     "text": [
      "{\"label\": 9, \"probability\": [8.059015090111643e-05, 5.81457388761919e-05, 0.00019981291552539915, 0.0001927862031152472, 6.296393985394388e-05, 0.000279656465863809, 0.0002843793190550059, 2.493889769539237e-05, 0.0008642131579108536, 0.9979525804519653]}"
     ]
    }
   ],
   "source": [
    "!curl -X POST -H 'content-type: application/octet-stream' \\\n",
    "-H 'x-api-key: 0B22878B03FE197EF8D6' \\\n",
    "--data-binary @./Final_Training_Dataset/train/train_01581.wav \\\n",
    "'https:///pdtujuf6u4.execute-api.us-west-2.amazonaws.com/dev/classify'"
   ]
  },
  {
   "cell_type": "code",
   "execution_count": 132,
   "id": "e6a44466",
   "metadata": {},
   "outputs": [
    {
     "name": "stdout",
     "output_type": "stream",
     "text": [
      "{\"label\": 9, \"probability\": [8.059015090111643e-05, 5.81457388761919e-05, 0.00019981291552539915, 0.0001927862031152472, 6.296393985394388e-05, 0.000279656465863809, 0.0002843793190550059, 2.493889769539237e-05, 0.0008642131579108536, 0.9979525804519653]}"
     ]
    }
   ],
   "source": [
    "!curl -X POST -H 'content-type: application/octet-stream' \\\n",
    "-H 'x-api-key: 0B22878B03FE197EF8D6' \\\n",
    "--data-binary @./Final_Training_Dataset/train/train_01581.wav \\\n",
    "'https:///rbrdok3cva.execute-api.us-west-2.amazonaws.com/dev/classify'"
   ]
  },
  {
   "cell_type": "code",
   "execution_count": 138,
   "id": "d98fbde6",
   "metadata": {},
   "outputs": [
    {
     "name": "stdout",
     "output_type": "stream",
     "text": [
      "{\"label\": 0, \"probability\": [0.9513887763023376, 0.00023666038759984076, 0.04708951339125633, 9.738496009958908e-05, 6.840967398602515e-05, 5.344108558347216e-06, 4.340481973486021e-05, 0.00042902593850158155, 1.1892406291735824e-05, 0.0006295717321336269]}"
     ]
    }
   ],
   "source": [
    "!curl -X POST -H 'content-type: application/octet-stream' \\\n",
    "-H 'x-api-key: 0B22878B03FE197EF8D6' \\\n",
    "--data-binary @./train_data/train_00002.wav \\\n",
    "'https:///rbrdok3cva.execute-api.us-west-2.amazonaws.com/dev/classify'"
   ]
  },
  {
   "cell_type": "code",
   "execution_count": 134,
   "id": "b6c5a169",
   "metadata": {},
   "outputs": [
    {
     "name": "stdout",
     "output_type": "stream",
     "text": [
      "{\"label\": 0, \"probability\": [0.9513887763023376, 0.00023666038759984076, 0.04708951339125633, 9.738496009958908e-05, 6.840967398602515e-05, 5.344108558347216e-06, 4.340481973486021e-05, 0.00042902593850158155, 1.1892406291735824e-05, 0.0006295717321336269]}"
     ]
    }
   ],
   "source": [
    "!curl -X POST -H 'content-type: application/octet-stream' \\\n",
    "-H 'x-api-key: 0B22878B03FE197EF8D6' \\\n",
    "--data-binary @./Final_Training_Dataset/train/train_00002.wav \\\n",
    "'https:///rbrdok3cva.execute-api.us-west-2.amazonaws.com/dev/classify'"
   ]
  },
  {
   "cell_type": "code",
   "execution_count": 57,
   "id": "b0c58a03",
   "metadata": {},
   "outputs": [
    {
     "name": "stdout",
     "output_type": "stream",
     "text": [
      "{\"label\": 0, \"probability\": [0.9513887763023376, 0.00023666038759984076, 0.04708951339125633, 9.738496009958908e-05, 6.840967398602515e-05, 5.344108558347216e-06, 4.340481973486021e-05, 0.00042902593850158155, 1.1892406291735824e-05, 0.0006295717321336269]}"
     ]
    }
   ],
   "source": [
    "!curl -X POST -H 'content-type: application/octet-stream' \\\n",
    "-H 'x-api-key: 0B22878B03FE197EF8D6' \\\n",
    "--data-binary @./Final_Training_Dataset/train/train_00002.wav \\\n",
    "'https:///rbrdok3cva.execute-api.us-west-2.amazonaws.com/dev/classify'"
   ]
  },
  {
   "cell_type": "code",
   "execution_count": 58,
   "id": "ad5c1b2e",
   "metadata": {},
   "outputs": [
    {
     "name": "stdout",
     "output_type": "stream",
     "text": [
      "2021-07-16 22:24:49.098558+08:00\n",
      "{\"label\": 0, \"probability\": [0.9903320670127869, 0.0001989333686651662, 0.0007428666576743126, 0.00016775673429947346, 3.222770828870125e-05, 3.8894515455467626e-05, 0.0003140326589345932, 0.0003089535457547754, 3.332734195282683e-05, 0.007830953225493431]}2021-07-16 22:24:50.366420+08:00\n"
     ]
    }
   ],
   "source": [
    "print(datetime.now(timezone(timedelta(hours=8))))\n",
    "!curl -X POST -H 'content-type: application/octet-stream' \\\n",
    "-H 'x-api-key: 0B22878B03FE197EF8D6' \\\n",
    "--data-binary @./Final_Training_Dataset/train/train_00001.wav \\\n",
    "'https:///rbrdok3cva.execute-api.us-west-2.amazonaws.com/dev/classify'\n",
    "print(datetime.now(timezone(timedelta(hours=8))))"
   ]
  },
  {
   "cell_type": "code",
   "execution_count": null,
   "id": "d07e1e55",
   "metadata": {},
   "outputs": [],
   "source": []
  }
 ],
 "metadata": {
  "kernelspec": {
   "display_name": "conda_pytorch_latest_p36",
   "language": "python",
   "name": "conda_pytorch_latest_p36"
  },
  "language_info": {
   "codemirror_mode": {
    "name": "ipython",
    "version": 3
   },
   "file_extension": ".py",
   "mimetype": "text/x-python",
   "name": "python",
   "nbconvert_exporter": "python",
   "pygments_lexer": "ipython3",
   "version": "3.6.13"
  }
 },
 "nbformat": 4,
 "nbformat_minor": 5
}
